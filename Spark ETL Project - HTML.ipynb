{
 "cells": [
  {
   "cell_type": "markdown",
   "metadata": {
    "application/vnd.databricks.v1+cell": {
     "cellMetadata": {},
     "inputWidgets": {},
     "nuid": "c82cdbb4-78bf-47a6-9d3e-29b0d7ea3d63",
     "showTitle": false,
     "tableResultSettingsMap": {},
     "title": ""
    }
   },
   "source": [
    "###Board Game Geek - Spark ETL Project\n",
    "Board Game Geek is an online site that provides rankings for various boardgames.  A complete listing of ranked games is provided here: https://boardgamegeek.com/browse/boardgame\n",
    "\n",
    "The project is to scrape board game ranking data from BoardGameGeek and store it as a partitioned Parquet table for analytics.\n"
   ]
  },
  {
   "cell_type": "markdown",
   "metadata": {
    "application/vnd.databricks.v1+cell": {
     "cellMetadata": {},
     "inputWidgets": {},
     "nuid": "0541abb6-6a5b-495b-a20a-e1fc67fa2780",
     "showTitle": false,
     "tableResultSettingsMap": {},
     "title": ""
    }
   },
   "source": [
    "The fields in the final table are:\n",
    "\n",
    "* Rank - the integer value from the Board Game Rank column\n",
    "* ImageURL - the URL (as provided) of the image presented in the second column \n",
    "* Title - the title of the game\n",
    "* YearPublished - the year the game was published\n",
    "* GeekRating - the float value presented in the Geek Rating field\n",
    "* AvgRating - the float value presented in the Avg Rating field\n",
    "* NumVoters - the integer value presented in the NumVoters field"
   ]
  },
  {
   "cell_type": "code",
   "execution_count": 0,
   "metadata": {
    "application/vnd.databricks.v1+cell": {
     "cellMetadata": {
      "byteLimit": 2048000,
      "rowLimit": 10000
     },
     "inputWidgets": {},
     "nuid": "f38b1c04-bf2d-440e-92b3-1b6420ce8e94",
     "showTitle": false,
     "tableResultSettingsMap": {},
     "title": ""
    }
   },
   "outputs": [
    {
     "output_type": "stream",
     "name": "stdout",
     "output_type": "stream",
     "text": [
      "Python interpreter will be restarted.\nRequirement already satisfied: beautifulsoup4 in /databricks/python3/lib/python3.9/site-packages (4.11.1)\nRequirement already satisfied: soupsieve>1.2 in /databricks/python3/lib/python3.9/site-packages (from beautifulsoup4) (2.3.1)\nPython interpreter will be restarted.\n"
     ]
    }
   ],
   "source": [
    "# run this code to make sure beautiful soup is installed\n",
    "# dbutils.library.installPyPI('beautifulsoup4')\n",
    "%pip install beautifulsoup4\n",
    "dbutils.library.restartPython()"
   ]
  },
  {
   "cell_type": "code",
   "execution_count": 0,
   "metadata": {
    "application/vnd.databricks.v1+cell": {
     "cellMetadata": {
      "byteLimit": 2048000,
      "rowLimit": 10000
     },
     "inputWidgets": {},
     "nuid": "d8d4a74b-f0d4-4159-9f61-5cc57037abbc",
     "showTitle": false,
     "tableResultSettingsMap": {},
     "title": ""
    }
   },
   "outputs": [
    {
     "output_type": "stream",
     "name": "stdout",
     "output_type": "stream",
     "text": [
      "b'<!DOCTYPE html>\\n<html ng-app=\"GeekApp\" lang=\"en-US\" ng-cloak>\\n<head>\\n\\t<meta charset=\\'utf-8\\'>\\n\\t<meta id=\"vp\" name=\"viewport\" content=\"width=device-width, initial-scale=1.0\">\\n\\t\\t\\t<script>\\n\\t\\t\\twindow.addEventListener( \\'DOMContentLoaded\\',  function() {\\n\\t\\t\\t\\tvar width = document.documentElement.clientWidth || window.innerWidth;\\n\\t\\t\\t\\tif (width < 960) {\\n\\t\\t\\t\\t\\tvar mvp = document.getElementById(\\'vp\\');\\n\\t\\t\\t\\t\\t// android debugging\\n\\t\\t\\t\\t\\tmvp.setAttribute(\\'content\\',\\'width=960\\');\\n\\t\\t\\t\\t}\\n\\t\\t\\t});\\n\\t\\t</script>\\n\\t\\t<meta content=\\'yes\\' name=\\'apple-mobile-web-app-capable\\'>\\n\\t<meta content=\\'IE=edge,chrome=1\\' http-equiv=\\'X-UA-Compatible\\'>\\n\\n\\t\\t\\t<title>Browse Board Games | BoardGameGeek</title>\\n\\t\\n\\t\\n<link rel=\"apple-touch-icon\" \\thref=\"https://cf.geekdo-static.com/icons/touch-icon180.png\" />\\n<link rel=\"shortcut icon\" \\t\\thref=\"https://cf.geekdo-static.com/icons/favicon2.ico\" type=\"image/ico\" />\\n<link rel=\"icon\" \\t\\t\\t\\t\\thref=\"https://cf.geekdo-static.com/icons/favicon2.ico\" type=\"image/ico\" />\\n<link rel=\"search\" \\t\\t\\t\\thref=\"/game-opensearch.xml\" type=\"application/opensearchdescription+xml\" title=\"BGG Game Search\" />\\n<meta name=\"apple-mobile-web-app-title\" content=\"BGG\">\\n\\n<meta name=\"theme-color\" content=\"#2e2b47\">\\n<link rel=\"preconnect\" href=\"https://api.geekdo.com\" />\\n\\n\\n\\n\\n\\t<meta property=\"og:image\" content=\"https://cf.geekdo-static.com/images/opengraph/bgg_opengraph.png\" />\\n\\n\\n\\n\\t<meta name=\"keywords\" content=\"board game, boardgames, boardgame, board, games, game, hobby, boardgamegeek, geek, geekdo\">\\n\\n<script>window.AdSlots = window.AdSlots || {\\n\\tcmd: [],\\n\\tdisableScripts: [\\'gpt\\'],\\n\\trenderOnFirstLoad: false,\\n\\tdivCheck: false\\n};</script>\\n\\n\\n\\t\\t\\t\\t\\t\\t<link rel=\\'stylesheet\\' type=\\'text/css\\' href=\\'https://cf.geekdo-static.com/static/geekui_master2_6606d8a5243fd.css\\'>\\n\\t\\t\\t\\t\\t<link rel=\\'stylesheet\\' type=\\'text/css\\' href=\\'https://cf.geekdo-static.com/static/css_master2_6606d895a0c3c.css\\'>\\n\\t\\t\\t\\n\\t<base href=\"/\">\\n\\n\\t<script src=\"https://kit.fontawesome.com/ece5b35462.js\" crossorigin=\"anonymous\"></script>\\n\\n<script>\\n\\tvar GEEK = GEEK || {};\\n\\tGEEK.adBlock = [];\\n\\tGEEK.adConfig = {\"blockleaderboard\":null,\"blockskyscraper\":null,\"noadsense\":false,\"blocksupportdrive\":null};\\n\\tGEEK.adSlots = {\"dfp-leaderboard\":{\"name\":\"boardgame_leaderboard_728x90\"},\"dfp-skyscraper\":{\"name\":\"boardgame_skyscraper_160x600\"},\"dfp-medrect\":{\"name\":\"boardgame_rectangle_300x250\"},\"dfp-repeater\":{\"name\":\"boardgame_home_repeater\"},\"dfp-medrect-reserved-home\":{\"name\":\"boardgame_reserved_home_300x250\"},\"dfp-leaderboard-lg\":{\"name\":\"boardgame_home_hero\"},\"dfp-home-sidekick\":{\"name\":\"boardgame_home_repeater\"},\"dfp-inline-post\":{\"name\":\"boardgame_inline_post\"}};\\n\\tGEEK.legacyAds = [];\\n\\tGEEK.bggStoreAds = [];\\n\\tGEEK.googleTargets = null;\\n\\tGEEK.userid = 0;\\n\\tGEEK.domainname = \\'boardgamegeek.com\\';\\n\\tGEEK.domain = \\'boardgame\\';\\n\\tGEEK.geekitemPreload = {};\\n\\tGEEK.geekitemSettings = null;\\n\\tGEEK.geekitemModules = null;\\n\\tGEEK.geekGlobalSettings = {\"shutdown_file_ops\":\"1\",\"shutdown_storeimage_ops\":\"0\",\"shutdown_edit_avatar\":\"0\",\"shutdown_file_upload\":\"0\",\"shutdown_file_download\":\"0\",\"shutdown_image_upload\":\"0\"};\\n\\tGEEK.geekimageSettings = null;\\n\\tGEEK.legacy = 1;\\n\\tGEEK.apiurlsPrefix = \\'https://api.geekdo.com\\';\\n\\n\\t\\n\\t\\t\\n\\t\\tGEEK.apiurls = {\\n\\t\\t\\'root\\': \\'/api\\',\\n\\t\\t\\'amazon\\': \\'/api/amazon\\',\\n\\t\\t\\'files\\': \\'/api/files\\',\\n\\t\\t\\'geekitems\\': \\'/api/geekitems\\',\\n\\t\\t\\'collectionstatsgraph\\': \\'/api/collectionstatsgraph\\',\\n\\t\\t\\'images\\': \\'/api/images\\',\\n\\t\\t\\'threads\\': \\'/api/forums/threads\\',\\n\\t \\t\\'forums\\': \\'/api/forums\\',\\n\\t\\t\\'videos\\': \\'/api/videos\\',\\n\\t\\t\\'hotness\\': \\'/api/hotness\\',\\n\\t\\t\\'dynamicinfo\\': \\'/api/dynamicinfo\\',\\n\\t\\t\\'subtypeinfo\\': \\'/api/subtypeinfo\\',\\n\\t\\t\\'geekbay\\': \\'/api/geekbay\\',\\n\\t\\t\\'geekmarket\\': \\'/market/api/v1\\',\\n\\t    \\'geekmarketapi\\': \\'/api/market\\',\\n\\t\\t\\'geeklists\\': \\'/api/geeklists\\',\\n\\t\\t\\'reviews\\': \\'/api/forumreviews\\',\\n\\t\\t\\'collections\\': \\'/api/collections\\',\\n\\t\\t\\'linkeditems\\': \\'/api/geekitem/linkeditems\\',\\n\\t\\t\\'subscriptions\\': \\'/api/subscriptions\\',\\n\\t    \\'fans\\': \\'/api/fans\\',\\n\\t    \\'geekpreviews\\': \\'/api/geekpreviews\\',\\n\\t    \\'geekpreviewitems\\': \\'/api/geekpreviewitems\\',\\n\\t   \\t\\'geekpreviewparentitems\\': \\'/api/geekpreviewparentitems\\',\\n\\t\\t\\'recs\\': \\'/api/geekitem/recs\\',\\n\\t    \\'awards\\': \\'/api/geekawards\\',\\n\\t\\t\\'historicalrankgraph\\':  \\'/api/historicalrankgraph\\',\\n\\t\\t\\'blueprint_recipes\\': \\'/api/blueprints/recipes\\',\\n\\t\\t\\'affiliateads\\' : \\'/api/affiliateads\\',\\n\\t\\t\\'sleevesbycard\\': \\'/api/sleevesbycard\\',\\n\\t\\t\\'cardsetsbygame\\': \\'/api/cardsetsbygame\\',\\n\\t};\\n</script>\\n\\n<script async src=\"https://www.googletagmanager.com/gtag/js?id=UA-104725-1\"></script>\\n<script>\\n\\twindow.dataLayer = window.dataLayer || [];\\n\\tfunction gtag(){dataLayer.push(arguments);}\\n\\tgtag(\\'js\\', new Date());\\n\\tgtag(\\'consent\\', \\'default\\', {\\n\\t\\t\\'ad_storage\\': \\'denied\\',\\n\\t\\t\\'analytics_storage\\': \\'denied\\',\\n\\t\\t\\'personalization_storage\\': \\'denied\\',\\n\\t\\t\\'wait_for_update\\': 3000\\n\\t\\t });\\n\\tgtag(\\'config\\', \\'UA-104725-1\\', {\\n\\t\\t\\'cookie_domain\\': \\'boardgamegeek.com\\',\\n\\t\\t\\'send_page_view\\': false\\n\\t});\\n</script>\\n\\n        \\t\\t\\t\\t\\t\\t<script type=\\'text/javascript\\' src=\\'https://cf.geekdo-static.com/static/geekangular17_master2_6606d8b4133e5.js\\'></script>\\n\\t\\t\\t\\t\\t<script type=\\'text/javascript\\' src=\\'https://cf.geekdo-static.com/static/geekui_master2_6606d8a5243fd.js\\'></script>\\n\\t\\t\\t\\t\\t<script type=\\'text/javascript\\' src=\\'https://cf.geekdo-static.com/static/js_master2_6606d895262fb.js\\'></script>\\n\\t\\t\\t\\t\\t<script type=\\'text/javascript\\' src=\\'https://cf.geekdo-static.com/static/geekoutputtemplates_master2_6606d8b4e23ab.js\\'></script>\\n\\t\\t\\t\\t\\t<script type=\\'text/javascript\\' src=\\'https://cf.geekdo-static.com/static/geekuicommontemplates_master2_6606d8b4eb732.js\\'></script>\\n\\t\\t\\t<script>\\n\\twindow.geekCookieConsent.gtagReady.then(function() {\\n\\t\\tgtag(\\'event\\', \\'page_view\\');\\n\\t});\\n</script>\\n\\t<!-- why this? -->\\n<meta http-equiv=\"content-type\" content=\"text/html;charset=UTF-8\">\\n\\n<!-- Add to main?\\n<link rel=\"apple-touch-icon\" \\thref=\"https://cf.geekdo-static.com/icons/appleicon.png\" />\\n<link rel=\"shortcut icon\" \\t\\thref=\"https://cf.geekdo-static.com/icons/favicon.ico\" type=\"image/ico\" />\\n<link rel=\"icon\" \\t\\t\\t\\t\\thref=\"https://cf.geekdo-static.com/icons/favicon.ico\" type=\"image/ico\" />\\n<link rel=\"search\" \\t\\t\\t\\thref=\"/game-opensearch.xml\" type=\"application/opensearchdescription+xml\" title=\"BGG Game Search\" />\\n-->\\n\\n\\n\\n\\n\\n<!--this is used only for GeekMap -->\\n\\n\\n<!-- deal with adsense\\n\\t<script type=\"text/javascript\">\\n\\t\\twindow.google_analytics_uacct = \"UA-104725-1\";\\n\\t\\tvar googletag = googletag || { };\\n\\t\\tgoogletag.cmd = googletag.cmd || [];\\n\\t\\t( function() {\\n\\t\\t\\tvar gads = document.createElement(\\'script\\');\\n\\t\\t\\tgads.async = true;\\n\\t\\t\\tgads.type  = \\'text/javascript\\';\\n\\t\\t\\tgads.src   = \"//www.googletagservices.com/tag/js/gpt.js\";\\n\\t\\t\\tvar node = document.getElementsByTagName(\\'script\\')[0];\\n\\t\\t\\tnode.parentNode.insertBefore(gads, node);\\n\\t\\t} )();\\n\\n\\t\\tadunits = [\\n\\t\\t\\t{\\n\\t\\t\\t\\tname:    \\'boardgame_button_120x45\\',\\n\\t\\t\\t\\tsize:    [ 120, 45 ],\\n\\t\\t\\t\\ttarget:  \\'dfp-button\\'\\n\\t\\t\\t},\\n\\t\\t\\t{\\n\\t\\t\\t\\tname:    \\'boardgame_leaderboard_728x90\\',\\n\\t\\t\\t\\tsize:    [ 728, 90 ],\\n\\t\\t\\t\\ttarget:  \\'dfp-leaderboard\\'\\n\\t\\t\\t},\\n\\t\\t\\t{\\n\\t\\t\\t\\tname:    \\'boardgame_skyscraper_160x600\\',\\n\\t\\t\\t\\tsize:    [ 160, 600 ],\\n\\t\\t\\t\\ttarget:  \\'dfp-skyscraper\\'\\n\\t\\t\\t},\\n\\t\\t\\t{\\n\\t\\t\\t\\tname:    \\'boardgame_rectangle_300x250\\',\\n\\t\\t\\t\\tsize:    [ 300, 250 ],\\n\\t\\t\\t\\ttarget:  \\'dfp-medrect\\'\\n\\t\\t\\t},\\n\\t\\t\\t{\\n\\t\\t\\t\\tname:    \\'boardgame_rectangle_300x250\\',\\n\\t\\t\\t\\tsize:    [ 300, 250 ],\\n\\t\\t\\t\\ttarget:  \\'dfp-medrect-reserved-home\\'\\n\\t\\t\\t},\\n\\t\\t\\t{\\n\\t\\t\\t\\tname:    \\'boardgame_button_120x90\\',\\n\\t\\t\\t\\tsize:    [ 120, 90 ],\\n\\t\\t\\t\\ttarget:  \\'dfp-giftguide\\'\\n\\t\\t\\t}\\n\\t\\t];\\n\\n\\t\\tgoogletag.cmd.push(function() {\\n\\t\\t\\tfor( var i=0; i< adunits.length; i++ )\\n\\t\\t\\t{\\n\\t\\t\\t\\tunit = adunits[i];\\n\\t\\t\\t\\tgoogletag.defineUnit(\\'/1005854/ca-pub-7206761047394129/\\'+unit.name, unit.size, unit.target).\\n\\t\\t\\t\\taddService(googletag.pubads());\\n\\t\\t\\t}\\n\\n\\t\\t\\t\\n\\t\\t\\tgoogletag.pubads().setTargeting( \"subdomain\", \"all\" );\\n\\t\\t\\tgoogletag.enableServices();\\n\\t\\t} );\\n\\n\\t</script>\\n-->\\n\\n<script>\\n\\tfunction start() {\\n\\t\\t\\n\\t}\\n\\n\\tfunction ondomready() {\\n\\t\\t\\t\\tAmazon_LoadAds();\\n\\t\\t\\t\\t\\n\\t\\tGEEK.addHandlers();\\n\\t\\tGEEK.recaptchaKey = \\'6Ldyr6EaAAAAAE0F2hYgtHHqbF6nKPTENAwo6SyU\\';\\n\\t}\\n\\n\\tif( typeof window.addEvent === \"function\" ) {\\n\\t\\twindow.addEvent(\\'domready\\', function() {\\n\\t\\t\\tondomready();\\n\\t\\t} );\\n\\t} else {\\n\\t\\twindow.addEventListener( \"DOMContentLoaded\", function() {\\n\\t\\t\\tondomready();\\n\\t} );\\n\\t}\\n\\twindow.onload = start;\\n</script>\\n\\n\\n</head>\\n\\n<body ng-controller=\"GeekOutput_LayoutCtrl as layoutctrl\"\\n\\t\\tclass=\"domain-boardgame\"\\n\\n\\t\\tng-class=\"{ \\'has-no-max-width\\' : layoutctrl.geekitemSettings.fluidlayout }\">\\n\\n\\n<div class=\\'d-flex flex-column min-vh-100\\'>\\n        \\t<div id=\"global-header-outer\" class=\\'global-header-outer\\'\\n\\t  ng-controller=\"NavCtrl as navctrl\"\\n\\t  click-out=\"navctrl.closeMobileMenu()\">\\n\\n\\t<geeknav-menu></geeknav-menu>\\n</div>\\n\\n\\t \\n\\t\\n\\t<main class=\\'global-body flex-grow-1\\'\\n\\t\\t  id=\"mainbody\"\\n\\t\\t  ng-class=\"{ \\'has-overlay-sidebar\\': layoutctrl.showOverlaySidebar, \\'has-hidden-fixed-sidebar\\': layoutctrl.localStorage.hideFixedSidebar }\">\\n\\t\\t\\n\\t\\t<a id=\\'mainbodytarget\\' tabindex=\"-1\"></a>\\n\\n\\t\\t<!-- Home King Ad -->\\n\\t\\t\\n\\t\\t<div hide-ad-block=\"blockleaderboard\" >\\n\\t\\t\\t<div class=\"advertisement-leaderboard\">\\n\\t\\t\\t\\t<div class=\\'center-block\\' ng-dfp-ad=\"dfp-leaderboard\"></div>\\n\\t\\t\\t</div>\\n\\t\\t</div>\\n\\n\\t\\t<div class=\\'global-body-content-container container-fluid\\'>\\n\\t\\t\\t\\t\\t\\t\\t<geekoutput-sidebar deactivate-overlay-sidebar=\\'layoutctrl.deactivateOverlaySidebar\\' show-overlay-sidebar=\\'layoutctrl.showOverlaySidebar\\'></geekoutput-sidebar>\\n         \\n\\t\\t\\t\\n\\t\\t\\t<div class=\\'global-body-content pending\\'  ng-class=\"{\\'ready\\': layoutctrl.ready}\">\\n\\t\\t\\n\\t\\t\\t\\t<a id=\\'maincontenttarget\\' tabindex=\"-1\"></a>\\n\\t\\t\\t\\n\\t\\t\\t\\t \\t\\t\\t\\t\\t\\t\\t\\t<div class=\"legacy\">\\n\\t<div id=\"container\" class=\"yui-skin-sam\">\\n\\t\\t<div id=\"maincontent\" ng-non-bindable>\\n\\t\\t\\t<form method=\\'GET\\' action=\"\">\\n<div class=\\'infobox\\'>\\n\\t<div class=\\'fr\\'><b>1</b>&nbsp;,&nbsp;<a href=\"/browse/boardgame/page/2\" target=\\'_self\\' title=\"page 2\">2</a>&nbsp;,&nbsp;<a href=\"/browse/boardgame/page/3\" target=\\'_self\\' title=\"page 3\">3</a>&nbsp;,&nbsp;<a href=\"/browse/boardgame/page/4\" target=\\'_self\\' title=\"page 4\">4</a>&nbsp;,&nbsp;<a href=\"/browse/boardgame/page/5\" target=\\'_self\\' title=\"page 5\">5</a>&nbsp;&nbsp;<a href=\"/browse/boardgame/page/2\" target=\\'_self\\' title=\"next page\"><b>Next &raquo;</b></a>&nbsp;&nbsp;<a href=\"/browse/boardgame/page/1530\" target=\\'_self\\' title=\"last page\">[1530]</a></div>\\n\\t<div class=\\'fl\\'>\\n\\t\\t\\t \\t \\t\\t <p class=\"m-0 text-muted\">We may earn a commission when you buy through our links. </p>\\n\\t \\t</div>\\n\\n\\t<div class=\\'clear\\'></div>\\n</div>\\n</form>\\n\\n<div id=\\'collection_status\\' style=\\'position:absolute; background:red; color:white;\\'></div>\\n\\n\\n<div id=\\'collection\\'><div class=\\'fl sf\\'><span id=\\'collection_viewlabel\\'style=\\'display:none;\\'>&nbsp;|&nbsp;View: <span id=\\'collection_viewname\\'></span></span></div>\\n\\n<div style=\\'text-align:right; margin-bottom:5px;\\' class=\\'sf\\'>\\t\\n\\t\\t</div>\\n\\n\\n\\n<div class=\"table-responsive\">\\n<table cellpadding=0 cellspacing=1 class=\\'collection_table\\' width=\\'100%\\' id=\\'collectionitems\\'>\\n<tr>\\t\\n\\t\\t\\t<th class=\\'collection_bggrating\\'>\\n\\t\\t\\t\\t\\t\\n\\t\\t\\t\\t\\t<a href=\"/browse/boardgame?sort=rank&sortdir=desc\">Board Game Rank<img alt=\\'ascending sort\\' border=0 hspace=5 src=\\'https://cf.geekdo-static.com/images/collection/arrow_up.gif\\'></a>\\n\\t\\t\\t\\t</th>\\n\\t\\t\\t\\t\\n\\t\\t\\t<th class=\\'collection_thumbnail\\'>\\n\\t\\t\\t<span class=\"sr-only\">Thumbnail image</span>\\n\\t\\t</th>\\n\\t\\t\\n\\t\\t\\t<th class=\\'collection_title\\'>\\n\\t\\t\\t\\t\\t\\t\\n\\t\\t\\t\\t<a href=\"/browse/boardgame?sort=title\">Title</a>\\n\\t\\t\\t\\t\\t</th>\\n\\t\\n\\t\\t\\n\\t\\t\\n\\t\\t\\t<th class=\\'collection_bggrating\\'>\\n\\t\\t\\t\\t\\t\\t<a href=\"/browse/boardgame?sort=bggrating\">Geek Rating</a>\\n\\t\\t\\t\\t\\t\\t\\n\\t\\t</th>\\n\\t\\n\\t\\t\\t<th class=\\'collection_bggrating\\'>\\n\\t\\t\\t\\t\\t\\t\\t<a href=\"/browse/boardgame?sort=avgrating\">Avg Rating</a>\\n\\t\\t\\t\\t\\t\\t\\n\\t\\t</th>\\n\\t\\n\\t\\t\\t<th class=\\'collection_bggrating\\'>\\n\\t\\t\\t\\t\\t\\t\\t<a href=\"/browse/boardgame?sort=numvoters\">Num Voters</a>\\n\\t\\t\\t\\t\\t\\t\\n\\t\\t</th>\\n\\t\\n\\t\\n\\t\\n\\t\\t\\n\\t\\n\\t\\n\\t\\n\\t\\n\\t\\n\\n\\t\\t\\n\\t\\n\\t\\n\\t\\n\\t\\t\\n\\t\\n\\t\\t\\n\\t\\n\\t\\t\\n\\t\\n\\t\\t\\t\\t\\t\\t\\t\\t\\t\\t\\t\\t\\t\\t\\t\\t\\t\\t\\t\\t\\t\\n\\t\\t\\t\\t\\t<th class=\\'collection_shop\\'>\\n\\t\\t\\tShop\\n\\t\\t</th>\\n\\t\\t</tr>\\n\\n\\n\\t\\n\\t\\n\\t\\t\\t \\t\\t\\n\\n<tr id=\\'row_\\'>\\t\\t\\n\\t\\t\\t<td class=\\'collection_rank\\' align=\\'center\\' >\\n\\t\\t\\t<a name=\"1\"></a>\\t\\t\\t1\\t\\t\\t\\n\\t\\t\\t\\t\\t</td>\\t\\t\\n\\t\\t\\t\\t\\t\\t\\n\\t\\t\\n\\t\\t\\t<td class=\\'collection_thumbnail\\'>\\n\\t\\t\\t<a   href=\"/boardgame/224517/brass-birmingham\" ><img alt=\"Board Game: Brass: Birmingham\"   src=\"https://cf.geekdo-images.com/x3zxjr-Vw5iU4yDPg70Jgw__micro/img/4Od3GYCiqptga0VbmyumPbJlBsU=/fit-in/64x64/filters:strip_icc()/pic3490053.jpg\"></a>\\n\\t\\t</td>\\n\\t\\t\\n\\t\\t\\t<td id=\\'CEcell_objectname1\\' \\n\\tclass=\"collection_objectname \\n\\t\\t\\t\\t\\t\\t browse\"\\n\\n\\t>\\n\\t\\n\\t<div id=\\'status_objectname1\\'></div>\\n\\t<div id=\\'results_objectname1\\' style=\\'z-index:1000;\\' onclick=\\'\\'>\\n\\t\\t\\n\\t\\t\\t\\t\\t<a  href=\"/boardgame/224517/brass-birmingham\"  class=\\'primary\\' >Brass: Birmingham</a>\\n\\t\\t\\t\\t\\n\\t\\t\\t\\t\\t\\t\\t<span class=\\'smallerfont dull\\'>(2018)</span>\\n\\t\\t\\t\\t\\t\\t\\t\\t\\n\\t</div>\\n\\n\\t\\t\\t<p class=\"smallefont dull\" style=\"margin: 2px 0 0 0;\">\\n\\t\\t\\tBuild networks, grow industries, and navigate the world of the Industrial Revolution.\\n\\t\\t</p>\\n\\t</td>\\n\\t\\t\\n\\t\\t\\n\\t\\t\\n\\t\\t\\t<td class=\\'collection_bggrating\\' align=\\'center\\'>\\n\\t\\t\\t8.417\\t\\t</td>\\n\\t\\n\\t\\t\\t<td class=\\'collection_bggrating\\' align=\\'center\\'>\\n\\t\\t\\t8.60\\t\\t</td>\\n\\t\\n\\t\\t\\t<td class=\\'collection_bggrating\\' align=\\'center\\'>\\n\\t\\t\\t44343\\t\\t</td>\\n\\t\\n\\t\\n\\n\\t\\t\\n\\n\\t\\t\\n\\n\\t\\t\\n\\n\\t\\t\\n\\n\\t\\t\\n\\n   \\n   \\n\\t\\t\\n\\t\\t\\n\\t\\t\\n\\t\\n\\t\\t\\n\\t\\n\\t\\t\\n\\n\\t\\t\\n\\n\\t\\t\\t\\t\\t\\t\\t\\t\\t\\t\\t\\t\\t\\t\\n\\t\\t\\n\\t\\t\\t\\t<td class=\\'collection_shop\\'>\\n\\t\\t\\t\\t\\t\\t\\t\\t\\t\\t\\t\\t<div class=\\'aad\\' id=\\'aad_thing_224517_textwithprices__\\'></div>\\n\\t\\t\\t\\t\\t\\t\\t\\t\\t</td>\\n\\t\\t\\n\\t</tr>\\n\\t\\t\\t\\t\\t \\t\\t\\n\\n<tr id=\\'row_\\'>\\t\\t\\n\\t\\t\\t<td class=\\'collection_rank\\' align=\\'center\\' >\\n\\t\\t\\t<a name=\"2\"></a>\\t\\t\\t2\\t\\t\\t\\n\\t\\t\\t\\t\\t</td>\\t\\t\\n\\t\\t\\t\\t\\t\\t\\n\\t\\t\\n\\t\\t\\t<td class=\\'collection_thumbnail\\'>\\n\\t\\t\\t<a   href=\"/boardgame/161936/pandemic-legacy-season-1\" ><img alt=\"Board Game: Pandemic Legacy: Season 1\"   src=\"https://cf.geekdo-images.com/-Qer2BBPG7qGGDu6KcVDIw__micro/img/n6-sXYD6XXZoqIxq4P6AG7VPCuA=/fit-in/64x64/filters:strip_icc()/pic2452831.png\"></a>\\n\\t\\t</td>\\n\\t\\t\\n\\t\\t\\t<td id=\\'CEcell_objectname2\\' \\n\\tclass=\"collection_objectname \\n\\t\\t\\t\\t\\t\\t browse\"\\n\\n\\t>\\n\\t\\n\\t<div id=\\'status_objectname2\\'></div>\\n\\t<div id=\\'results_objectname2\\' style=\\'z-index:1000;\\' onclick=\\'\\'>\\n\\t\\t\\n\\t\\t\\t\\t\\t<a  href=\"/boardgame/161936/pandemic-legacy-season-1\"  class=\\'primary\\' >Pandemic Legacy: Season 1</a>\\n\\t\\t\\t\\t\\n\\t\\t\\t\\t\\t\\t\\t<span class=\\'smallerfont dull\\'>(2015)</span>\\n\\t\\t\\t\\t\\t\\t\\t\\t\\n\\t</div>\\n\\n\\t\\t\\t<p class=\"smallefont dull\" style=\"margin: 2px 0 0 0;\">\\n\\t\\t\\tMutating diseases are spreading around the world - can your team save humanity?\\n\\t\\t</p>\\n\\t</td>\\n\\t\\t\\n\\t\\t\\n\\t\\t\\n\\t\\t\\t<td class=\\'collection_bggrating\\' align=\\'center\\'>\\n\\t\\t\\t8.383\\t\\t</td>\\n\\t\\n\\t\\t\\t<td class=\\'collection_bggrating\\' align=\\'center\\'>\\n\\t\\t\\t8.53\\t\\t</td>\\n\\t\\n\\t\\t\\t<td class=\\'collection_bggrating\\' align=\\'center\\'>\\n\\t\\t\\t52964\\t\\t</td>\\n\\t\\n\\t\\n\\n\\t\\t\\n\\n\\t\\t\\n\\n\\t\\t\\n\\n\\t\\t\\n\\n\\t\\t\\n\\n   \\n   \\n\\t\\t\\n\\t\\t\\n\\t\\t\\n\\t\\n\\t\\t\\n\\t\\n\\t\\t\\n\\n\\t\\t\\n\\n\\t\\t\\t\\t\\t\\t\\t\\t\\t\\t\\t\\t\\t\\t\\n\\t\\t\\n\\t\\t\\t\\t<td class=\\'collection_shop\\'>\\n\\t\\t\\t\\t\\t\\t\\t\\t\\t\\t\\t\\t<div class=\\'aad\\' id=\\'aad_thing_161936_textwithprices__\\'></div>\\n\\t\\t\\t\\t\\t\\t\\t\\t\\t</td>\\n\\t\\t\\n\\t</tr>\\n\\t\\t\\t\\t\\t \\t\\t\\n\\n<tr id=\\'row_\\'>\\t\\t\\n\\t\\t\\t<td class=\\'collection_rank\\' align=\\'center\\' >\\n\\t\\t\\t<a name=\"3\"></a>\\t\\t\\t3\\t\\t\\t\\n\\t\\t\\t\\t\\t</td>\\t\\t\\n\\t\\t\\t\\t\\t\\t\\n\\t\\t\\n\\t\\t\\t<td class=\\'collection_thumbnail\\'>\\n\\t\\t\\t<a   href=\"/boardgame/174430/gloomhaven\" ><img alt=\"Board Game: Gloomhaven\"   src=\"https://cf.geekdo-images.com/sZYp_3BTDGjh2unaZfZmuA__micro/img/sQyh47ClBO3d5sxPm73hMvM-JV4=/fit-in/64x64/filters:strip_icc()/pic2437871.jpg\"></a>\\n\\t\\t</td>\\n\\t\\t\\n\\t\\t\\t<td id=\\'CEcell_objectname3\\' \\n\\tclass=\"collection_objectname \\n\\t\\t\\t\\t\\t\\t browse\"\\n\\n\\t>\\n\\t\\n\\t<div id=\\'status_objectname3\\'></div>\\n\\t<div id=\\'results_objectname3\\' style=\\'z-index:1000;\\' onclick=\\'\\'>\\n\\t\\t\\n\\t\\t\\t\\t\\t<a  href=\"/boardgame/174430/gloomhaven\"  class=\\'primary\\' >Gloomhaven</a>\\n\\t\\t\\t\\t\\n\\t\\t\\t\\t\\t\\t\\t<span class=\\'smallerfont dull\\'>(2017)</span>\\n\\t\\t\\t\\t\\t\\t\\t\\t\\n\\t</div>\\n\\n\\t\\t\\t<p class=\"smallefont dull\" style=\"margin: 2px 0 0 0;\">\\n\\t\\t\\tVanquish monsters with strategic cardplay. Fulfill your quest to leave your legacy!\\n\\t\\t</p>\\n\\t</td>\\n\\t\\t\\n\\t\\t\\n\\t\\t\\n\\t\\t\\t<td class=\\'collection_bggrating\\' align=\\'center\\'>\\n\\t\\t\\t8.361\\t\\t</td>\\n\\t\\n\\t\\t\\t<td class=\\'collection_bggrating\\' align=\\'center\\'>\\n\\t\\t\\t8.60\\t\\t</td>\\n\\t\\n\\t\\t\\t<td class=\\'collection_bggrating\\' align=\\'center\\'>\\n\\t\\t\\t61512\\t\\t</td>\\n\\t\\n\\t\\n\\n\\t\\t\\n\\n\\t\\t\\n\\n\\t\\t\\n\\n\\t\\t\\n\\n\\t\\t\\n\\n   \\n   \\n\\t\\t\\n\\t\\t\\n\\t\\t\\n\\t\\n\\t\\t\\n\\t\\n\\t\\t\\n\\n\\t\\t\\n\\n\\t\\t\\t\\t\\t\\t\\t\\t\\t\\t\\t\\t\\t\\t\\n\\t\\t\\n\\t\\t\\t\\t<td class=\\'collection_shop\\'>\\n\\t\\t\\t\\t\\t\\t\\t\\t\\t\\t\\t\\t<div class=\\'aad\\' id=\\'aad_thing_174430_textwithprices__\\'></div>\\n\\t\\t\\t\\t\\t\\t\\t\\t\\t</td>\\n\\t\\t\\n\\t</tr>\\n\\t\\t\\t\\t\\t \\t\\t\\n\\n<tr id=\\'row_\\'>\\t\\t\\n\\t\\t\\t<td class=\\'collection_rank\\' align=\\'center\\' >\\n\\t\\t\\t<a name=\"4\"></a>\\t\\t\\t4\\t\\t\\t\\n\\t\\t\\t\\t\\t</td>\\t\\t\\n\\t\\t\\t\\t\\t\\t\\n\\t\\t\\n\\t\\t\\t<td class=\\'collection_thumbnail\\'>\\n\\t\\t\\t<a   href=\"/boardgame/342942/ark-nova\" ><img alt=\"Board Game: Ark Nova\"   src=\"https://cf.geekdo-images.com/SoU8p28Sk1s8MSvoM4N8pQ__micro/img/LSAi1pmhbTbWwtBrziutDOXzfdY=/fit-in/64x64/filters:strip_icc()/pic6293412.jpg\"></a>\\n\\t\\t</td>\\n\\t\\t\\n\\t\\t\\t<td id=\\'CEcell_objectname4\\' \\n\\tclass=\"collection_objectname \\n\\t\\t\\t\\t\\t\\t browse\"\\n\\n\\t>\\n\\t\\n\\t<div id=\\'status_objectname4\\'></div>\\n\\t<div id=\\'results_objectname4\\' style=\\'z-index:1000;\\' onclick=\\'\\'>\\n\\t\\t\\n\\t\\t\\t\\t\\t<a  href=\"/boardgame/342942/ark-nova\"  class=\\'primary\\' >Ark Nova</a>\\n\\t\\t\\t\\t\\n\\t\\t\\t\\t\\t\\t\\t<span class=\\'smallerfont dull\\'>(2021)</span>\\n\\t\\t\\t\\t\\t\\t\\t\\t\\n\\t</div>\\n\\n\\t\\t\\t<p class=\"smallefont dull\" style=\"margin: 2px 0 0 0;\">\\n\\t\\t\\tPlan and build a modern, scientifically managed zoo to support conservation projects.\\n\\t\\t</p>\\n\\t</td>\\n\\t\\t\\n\\t\\t\\n\\t\\t\\n\\t\\t\\t<td class=\\'collection_bggrating\\' align=\\'center\\'>\\n\\t\\t\\t8.333\\t\\t</td>\\n\\t\\n\\t\\t\\t<td class=\\'collection_bggrating\\' align=\\'center\\'>\\n\\t\\t\\t8.54\\t\\t</td>\\n\\t\\n\\t\\t\\t<td class=\\'collection_bggrating\\' align=\\'center\\'>\\n\\t\\t\\t41305\\t\\t</td>\\n\\t\\n\\t\\n\\n\\t\\t\\n\\n\\t\\t\\n\\n\\t\\t\\n\\n\\t\\t\\n\\n\\t\\t\\n\\n   \\n   \\n\\t\\t\\n\\t\\t\\n\\t\\t\\n\\t\\n\\t\\t\\n\\t\\n\\t\\t\\n\\n\\t\\t\\n\\n\\t\\t\\t\\t\\t\\t\\t\\t\\t\\t\\t\\t\\t\\t\\n\\t\\t\\n\\t\\t\\t\\t<td class=\\'collection_shop\\'>\\n\\t\\t\\t\\t\\t\\t\\t\\t\\t\\t\\t\\t<div class=\\'aad\\' id=\\'aad_thing_342942_textwithprices__\\'></div>\\n\\t\\t\\t\\t\\t\\t\\t\\t\\t</td>\\n\\t\\t\\n\\t</tr>\\n\\t\\t\\t\\t\\t \\t\\t\\n\\n<tr id=\\'row_\\'>\\t\\t\\n\\t\\t\\t<td class=\\'collection_rank\\' align=\\'center\\' >\\n\\t\\t\\t<a name=\"5\"></a>\\t\\t\\t5\\t\\t\\t\\n\\t\\t\\t\\t\\t</td>\\t\\t\\n\\t\\t\\t\\t\\t\\t\\n\\t\\t\\n\\t\\t\\t<td class=\\'collection_thumbnail\\'>\\n\\t\\t\\t<a   href=\"/boardgame/233078/twilight-imperium-fourth-edition\" ><img alt=\"Board Game: Twilight Imperium: Fourth Edition\"   src=\"https://cf.geekdo-images.com/_Ppn5lssO5OaildSE-FgFA__micro/img/2gymaKs35_2yj7eyyA6cYyVmd9c=/fit-in/64x64/filters:strip_icc()/pic3727516.jpg\"></a>\\n\\t\\t</td>\\n\\t\\t\\n\\t\\t\\t<td id=\\'CEcell_objectname5\\' \\n\\tclass=\"collection_objectname \\n\\t\\t\\t\\t\\t\\t browse\"\\n\\n\\t>\\n\\t\\n\\t<div id=\\'status_objectname5\\'></div>\\n\\t<div id=\\'results_objectname5\\' style=\\'z-index:1000;\\' onclick=\\'\\'>\\n\\t\\t\\n\\t\\t\\t\\t\\t<a  href=\"/boardgame/233078/twilight-imperium-fourth-edition\"  class=\\'primary\\' >Twilight Imperium: Fourth Edition</a>\\n\\t\\t\\t\\t\\n\\t\\t\\t\\t\\t\\t\\t<span class=\\'smallerfont dull\\'>(2017)</span>\\n\\t\\t\\t\\t\\t\\t\\t\\t\\n\\t</div>\\n\\n\\t\\t\\t<p class=\"smallefont dull\" style=\"margin: 2px 0 0 0;\">\\n\\t\\t\\tBuild an intergalactic empire through trade, research, conquest and grand politics.\\n\\t\\t</p>\\n\\t</td>\\n\\t\\t\\n\\t\\t\\n\\t\\t\\n\\t\\t\\t<td class=\\'collection_bggrating\\' align=\\'center\\'>\\n\\t\\t\\t8.243\\t\\t</td>\\n\\t\\n\\t\\t\\t<td class=\\'collection_bggrating\\' align=\\'center\\'>\\n\\t\\t\\t8.60\\t\\t</td>\\n\\t\\n\\t\\t\\t<td class=\\'collection_bggrating\\' align=\\'center\\'>\\n\\t\\t\\t23240\\t\\t</td>\\n\\t\\n\\t\\n\\n\\t\\t\\n\\n\\t\\t\\n\\n\\t\\t\\n\\n\\t\\t\\n\\n\\t\\t\\n\\n   \\n   \\n\\t\\t\\n\\t\\t\\n\\t\\t\\n\\t\\n\\t\\t\\n\\t\\n\\t\\t\\n\\n\\t\\t\\n\\n\\t\\t\\t\\t\\t\\t\\t\\t\\t\\t\\t\\t\\t\\t\\n\\t\\t\\n\\t\\t\\t\\t<td class=\\'collection_shop\\'>\\n\\t\\t\\t\\t\\t\\t\\t\\t\\t\\t\\t\\t<div class=\\'aad\\' id=\\'aad_thing_233078_textwithprices__\\'></div>\\n\\t\\t\\t\\t\\t\\t\\t\\t\\t</td>\\n\\t\\t\\n\\t</tr>\\n\\t\\t\\t\\t\\t \\t\\t\\n\\n<tr id=\\'row_\\'>\\t\\t\\n\\t\\t\\t<td class=\\'collection_rank\\' align=\\'center\\' >\\n\\t\\t\\t<a name=\"6\"></a>\\t\\t\\t6\\t\\t\\t\\n\\t\\t\\t\\t\\t</td>\\t\\t\\n\\t\\t\\t\\t\\t\\t\\n\\t\\t\\n\\t\\t\\t<td class=\\'collection_thumbnail\\'>\\n\\t\\t\\t<a   href=\"/boardgame/316554/dune-imperium\" ><img alt=\"Board Game: Dune: Imperium\"   src=\"https://cf.geekdo-images.com/PhjygpWSo-0labGrPBMyyg__micro/img/mfU7-dEFnVyXJrF-BWAO0buexao=/fit-in/64x64/filters:strip_icc()/pic5666597.jpg\"></a>\\n\\t\\t</td>\\n\\t\\t\\n\\t\\t\\t<td id=\\'CEcell_objectname6\\' \\n\\tclass=\"collection_objectname \\n\\t\\t\\t\\t\\t\\t browse\"\\n\\n\\t>\\n\\t\\n\\t<div id=\\'status_objectname6\\'></div>\\n\\t<div id=\\'results_objectname6\\' style=\\'z-index:1000;\\' onclick=\\'\\'>\\n\\t\\t\\n\\t\\t\\t\\t\\t<a  href=\"/boardgame/316554/dune-imperium\"  class=\\'primary\\' >Dune: Imperium</a>\\n\\t\\t\\t\\t\\n\\t\\t\\t\\t\\t\\t\\t<span class=\\'smallerfont dull\\'>(2020)</span>\\n\\t\\t\\t\\t\\t\\t\\t\\t\\n\\t</div>\\n\\n\\t\\t\\t<p class=\"smallefont dull\" style=\"margin: 2px 0 0 0;\">\\n\\t\\t\\tInfluence, intrigue, and combat in the universe of Dune.\\n\\t\\t</p>\\n\\t</td>\\n\\t\\t\\n\\t\\t\\n\\t\\t\\n\\t\\t\\t<td class=\\'collection_bggrating\\' align=\\'center\\'>\\n\\t\\t\\t8.225\\t\\t</td>\\n\\t\\n\\t\\t\\t<td class=\\'collection_bggrating\\' align=\\'center\\'>\\n\\t\\t\\t8.43\\t\\t</td>\\n\\t\\n\\t\\t\\t<td class=\\'collection_bggrating\\' align=\\'center\\'>\\n\\t\\t\\t43405\\t\\t</td>\\n\\t\\n\\t\\n\\n\\t\\t\\n\\n\\t\\t\\n\\n\\t\\t\\n\\n\\t\\t\\n\\n\\t\\t\\n\\n   \\n   \\n\\t\\t\\n\\t\\t\\n\\t\\t\\n\\t\\n\\t\\t\\n\\t\\n\\t\\t\\n\\n\\t\\t\\n\\n\\t\\t\\t\\t\\t\\t\\t\\t\\t\\t\\t\\t\\t\\t\\n\\t\\t\\n\\t\\t\\t\\t<td class=\\'collection_shop\\'>\\n\\t\\t\\t\\t\\t\\t\\t\\t\\t\\t\\t\\t<div class=\\'aad\\' id=\\'aad_thing_316554_textwithprices__\\'></div>\\n\\t\\t\\t\\t\\t\\t\\t\\t\\t</td>\\n\\t\\t\\n\\t</tr>\\n\\t\\t\\t\\t\\t \\t\\t\\n\\n<tr id=\\'row_\\'>\\t\\t\\n\\t\\t\\t<td class=\\'collection_rank\\' align=\\'center\\' >\\n\\t\\t\\t<a name=\"7\"></a>\\t\\t\\t7\\t\\t\\t\\n\\t\\t\\t\\t\\t</td>\\t\\t\\n\\t\\t\\t\\t\\t\\t\\n\\t\\t\\n\\t\\t\\t<td class=\\'collection_thumbnail\\'>\\n\\t\\t\\t<a   href=\"/boardgame/167791/terraforming-mars\" ><img alt=\"Board Game: Terraforming Mars\"   src=\"https://cf.geekdo-images.com/wg9oOLcsKvDesSUdZQ4rxw__micro/img/LUkXZhd1TO80eCiXMD3-KfnzA6k=/fit-in/64x64/filters:strip_icc()/pic3536616.jpg\"></a>\\n\\t\\t</td>\\n\\t\\t\\n\\t\\t\\t<td id=\\'CEcell_objectname7\\' \\n\\tclass=\"collection_objectname \\n\\t\\t\\t\\t\\t\\t browse\"\\n\\n\\t>\\n\\t\\n\\t<div id=\\'status_objectname7\\'></div>\\n\\t<div id=\\'results_objectname7\\' style=\\'z-index:1000;\\' onclick=\\'\\'>\\n\\t\\t\\n\\t\\t\\t\\t\\t<a  href=\"/boardgame/167791/terraforming-mars\"  class=\\'primary\\' >Terraforming Mars</a>\\n\\t\\t\\t\\t\\n\\t\\t\\t\\t\\t\\t\\t<span class=\\'smallerfont dull\\'>(2016)</span>\\n\\t\\t\\t\\t\\t\\t\\t\\t\\n\\t</div>\\n\\n\\t\\t\\t<p class=\"smallefont dull\" style=\"margin: 2px 0 0 0;\">\\n\\t\\t\\tCompete with rival CEOs to make Mars habitable and build your corporate empire.\\n\\t\\t</p>\\n\\t</td>\\n\\t\\t\\n\\t\\t\\n\\t\\t\\n\\t\\t\\t<td class=\\'collection_bggrating\\' align=\\'center\\'>\\n\\t\\t\\t8.216\\t\\t</td>\\n\\t\\n\\t\\t\\t<td class=\\'collection_bggrating\\' align=\\'center\\'>\\n\\t\\t\\t8.36\\t\\t</td>\\n\\t\\n\\t\\t\\t<td class=\\'collection_bggrating\\' align=\\'center\\'>\\n\\t\\t\\t97186\\t\\t</td>\\n\\t\\n\\t\\n\\n\\t\\t\\n\\n\\t\\t\\n\\n\\t\\t\\n\\n\\t\\t\\n\\n\\t\\t\\n\\n   \\n   \\n\\t\\t\\n\\t\\t\\n\\t\\t\\n\\t\\n\\t\\t\\n\\t\\n\\t\\t\\n\\n\\t\\t\\n\\n\\t\\t\\t\\t\\t\\t\\t\\t\\t\\t\\t\\t\\t\\t\\n\\t\\t\\n\\t\\t\\t\\t<td class=\\'collection_shop\\'>\\n\\t\\t\\t\\t\\t\\t\\t\\t\\t\\t\\t\\t<div class=\\'aad\\' id=\\'aad_thing_167791_textwithprices__\\'></div>\\n\\t\\t\\t\\t\\t\\t\\t\\t\\t</td>\\n\\t\\t\\n\\t</tr>\\n\\t\\t\\t\\t\\t \\t\\t\\n\\n<tr id=\\'row_\\'>\\t\\t\\n\\t\\t\\t<td class=\\'collection_rank\\' align=\\'center\\' >\\n\\t\\t\\t<a name=\"8\"></a>\\t\\t\\t8\\t\\t\\t\\n\\t\\t\\t\\t\\t</td>\\t\\t\\n\\t\\t\\t\\t\\t\\t\\n\\t\\t\\n\\t\\t\\t<td class=\\'collection_thumbnail\\'>\\n\\t\\t\\t<a   href=\"/boardgame/115746/war-ring-second-edition\" ><img alt=\"Board Game\n\n*** WARNING: max output size exceeded, skipping output. ***\n\nd class=\\'collection_shop\\'>\\n\\t\\t\\t\\t\\t\\t\\t\\t\\t\\t\\t\\t<div class=\\'aad\\' id=\\'aad_thing_110327_textwithprices__\\'></div>\\n\\t\\t\\t\\t\\t\\t\\t\\t\\t</td>\\n\\t\\t\\n\\t</tr>\\n\\t\\t\\t\\t\\t \\t\\t\\n\\n<tr id=\\'row_\\'>\\t\\t\\n\\t\\t\\t<td class=\\'collection_rank\\' align=\\'center\\' >\\n\\t\\t\\t<a name=\"87\"></a>\\t\\t\\t87\\t\\t\\t\\n\\t\\t\\t\\t\\t</td>\\t\\t\\n\\t\\t\\t\\t\\t\\t\\n\\t\\t\\n\\t\\t\\t<td class=\\'collection_thumbnail\\'>\\n\\t\\t\\t<a   href=\"/boardgame/321608/hegemony-lead-your-class-to-victory\" ><img alt=\"Board Game: Hegemony: Lead Your Class to Victory\"   src=\"https://cf.geekdo-images.com/DCLgJlrvB-EqL6A3WgQLMQ__micro/img/j_LPta_lgRrN8Rrs9Rxt_d3Hysc=/fit-in/64x64/filters:strip_icc()/pic5715770.jpg\"></a>\\n\\t\\t</td>\\n\\t\\t\\n\\t\\t\\t<td id=\\'CEcell_objectname87\\' \\n\\tclass=\"collection_objectname \\n\\t\\t\\t\\t\\t\\t browse\"\\n\\n\\t>\\n\\t\\n\\t<div id=\\'status_objectname87\\'></div>\\n\\t<div id=\\'results_objectname87\\' style=\\'z-index:1000;\\' onclick=\\'\\'>\\n\\t\\t\\n\\t\\t\\t\\t\\t<a  href=\"/boardgame/321608/hegemony-lead-your-class-to-victory\"  class=\\'primary\\' >Hegemony: Lead Your Class to Victory</a>\\n\\t\\t\\t\\t\\n\\t\\t\\t\\t\\t\\t\\t<span class=\\'smallerfont dull\\'>(2023)</span>\\n\\t\\t\\t\\t\\t\\t\\t\\t\\n\\t</div>\\n\\n\\t\\t\\t<p class=\"smallefont dull\" style=\"margin: 2px 0 0 0;\">\\n\\t\\t\\tSimulate a whole contemporary nation in this asymmetric, politico-economic euro-game.\\n\\t\\t</p>\\n\\t</td>\\n\\t\\t\\n\\t\\t\\n\\t\\t\\n\\t\\t\\t<td class=\\'collection_bggrating\\' align=\\'center\\'>\\n\\t\\t\\t7.586\\t\\t</td>\\n\\t\\n\\t\\t\\t<td class=\\'collection_bggrating\\' align=\\'center\\'>\\n\\t\\t\\t8.53\\t\\t</td>\\n\\t\\n\\t\\t\\t<td class=\\'collection_bggrating\\' align=\\'center\\'>\\n\\t\\t\\t5349\\t\\t</td>\\n\\t\\n\\t\\n\\n\\t\\t\\n\\n\\t\\t\\n\\n\\t\\t\\n\\n\\t\\t\\n\\n\\t\\t\\n\\n   \\n   \\n\\t\\t\\n\\t\\t\\n\\t\\t\\n\\t\\n\\t\\t\\n\\t\\n\\t\\t\\n\\n\\t\\t\\n\\n\\t\\t\\t\\t\\t\\t\\t\\t\\t\\t\\t\\t\\t\\t\\n\\t\\t\\n\\t\\t\\t\\t<td class=\\'collection_shop\\'>\\n\\t\\t\\t\\t\\t\\t\\t\\t\\t\\t\\t\\t<div class=\\'aad\\' id=\\'aad_thing_321608_textwithprices__\\'></div>\\n\\t\\t\\t\\t\\t\\t\\t\\t\\t</td>\\n\\t\\t\\n\\t</tr>\\n\\t\\t\\t\\t\\t \\t\\t\\n\\n<tr id=\\'row_\\'>\\t\\t\\n\\t\\t\\t<td class=\\'collection_rank\\' align=\\'center\\' >\\n\\t\\t\\t<a name=\"88\"></a>\\t\\t\\t88\\t\\t\\t\\n\\t\\t\\t\\t\\t</td>\\t\\t\\n\\t\\t\\t\\t\\t\\t\\n\\t\\t\\n\\t\\t\\t<td class=\\'collection_thumbnail\\'>\\n\\t\\t\\t<a   href=\"/boardgame/62219/dominant-species\" ><img alt=\"Board Game: Dominant Species\"   src=\"https://cf.geekdo-images.com/oeygRZntjNUJWvc8SxDfww__micro/img/gXi23Nbfem6XTfRlV2eHEHB_cHY=/fit-in/64x64/filters:strip_icc()/pic784193.jpg\"></a>\\n\\t\\t</td>\\n\\t\\t\\n\\t\\t\\t<td id=\\'CEcell_objectname88\\' \\n\\tclass=\"collection_objectname \\n\\t\\t\\t\\t\\t\\t browse\"\\n\\n\\t>\\n\\t\\n\\t<div id=\\'status_objectname88\\'></div>\\n\\t<div id=\\'results_objectname88\\' style=\\'z-index:1000;\\' onclick=\\'\\'>\\n\\t\\t\\n\\t\\t\\t\\t\\t<a  href=\"/boardgame/62219/dominant-species\"  class=\\'primary\\' >Dominant Species</a>\\n\\t\\t\\t\\t\\n\\t\\t\\t\\t\\t\\t\\t<span class=\\'smallerfont dull\\'>(2010)</span>\\n\\t\\t\\t\\t\\t\\t\\t\\t\\n\\t</div>\\n\\n\\t\\t\\t<p class=\"smallefont dull\" style=\"margin: 2px 0 0 0;\">\\n\\t\\t\\tWith an ice age approaching, which animals will best propagate, migrate, and adapt?\\n\\t\\t</p>\\n\\t</td>\\n\\t\\t\\n\\t\\t\\n\\t\\t\\n\\t\\t\\t<td class=\\'collection_bggrating\\' align=\\'center\\'>\\n\\t\\t\\t7.583\\t\\t</td>\\n\\t\\n\\t\\t\\t<td class=\\'collection_bggrating\\' align=\\'center\\'>\\n\\t\\t\\t7.82\\t\\t</td>\\n\\t\\n\\t\\t\\t<td class=\\'collection_bggrating\\' align=\\'center\\'>\\n\\t\\t\\t21049\\t\\t</td>\\n\\t\\n\\t\\n\\n\\t\\t\\n\\n\\t\\t\\n\\n\\t\\t\\n\\n\\t\\t\\n\\n\\t\\t\\n\\n   \\n   \\n\\t\\t\\n\\t\\t\\n\\t\\t\\n\\t\\n\\t\\t\\n\\t\\n\\t\\t\\n\\n\\t\\t\\n\\n\\t\\t\\t\\t\\t\\t\\t\\t\\t\\t\\t\\t\\t\\t\\n\\t\\t\\n\\t\\t\\t\\t<td class=\\'collection_shop\\'>\\n\\t\\t\\t\\t\\t\\t\\t\\t\\t\\t\\t\\t<div class=\\'aad\\' id=\\'aad_thing_62219_textwithprices__\\'></div>\\n\\t\\t\\t\\t\\t\\t\\t\\t\\t</td>\\n\\t\\t\\n\\t</tr>\\n\\t\\t\\t\\t\\t \\t\\t\\n\\n<tr id=\\'row_\\'>\\t\\t\\n\\t\\t\\t<td class=\\'collection_rank\\' align=\\'center\\' >\\n\\t\\t\\t<a name=\"89\"></a>\\t\\t\\t89\\t\\t\\t\\n\\t\\t\\t\\t\\t</td>\\t\\t\\n\\t\\t\\t\\t\\t\\t\\n\\t\\t\\n\\t\\t\\t<td class=\\'collection_thumbnail\\'>\\n\\t\\t\\t<a   href=\"/boardgame/171623/voyages-marco-polo\" ><img alt=\"Board Game: The Voyages of Marco Polo\"   src=\"https://cf.geekdo-images.com/n1G7_aWToLAAB7Mqt8iwyA__micro/img/c8Ld-3E8S0devFlugLvyiAEESbY=/fit-in/64x64/filters:strip_icc()/pic2461346.png\"></a>\\n\\t\\t</td>\\n\\t\\t\\n\\t\\t\\t<td id=\\'CEcell_objectname89\\' \\n\\tclass=\"collection_objectname \\n\\t\\t\\t\\t\\t\\t browse\"\\n\\n\\t>\\n\\t\\n\\t<div id=\\'status_objectname89\\'></div>\\n\\t<div id=\\'results_objectname89\\' style=\\'z-index:1000;\\' onclick=\\'\\'>\\n\\t\\t\\n\\t\\t\\t\\t\\t<a  href=\"/boardgame/171623/voyages-marco-polo\"  class=\\'primary\\' >The Voyages of Marco Polo</a>\\n\\t\\t\\t\\t\\n\\t\\t\\t\\t\\t\\t\\t<span class=\\'smallerfont dull\\'>(2015)</span>\\n\\t\\t\\t\\t\\t\\t\\t\\t\\n\\t</div>\\n\\n\\t\\t\\t<p class=\"smallefont dull\" style=\"margin: 2px 0 0 0;\">\\n\\t\\t\\tUsing unique abilities, fulfill contracts and reach your goals along the Silk Road.\\n\\t\\t</p>\\n\\t</td>\\n\\t\\t\\n\\t\\t\\n\\t\\t\\n\\t\\t\\t<td class=\\'collection_bggrating\\' align=\\'center\\'>\\n\\t\\t\\t7.581\\t\\t</td>\\n\\t\\n\\t\\t\\t<td class=\\'collection_bggrating\\' align=\\'center\\'>\\n\\t\\t\\t7.79\\t\\t</td>\\n\\t\\n\\t\\t\\t<td class=\\'collection_bggrating\\' align=\\'center\\'>\\n\\t\\t\\t24679\\t\\t</td>\\n\\t\\n\\t\\n\\n\\t\\t\\n\\n\\t\\t\\n\\n\\t\\t\\n\\n\\t\\t\\n\\n\\t\\t\\n\\n   \\n   \\n\\t\\t\\n\\t\\t\\n\\t\\t\\n\\t\\n\\t\\t\\n\\t\\n\\t\\t\\n\\n\\t\\t\\n\\n\\t\\t\\t\\t\\t\\t\\t\\t\\t\\t\\t\\t\\t\\t\\n\\t\\t\\n\\t\\t\\t\\t<td class=\\'collection_shop\\'>\\n\\t\\t\\t\\t\\t\\t\\t\\t\\t\\t\\t\\t<div class=\\'aad\\' id=\\'aad_thing_171623_textwithprices__\\'></div>\\n\\t\\t\\t\\t\\t\\t\\t\\t\\t</td>\\n\\t\\t\\n\\t</tr>\\n\\t\\t\\t\\t\\t \\t\\t\\n\\n<tr id=\\'row_\\'>\\t\\t\\n\\t\\t\\t<td class=\\'collection_rank\\' align=\\'center\\' >\\n\\t\\t\\t<a name=\"90\"></a>\\t\\t\\t90\\t\\t\\t\\n\\t\\t\\t\\t\\t</td>\\t\\t\\n\\t\\t\\t\\t\\t\\t\\n\\t\\t\\n\\t\\t\\t<td class=\\'collection_thumbnail\\'>\\n\\t\\t\\t<a   href=\"/boardgame/121921/robinson-crusoe-adventures-cursed-island\" ><img alt=\"Board Game: Robinson Crusoe: Adventures on the Cursed Island\"   src=\"https://cf.geekdo-images.com/FbFnaTx3aT5dM18K_bR_Pg__micro/img/brcsM5-72GgeBDQg3CSI6VB1Dqo=/fit-in/64x64/filters:strip_icc()/pic3165731.jpg\"></a>\\n\\t\\t</td>\\n\\t\\t\\n\\t\\t\\t<td id=\\'CEcell_objectname90\\' \\n\\tclass=\"collection_objectname \\n\\t\\t\\t\\t\\t\\t browse\"\\n\\n\\t>\\n\\t\\n\\t<div id=\\'status_objectname90\\'></div>\\n\\t<div id=\\'results_objectname90\\' style=\\'z-index:1000;\\' onclick=\\'\\'>\\n\\t\\t\\n\\t\\t\\t\\t\\t<a  href=\"/boardgame/121921/robinson-crusoe-adventures-on-the-cursed-island\"  class=\\'primary\\' >Robinson Crusoe: Adventures on the Cursed Island</a>\\n\\t\\t\\t\\t\\n\\t\\t\\t\\t\\t\\t\\t<span class=\\'smallerfont dull\\'>(2012)</span>\\n\\t\\t\\t\\t\\t\\t\\t\\t\\n\\t</div>\\n\\n\\t\\t\\t<p class=\"smallefont dull\" style=\"margin: 2px 0 0 0;\">\\n\\t\\t\\tWork together \\xe2\\x80\\x94 with friends or with Friday \\xe2\\x80\\x94 to survive on a deserted island.\\n\\t\\t</p>\\n\\t</td>\\n\\t\\t\\n\\t\\t\\n\\t\\t\\n\\t\\t\\t<td class=\\'collection_bggrating\\' align=\\'center\\'>\\n\\t\\t\\t7.579\\t\\t</td>\\n\\t\\n\\t\\t\\t<td class=\\'collection_bggrating\\' align=\\'center\\'>\\n\\t\\t\\t7.75\\t\\t</td>\\n\\t\\n\\t\\t\\t<td class=\\'collection_bggrating\\' align=\\'center\\'>\\n\\t\\t\\t42997\\t\\t</td>\\n\\t\\n\\t\\n\\n\\t\\t\\n\\n\\t\\t\\n\\n\\t\\t\\n\\n\\t\\t\\n\\n\\t\\t\\n\\n   \\n   \\n\\t\\t\\n\\t\\t\\n\\t\\t\\n\\t\\n\\t\\t\\n\\t\\n\\t\\t\\n\\n\\t\\t\\n\\n\\t\\t\\t\\t\\t\\t\\t\\t\\t\\t\\t\\t\\t\\t\\n\\t\\t\\n\\t\\t\\t\\t<td class=\\'collection_shop\\'>\\n\\t\\t\\t\\t\\t\\t\\t\\t\\t\\t\\t\\t<div class=\\'aad\\' id=\\'aad_thing_121921_textwithprices__\\'></div>\\n\\t\\t\\t\\t\\t\\t\\t\\t\\t</td>\\n\\t\\t\\n\\t</tr>\\n\\t\\t\\t\\t\\t \\t\\t\\t \\t\\t\\t\\t <tr class=\"geekcollection_ad\">\\n\\t\\t\\t\\t\\t <td colspan=\"7\">\\n\\t\\t\\t\\t\\t\\t <div class=\"text-center\" id=\"dfp-inline-post_5\"></div>\\n\\t\\t\\t\\t\\t\\t <script>\\n\\t\\t\\t\\t\\t\\t\\t GEEK.legacyAds.push(\\'dfp-inline-post_5\\');\\n\\t\\t\\t\\t\\t\\t </script>\\n\\t\\t\\t\\t\\t </td>\\n\\t\\t\\t\\t </tr>\\n\\t\\t\\t\\t\\t\\t\\t\\n\\n<tr id=\\'row_\\'>\\t\\t\\n\\t\\t\\t<td class=\\'collection_rank\\' align=\\'center\\' >\\n\\t\\t\\t<a name=\"91\"></a>\\t\\t\\t91\\t\\t\\t\\n\\t\\t\\t\\t\\t</td>\\t\\t\\n\\t\\t\\t\\t\\t\\t\\n\\t\\t\\n\\t\\t\\t<td class=\\'collection_thumbnail\\'>\\n\\t\\t\\t<a   href=\"/boardgame/68448/7-wonders\" ><img alt=\"Board Game: 7 Wonders\"   src=\"https://cf.geekdo-images.com/35h9Za_JvMMMtx_92kT0Jg__micro/img/4BRnGQ-EoU-2LNirfZpUC3HRReU=/fit-in/64x64/filters:strip_icc()/pic7149798.jpg\"></a>\\n\\t\\t</td>\\n\\t\\t\\n\\t\\t\\t<td id=\\'CEcell_objectname91\\' \\n\\tclass=\"collection_objectname \\n\\t\\t\\t\\t\\t\\t browse\"\\n\\n\\t>\\n\\t\\n\\t<div id=\\'status_objectname91\\'></div>\\n\\t<div id=\\'results_objectname91\\' style=\\'z-index:1000;\\' onclick=\\'\\'>\\n\\t\\t\\n\\t\\t\\t\\t\\t<a  href=\"/boardgame/68448/7-wonders\"  class=\\'primary\\' >7 Wonders</a>\\n\\t\\t\\t\\t\\n\\t\\t\\t\\t\\t\\t\\t<span class=\\'smallerfont dull\\'>(2010)</span>\\n\\t\\t\\t\\t\\t\\t\\t\\t\\n\\t</div>\\n\\n\\t\\t\\t<p class=\"smallefont dull\" style=\"margin: 2px 0 0 0;\">\\n\\t\\t\\tDraft cards to develop your ancient civilization and build its Wonder of the World.\\n\\t\\t</p>\\n\\t</td>\\n\\t\\t\\n\\t\\t\\n\\t\\t\\n\\t\\t\\t<td class=\\'collection_bggrating\\' align=\\'center\\'>\\n\\t\\t\\t7.578\\t\\t</td>\\n\\t\\n\\t\\t\\t<td class=\\'collection_bggrating\\' align=\\'center\\'>\\n\\t\\t\\t7.69\\t\\t</td>\\n\\t\\n\\t\\t\\t<td class=\\'collection_bggrating\\' align=\\'center\\'>\\n\\t\\t\\t103590\\t\\t</td>\\n\\t\\n\\t\\n\\n\\t\\t\\n\\n\\t\\t\\n\\n\\t\\t\\n\\n\\t\\t\\n\\n\\t\\t\\n\\n   \\n   \\n\\t\\t\\n\\t\\t\\n\\t\\t\\n\\t\\n\\t\\t\\n\\t\\n\\t\\t\\n\\n\\t\\t\\n\\n\\t\\t\\t\\t\\t\\t\\t\\t\\t\\t\\t\\t\\t\\t\\n\\t\\t\\n\\t\\t\\t\\t<td class=\\'collection_shop\\'>\\n\\t\\t\\t\\t\\t\\t\\t\\t\\t\\t\\t\\t<div class=\\'aad\\' id=\\'aad_thing_68448_textwithprices__\\'></div>\\n\\t\\t\\t\\t\\t\\t\\t\\t\\t</td>\\n\\t\\t\\n\\t</tr>\\n\\t\\t\\t\\t\\t \\t\\t\\n\\n<tr id=\\'row_\\'>\\t\\t\\n\\t\\t\\t<td class=\\'collection_rank\\' align=\\'center\\' >\\n\\t\\t\\t<a name=\"92\"></a>\\t\\t\\t92\\t\\t\\t\\n\\t\\t\\t\\t\\t</td>\\t\\t\\n\\t\\t\\t\\t\\t\\t\\n\\t\\t\\n\\t\\t\\t<td class=\\'collection_thumbnail\\'>\\n\\t\\t\\t<a   href=\"/boardgame/93/el-grande\" ><img alt=\"Board Game: El Grande\"   src=\"https://cf.geekdo-images.com/RRKDHaYtFPHhczkUDcHOmg__micro/img/_hnYEtmQrfIco_6UTFRLZdhWMnQ=/fit-in/64x64/filters:strip_icc()/pic7906240.jpg\"></a>\\n\\t\\t</td>\\n\\t\\t\\n\\t\\t\\t<td id=\\'CEcell_objectname92\\' \\n\\tclass=\"collection_objectname \\n\\t\\t\\t\\t\\t\\t browse\"\\n\\n\\t>\\n\\t\\n\\t<div id=\\'status_objectname92\\'></div>\\n\\t<div id=\\'results_objectname92\\' style=\\'z-index:1000;\\' onclick=\\'\\'>\\n\\t\\t\\n\\t\\t\\t\\t\\t<a  href=\"/boardgame/93/el-grande\"  class=\\'primary\\' >El Grande</a>\\n\\t\\t\\t\\t\\n\\t\\t\\t\\t\\t\\t\\t<span class=\\'smallerfont dull\\'>(1995)</span>\\n\\t\\t\\t\\t\\t\\t\\t\\t\\n\\t</div>\\n\\n\\t\\t\\t<p class=\"smallefont dull\" style=\"margin: 2px 0 0 0;\">\\n\\t\\t\\tUse your caballeros to control regions of medieval Spain, keeping clear of the King!\\n\\t\\t</p>\\n\\t</td>\\n\\t\\t\\n\\t\\t\\n\\t\\t\\n\\t\\t\\t<td class=\\'collection_bggrating\\' align=\\'center\\'>\\n\\t\\t\\t7.570\\t\\t</td>\\n\\t\\n\\t\\t\\t<td class=\\'collection_bggrating\\' align=\\'center\\'>\\n\\t\\t\\t7.75\\t\\t</td>\\n\\t\\n\\t\\t\\t<td class=\\'collection_bggrating\\' align=\\'center\\'>\\n\\t\\t\\t28305\\t\\t</td>\\n\\t\\n\\t\\n\\n\\t\\t\\n\\n\\t\\t\\n\\n\\t\\t\\n\\n\\t\\t\\n\\n\\t\\t\\n\\n   \\n   \\n\\t\\t\\n\\t\\t\\n\\t\\t\\n\\t\\n\\t\\t\\n\\t\\n\\t\\t\\n\\n\\t\\t\\n\\n\\t\\t\\t\\t\\t\\t\\t\\t\\t\\t\\t\\t\\t\\t\\n\\t\\t\\n\\t\\t\\t\\t<td class=\\'collection_shop\\'>\\n\\t\\t\\t\\t\\t\\t\\t\\t\\t\\t\\t\\t<div class=\\'aad\\' id=\\'aad_thing_93_textwithprices__\\'></div>\\n\\t\\t\\t\\t\\t\\t\\t\\t\\t</td>\\n\\t\\t\\n\\t</tr>\\n\\t\\t\\t\\t\\t \\t\\t\\n\\n<tr id=\\'row_\\'>\\t\\t\\n\\t\\t\\t<td class=\\'collection_rank\\' align=\\'center\\' >\\n\\t\\t\\t<a name=\"93\"></a>\\t\\t\\t93\\t\\t\\t\\n\\t\\t\\t\\t\\t</td>\\t\\t\\n\\t\\t\\t\\t\\t\\t\\n\\t\\t\\n\\t\\t\\t<td class=\\'collection_thumbnail\\'>\\n\\t\\t\\t<a   href=\"/boardgame/279537/search-planet-x\" ><img alt=\"Board Game: The Search for Planet X\"   src=\"https://cf.geekdo-images.com/NItjtztEUAKOpaTWZddu9A__micro/img/m4I9uS6LBjNz02oNquEkBM-L464=/fit-in/64x64/filters:strip_icc()/pic5744928.jpg\"></a>\\n\\t\\t</td>\\n\\t\\t\\n\\t\\t\\t<td id=\\'CEcell_objectname93\\' \\n\\tclass=\"collection_objectname \\n\\t\\t\\t\\t\\t\\t browse\"\\n\\n\\t>\\n\\t\\n\\t<div id=\\'status_objectname93\\'></div>\\n\\t<div id=\\'results_objectname93\\' style=\\'z-index:1000;\\' onclick=\\'\\'>\\n\\t\\t\\n\\t\\t\\t\\t\\t<a  href=\"/boardgame/279537/search-planet-x\"  class=\\'primary\\' >The Search for Planet X</a>\\n\\t\\t\\t\\t\\n\\t\\t\\t\\t\\t\\t\\t<span class=\\'smallerfont dull\\'>(2020)</span>\\n\\t\\t\\t\\t\\t\\t\\t\\t\\n\\t</div>\\n\\n\\t\\t\\t<p class=\"smallefont dull\" style=\"margin: 2px 0 0 0;\">\\n\\t\\t\\tPlan, scan, and theorize to find a new planet at the edge of our solar system.\\n\\t\\t</p>\\n\\t</td>\\n\\t\\t\\n\\t\\t\\n\\t\\t\\n\\t\\t\\t<td class=\\'collection_bggrating\\' align=\\'center\\'>\\n\\t\\t\\t7.568\\t\\t</td>\\n\\t\\n\\t\\t\\t<td class=\\'collection_bggrating\\' align=\\'center\\'>\\n\\t\\t\\t7.97\\t\\t</td>\\n\\t\\n\\t\\t\\t<td class=\\'collection_bggrating\\' align=\\'center\\'>\\n\\t\\t\\t11688\\t\\t</td>\\n\\t\\n\\t\\n\\n\\t\\t\\n\\n\\t\\t\\n\\n\\t\\t\\n\\n\\t\\t\\n\\n\\t\\t\\n\\n   \\n   \\n\\t\\t\\n\\t\\t\\n\\t\\t\\n\\t\\n\\t\\t\\n\\t\\n\\t\\t\\n\\n\\t\\t\\n\\n\\t\\t\\t\\t\\t\\t\\t\\t\\t\\t\\t\\t\\t\\t\\n\\t\\t\\n\\t\\t\\t\\t<td class=\\'collection_shop\\'>\\n\\t\\t\\t\\t\\t\\t\\t\\t\\t\\t\\t\\t<div class=\\'aad\\' id=\\'aad_thing_279537_textwithprices__\\'></div>\\n\\t\\t\\t\\t\\t\\t\\t\\t\\t</td>\\n\\t\\t\\n\\t</tr>\\n\\t\\t\\t\\t\\t \\t\\t\\n\\n<tr id=\\'row_\\'>\\t\\t\\n\\t\\t\\t<td class=\\'collection_rank\\' align=\\'center\\' >\\n\\t\\t\\t<a name=\"94\"></a>\\t\\t\\t94\\t\\t\\t\\n\\t\\t\\t\\t\\t</td>\\t\\t\\n\\t\\t\\t\\t\\t\\t\\n\\t\\t\\n\\t\\t\\t<td class=\\'collection_thumbnail\\'>\\n\\t\\t\\t<a   href=\"/boardgame/264220/tainted-grail-fall-avalon\" ><img alt=\"Board Game: Tainted Grail: The Fall of Avalon\"   src=\"https://cf.geekdo-images.com/aAwBzPzta4joKfFZt05hCw__micro/img/28sp86TqPbMqn9M_qHWfS9j44-w=/fit-in/64x64/filters:strip_icc()/pic4385726.jpg\"></a>\\n\\t\\t</td>\\n\\t\\t\\n\\t\\t\\t<td id=\\'CEcell_objectname94\\' \\n\\tclass=\"collection_objectname \\n\\t\\t\\t\\t\\t\\t browse\"\\n\\n\\t>\\n\\t\\n\\t<div id=\\'status_objectname94\\'></div>\\n\\t<div id=\\'results_objectname94\\' style=\\'z-index:1000;\\' onclick=\\'\\'>\\n\\t\\t\\n\\t\\t\\t\\t\\t<a  href=\"/boardgame/264220/tainted-grail-fall-avalon\"  class=\\'primary\\' >Tainted Grail: The Fall of Avalon</a>\\n\\t\\t\\t\\t\\n\\t\\t\\t\\t\\t\\t\\t<span class=\\'smallerfont dull\\'>(2019)</span>\\n\\t\\t\\t\\t\\t\\t\\t\\t\\n\\t</div>\\n\\n\\t\\t\\t<p class=\"smallefont dull\" style=\"margin: 2px 0 0 0;\">\\n\\t\\t\\tExploration, combat, and diplomacy in a dark Arthurian realm.\\n\\t\\t</p>\\n\\t</td>\\n\\t\\t\\n\\t\\t\\n\\t\\t\\n\\t\\t\\t<td class=\\'collection_bggrating\\' align=\\'center\\'>\\n\\t\\t\\t7.549\\t\\t</td>\\n\\t\\n\\t\\t\\t<td class=\\'collection_bggrating\\' align=\\'center\\'>\\n\\t\\t\\t8.09\\t\\t</td>\\n\\t\\n\\t\\t\\t<td class=\\'collection_bggrating\\' align=\\'center\\'>\\n\\t\\t\\t12149\\t\\t</td>\\n\\t\\n\\t\\n\\n\\t\\t\\n\\n\\t\\t\\n\\n\\t\\t\\n\\n\\t\\t\\n\\n\\t\\t\\n\\n   \\n   \\n\\t\\t\\n\\t\\t\\n\\t\\t\\n\\t\\n\\t\\t\\n\\t\\n\\t\\t\\n\\n\\t\\t\\n\\n\\t\\t\\t\\t\\t\\t\\t\\t\\t\\t\\t\\t\\t\\t\\n\\t\\t\\n\\t\\t\\t\\t<td class=\\'collection_shop\\'>\\n\\t\\t\\t\\t\\t\\t\\t\\t\\t\\t\\t\\t<div class=\\'aad\\' id=\\'aad_thing_264220_textwithprices__\\'></div>\\n\\t\\t\\t\\t\\t\\t\\t\\t\\t</td>\\n\\t\\t\\n\\t</tr>\\n\\t\\t\\t\\t\\t \\t\\t\\n\\n<tr id=\\'row_\\'>\\t\\t\\n\\t\\t\\t<td class=\\'collection_rank\\' align=\\'center\\' >\\n\\t\\t\\t<a name=\"95\"></a>\\t\\t\\t95\\t\\t\\t\\n\\t\\t\\t\\t\\t</td>\\t\\t\\n\\t\\t\\t\\t\\t\\t\\n\\t\\t\\n\\t\\t\\t<td class=\\'collection_thumbnail\\'>\\n\\t\\t\\t<a   href=\"/boardgame/37111/battlestar-galactica-board-game\" ><img alt=\"Board Game: Battlestar Galactica: The Board Game\"   src=\"https://cf.geekdo-images.com/5Q2w2rFJiFI_uV89KP6ECg__micro/img/KGgAsbHUPaEjsl-r05JCH2ixP1o=/fit-in/64x64/filters:strip_icc()/pic354500.jpg\"></a>\\n\\t\\t</td>\\n\\t\\t\\n\\t\\t\\t<td id=\\'CEcell_objectname95\\' \\n\\tclass=\"collection_objectname \\n\\t\\t\\t\\t\\t\\t browse\"\\n\\n\\t>\\n\\t\\n\\t<div id=\\'status_objectname95\\'></div>\\n\\t<div id=\\'results_objectname95\\' style=\\'z-index:1000;\\' onclick=\\'\\'>\\n\\t\\t\\n\\t\\t\\t\\t\\t<a  href=\"/boardgame/37111/battlestar-galactica-board-game\"  class=\\'primary\\' >Battlestar Galactica: The Board Game</a>\\n\\t\\t\\t\\t\\n\\t\\t\\t\\t\\t\\t\\t<span class=\\'smallerfont dull\\'>(2008)</span>\\n\\t\\t\\t\\t\\t\\t\\t\\t\\n\\t</div>\\n\\n\\t\\t\\t<p class=\"smallefont dull\" style=\"margin: 2px 0 0 0;\">\\n\\t\\t\\tHow can the human race survive when you don&#039;t know who is actually human?\\n\\t\\t</p>\\n\\t</td>\\n\\t\\t\\n\\t\\t\\n\\t\\t\\n\\t\\t\\t<td class=\\'collection_bggrating\\' align=\\'center\\'>\\n\\t\\t\\t7.542\\t\\t</td>\\n\\t\\n\\t\\t\\t<td class=\\'collection_bggrating\\' align=\\'center\\'>\\n\\t\\t\\t7.73\\t\\t</td>\\n\\t\\n\\t\\t\\t<td class=\\'collection_bggrating\\' align=\\'center\\'>\\n\\t\\t\\t36353\\t\\t</td>\\n\\t\\n\\t\\n\\n\\t\\t\\n\\n\\t\\t\\n\\n\\t\\t\\n\\n\\t\\t\\n\\n\\t\\t\\n\\n   \\n   \\n\\t\\t\\n\\t\\t\\n\\t\\t\\n\\t\\n\\t\\t\\n\\t\\n\\t\\t\\n\\n\\t\\t\\n\\n\\t\\t\\t\\t\\t\\t\\t\\t\\t\\t\\t\\t\\t\\t\\n\\t\\t\\n\\t\\t\\t\\t<td class=\\'collection_shop\\'>\\n\\t\\t\\t\\t\\t\\t\\t\\t\\t\\t\\t\\t<div class=\\'aad\\' id=\\'aad_thing_37111_textwithprices__\\'></div>\\n\\t\\t\\t\\t\\t\\t\\t\\t\\t</td>\\n\\t\\t\\n\\t</tr>\\n\\t\\t\\t\\t\\t \\t\\t\\n\\n<tr id=\\'row_\\'>\\t\\t\\n\\t\\t\\t<td class=\\'collection_rank\\' align=\\'center\\' >\\n\\t\\t\\t<a name=\"96\"></a>\\t\\t\\t96\\t\\t\\t\\n\\t\\t\\t\\t\\t</td>\\t\\t\\n\\t\\t\\t\\t\\t\\t\\n\\t\\t\\n\\t\\t\\t<td class=\\'collection_thumbnail\\'>\\n\\t\\t\\t<a   href=\"/boardgame/236457/architects-west-kingdom\" ><img alt=\"Board Game: Architects of the West Kingdom\"   src=\"https://cf.geekdo-images.com/OAX7HfOz-9N60StgADzd0g__micro/img/5OEOXKjvrEMh2aT5I-FrAn5-9jo=/fit-in/64x64/filters:strip_icc()/pic3781944.png\"></a>\\n\\t\\t</td>\\n\\t\\t\\n\\t\\t\\t<td id=\\'CEcell_objectname96\\' \\n\\tclass=\"collection_objectname \\n\\t\\t\\t\\t\\t\\t browse\"\\n\\n\\t>\\n\\t\\n\\t<div id=\\'status_objectname96\\'></div>\\n\\t<div id=\\'results_objectname96\\' style=\\'z-index:1000;\\' onclick=\\'\\'>\\n\\t\\t\\n\\t\\t\\t\\t\\t<a  href=\"/boardgame/236457/architects-west-kingdom\"  class=\\'primary\\' >Architects of the West Kingdom</a>\\n\\t\\t\\t\\t\\n\\t\\t\\t\\t\\t\\t\\t<span class=\\'smallerfont dull\\'>(2018)</span>\\n\\t\\t\\t\\t\\t\\t\\t\\t\\n\\t</div>\\n\\n\\t\\t\\t<p class=\"smallefont dull\" style=\"margin: 2px 0 0 0;\">\\n\\t\\t\\tWill you be a virtuous or nefarious servant of the king? Build your way to glory.\\n\\t\\t</p>\\n\\t</td>\\n\\t\\t\\n\\t\\t\\n\\t\\t\\n\\t\\t\\t<td class=\\'collection_bggrating\\' align=\\'center\\'>\\n\\t\\t\\t7.542\\t\\t</td>\\n\\t\\n\\t\\t\\t<td class=\\'collection_bggrating\\' align=\\'center\\'>\\n\\t\\t\\t7.74\\t\\t</td>\\n\\t\\n\\t\\t\\t<td class=\\'collection_bggrating\\' align=\\'center\\'>\\n\\t\\t\\t28573\\t\\t</td>\\n\\t\\n\\t\\n\\n\\t\\t\\n\\n\\t\\t\\n\\n\\t\\t\\n\\n\\t\\t\\n\\n\\t\\t\\n\\n   \\n   \\n\\t\\t\\n\\t\\t\\n\\t\\t\\n\\t\\n\\t\\t\\n\\t\\n\\t\\t\\n\\n\\t\\t\\n\\n\\t\\t\\t\\t\\t\\t\\t\\t\\t\\t\\t\\t\\t\\t\\n\\t\\t\\n\\t\\t\\t\\t<td class=\\'collection_shop\\'>\\n\\t\\t\\t\\t\\t\\t\\t\\t\\t\\t\\t\\t<div class=\\'aad\\' id=\\'aad_thing_236457_textwithprices__\\'></div>\\n\\t\\t\\t\\t\\t\\t\\t\\t\\t</td>\\n\\t\\t\\n\\t</tr>\\n\\t\\t\\t\\t\\t \\t\\t\\n\\n<tr id=\\'row_\\'>\\t\\t\\n\\t\\t\\t<td class=\\'collection_rank\\' align=\\'center\\' >\\n\\t\\t\\t<a name=\"97\"></a>\\t\\t\\t97\\t\\t\\t\\n\\t\\t\\t\\t\\t</td>\\t\\t\\n\\t\\t\\t\\t\\t\\t\\n\\t\\t\\n\\t\\t\\t<td class=\\'collection_thumbnail\\'>\\n\\t\\t\\t<a   href=\"/boardgame/225694/decrypto\" ><img alt=\"Board Game: Decrypto\"   src=\"https://cf.geekdo-images.com/hHZWXnUTMYDd_KTAM6Jwlw__micro/img/g7DQGNNf6ZFwYDGpe9kT3e4KELY=/fit-in/64x64/filters:strip_icc()/pic3759421.jpg\"></a>\\n\\t\\t</td>\\n\\t\\t\\n\\t\\t\\t<td id=\\'CEcell_objectname97\\' \\n\\tclass=\"collection_objectname \\n\\t\\t\\t\\t\\t\\t browse\"\\n\\n\\t>\\n\\t\\n\\t<div id=\\'status_objectname97\\'></div>\\n\\t<div id=\\'results_objectname97\\' style=\\'z-index:1000;\\' onclick=\\'\\'>\\n\\t\\t\\n\\t\\t\\t\\t\\t<a  href=\"/boardgame/225694/decrypto\"  class=\\'primary\\' >Decrypto</a>\\n\\t\\t\\t\\t\\n\\t\\t\\t\\t\\t\\t\\t<span class=\\'smallerfont dull\\'>(2018)</span>\\n\\t\\t\\t\\t\\t\\t\\t\\t\\n\\t</div>\\n\\n\\t\\t\\t<p class=\"smallefont dull\" style=\"margin: 2px 0 0 0;\">\\n\\t\\t\\tDecipher your opponents&#039; code before they decipher yours. Don&#039;t get caught.\\n\\t\\t</p>\\n\\t</td>\\n\\t\\t\\n\\t\\t\\n\\t\\t\\n\\t\\t\\t<td class=\\'collection_bggrating\\' align=\\'center\\'>\\n\\t\\t\\t7.541\\t\\t</td>\\n\\t\\n\\t\\t\\t<td class=\\'collection_bggrating\\' align=\\'center\\'>\\n\\t\\t\\t7.77\\t\\t</td>\\n\\t\\n\\t\\t\\t<td class=\\'collection_bggrating\\' align=\\'center\\'>\\n\\t\\t\\t21956\\t\\t</td>\\n\\t\\n\\t\\n\\n\\t\\t\\n\\n\\t\\t\\n\\n\\t\\t\\n\\n\\t\\t\\n\\n\\t\\t\\n\\n   \\n   \\n\\t\\t\\n\\t\\t\\n\\t\\t\\n\\t\\n\\t\\t\\n\\t\\n\\t\\t\\n\\n\\t\\t\\n\\n\\t\\t\\t\\t\\t\\t\\t\\t\\t\\t\\t\\t\\t\\t\\n\\t\\t\\n\\t\\t\\t\\t<td class=\\'collection_shop\\'>\\n\\t\\t\\t\\t\\t\\t\\t\\t\\t\\t\\t\\t<div class=\\'aad\\' id=\\'aad_thing_225694_textwithprices__\\'></div>\\n\\t\\t\\t\\t\\t\\t\\t\\t\\t</td>\\n\\t\\t\\n\\t</tr>\\n\\t\\t\\t\\t\\t \\t\\t\\n\\n<tr id=\\'row_\\'>\\t\\t\\n\\t\\t\\t<td class=\\'collection_rank\\' align=\\'center\\' >\\n\\t\\t\\t<a name=\"98\"></a>\\t\\t\\t98\\t\\t\\t\\n\\t\\t\\t\\t\\t</td>\\t\\t\\n\\t\\t\\t\\t\\t\\t\\n\\t\\t\\n\\t\\t\\t<td class=\\'collection_thumbnail\\'>\\n\\t\\t\\t<a   href=\"/boardgame/155821/inis\" ><img alt=\"Board Game: Inis\"   src=\"https://cf.geekdo-images.com/6QE8mnPFmauoj2THsyUYPA__micro/img/KzK9JEEodDn0EyHA8rJy2X0cyYA=/fit-in/64x64/filters:strip_icc()/pic4739757.jpg\"></a>\\n\\t\\t</td>\\n\\t\\t\\n\\t\\t\\t<td id=\\'CEcell_objectname98\\' \\n\\tclass=\"collection_objectname \\n\\t\\t\\t\\t\\t\\t browse\"\\n\\n\\t>\\n\\t\\n\\t<div id=\\'status_objectname98\\'></div>\\n\\t<div id=\\'results_objectname98\\' style=\\'z-index:1000;\\' onclick=\\'\\'>\\n\\t\\t\\n\\t\\t\\t\\t\\t<a  href=\"/boardgame/155821/inis\"  class=\\'primary\\' >Inis</a>\\n\\t\\t\\t\\t\\n\\t\\t\\t\\t\\t\\t\\t<span class=\\'smallerfont dull\\'>(2016)</span>\\n\\t\\t\\t\\t\\t\\t\\t\\t\\n\\t</div>\\n\\n\\t\\t\\t<p class=\"smallefont dull\" style=\"margin: 2px 0 0 0;\">\\n\\t\\t\\tClaim the crown through merit and wisdom in this Celtic island struggle.\\n\\t\\t</p>\\n\\t</td>\\n\\t\\t\\n\\t\\t\\n\\t\\t\\n\\t\\t\\t<td class=\\'collection_bggrating\\' align=\\'center\\'>\\n\\t\\t\\t7.539\\t\\t</td>\\n\\t\\n\\t\\t\\t<td class=\\'collection_bggrating\\' align=\\'center\\'>\\n\\t\\t\\t7.83\\t\\t</td>\\n\\t\\n\\t\\t\\t<td class=\\'collection_bggrating\\' align=\\'center\\'>\\n\\t\\t\\t19814\\t\\t</td>\\n\\t\\n\\t\\n\\n\\t\\t\\n\\n\\t\\t\\n\\n\\t\\t\\n\\n\\t\\t\\n\\n\\t\\t\\n\\n   \\n   \\n\\t\\t\\n\\t\\t\\n\\t\\t\\n\\t\\n\\t\\t\\n\\t\\n\\t\\t\\n\\n\\t\\t\\n\\n\\t\\t\\t\\t\\t\\t\\t\\t\\t\\t\\t\\t\\t\\t\\n\\t\\t\\n\\t\\t\\t\\t<td class=\\'collection_shop\\'>\\n\\t\\t\\t\\t\\t\\t\\t\\t\\t\\t\\t\\t<div class=\\'aad\\' id=\\'aad_thing_155821_textwithprices__\\'></div>\\n\\t\\t\\t\\t\\t\\t\\t\\t\\t</td>\\n\\t\\t\\n\\t</tr>\\n\\t\\t\\t\\t\\t \\t\\t\\n\\n<tr id=\\'row_\\'>\\t\\t\\n\\t\\t\\t<td class=\\'collection_rank\\' align=\\'center\\' >\\n\\t\\t\\t<a name=\"99\"></a>\\t\\t\\t99\\t\\t\\t\\n\\t\\t\\t\\t\\t</td>\\t\\t\\n\\t\\t\\t\\t\\t\\t\\n\\t\\t\\n\\t\\t\\t<td class=\\'collection_thumbnail\\'>\\n\\t\\t\\t<a   href=\"/boardgame/163068/trickerion-legends-illusion\" ><img alt=\"Board Game: Trickerion: Legends of Illusion\"   src=\"https://cf.geekdo-images.com/9gob752VqEklQFV_gz16hw__micro/img/kYOLnVbUwnKjA37DqEe9HECvqI0=/fit-in/64x64/filters:strip_icc()/pic2585510.png\"></a>\\n\\t\\t</td>\\n\\t\\t\\n\\t\\t\\t<td id=\\'CEcell_objectname99\\' \\n\\tclass=\"collection_objectname \\n\\t\\t\\t\\t\\t\\t browse\"\\n\\n\\t>\\n\\t\\n\\t<div id=\\'status_objectname99\\'></div>\\n\\t<div id=\\'results_objectname99\\' style=\\'z-index:1000;\\' onclick=\\'\\'>\\n\\t\\t\\n\\t\\t\\t\\t\\t<a  href=\"/boardgame/163068/trickerion-legends-illusion\"  class=\\'primary\\' >Trickerion: Legends of Illusion</a>\\n\\t\\t\\t\\t\\n\\t\\t\\t\\t\\t\\t\\t<span class=\\'smallerfont dull\\'>(2015)</span>\\n\\t\\t\\t\\t\\t\\t\\t\\t\\n\\t</div>\\n\\n\\t\\t\\t<p class=\"smallefont dull\" style=\"margin: 2px 0 0 0;\">\\n\\t\\t\\tMagicians perform dazzling tricks for money and fame in a Victorian steampunk world.\\n\\t\\t</p>\\n\\t</td>\\n\\t\\t\\n\\t\\t\\n\\t\\t\\n\\t\\t\\t<td class=\\'collection_bggrating\\' align=\\'center\\'>\\n\\t\\t\\t7.533\\t\\t</td>\\n\\t\\n\\t\\t\\t<td class=\\'collection_bggrating\\' align=\\'center\\'>\\n\\t\\t\\t7.97\\t\\t</td>\\n\\t\\n\\t\\t\\t<td class=\\'collection_bggrating\\' align=\\'center\\'>\\n\\t\\t\\t10684\\t\\t</td>\\n\\t\\n\\t\\n\\n\\t\\t\\n\\n\\t\\t\\n\\n\\t\\t\\n\\n\\t\\t\\n\\n\\t\\t\\n\\n   \\n   \\n\\t\\t\\n\\t\\t\\n\\t\\t\\n\\t\\n\\t\\t\\n\\t\\n\\t\\t\\n\\n\\t\\t\\n\\n\\t\\t\\t\\t\\t\\t\\t\\t\\t\\t\\t\\t\\t\\t\\n\\t\\t\\n\\t\\t\\t\\t<td class=\\'collection_shop\\'>\\n\\t\\t\\t\\t\\t\\t\\t\\t\\t\\t\\t\\t<div class=\\'aad\\' id=\\'aad_thing_163068_textwithprices__\\'></div>\\n\\t\\t\\t\\t\\t\\t\\t\\t\\t</td>\\n\\t\\t\\n\\t</tr>\\n\\t\\t\\t\\t\\t \\t\\t\\n\\n<tr id=\\'row_\\'>\\t\\t\\n\\t\\t\\t<td class=\\'collection_rank\\' align=\\'center\\' >\\n\\t\\t\\t<a name=\"100\"></a>\\t\\t\\t100\\t\\t\\t\\n\\t\\t\\t\\t\\t</td>\\t\\t\\n\\t\\t\\t\\t\\t\\t\\n\\t\\t\\n\\t\\t\\t<td class=\\'collection_thumbnail\\'>\\n\\t\\t\\t<a   href=\"/boardgame/256916/concordia-venus\" ><img alt=\"Board Game: Concordia Venus\"   src=\"https://cf.geekdo-images.com/36WIe0ZHkp5OvHOlB-8vog__micro/img/7lY7AE0KsFAO2svml1DMpa20-kg=/fit-in/64x64/filters:strip_icc()/pic4356580.jpg\"></a>\\n\\t\\t</td>\\n\\t\\t\\n\\t\\t\\t<td id=\\'CEcell_objectname100\\' \\n\\tclass=\"collection_objectname \\n\\t\\t\\t\\t\\t\\t browse\"\\n\\n\\t>\\n\\t\\n\\t<div id=\\'status_objectname100\\'></div>\\n\\t<div id=\\'results_objectname100\\' style=\\'z-index:1000;\\' onclick=\\'\\'>\\n\\t\\t\\n\\t\\t\\t\\t\\t<a  href=\"/boardgame/256916/concordia-venus\"  class=\\'primary\\' >Concordia Venus</a>\\n\\t\\t\\t\\t\\n\\t\\t\\t\\t\\t\\t\\t<span class=\\'smallerfont dull\\'>(2018)</span>\\n\\t\\t\\t\\t\\t\\t\\t\\t\\n\\t</div>\\n\\n\\t\\t\\t<p class=\"smallefont dull\" style=\"margin: 2px 0 0 0;\">\\n\\t\\t\\tMerchants build and trade throughout the Roman Empire to please the Gods.\\n\\t\\t</p>\\n\\t</td>\\n\\t\\t\\n\\t\\t\\n\\t\\t\\n\\t\\t\\t<td class=\\'collection_bggrating\\' align=\\'center\\'>\\n\\t\\t\\t7.530\\t\\t</td>\\n\\t\\n\\t\\t\\t<td class=\\'collection_bggrating\\' align=\\'center\\'>\\n\\t\\t\\t8.29\\t\\t</td>\\n\\t\\n\\t\\t\\t<td class=\\'collection_bggrating\\' align=\\'center\\'>\\n\\t\\t\\t5587\\t\\t</td>\\n\\t\\n\\t\\n\\n\\t\\t\\n\\n\\t\\t\\n\\n\\t\\t\\n\\n\\t\\t\\n\\n\\t\\t\\n\\n   \\n   \\n\\t\\t\\n\\t\\t\\n\\t\\t\\n\\t\\n\\t\\t\\n\\t\\n\\t\\t\\n\\n\\t\\t\\n\\n\\t\\t\\t\\t\\t\\t\\t\\t\\t\\t\\t\\t\\t\\t\\n\\t\\t\\n\\t\\t\\t\\t<td class=\\'collection_shop\\'>\\n\\t\\t\\t\\t\\t\\t\\t\\t\\t\\t\\t\\t<div class=\\'aad\\' id=\\'aad_thing_256916_textwithprices__\\'></div>\\n\\t\\t\\t\\t\\t\\t\\t\\t\\t</td>\\n\\t\\t\\n\\t</tr>\\n\\t\\t\\n\\n\\t</table>\\n</div>\\n\\n</div>\\n\\n\\n<p align=\\'right\\'><b>1</b>&nbsp;,&nbsp;<a href=\"/browse/boardgame/page/2\" target=\\'_self\\' title=\"page 2\">2</a>&nbsp;,&nbsp;<a href=\"/browse/boardgame/page/3\" target=\\'_self\\' title=\"page 3\">3</a>&nbsp;,&nbsp;<a href=\"/browse/boardgame/page/4\" target=\\'_self\\' title=\"page 4\">4</a>&nbsp;,&nbsp;<a href=\"/browse/boardgame/page/5\" target=\\'_self\\' title=\"page 5\">5</a>&nbsp;&nbsp;<a href=\"/browse/boardgame/page/2\" target=\\'_self\\' title=\"next page\"><b>Next &raquo;</b></a>&nbsp;&nbsp;<a href=\"/browse/boardgame/page/1530\" target=\\'_self\\' title=\"last page\">[1530]</a></p>\\n\\n\\t\\t\\t<div id=\"legacy_modal\"></div>\\n\\t\\t</div>\\n\\t</div>\\n</div>\\n\\n\\t\\t\\t\\t<div class=\\'global-body-content-secondary\\'>\\n\\t\\t\\t\\t\\t\\t\\t\\t\\t</div>\\n\\t\\t\\t</div>\\n\\t\\t</div>\\n\\n\\t</main>\\n\\t\\t\\t<geekoutput-footer></geekoutput-footer>\\n\\t</div>\\n\\n\\n\\n\\n</body>\\n</html>\\n'\n"
     ]
    }
   ],
   "source": [
    "# retrieve the web page\n",
    "\n",
    "from urllib import request as url\n",
    "\n",
    "request = url.Request('https://boardgamegeek.com/browse/boardgame')\n",
    "response = url.urlopen(request)\n",
    "\n",
    "html = response.read()\n",
    "\n",
    "print(html)"
   ]
  },
  {
   "cell_type": "code",
   "execution_count": 0,
   "metadata": {
    "application/vnd.databricks.v1+cell": {
     "cellMetadata": {
      "byteLimit": 2048000,
      "rowLimit": 10000
     },
     "inputWidgets": {},
     "nuid": "55647965-8462-49b3-bf58-1602ffd1480e",
     "showTitle": false,
     "tableResultSettingsMap": {},
     "title": ""
    }
   },
   "outputs": [
    {
     "output_type": "stream",
     "name": "stdout",
     "output_type": "stream",
     "text": [
      "<!DOCTYPE html>\n\n<html lang=\"en-US\" ng-app=\"GeekApp\" ng-cloak=\"\">\n<head>\n<meta charset=\"utf-8\"/>\n<meta content=\"width=device-width, initial-scale=1.0\" id=\"vp\" name=\"viewport\"/>\n<script>\n\t\t\twindow.addEventListener( 'DOMContentLoaded',  function() {\n\t\t\t\tvar width = document.documentElement.clientWidth || window.innerWidth;\n\t\t\t\tif (width < 960) {\n\t\t\t\t\tvar mvp = document.getElementById('vp');\n\t\t\t\t\t// android debugging\n\t\t\t\t\tmvp.setAttribute('content','width=960');\n\t\t\t\t}\n\t\t\t});\n\t\t</script>\n<meta content=\"yes\" name=\"apple-mobile-web-app-capable\"/>\n<meta content=\"IE=edge,chrome=1\" http-equiv=\"X-UA-Compatible\"/>\n<title>Browse Board Games | BoardGameGeek</title>\n<link href=\"https://cf.geekdo-static.com/icons/touch-icon180.png\" rel=\"apple-touch-icon\"/>\n<link href=\"https://cf.geekdo-static.com/icons/favicon2.ico\" rel=\"shortcut icon\" type=\"image/ico\"/>\n<link href=\"https://cf.geekdo-static.com/icons/favicon2.ico\" rel=\"icon\" type=\"image/ico\"/>\n<link href=\"/game-opensearch.xml\" rel=\"search\" title=\"BGG Game Search\" type=\"application/opensearchdescription+xml\"/>\n<meta content=\"BGG\" name=\"apple-mobile-web-app-title\"/>\n<meta content=\"#2e2b47\" name=\"theme-color\"/>\n<link href=\"https://api.geekdo.com\" rel=\"preconnect\"/>\n<meta content=\"https://cf.geekdo-static.com/images/opengraph/bgg_opengraph.png\" property=\"og:image\">\n<meta content=\"board game, boardgames, boardgame, board, games, game, hobby, boardgamegeek, geek, geekdo\" name=\"keywords\"/>\n<script>window.AdSlots = window.AdSlots || {\n\tcmd: [],\n\tdisableScripts: ['gpt'],\n\trenderOnFirstLoad: false,\n\tdivCheck: false\n};</script>\n<link href=\"https://cf.geekdo-static.com/static/geekui_master2_6606d8a5243fd.css\" rel=\"stylesheet\" type=\"text/css\"/>\n<link href=\"https://cf.geekdo-static.com/static/css_master2_6606d895a0c3c.css\" rel=\"stylesheet\" type=\"text/css\"/>\n<base href=\"/\"/>\n<script crossorigin=\"anonymous\" src=\"https://kit.fontawesome.com/ece5b35462.js\"></script>\n<script>\n\tvar GEEK = GEEK || {};\n\tGEEK.adBlock = [];\n\tGEEK.adConfig = {\"blockleaderboard\":null,\"blockskyscraper\":null,\"noadsense\":false,\"blocksupportdrive\":null};\n\tGEEK.adSlots = {\"dfp-leaderboard\":{\"name\":\"boardgame_leaderboard_728x90\"},\"dfp-skyscraper\":{\"name\":\"boardgame_skyscraper_160x600\"},\"dfp-medrect\":{\"name\":\"boardgame_rectangle_300x250\"},\"dfp-repeater\":{\"name\":\"boardgame_home_repeater\"},\"dfp-medrect-reserved-home\":{\"name\":\"boardgame_reserved_home_300x250\"},\"dfp-leaderboard-lg\":{\"name\":\"boardgame_home_hero\"},\"dfp-home-sidekick\":{\"name\":\"boardgame_home_repeater\"},\"dfp-inline-post\":{\"name\":\"boardgame_inline_post\"}};\n\tGEEK.legacyAds = [];\n\tGEEK.bggStoreAds = [];\n\tGEEK.googleTargets = null;\n\tGEEK.userid = 0;\n\tGEEK.domainname = 'boardgamegeek.com';\n\tGEEK.domain = 'boardgame';\n\tGEEK.geekitemPreload = {};\n\tGEEK.geekitemSettings = null;\n\tGEEK.geekitemModules = null;\n\tGEEK.geekGlobalSettings = {\"shutdown_file_ops\":\"1\",\"shutdown_storeimage_ops\":\"0\",\"shutdown_edit_avatar\":\"0\",\"shutdown_file_upload\":\"0\",\"shutdown_file_download\":\"0\",\"shutdown_image_upload\":\"0\"};\n\tGEEK.geekimageSettings = null;\n\tGEEK.legacy = 1;\n\tGEEK.apiurlsPrefix = 'https://api.geekdo.com';\n\n\t\n\t\t\n\t\tGEEK.apiurls = {\n\t\t'root': '/api',\n\t\t'amazon': '/api/amazon',\n\t\t'files': '/api/files',\n\t\t'geekitems': '/api/geekitems',\n\t\t'collectionstatsgraph': '/api/collectionstatsgraph',\n\t\t'images': '/api/images',\n\t\t'threads': '/api/forums/threads',\n\t \t'forums': '/api/forums',\n\t\t'videos': '/api/videos',\n\t\t'hotness': '/api/hotness',\n\t\t'dynamicinfo': '/api/dynamicinfo',\n\t\t'subtypeinfo': '/api/subtypeinfo',\n\t\t'geekbay': '/api/geekbay',\n\t\t'geekmarket': '/market/api/v1',\n\t    'geekmarketapi': '/api/market',\n\t\t'geeklists': '/api/geeklists',\n\t\t'reviews': '/api/forumreviews',\n\t\t'collections': '/api/collections',\n\t\t'linkeditems': '/api/geekitem/linkeditems',\n\t\t'subscriptions': '/api/subscriptions',\n\t    'fans': '/api/fans',\n\t    'geekpreviews': '/api/geekpreviews',\n\t    'geekpreviewitems': '/api/geekpreviewitems',\n\t   \t'geekpreviewparentitems': '/api/geekpreviewparentitems',\n\t\t'recs': '/api/geekitem/recs',\n\t    'awards': '/api/geekawards',\n\t\t'historicalrankgraph':  '/api/historicalrankgraph',\n\t\t'blueprint_recipes': '/api/blueprints/recipes',\n\t\t'affiliateads' : '/api/affiliateads',\n\t\t'sleevesbycard': '/api/sleevesbycard',\n\t\t'cardsetsbygame': '/api/cardsetsbygame',\n\t};\n</script>\n<script async=\"\" src=\"https://www.googletagmanager.com/gtag/js?id=UA-104725-1\"></script>\n<script>\n\twindow.dataLayer = window.dataLayer || [];\n\tfunction gtag(){dataLayer.push(arguments);}\n\tgtag('js', new Date());\n\tgtag('consent', 'default', {\n\t\t'ad_storage': 'denied',\n\t\t'analytics_storage': 'denied',\n\t\t'personalization_storage': 'denied',\n\t\t'wait_for_update': 3000\n\t\t });\n\tgtag('config', 'UA-104725-1', {\n\t\t'cookie_domain': 'boardgamegeek.com',\n\t\t'send_page_view': false\n\t});\n</script>\n<script src=\"https://cf.geekdo-static.com/static/geekangular17_master2_6606d8b4133e5.js\" type=\"text/javascript\"></script>\n<script src=\"https://cf.geekdo-static.com/static/geekui_master2_6606d8a5243fd.js\" type=\"text/javascript\"></script>\n<script src=\"https://cf.geekdo-static.com/static/js_master2_6606d895262fb.js\" type=\"text/javascript\"></script>\n<script src=\"https://cf.geekdo-static.com/static/geekoutputtemplates_master2_6606d8b4e23ab.js\" type=\"text/javascript\"></script>\n<script src=\"https://cf.geekdo-static.com/static/geekuicommontemplates_master2_6606d8b4eb732.js\" type=\"text/javascript\"></script>\n<script>\n\twindow.geekCookieConsent.gtagReady.then(function() {\n\t\tgtag('event', 'page_view');\n\t});\n</script>\n<!-- why this? -->\n<meta content=\"text/html;charset=utf-8\" http-equiv=\"content-type\"/>\n<!-- Add to main?\n<link rel=\"apple-touch-icon\" \thref=\"https://cf.geekdo-static.com/icons/appleicon.png\" />\n<link rel=\"shortcut icon\" \t\thref=\"https://cf.geekdo-static.com/icons/favicon.ico\" type=\"image/ico\" />\n<link rel=\"icon\" \t\t\t\t\thref=\"https://cf.geekdo-static.com/icons/favicon.ico\" type=\"image/ico\" />\n<link rel=\"search\" \t\t\t\thref=\"/game-opensearch.xml\" type=\"application/opensearchdescription+xml\" title=\"BGG Game Search\" />\n-->\n<!--this is used only for GeekMap -->\n<!-- deal with adsense\n\t<script type=\"text/javascript\">\n\t\twindow.google_analytics_uacct = \"UA-104725-1\";\n\t\tvar googletag = googletag || { };\n\t\tgoogletag.cmd = googletag.cmd || [];\n\t\t( function() {\n\t\t\tvar gads = document.createElement('script');\n\t\t\tgads.async = true;\n\t\t\tgads.type  = 'text/javascript';\n\t\t\tgads.src   = \"//www.googletagservices.com/tag/js/gpt.js\";\n\t\t\tvar node = document.getElementsByTagName('script')[0];\n\t\t\tnode.parentNode.insertBefore(gads, node);\n\t\t} )();\n\n\t\tadunits = [\n\t\t\t{\n\t\t\t\tname:    'boardgame_button_120x45',\n\t\t\t\tsize:    [ 120, 45 ],\n\t\t\t\ttarget:  'dfp-button'\n\t\t\t},\n\t\t\t{\n\t\t\t\tname:    'boardgame_leaderboard_728x90',\n\t\t\t\tsize:    [ 728, 90 ],\n\t\t\t\ttarget:  'dfp-leaderboard'\n\t\t\t},\n\t\t\t{\n\t\t\t\tname:    'boardgame_skyscraper_160x600',\n\t\t\t\tsize:    [ 160, 600 ],\n\t\t\t\ttarget:  'dfp-skyscraper'\n\t\t\t},\n\t\t\t{\n\t\t\t\tname:    'boardgame_rectangle_300x250',\n\t\t\t\tsize:    [ 300, 250 ],\n\t\t\t\ttarget:  'dfp-medrect'\n\t\t\t},\n\t\t\t{\n\t\t\t\tname:    'boardgame_rectangle_300x250',\n\t\t\t\tsize:    [ 300, 250 ],\n\t\t\t\ttarget:  'dfp-medrect-reserved-home'\n\t\t\t},\n\t\t\t{\n\t\t\t\tname:    'boardgame_button_120x90',\n\t\t\t\tsize:    [ 120, 90 ],\n\t\t\t\ttarget:  'dfp-giftguide'\n\t\t\t}\n\t\t];\n\n\t\tgoogletag.cmd.push(function() {\n\t\t\tfor( var i=0; i< adunits.length; i++ )\n\t\t\t{\n\t\t\t\tunit = adunits[i];\n\t\t\t\tgoogletag.defineUnit('/1005854/ca-pub-7206761047394129/'+unit.name, unit.size, unit.target).\n\t\t\t\taddService(googletag.pubads());\n\t\t\t}\n\n\t\t\t\n\t\t\tgoogletag.pubads().setTargeting( \"subdomain\", \"all\" );\n\t\t\tgoogletag.enableServices();\n\t\t} );\n\n\t</script>\n-->\n<script>\n\tfunction start() {\n\t\t\n\t}\n\n\tfunction ondomready() {\n\t\t\t\tAmazon_LoadAds();\n\t\t\t\t\n\t\tGEEK.addHandlers();\n\t\tGEEK.recaptchaKey = '6Ldyr6EaAAAAAE0F2hYgtHHqbF6nKPTENAwo6SyU';\n\t}\n\n\tif( typeof window.addEvent === \"function\" ) {\n\t\twindow.addEvent('domready', function() {\n\t\t\tondomready();\n\t\t} );\n\t} else {\n\t\twindow.addEventListener( \"DOMContentLoaded\", function() {\n\t\t\tondomready();\n\t} );\n\t}\n\twindow.onload = start;\n</script>\n</meta></head>\n<body class=\"domain-boardgame\" ng-class=\"{ 'has-no-max-width' : layoutctrl.geekitemSettings.fluidlayout }\" ng-controller=\"GeekOutput_LayoutCtrl as layoutctrl\">\n<div class=\"d-flex flex-column min-vh-100\">\n<div class=\"global-header-outer\" click-out=\"navctrl.closeMobileMenu()\" id=\"global-header-outer\" ng-controller=\"NavCtrl as navctrl\">\n<geeknav-menu></geeknav-menu>\n</div>\n<main class=\"global-body flex-grow-1\" id=\"mainbody\" ng-class=\"{ 'has-overlay-sidebar': layoutctrl.showOverlaySidebar, 'has-hidden-fixed-sidebar': layoutctrl.localStorage.hideFixedSidebar }\">\n<a id=\"mainbodytarget\" tabindex=\"-1\"></a>\n<!-- Home King Ad -->\n<div hide-ad-block=\"blockleaderboard\">\n<div class=\"advertisement-leaderboard\">\n<div class=\"center-block\" ng-dfp-ad=\"dfp-leaderboard\"></div>\n</div>\n</div>\n<div class=\"global-body-content-container container-fluid\">\n<geekoutput-sidebar deactivate-overlay-sidebar=\"layoutctrl.deactivateOverlaySidebar\" show-overlay-sidebar=\"layoutctrl.showOverlaySidebar\"></geekoutput-sidebar>\n<div class=\"global-body-content pending\" ng-class=\"{'ready': layoutctrl.ready}\">\n<a id=\"maincontenttarget\" tabindex=\"-1\"></a>\n<div class=\"legacy\">\n<div class=\"yui-skin-sam\" id=\"container\">\n<div id=\"maincontent\" ng-non-bindable=\"\">\n<form action=\"\" method=\"GET\">\n<div class=\"infobox\">\n<div class=\"fr\"><b>1</b> , <a href=\"/browse/boardgame/page/2\" target=\"_self\" title=\"page 2\">2</a> , <a href=\"/browse/boardgame/page/3\" target=\"_self\" title=\"page 3\">3</a> , <a href=\"/browse/boardgame/page/4\" target=\"_self\" title=\"page 4\">4</a> , <a href=\"/browse/boardgame/page/5\" target=\"_self\" title=\"page 5\">5</a>  <a href=\"/browse/boardgame/page/2\" target=\"_self\" title=\"next page\"><b>Next »</b></a>  <a href=\"/browse/boardgame/page/1530\" target=\"_self\" title=\"last page\">[1530]</a></div>\n<div class=\"fl\">\n<p class=\"m-0 text-muted\">We may earn a commission when you buy through our links. </p>\n</div>\n<div class=\"clear\"></div>\n</div>\n</form>\n<div id=\"collection_status\" style=\"position:absolute; background:red; color:white;\"></div>\n<div id=\"collection\"><div class=\"fl sf\"><span id=\"collection_viewlabel\" style=\"display:none;\"> | View: <span id=\"collection_viewname\"></span></span></div>\n<div class=\"sf\" style=\"text-align:right; margin-bottom:5px;\">\n</div>\n<div class=\"table-responsive\">\n<table cellpadding=\"0\" cellspacing=\"1\" class=\"collection_table\" id=\"collectionitems\" width=\"100%\">\n<tr>\n<th class=\"collection_bggrating\">\n<a href=\"/browse/boardgame?sort=rank&amp;sortdir=desc\">Board Game Rank<img alt=\"ascending sort\" border=\"0\" hspace=\"5\" src=\"https://cf.geekdo-static.com/images/collection/arrow_up.gif\"/></a>\n</th>\n<th class=\"collection_thumbnail\">\n<span class=\"sr-only\">Thumbnail image</span>\n</th>\n<th class=\"collection_title\">\n<a href=\"/browse/boardgame?sort=title\">Title</a>\n</th>\n<th class=\"collection_bggrating\">\n<a href=\"/browse/boardgame?sort=bggrating\">Geek Rating</a>\n</th>\n<th class=\"collection_bggrating\">\n<a href=\"/browse/boardgame?sort=avgrating\">Avg Rating</a>\n</th>\n<th class=\"collection_bggrating\">\n<a href=\"/browse/boardgame?sort=numvoters\">Num Voters</a>\n</th>\n<th class=\"collection_shop\">\n\t\t\tShop\n\t\t</th>\n</tr>\n<tr id=\"row_\">\n<td align=\"center\" class=\"collection_rank\">\n<a name=\"1\"></a>\t\t\t1\t\t\t\n\t\t\t\t\t</td>\n<td class=\"collection_thumbnail\">\n<a href=\"/boardgame/224517/brass-birmingham\"><img alt=\"Board Game: Brass: Birmingham\" src=\"https://cf.geekdo-images.com/x3zxjr-Vw5iU4yDPg70Jgw__micro/img/4Od3GYCiqptga0VbmyumPbJlBsU=/fit-in/64x64/filters:strip_icc()/pic3490053.jpg\"/></a>\n</td>\n<td class=\"collection_objectname browse\" id=\"CEcell_objectname1\">\n<div id=\"status_objectname1\"></div>\n<div id=\"results_objectname1\" onclick=\"\" style=\"z-index:1000;\">\n<a class=\"primary\" href=\"/boardgame/224517/brass-birmingham\">Brass: Birmingham</a>\n<span class=\"smallerfont dull\">(2018)</span>\n</div>\n<p class=\"smallefont dull\" style=\"margin: 2px 0 0 0;\">\n\t\t\tBuild networks, grow industries, and navigate the world of the Industrial Revolution.\n\t\t</p>\n</td>\n<td align=\"center\" class=\"collection_bggrating\">\n\t\t\t8.417\t\t</td>\n<td align=\"center\" class=\"collection_bggrating\">\n\t\t\t8.60\t\t</td>\n<td align=\"center\" class=\"collection_bggrating\">\n\t\t\t44343\t\t</td>\n<td class=\"collection_shop\">\n<div class=\"aad\" id=\"aad_thing_224517_textwithprices__\"></div>\n</td>\n</tr>\n<tr id=\"row_\">\n<td align=\"center\" class=\"collection_rank\">\n<a name=\"2\"></a>\t\t\t2\t\t\t\n\t\t\t\t\t</td>\n<td class=\"collection_thumbnail\">\n<a href=\"/boardgame/161936/pandemic-legacy-season-1\"><img alt=\"Board Game: Pandemic Legacy: Season 1\" src=\"https://cf.geekdo-images.com/-Qer2BBPG7qGGDu6KcVDIw__micro/img/n6-sXYD6XXZoqIxq4P6AG7VPCuA=/fit-in/64x64/filters:strip_icc()/pic2452831.png\"/></a>\n</td>\n<td class=\"collection_objectname browse\" id=\"CEcell_objectname2\">\n<div id=\"status_objectname2\"></div>\n<div id=\"results_objectname2\" onclick=\"\" style=\"z-index:1000;\">\n<a class=\"primary\" href=\"/boardgame/161936/pandemic-legacy-season-1\">Pandemic Legacy: Season 1</a>\n<span class=\"smallerfont dull\">(2015)</span>\n</div>\n<p class=\"smallefont dull\" style=\"margin: 2px 0 0 0;\">\n\t\t\tMutating diseases are spreading around the world - can your team save humanity?\n\t\t</p>\n</td>\n<td align=\"center\" class=\"collection_bggrating\">\n\t\t\t8.383\t\t</td>\n<td align=\"center\" class=\"collection_bggrating\">\n\t\t\t8.53\t\t</td>\n<td align=\"center\" class=\"collection_bggrating\">\n\t\t\t52964\t\t</td>\n<td class=\"collection_shop\">\n<div class=\"aad\" id=\"aad_thing_161936_textwithprices__\"></div>\n</td>\n</tr>\n<tr id=\"row_\">\n<td align=\"center\" class=\"collection_rank\">\n<a name=\"3\"></a>\t\t\t3\t\t\t\n\t\t\t\t\t</td>\n<td class=\"collection_thumbnail\">\n<a href=\"/boardgame/174430/gloomhaven\"><img alt=\"Board Game: Gloomhaven\" src=\"https://cf.geekdo-images.com/sZYp_3BTDGjh2unaZfZmuA__micro/img/sQyh47ClBO3d5sxPm73hMvM-JV4=/fit-in/64x64/filters:strip_icc()/pic2437871.jpg\"/></a>\n</td>\n<td class=\"collection_objectname browse\" id=\"CEcell_objectname3\">\n<div id=\"status_objectname3\"></div>\n<div id=\"results_objectname3\" onclick=\"\" style=\"z-index:1000;\">\n<a class=\"primary\" href=\"/boardgame/174430/gloomhaven\">Gloomhaven</a>\n<span class=\"smallerfont dull\">(2017)</span>\n</div>\n<p class=\"smallefont dull\" style=\"margin: 2px 0 0 0;\">\n\t\t\tVanquish monsters with strategic cardplay. Fulfill your quest to leave your legacy!\n\t\t</p>\n</td>\n<td align=\"center\" class=\"collection_bggrating\">\n\t\t\t8.361\t\t</td>\n<td align=\"center\" class=\"collection_bggrating\">\n\t\t\t8.60\t\t</td>\n<td align=\"center\" class=\"collection_bggrating\">\n\t\t\t61512\t\t</td>\n<td class=\"collection_shop\">\n<div class=\"aad\" id=\"aad_thing_174430_textwithprices__\"></div>\n</td>\n</tr>\n<tr id=\"row_\">\n<td align=\"center\" class=\"collection_rank\">\n<a name=\"4\"></a>\t\t\t4\t\t\t\n\t\t\t\t\t</td>\n<td class=\"collection_thumbnail\">\n<a href=\"/boardgame/342942/ark-nova\"><img alt=\"Board Game: Ark Nova\" src=\"https://cf.geekdo-images.com/SoU8p28Sk1s8MSvoM4N8pQ__micro/img/LSAi1pmhbTbWwtBrziutDOXzfdY=/fit-in/64x64/filters:strip_icc()/pic6293412.jpg\"/></a>\n</td>\n<td class=\"collection_objectname browse\" id=\"CEcell_objectname4\">\n<div id=\"status_objectname4\"></div>\n<div id=\"results_objectname4\" onclick=\"\" style=\"z-index:1000;\">\n<a class=\"primary\" href=\"/boardgame/342942/ark-nova\">Ark Nova</a>\n<span class=\"smallerfont dull\">(2021)</span>\n</div>\n<p class=\"smallefont dull\" style=\"margin: 2px 0 0 0;\">\n\t\t\tPlan and build a modern, scientifically managed zoo to support conservation projects.\n\t\t</p>\n</td>\n<td align=\"center\" class=\"collection_bggrating\">\n\t\t\t8.333\t\t</td>\n<td align=\"center\" class=\"collection_bggrating\">\n\t\t\t8.54\t\t</td>\n<td align=\"center\" class=\"collection_bggrating\">\n\t\t\t41305\t\t</td>\n<td class=\"collection_shop\">\n<div class=\"aad\" id=\"aad_thing_342942_textwithprices__\"></div>\n</td>\n</tr>\n<tr id=\"row_\">\n<td align=\"center\" class=\"collection_rank\">\n<a name=\"5\"></a>\t\t\t5\t\t\t\n\t\t\t\t\t</td>\n<td class=\"collection_thumbnail\">\n<a href=\"/boardgame/233078/twilight-imperium-fourth-edition\"><img alt=\"Board Game: Twilight Imperium: Fourth Edition\" src=\"https://cf.geekdo-images.com/_Ppn5lssO5OaildSE-FgFA__micro/img/2gymaKs35_2yj7eyyA6cYyVmd9c=/fit-in/64x64/filters:strip_icc()/pic3727516.jpg\"/></a>\n</td>\n<td class=\"collection_objectname browse\" id=\"CEcell_objectname5\">\n<div id=\"status_objectname5\"></div>\n<div id=\"results_objectname5\" onclick=\"\" style=\"z-index:1000;\">\n<a class=\"primary\" href=\"/boardgame/233078/twilight-imperium-fourth-edition\">Twilight Imperium: Fourth Edition</a>\n<span class=\"smallerfont dull\">(2017)</span>\n</div>\n<p class=\"smallefont dull\" style=\"margin: 2px 0 0 0;\">\n\t\t\tBuild an intergalactic empire through trade, research, conquest and grand politics.\n\t\t</p>\n</td>\n<td align=\"center\" class=\"collection_bggrating\">\n\t\t\t8.243\t\t</td>\n<td align=\"center\" class=\"collection_bggrating\">\n\t\t\t8.60\t\t</td>\n<td align=\"center\" class=\"collection_bggrating\">\n\t\t\t23240\t\t</td>\n<td class=\"collection_shop\">\n<div class=\"aad\" id=\"aad_thing_233078_textwithprices__\"></div>\n</td>\n</tr>\n<tr id=\"row_\">\n<td align=\"center\" class=\"collection_rank\">\n<a name=\"6\"></a>\t\t\t6\t\t\t\n\t\t\t\t\t</td>\n<td class=\"collection_thumbnail\">\n<a href=\"/boardgame/316554/dune-imperium\"><img alt=\"Board Game: Dune: Imperium\" src=\"https://cf.geekdo-images.com/PhjygpWSo-0labGrPBMyyg__micro/img/mfU7-dEFnVyXJrF-BWAO0buexao=/fit-in/64x64/filters:strip_icc()/pic5666597.jpg\"/></a>\n</td>\n<td class=\"collection_objectname browse\" id=\"CEcell_objectname6\">\n<div id=\"status_objectname6\"></div>\n<div id=\"results_objectname6\" onclick=\"\" style=\"z-index:1000;\">\n<a class=\"primary\" href=\"/boardgame/316554/dune-imperium\">Dune: Imperium</a>\n<span class=\"smallerfont dull\">(2020)</span>\n</div>\n<p class=\"smallefont dull\" style=\"margin: 2px 0 0 0;\">\n\t\t\tInfluence, intrigue, and combat in the universe of Dune.\n\t\t</p>\n</td>\n<td align=\"center\" class=\"collection_bggrating\">\n\t\t\t8.225\t\t</td>\n<td align=\"center\" class=\"collection_bggrating\">\n\t\t\t8.43\t\t</td>\n<td align=\"center\" class=\"collection_bggrating\">\n\t\t\t43405\t\t</td>\n<td class=\"collection_shop\">\n<div class=\"aad\" id=\"aad_thing_316554_textwithprices__\"></div>\n</td>\n</tr>\n<tr id=\"row_\">\n<td align=\"center\" class=\"collection_rank\">\n<a name=\"7\"></a>\t\t\t7\t\t\t\n\t\t\t\t\t</td>\n<td class=\"collection_thumbnail\">\n<a href=\"/boardgame/167791/terraforming-mars\"><img alt=\"Board Game: Terraforming Mars\" src=\"https://cf.geekdo-images.com/wg9oOLcsKvDesSUdZQ4rxw__micro/img/LUkXZhd1TO80eCiXMD3-KfnzA6k=/fit-in/64x64/filters:strip_icc()/pic3536616.jpg\"/></a>\n</td>\n<td class=\"collection_objectname browse\" id=\"CEcell_objectname7\">\n<div id=\"status_objectname7\"></div>\n<div id=\"results_objectname7\" onclick=\"\" style=\"z-index:1000;\">\n<a class=\"primary\" href=\"/boardgame/167791/terraforming-mars\">Terraforming Mars</a>\n<span class=\"smallerfont dull\">(2016)</span>\n</div>\n<p class=\"smallefont dull\" style=\"margin: 2px 0 0 0;\">\n\t\t\tCompete with rival CEOs to make Mars habitable and build your corporate empire.\n\t\t</p>\n</td>\n<td align=\"center\" class=\"collection_bggrating\">\n\t\t\t8.216\t\t</td>\n<td align=\"center\" class=\"collection_bggrating\">\n\t\t\t8.36\t\t</td>\n<td align=\"center\" class=\"collection_bggrating\">\n\t\t\t97186\t\t</td>\n<td class=\"collection_shop\">\n<div class=\"aad\" id=\"aad_thing_167791_textwithprices__\"></div>\n</td>\n</tr>\n<tr id=\"row_\">\n<td align=\"center\" class=\"collection_rank\">\n<a name=\"8\"></a>\t\t\t8\t\t\t\n\t\t\t\t\t</td>\n<td class=\"collection_thumbnail\">\n<a href=\"/boardgame/115746/war-ring-second-edition\"><img alt=\"Board Game: War of the Ring: Second Edition\" src=\"https://cf.geekdo-images.com/ImPgGag98W6gpV1KV812aA__micro/img/NT-Av_3kdYUcwuti5ocmIQXow3g=/fit-in/64x64/filters:strip_icc()/pic1215633.jpg\"/></a>\n</td>\n<td class=\"collection_objectname browse\" id=\"CEcell_objectname8\">\n<div id=\"status_objectname8\"></div>\n<div id=\"results_objectname8\" onclick=\"\" style=\"z-index:1000;\">\n<a class=\"primary\" href=\"/boardgame/115746/war-ring-second-edition\">War of the Ring: Second Edition</a>\n<span class=\"smallerfont dull\">(2011)</span>\n</div>\n<p class=\"smallefont dull\" style=\"margin: 2px 0 0 0;\">\n\t\t\tThe Fellowship and the Free Peoples clash with Sauron over the fate of Middle-earth.\n\t\t</p>\n</td>\n<td align=\"center\" class=\"collection_bggrating\">\n\t\t\t8.180\t\t</td>\n<td align=\"center\" class=\"collection_bggrating\">\n\t\t\t8.54\t\t</td>\n<td align=\"center\" class=\"collection_bggrating\">\n\t\t\t20909\t\t</td>\n<td class=\"collection_shop\">\n<div class=\"aad\" id=\"aad_thing_115746_textwithprices__\"></div>\n</td>\n</tr>\n<tr id=\"row_\">\n<td align=\"center\" class=\"collection_rank\">\n<a name=\"9\"></a>\t\t\t9\t\t\t\n\t\t\t\t\t</td>\n<td class=\"collection_thumbnail\">\n<a href=\"/boardgame/291457/gloomhaven-jaws-lion\"><img alt=\"Board Game: Gloomhaven: Jaws of the Lion\" src=\"https://cf.geekdo-images.com/_HhIdavYW-hid20Iq3hhmg__micro/img/OdKjWiFsNvQAfJfXXSITttiozWE=/fit-in/64x64/filters:strip_icc()/pic5055631.jpg\"/></a>\n</td>\n<td class=\"collection_objectname browse\" id=\"CEcell_objectname9\">\n<div id=\"status_objectname9\"></div>\n<div id=\"results_objectname9\" onclick=\"\" style=\"z-index:1000;\">\n<a class=\"primary\" href=\"/boardgame/291457/gloomhaven-jaws-of-the-lion\">Gloomhaven: Jaws of the Lion</a>\n<span class=\"smallerfont dull\">(2020)</span>\n</div>\n<p class=\"smallefont dull\" style=\"margin: 2px 0 0 0;\">\n\t\t\tVanquish monsters with strategic cardplay in a 25-scenario Gloomhaven campaign.\n\t\t</p>\n</td>\n<td align=\"center\" class=\"collection_bggrating\">\n\t\t\t8.174\t\t</td>\n<td align=\"center\" class=\"collection_bggrating\">\n\t\t\t8.45\t\t</td>\n<td align=\"center\" class=\"collection_bggrating\">\n\t\t\t33323\t\t</td>\n<td class=\"collection_shop\">\n<div class=\"aad\" id=\"aad_thing_291457_textwithprices__\"></div>\n</td>\n</tr>\n<tr id=\"row_\">\n<td align=\"center\" class=\"collection_rank\">\n<a name=\"10\"></a>\t\t\t10\t\t\t\n\t\t\t\t\t</td>\n<td class=\"collection_thumbnail\">\n<a href=\"/boardgame/187645/star-wars-rebellion\"><img alt=\"Board Game: Star Wars: Rebellion\" src=\"https://cf.geekdo-images.com/7SrPNGBKg9IIsP4UQpOi8g__micro/img/nEvTiCkWpT-ymH4bstc9c335TtQ=/fit-in/64x64/filters:strip_icc()/pic4325841.jpg\"/></a>\n</td>\n<td class=\"collection_objectname browse\" id=\"CEcell_objectname10\">\n<div id=\"status_objectname10\"></div>\n<div id=\"results_objectname10\" onclick=\"\" style=\"z-index:1000;\">\n<a class=\"primary\" href=\"/boardgame/187645/star-wars-rebellion\">Star Wars: Rebellion</a>\n<span class=\"smallerfont dull\">(2016)</span>\n</div>\n<p class=\"smallefont dull\" style=\"margin: 2px 0 0 0;\">\n\t\t\tStrike from your hidden base as the Rebels—or find and destroy it as the Empire.\n\t\t</p>\n</td>\n<td align=\"center\" class=\"collection_bggrating\">\n\t\t\t8.171\t\t</td>\n<td align=\"center\" class=\"collection_bggrating\">\n\t\t\t8.42\t\t</td>\n<td align=\"center\" class=\"collection_bggrating\">\n\t\t\t31966\t\t</td>\n<td class=\"collection_shop\">\n<div class=\"aad\" id=\"aad_thing_187645_textwithprices__\"></div>\n</td>\n</tr>\n<tr id=\"row_\">\n<td align=\"center\" class=\"collection_rank\">\n<a name=\"11\"></a>\t\t\t11\t\t\t\n\t\t\t\t\t</td>\n<td class=\"collection_thumbnail\">\n<a href=\"/boardgame/162886/spirit-island\"><img alt=\"Board Game: Spirit Island\" src=\"https://cf.geekdo-images.com/kjCm4ZvPjIZxS-mYgSPy1g__micro/img/sRPer5FmBxyV527MY67P-gM7ukg=/fit-in/64x64/filters:strip_icc()/pic7013651.jpg\"/></a>\n</td>\n<td class=\"collection_objectname browse\" id=\"CEcell_objectname11\">\n<div id=\"status_objectname11\"></div>\n<div id=\"results_objectname11\" onclick=\"\" style=\"z-index:1000;\">\n<a class=\"primary\" href=\"/boardgame/162886/spirit-island\">Spirit Island</a>\n<span class=\"smallerfont dull\">(2017)</span>\n</div>\n<p class=\"smallefont dull\" style=\"margin: 2px 0 0 0;\">\n\t\t\tIsland Spirits join forces using elemental powers to defend their home from invaders.\n\t\t</p>\n</td>\n<td align=\"center\" class=\"collection_bggrating\">\n\t\t\t8.146\t\t</td>\n<td align=\"center\" class=\"collection_bggrating\">\n\t\t\t8.35\t\t</td>\n<td align=\"center\" class=\"collection_bggrating\">\n\t\t\t50055\t\t</td>\n<td class=\"collection_shop\">\n<div class=\"aad\" id=\"aad_thing_162886_textwithprices__\"></div>\n</td>\n</tr>\n<tr id=\"row_\">\n<td align=\"center\" class=\"collection_rank\">\n<a name=\"12\"></a>\t\t\t12\t\t\t\n\t\t\t\t\t</td>\n<td class=\"collection_thumbnail\">\n<a href=\"/boardgame/220308/gaia-project\"><img alt=\"Board Game: Gaia Project\" src=\"https://cf.geekdo-images.com/hGWFm3hbMlCDsfCsauOQ4g__micro/img/odWj2bEnZi9dEcQQrOtYj1e0QLE=/fit-in/64x64/filters:strip_icc()/pic5375625.png\"/></a>\n</td>\n<td class=\"collection_objectname browse\" id=\"CEcell_objectname12\">\n<div id=\"status_objectname12\"></div>\n<div id=\"results_objectname12\" onclick=\"\" style=\"z-index:1000;\">\n<a class=\"primary\" href=\"/boardgame/220308/gaia-project\">Gaia Project</a>\n<span class=\"smallerfont dull\">(2017)</span>\n</div>\n<p class=\"smallefont dull\" style=\"margin: 2px 0 0 0;\">\n\t\t\tExpand, research, upgrade, and settle the galaxy with one of 14 alien species.\n\t\t</p>\n</td>\n<td align=\"center\" class=\"collection_bggrating\">\n\t\t\t8.120\t\t</td>\n<td align=\"center\" class=\"collection_bggrating\">\n\t\t\t8.39\t\t</td>\n<td align=\"center\" class=\"collection_bggrating\">\n\t\t\t26609\t\t</td>\n<td class=\"collection_shop\">\n<div class=\"aad\" id=\"aad_thing_220308_textwithprices__\"></div>\n</td>\n</tr>\n<tr id=\"row_\">\n<td align=\"center\" class=\"collection_rank\">\n<a name=\"13\"></a>\t\t\t13\t\t\t\n\t\t\t\t\t</td>\n<td class=\"collection_thumbnail\">\n<a href=\"/boardgame/12333/twilight-struggle\"><img alt=\"Board Game: Twilight Struggle\" src=\"https://cf.geekdo-images.com/pNCiUUphnoeWOYfsWq0kng__micro/img/ZlfJiIATIt5MY7xWSMzFmdygaa0=\n\n*** WARNING: max output size exceeded, skipping output. ***\n\n=\"aad\" id=\"aad_thing_251661_textwithprices__\"></div>\n</td>\n</tr>\n<tr id=\"row_\">\n<td align=\"center\" class=\"collection_rank\">\n<a name=\"80\"></a>\t\t\t80\t\t\t\n\t\t\t\t\t</td>\n<td class=\"collection_thumbnail\">\n<a href=\"/boardgame/201808/clank-deck-building-adventure\"><img alt=\"Board Game: Clank!: A Deck-Building Adventure\" src=\"https://cf.geekdo-images.com/DPjV1iI0ygo5Bl3XLNRiIg__micro/img/5hO7ln_bquTyy4Q__ksB4NT1gMs=/fit-in/64x64/filters:strip_icc()/pic4449526.jpg\"/></a>\n</td>\n<td class=\"collection_objectname browse\" id=\"CEcell_objectname80\">\n<div id=\"status_objectname80\"></div>\n<div id=\"results_objectname80\" onclick=\"\" style=\"z-index:1000;\">\n<a class=\"primary\" href=\"/boardgame/201808/clank-deck-building-adventure\">Clank!: A Deck-Building Adventure</a>\n<span class=\"smallerfont dull\">(2016)</span>\n</div>\n<p class=\"smallefont dull\" style=\"margin: 2px 0 0 0;\">\n\t\t\tClaim your treasures but don't attract the dragon in this deck-building dungeon race.\n\t\t</p>\n</td>\n<td align=\"center\" class=\"collection_bggrating\">\n\t\t\t7.620\t\t</td>\n<td align=\"center\" class=\"collection_bggrating\">\n\t\t\t7.78\t\t</td>\n<td align=\"center\" class=\"collection_bggrating\">\n\t\t\t41679\t\t</td>\n<td class=\"collection_shop\">\n<div class=\"aad\" id=\"aad_thing_201808_textwithprices__\"></div>\n</td>\n</tr>\n<tr id=\"row_\">\n<td align=\"center\" class=\"collection_rank\">\n<a name=\"81\"></a>\t\t\t81\t\t\t\n\t\t\t\t\t</td>\n<td class=\"collection_thumbnail\">\n<a href=\"/boardgame/191189/aeons-end\"><img alt=\"Board Game: Aeon's End\" src=\"https://cf.geekdo-images.com/d50LceHj6LIafa4S_qIsCg__micro/img/0El7f9TAr9UfvKlcsXYrBe8jEOc=/fit-in/64x64/filters:strip_icc()/pic3189350.jpg\"/></a>\n</td>\n<td class=\"collection_objectname browse\" id=\"CEcell_objectname81\">\n<div id=\"status_objectname81\"></div>\n<div id=\"results_objectname81\" onclick=\"\" style=\"z-index:1000;\">\n<a class=\"primary\" href=\"/boardgame/191189/aeons-end\">Aeon's End</a>\n<span class=\"smallerfont dull\">(2016)</span>\n</div>\n<p class=\"smallefont dull\" style=\"margin: 2px 0 0 0;\">\n\t\t\tMages must reach their full potential to defend humanity from terrible monstrosities.\n\t\t</p>\n</td>\n<td align=\"center\" class=\"collection_bggrating\">\n\t\t\t7.618\t\t</td>\n<td align=\"center\" class=\"collection_bggrating\">\n\t\t\t7.91\t\t</td>\n<td align=\"center\" class=\"collection_bggrating\">\n\t\t\t20187\t\t</td>\n<td class=\"collection_shop\">\n<div class=\"aad\" id=\"aad_thing_191189_textwithprices__\"></div>\n</td>\n</tr>\n<tr id=\"row_\">\n<td align=\"center\" class=\"collection_rank\">\n<a name=\"82\"></a>\t\t\t82\t\t\t\n\t\t\t\t\t</td>\n<td class=\"collection_thumbnail\">\n<a href=\"/boardgame/159675/fields-arle\"><img alt=\"Board Game: Fields of Arle\" src=\"https://cf.geekdo-images.com/0w8go6cfvlpgJKydHUkDtA__micro/img/9JEU9pIfwl2wUIE3fmCmjjH_iiM=/fit-in/64x64/filters:strip_icc()/pic2225968.png\"/></a>\n</td>\n<td class=\"collection_objectname browse\" id=\"CEcell_objectname82\">\n<div id=\"status_objectname82\"></div>\n<div id=\"results_objectname82\" onclick=\"\" style=\"z-index:1000;\">\n<a class=\"primary\" href=\"/boardgame/159675/fields-arle\">Fields of Arle</a>\n<span class=\"smallerfont dull\">(2014)</span>\n</div>\n<p class=\"smallefont dull\" style=\"margin: 2px 0 0 0;\">\n\t\t\tConstruct dikes, drain bogs, harvest flax and tend to newborn animals in East Frisia.\n\t\t</p>\n</td>\n<td align=\"center\" class=\"collection_bggrating\">\n\t\t\t7.606\t\t</td>\n<td align=\"center\" class=\"collection_bggrating\">\n\t\t\t8.03\t\t</td>\n<td align=\"center\" class=\"collection_bggrating\">\n\t\t\t10834\t\t</td>\n<td class=\"collection_shop\">\n<div class=\"aad\" id=\"aad_thing_159675_textwithprices__\"></div>\n</td>\n</tr>\n<tr id=\"row_\">\n<td align=\"center\" class=\"collection_rank\">\n<a name=\"83\"></a>\t\t\t83\t\t\t\n\t\t\t\t\t</td>\n<td class=\"collection_thumbnail\">\n<a href=\"/boardgame/317985/beyond-sun\"><img alt=\"Board Game: Beyond the Sun\" src=\"https://cf.geekdo-images.com/BfEHqHQAvZLbRX7y7e9TWg__micro/img/RgHc2PFvpz3xxRPRg5v7d46JQNc=/fit-in/64x64/filters:strip_icc()/pic5617866.jpg\"/></a>\n</td>\n<td class=\"collection_objectname browse\" id=\"CEcell_objectname83\">\n<div id=\"status_objectname83\"></div>\n<div id=\"results_objectname83\" onclick=\"\" style=\"z-index:1000;\">\n<a class=\"primary\" href=\"/boardgame/317985/beyond-sun\">Beyond the Sun</a>\n<span class=\"smallerfont dull\">(2020)</span>\n</div>\n<p class=\"smallefont dull\" style=\"margin: 2px 0 0 0;\">\n\t\t\tCollectively develop a tech tree to fuel new discoveries and colonize space.\n\t\t</p>\n</td>\n<td align=\"center\" class=\"collection_bggrating\">\n\t\t\t7.602\t\t</td>\n<td align=\"center\" class=\"collection_bggrating\">\n\t\t\t7.94\t\t</td>\n<td align=\"center\" class=\"collection_bggrating\">\n\t\t\t13998\t\t</td>\n<td class=\"collection_shop\">\n<div class=\"aad\" id=\"aad_thing_317985_textwithprices__\"></div>\n</td>\n</tr>\n<tr id=\"row_\">\n<td align=\"center\" class=\"collection_rank\">\n<a name=\"84\"></a>\t\t\t84\t\t\t\n\t\t\t\t\t</td>\n<td class=\"collection_thumbnail\">\n<a href=\"/boardgame/229853/teotihuacan-city-gods\"><img alt=\"Board Game: Teotihuacan: City of Gods\" src=\"https://cf.geekdo-images.com/wW5xjgBJcFyLaEWZwrYuKA__micro/img/kXVTBtcGC-5L706WFNJLAuZTovQ=/fit-in/64x64/filters:strip_icc()/pic4583626.jpg\"/></a>\n</td>\n<td class=\"collection_objectname browse\" id=\"CEcell_objectname84\">\n<div id=\"status_objectname84\"></div>\n<div id=\"results_objectname84\" onclick=\"\" style=\"z-index:1000;\">\n<a class=\"primary\" href=\"/boardgame/229853/teotihuacan-city-of-gods\">Teotihuacan: City of Gods</a>\n<span class=\"smallerfont dull\">(2018)</span>\n</div>\n<p class=\"smallefont dull\" style=\"margin: 2px 0 0 0;\">\n\t\t\tUse your worker dice to raise the legendary and breathtaking Pyramid of the Sun.\n\t\t</p>\n</td>\n<td align=\"center\" class=\"collection_bggrating\">\n\t\t\t7.600\t\t</td>\n<td align=\"center\" class=\"collection_bggrating\">\n\t\t\t7.87\t\t</td>\n<td align=\"center\" class=\"collection_bggrating\">\n\t\t\t19623\t\t</td>\n<td class=\"collection_shop\">\n<div class=\"aad\" id=\"aad_thing_229853_textwithprices__\"></div>\n</td>\n</tr>\n<tr id=\"row_\">\n<td align=\"center\" class=\"collection_rank\">\n<a name=\"85\"></a>\t\t\t85\t\t\t\n\t\t\t\t\t</td>\n<td class=\"collection_thumbnail\">\n<a href=\"/boardgame/25613/through-ages-story-civilization\"><img alt=\"Board Game: Through the Ages: A Story of Civilization\" src=\"https://cf.geekdo-images.com/3piN3YX4WmBRuIvbEG2Ygg__micro/img/xy_566fY112BYtYJjT29cfAcHsk=/fit-in/64x64/filters:strip_icc()/pic236169.jpg\"/></a>\n</td>\n<td class=\"collection_objectname browse\" id=\"CEcell_objectname85\">\n<div id=\"status_objectname85\"></div>\n<div id=\"results_objectname85\" onclick=\"\" style=\"z-index:1000;\">\n<a class=\"primary\" href=\"/boardgame/25613/through-ages-story-civilization\">Through the Ages: A Story of Civilization</a>\n<span class=\"smallerfont dull\">(2006)</span>\n</div>\n<p class=\"smallefont dull\" style=\"margin: 2px 0 0 0;\">\n\t\t\tLead your civilization through strategic drafting of leaders, technologies, and more.\n\t\t</p>\n</td>\n<td align=\"center\" class=\"collection_bggrating\">\n\t\t\t7.599\t\t</td>\n<td align=\"center\" class=\"collection_bggrating\">\n\t\t\t7.85\t\t</td>\n<td align=\"center\" class=\"collection_bggrating\">\n\t\t\t19300\t\t</td>\n<td class=\"collection_shop\">\n<div class=\"aad\" id=\"aad_thing_25613_textwithprices__\"></div>\n</td>\n</tr>\n<tr id=\"row_\">\n<td align=\"center\" class=\"collection_rank\">\n<a name=\"86\"></a>\t\t\t86\t\t\t\n\t\t\t\t\t</td>\n<td class=\"collection_thumbnail\">\n<a href=\"/boardgame/110327/lords-waterdeep\"><img alt=\"Board Game: Lords of Waterdeep\" src=\"https://cf.geekdo-images.com/-hk8f8iGk_DyWyMrfiPBkg__micro/img/tWSg9ErrwvVcwaE1Kze1IsxwpGg=/fit-in/64x64/filters:strip_icc()/pic1116080.jpg\"/></a>\n</td>\n<td class=\"collection_objectname browse\" id=\"CEcell_objectname86\">\n<div id=\"status_objectname86\"></div>\n<div id=\"results_objectname86\" onclick=\"\" style=\"z-index:1000;\">\n<a class=\"primary\" href=\"/boardgame/110327/lords-waterdeep\">Lords of Waterdeep</a>\n<span class=\"smallerfont dull\">(2012)</span>\n</div>\n<p class=\"smallefont dull\" style=\"margin: 2px 0 0 0;\">\n\t\t\tDeploy agents and hire adventurers to expand your control over the city of Waterdeep.\n\t\t</p>\n</td>\n<td align=\"center\" class=\"collection_bggrating\">\n\t\t\t7.594\t\t</td>\n<td align=\"center\" class=\"collection_bggrating\">\n\t\t\t7.74\t\t</td>\n<td align=\"center\" class=\"collection_bggrating\">\n\t\t\t55100\t\t</td>\n<td class=\"collection_shop\">\n<div class=\"aad\" id=\"aad_thing_110327_textwithprices__\"></div>\n</td>\n</tr>\n<tr id=\"row_\">\n<td align=\"center\" class=\"collection_rank\">\n<a name=\"87\"></a>\t\t\t87\t\t\t\n\t\t\t\t\t</td>\n<td class=\"collection_thumbnail\">\n<a href=\"/boardgame/321608/hegemony-lead-your-class-to-victory\"><img alt=\"Board Game: Hegemony: Lead Your Class to Victory\" src=\"https://cf.geekdo-images.com/DCLgJlrvB-EqL6A3WgQLMQ__micro/img/j_LPta_lgRrN8Rrs9Rxt_d3Hysc=/fit-in/64x64/filters:strip_icc()/pic5715770.jpg\"/></a>\n</td>\n<td class=\"collection_objectname browse\" id=\"CEcell_objectname87\">\n<div id=\"status_objectname87\"></div>\n<div id=\"results_objectname87\" onclick=\"\" style=\"z-index:1000;\">\n<a class=\"primary\" href=\"/boardgame/321608/hegemony-lead-your-class-to-victory\">Hegemony: Lead Your Class to Victory</a>\n<span class=\"smallerfont dull\">(2023)</span>\n</div>\n<p class=\"smallefont dull\" style=\"margin: 2px 0 0 0;\">\n\t\t\tSimulate a whole contemporary nation in this asymmetric, politico-economic euro-game.\n\t\t</p>\n</td>\n<td align=\"center\" class=\"collection_bggrating\">\n\t\t\t7.586\t\t</td>\n<td align=\"center\" class=\"collection_bggrating\">\n\t\t\t8.53\t\t</td>\n<td align=\"center\" class=\"collection_bggrating\">\n\t\t\t5349\t\t</td>\n<td class=\"collection_shop\">\n<div class=\"aad\" id=\"aad_thing_321608_textwithprices__\"></div>\n</td>\n</tr>\n<tr id=\"row_\">\n<td align=\"center\" class=\"collection_rank\">\n<a name=\"88\"></a>\t\t\t88\t\t\t\n\t\t\t\t\t</td>\n<td class=\"collection_thumbnail\">\n<a href=\"/boardgame/62219/dominant-species\"><img alt=\"Board Game: Dominant Species\" src=\"https://cf.geekdo-images.com/oeygRZntjNUJWvc8SxDfww__micro/img/gXi23Nbfem6XTfRlV2eHEHB_cHY=/fit-in/64x64/filters:strip_icc()/pic784193.jpg\"/></a>\n</td>\n<td class=\"collection_objectname browse\" id=\"CEcell_objectname88\">\n<div id=\"status_objectname88\"></div>\n<div id=\"results_objectname88\" onclick=\"\" style=\"z-index:1000;\">\n<a class=\"primary\" href=\"/boardgame/62219/dominant-species\">Dominant Species</a>\n<span class=\"smallerfont dull\">(2010)</span>\n</div>\n<p class=\"smallefont dull\" style=\"margin: 2px 0 0 0;\">\n\t\t\tWith an ice age approaching, which animals will best propagate, migrate, and adapt?\n\t\t</p>\n</td>\n<td align=\"center\" class=\"collection_bggrating\">\n\t\t\t7.583\t\t</td>\n<td align=\"center\" class=\"collection_bggrating\">\n\t\t\t7.82\t\t</td>\n<td align=\"center\" class=\"collection_bggrating\">\n\t\t\t21049\t\t</td>\n<td class=\"collection_shop\">\n<div class=\"aad\" id=\"aad_thing_62219_textwithprices__\"></div>\n</td>\n</tr>\n<tr id=\"row_\">\n<td align=\"center\" class=\"collection_rank\">\n<a name=\"89\"></a>\t\t\t89\t\t\t\n\t\t\t\t\t</td>\n<td class=\"collection_thumbnail\">\n<a href=\"/boardgame/171623/voyages-marco-polo\"><img alt=\"Board Game: The Voyages of Marco Polo\" src=\"https://cf.geekdo-images.com/n1G7_aWToLAAB7Mqt8iwyA__micro/img/c8Ld-3E8S0devFlugLvyiAEESbY=/fit-in/64x64/filters:strip_icc()/pic2461346.png\"/></a>\n</td>\n<td class=\"collection_objectname browse\" id=\"CEcell_objectname89\">\n<div id=\"status_objectname89\"></div>\n<div id=\"results_objectname89\" onclick=\"\" style=\"z-index:1000;\">\n<a class=\"primary\" href=\"/boardgame/171623/voyages-marco-polo\">The Voyages of Marco Polo</a>\n<span class=\"smallerfont dull\">(2015)</span>\n</div>\n<p class=\"smallefont dull\" style=\"margin: 2px 0 0 0;\">\n\t\t\tUsing unique abilities, fulfill contracts and reach your goals along the Silk Road.\n\t\t</p>\n</td>\n<td align=\"center\" class=\"collection_bggrating\">\n\t\t\t7.581\t\t</td>\n<td align=\"center\" class=\"collection_bggrating\">\n\t\t\t7.79\t\t</td>\n<td align=\"center\" class=\"collection_bggrating\">\n\t\t\t24679\t\t</td>\n<td class=\"collection_shop\">\n<div class=\"aad\" id=\"aad_thing_171623_textwithprices__\"></div>\n</td>\n</tr>\n<tr id=\"row_\">\n<td align=\"center\" class=\"collection_rank\">\n<a name=\"90\"></a>\t\t\t90\t\t\t\n\t\t\t\t\t</td>\n<td class=\"collection_thumbnail\">\n<a href=\"/boardgame/121921/robinson-crusoe-adventures-cursed-island\"><img alt=\"Board Game: Robinson Crusoe: Adventures on the Cursed Island\" src=\"https://cf.geekdo-images.com/FbFnaTx3aT5dM18K_bR_Pg__micro/img/brcsM5-72GgeBDQg3CSI6VB1Dqo=/fit-in/64x64/filters:strip_icc()/pic3165731.jpg\"/></a>\n</td>\n<td class=\"collection_objectname browse\" id=\"CEcell_objectname90\">\n<div id=\"status_objectname90\"></div>\n<div id=\"results_objectname90\" onclick=\"\" style=\"z-index:1000;\">\n<a class=\"primary\" href=\"/boardgame/121921/robinson-crusoe-adventures-on-the-cursed-island\">Robinson Crusoe: Adventures on the Cursed Island</a>\n<span class=\"smallerfont dull\">(2012)</span>\n</div>\n<p class=\"smallefont dull\" style=\"margin: 2px 0 0 0;\">\n\t\t\tWork together — with friends or with Friday — to survive on a deserted island.\n\t\t</p>\n</td>\n<td align=\"center\" class=\"collection_bggrating\">\n\t\t\t7.579\t\t</td>\n<td align=\"center\" class=\"collection_bggrating\">\n\t\t\t7.75\t\t</td>\n<td align=\"center\" class=\"collection_bggrating\">\n\t\t\t42997\t\t</td>\n<td class=\"collection_shop\">\n<div class=\"aad\" id=\"aad_thing_121921_textwithprices__\"></div>\n</td>\n</tr>\n<tr class=\"geekcollection_ad\">\n<td colspan=\"7\">\n<div class=\"text-center\" id=\"dfp-inline-post_5\"></div>\n<script>\n\t\t\t\t\t\t\t GEEK.legacyAds.push('dfp-inline-post_5');\n\t\t\t\t\t\t </script>\n</td>\n</tr>\n<tr id=\"row_\">\n<td align=\"center\" class=\"collection_rank\">\n<a name=\"91\"></a>\t\t\t91\t\t\t\n\t\t\t\t\t</td>\n<td class=\"collection_thumbnail\">\n<a href=\"/boardgame/68448/7-wonders\"><img alt=\"Board Game: 7 Wonders\" src=\"https://cf.geekdo-images.com/35h9Za_JvMMMtx_92kT0Jg__micro/img/4BRnGQ-EoU-2LNirfZpUC3HRReU=/fit-in/64x64/filters:strip_icc()/pic7149798.jpg\"/></a>\n</td>\n<td class=\"collection_objectname browse\" id=\"CEcell_objectname91\">\n<div id=\"status_objectname91\"></div>\n<div id=\"results_objectname91\" onclick=\"\" style=\"z-index:1000;\">\n<a class=\"primary\" href=\"/boardgame/68448/7-wonders\">7 Wonders</a>\n<span class=\"smallerfont dull\">(2010)</span>\n</div>\n<p class=\"smallefont dull\" style=\"margin: 2px 0 0 0;\">\n\t\t\tDraft cards to develop your ancient civilization and build its Wonder of the World.\n\t\t</p>\n</td>\n<td align=\"center\" class=\"collection_bggrating\">\n\t\t\t7.578\t\t</td>\n<td align=\"center\" class=\"collection_bggrating\">\n\t\t\t7.69\t\t</td>\n<td align=\"center\" class=\"collection_bggrating\">\n\t\t\t103590\t\t</td>\n<td class=\"collection_shop\">\n<div class=\"aad\" id=\"aad_thing_68448_textwithprices__\"></div>\n</td>\n</tr>\n<tr id=\"row_\">\n<td align=\"center\" class=\"collection_rank\">\n<a name=\"92\"></a>\t\t\t92\t\t\t\n\t\t\t\t\t</td>\n<td class=\"collection_thumbnail\">\n<a href=\"/boardgame/93/el-grande\"><img alt=\"Board Game: El Grande\" src=\"https://cf.geekdo-images.com/RRKDHaYtFPHhczkUDcHOmg__micro/img/_hnYEtmQrfIco_6UTFRLZdhWMnQ=/fit-in/64x64/filters:strip_icc()/pic7906240.jpg\"/></a>\n</td>\n<td class=\"collection_objectname browse\" id=\"CEcell_objectname92\">\n<div id=\"status_objectname92\"></div>\n<div id=\"results_objectname92\" onclick=\"\" style=\"z-index:1000;\">\n<a class=\"primary\" href=\"/boardgame/93/el-grande\">El Grande</a>\n<span class=\"smallerfont dull\">(1995)</span>\n</div>\n<p class=\"smallefont dull\" style=\"margin: 2px 0 0 0;\">\n\t\t\tUse your caballeros to control regions of medieval Spain, keeping clear of the King!\n\t\t</p>\n</td>\n<td align=\"center\" class=\"collection_bggrating\">\n\t\t\t7.570\t\t</td>\n<td align=\"center\" class=\"collection_bggrating\">\n\t\t\t7.75\t\t</td>\n<td align=\"center\" class=\"collection_bggrating\">\n\t\t\t28305\t\t</td>\n<td class=\"collection_shop\">\n<div class=\"aad\" id=\"aad_thing_93_textwithprices__\"></div>\n</td>\n</tr>\n<tr id=\"row_\">\n<td align=\"center\" class=\"collection_rank\">\n<a name=\"93\"></a>\t\t\t93\t\t\t\n\t\t\t\t\t</td>\n<td class=\"collection_thumbnail\">\n<a href=\"/boardgame/279537/search-planet-x\"><img alt=\"Board Game: The Search for Planet X\" src=\"https://cf.geekdo-images.com/NItjtztEUAKOpaTWZddu9A__micro/img/m4I9uS6LBjNz02oNquEkBM-L464=/fit-in/64x64/filters:strip_icc()/pic5744928.jpg\"/></a>\n</td>\n<td class=\"collection_objectname browse\" id=\"CEcell_objectname93\">\n<div id=\"status_objectname93\"></div>\n<div id=\"results_objectname93\" onclick=\"\" style=\"z-index:1000;\">\n<a class=\"primary\" href=\"/boardgame/279537/search-planet-x\">The Search for Planet X</a>\n<span class=\"smallerfont dull\">(2020)</span>\n</div>\n<p class=\"smallefont dull\" style=\"margin: 2px 0 0 0;\">\n\t\t\tPlan, scan, and theorize to find a new planet at the edge of our solar system.\n\t\t</p>\n</td>\n<td align=\"center\" class=\"collection_bggrating\">\n\t\t\t7.568\t\t</td>\n<td align=\"center\" class=\"collection_bggrating\">\n\t\t\t7.97\t\t</td>\n<td align=\"center\" class=\"collection_bggrating\">\n\t\t\t11688\t\t</td>\n<td class=\"collection_shop\">\n<div class=\"aad\" id=\"aad_thing_279537_textwithprices__\"></div>\n</td>\n</tr>\n<tr id=\"row_\">\n<td align=\"center\" class=\"collection_rank\">\n<a name=\"94\"></a>\t\t\t94\t\t\t\n\t\t\t\t\t</td>\n<td class=\"collection_thumbnail\">\n<a href=\"/boardgame/264220/tainted-grail-fall-avalon\"><img alt=\"Board Game: Tainted Grail: The Fall of Avalon\" src=\"https://cf.geekdo-images.com/aAwBzPzta4joKfFZt05hCw__micro/img/28sp86TqPbMqn9M_qHWfS9j44-w=/fit-in/64x64/filters:strip_icc()/pic4385726.jpg\"/></a>\n</td>\n<td class=\"collection_objectname browse\" id=\"CEcell_objectname94\">\n<div id=\"status_objectname94\"></div>\n<div id=\"results_objectname94\" onclick=\"\" style=\"z-index:1000;\">\n<a class=\"primary\" href=\"/boardgame/264220/tainted-grail-fall-avalon\">Tainted Grail: The Fall of Avalon</a>\n<span class=\"smallerfont dull\">(2019)</span>\n</div>\n<p class=\"smallefont dull\" style=\"margin: 2px 0 0 0;\">\n\t\t\tExploration, combat, and diplomacy in a dark Arthurian realm.\n\t\t</p>\n</td>\n<td align=\"center\" class=\"collection_bggrating\">\n\t\t\t7.549\t\t</td>\n<td align=\"center\" class=\"collection_bggrating\">\n\t\t\t8.09\t\t</td>\n<td align=\"center\" class=\"collection_bggrating\">\n\t\t\t12149\t\t</td>\n<td class=\"collection_shop\">\n<div class=\"aad\" id=\"aad_thing_264220_textwithprices__\"></div>\n</td>\n</tr>\n<tr id=\"row_\">\n<td align=\"center\" class=\"collection_rank\">\n<a name=\"95\"></a>\t\t\t95\t\t\t\n\t\t\t\t\t</td>\n<td class=\"collection_thumbnail\">\n<a href=\"/boardgame/37111/battlestar-galactica-board-game\"><img alt=\"Board Game: Battlestar Galactica: The Board Game\" src=\"https://cf.geekdo-images.com/5Q2w2rFJiFI_uV89KP6ECg__micro/img/KGgAsbHUPaEjsl-r05JCH2ixP1o=/fit-in/64x64/filters:strip_icc()/pic354500.jpg\"/></a>\n</td>\n<td class=\"collection_objectname browse\" id=\"CEcell_objectname95\">\n<div id=\"status_objectname95\"></div>\n<div id=\"results_objectname95\" onclick=\"\" style=\"z-index:1000;\">\n<a class=\"primary\" href=\"/boardgame/37111/battlestar-galactica-board-game\">Battlestar Galactica: The Board Game</a>\n<span class=\"smallerfont dull\">(2008)</span>\n</div>\n<p class=\"smallefont dull\" style=\"margin: 2px 0 0 0;\">\n\t\t\tHow can the human race survive when you don't know who is actually human?\n\t\t</p>\n</td>\n<td align=\"center\" class=\"collection_bggrating\">\n\t\t\t7.542\t\t</td>\n<td align=\"center\" class=\"collection_bggrating\">\n\t\t\t7.73\t\t</td>\n<td align=\"center\" class=\"collection_bggrating\">\n\t\t\t36353\t\t</td>\n<td class=\"collection_shop\">\n<div class=\"aad\" id=\"aad_thing_37111_textwithprices__\"></div>\n</td>\n</tr>\n<tr id=\"row_\">\n<td align=\"center\" class=\"collection_rank\">\n<a name=\"96\"></a>\t\t\t96\t\t\t\n\t\t\t\t\t</td>\n<td class=\"collection_thumbnail\">\n<a href=\"/boardgame/236457/architects-west-kingdom\"><img alt=\"Board Game: Architects of the West Kingdom\" src=\"https://cf.geekdo-images.com/OAX7HfOz-9N60StgADzd0g__micro/img/5OEOXKjvrEMh2aT5I-FrAn5-9jo=/fit-in/64x64/filters:strip_icc()/pic3781944.png\"/></a>\n</td>\n<td class=\"collection_objectname browse\" id=\"CEcell_objectname96\">\n<div id=\"status_objectname96\"></div>\n<div id=\"results_objectname96\" onclick=\"\" style=\"z-index:1000;\">\n<a class=\"primary\" href=\"/boardgame/236457/architects-west-kingdom\">Architects of the West Kingdom</a>\n<span class=\"smallerfont dull\">(2018)</span>\n</div>\n<p class=\"smallefont dull\" style=\"margin: 2px 0 0 0;\">\n\t\t\tWill you be a virtuous or nefarious servant of the king? Build your way to glory.\n\t\t</p>\n</td>\n<td align=\"center\" class=\"collection_bggrating\">\n\t\t\t7.542\t\t</td>\n<td align=\"center\" class=\"collection_bggrating\">\n\t\t\t7.74\t\t</td>\n<td align=\"center\" class=\"collection_bggrating\">\n\t\t\t28573\t\t</td>\n<td class=\"collection_shop\">\n<div class=\"aad\" id=\"aad_thing_236457_textwithprices__\"></div>\n</td>\n</tr>\n<tr id=\"row_\">\n<td align=\"center\" class=\"collection_rank\">\n<a name=\"97\"></a>\t\t\t97\t\t\t\n\t\t\t\t\t</td>\n<td class=\"collection_thumbnail\">\n<a href=\"/boardgame/225694/decrypto\"><img alt=\"Board Game: Decrypto\" src=\"https://cf.geekdo-images.com/hHZWXnUTMYDd_KTAM6Jwlw__micro/img/g7DQGNNf6ZFwYDGpe9kT3e4KELY=/fit-in/64x64/filters:strip_icc()/pic3759421.jpg\"/></a>\n</td>\n<td class=\"collection_objectname browse\" id=\"CEcell_objectname97\">\n<div id=\"status_objectname97\"></div>\n<div id=\"results_objectname97\" onclick=\"\" style=\"z-index:1000;\">\n<a class=\"primary\" href=\"/boardgame/225694/decrypto\">Decrypto</a>\n<span class=\"smallerfont dull\">(2018)</span>\n</div>\n<p class=\"smallefont dull\" style=\"margin: 2px 0 0 0;\">\n\t\t\tDecipher your opponents' code before they decipher yours. Don't get caught.\n\t\t</p>\n</td>\n<td align=\"center\" class=\"collection_bggrating\">\n\t\t\t7.541\t\t</td>\n<td align=\"center\" class=\"collection_bggrating\">\n\t\t\t7.77\t\t</td>\n<td align=\"center\" class=\"collection_bggrating\">\n\t\t\t21956\t\t</td>\n<td class=\"collection_shop\">\n<div class=\"aad\" id=\"aad_thing_225694_textwithprices__\"></div>\n</td>\n</tr>\n<tr id=\"row_\">\n<td align=\"center\" class=\"collection_rank\">\n<a name=\"98\"></a>\t\t\t98\t\t\t\n\t\t\t\t\t</td>\n<td class=\"collection_thumbnail\">\n<a href=\"/boardgame/155821/inis\"><img alt=\"Board Game: Inis\" src=\"https://cf.geekdo-images.com/6QE8mnPFmauoj2THsyUYPA__micro/img/KzK9JEEodDn0EyHA8rJy2X0cyYA=/fit-in/64x64/filters:strip_icc()/pic4739757.jpg\"/></a>\n</td>\n<td class=\"collection_objectname browse\" id=\"CEcell_objectname98\">\n<div id=\"status_objectname98\"></div>\n<div id=\"results_objectname98\" onclick=\"\" style=\"z-index:1000;\">\n<a class=\"primary\" href=\"/boardgame/155821/inis\">Inis</a>\n<span class=\"smallerfont dull\">(2016)</span>\n</div>\n<p class=\"smallefont dull\" style=\"margin: 2px 0 0 0;\">\n\t\t\tClaim the crown through merit and wisdom in this Celtic island struggle.\n\t\t</p>\n</td>\n<td align=\"center\" class=\"collection_bggrating\">\n\t\t\t7.539\t\t</td>\n<td align=\"center\" class=\"collection_bggrating\">\n\t\t\t7.83\t\t</td>\n<td align=\"center\" class=\"collection_bggrating\">\n\t\t\t19814\t\t</td>\n<td class=\"collection_shop\">\n<div class=\"aad\" id=\"aad_thing_155821_textwithprices__\"></div>\n</td>\n</tr>\n<tr id=\"row_\">\n<td align=\"center\" class=\"collection_rank\">\n<a name=\"99\"></a>\t\t\t99\t\t\t\n\t\t\t\t\t</td>\n<td class=\"collection_thumbnail\">\n<a href=\"/boardgame/163068/trickerion-legends-illusion\"><img alt=\"Board Game: Trickerion: Legends of Illusion\" src=\"https://cf.geekdo-images.com/9gob752VqEklQFV_gz16hw__micro/img/kYOLnVbUwnKjA37DqEe9HECvqI0=/fit-in/64x64/filters:strip_icc()/pic2585510.png\"/></a>\n</td>\n<td class=\"collection_objectname browse\" id=\"CEcell_objectname99\">\n<div id=\"status_objectname99\"></div>\n<div id=\"results_objectname99\" onclick=\"\" style=\"z-index:1000;\">\n<a class=\"primary\" href=\"/boardgame/163068/trickerion-legends-illusion\">Trickerion: Legends of Illusion</a>\n<span class=\"smallerfont dull\">(2015)</span>\n</div>\n<p class=\"smallefont dull\" style=\"margin: 2px 0 0 0;\">\n\t\t\tMagicians perform dazzling tricks for money and fame in a Victorian steampunk world.\n\t\t</p>\n</td>\n<td align=\"center\" class=\"collection_bggrating\">\n\t\t\t7.533\t\t</td>\n<td align=\"center\" class=\"collection_bggrating\">\n\t\t\t7.97\t\t</td>\n<td align=\"center\" class=\"collection_bggrating\">\n\t\t\t10684\t\t</td>\n<td class=\"collection_shop\">\n<div class=\"aad\" id=\"aad_thing_163068_textwithprices__\"></div>\n</td>\n</tr>\n<tr id=\"row_\">\n<td align=\"center\" class=\"collection_rank\">\n<a name=\"100\"></a>\t\t\t100\t\t\t\n\t\t\t\t\t</td>\n<td class=\"collection_thumbnail\">\n<a href=\"/boardgame/256916/concordia-venus\"><img alt=\"Board Game: Concordia Venus\" src=\"https://cf.geekdo-images.com/36WIe0ZHkp5OvHOlB-8vog__micro/img/7lY7AE0KsFAO2svml1DMpa20-kg=/fit-in/64x64/filters:strip_icc()/pic4356580.jpg\"/></a>\n</td>\n<td class=\"collection_objectname browse\" id=\"CEcell_objectname100\">\n<div id=\"status_objectname100\"></div>\n<div id=\"results_objectname100\" onclick=\"\" style=\"z-index:1000;\">\n<a class=\"primary\" href=\"/boardgame/256916/concordia-venus\">Concordia Venus</a>\n<span class=\"smallerfont dull\">(2018)</span>\n</div>\n<p class=\"smallefont dull\" style=\"margin: 2px 0 0 0;\">\n\t\t\tMerchants build and trade throughout the Roman Empire to please the Gods.\n\t\t</p>\n</td>\n<td align=\"center\" class=\"collection_bggrating\">\n\t\t\t7.530\t\t</td>\n<td align=\"center\" class=\"collection_bggrating\">\n\t\t\t8.29\t\t</td>\n<td align=\"center\" class=\"collection_bggrating\">\n\t\t\t5587\t\t</td>\n<td class=\"collection_shop\">\n<div class=\"aad\" id=\"aad_thing_256916_textwithprices__\"></div>\n</td>\n</tr>\n</table>\n</div>\n</div>\n<p align=\"right\"><b>1</b> , <a href=\"/browse/boardgame/page/2\" target=\"_self\" title=\"page 2\">2</a> , <a href=\"/browse/boardgame/page/3\" target=\"_self\" title=\"page 3\">3</a> , <a href=\"/browse/boardgame/page/4\" target=\"_self\" title=\"page 4\">4</a> , <a href=\"/browse/boardgame/page/5\" target=\"_self\" title=\"page 5\">5</a>  <a href=\"/browse/boardgame/page/2\" target=\"_self\" title=\"next page\"><b>Next »</b></a>  <a href=\"/browse/boardgame/page/1530\" target=\"_self\" title=\"last page\">[1530]</a></p>\n<div id=\"legacy_modal\"></div>\n</div>\n</div>\n</div>\n<div class=\"global-body-content-secondary\">\n</div>\n</div>\n</div>\n</main>\n<geekoutput-footer></geekoutput-footer>\n</div>\n</body>\n</html>\n\n"
     ]
    }
   ],
   "source": [
    "from bs4 import BeautifulSoup\n",
    "\n",
    "soup = BeautifulSoup(html)\n",
    "print(soup)"
   ]
  },
  {
   "cell_type": "code",
   "execution_count": 0,
   "metadata": {
    "application/vnd.databricks.v1+cell": {
     "cellMetadata": {
      "byteLimit": 2048000,
      "rowLimit": 10000
     },
     "inputWidgets": {},
     "nuid": "c7415dd5-4ea5-4b49-aeb6-2f38faaef208",
     "showTitle": false,
     "tableResultSettingsMap": {},
     "title": ""
    }
   },
   "outputs": [
    {
     "output_type": "display_data",
     "data": {
      "application/vnd.databricks.v1+bamboolib_hint": "{\"pd.DataFrames\": [], \"version\": \"0.0.1\"}",
      "text/plain": []
     },
     "metadata": {},
     "output_type": "display_data"
    },
    {
     "output_type": "stream",
     "name": "stdout",
     "output_type": "stream",
     "text": [
      "['Board Game Rank', 'Thumbnail image', 'Title', 'Geek Rating', 'Avg Rating', 'Num Voters', 'Shop']\n[[[], ['1', 'https://cf.geekdo-images.com/x3zxjr-Vw5iU4yDPg70Jgw__micro/img/4Od3GYCiqptga0VbmyumPbJlBsU=/fit-in/64x64/filters:strip_icc()/pic3490053.jpg', 'Brass: Birmingham(2018)Build networks, grow industries, and navigate the world of the Industrial Revolution.', '8.417', '8.60', '44343', ''], ['2', 'https://cf.geekdo-images.com/-Qer2BBPG7qGGDu6KcVDIw__micro/img/n6-sXYD6XXZoqIxq4P6AG7VPCuA=/fit-in/64x64/filters:strip_icc()/pic2452831.png', 'Pandemic Legacy: Season 1(2015)Mutating diseases are spreading around the world - can your team save humanity?', '8.383', '8.53', '52964', ''], ['3', 'https://cf.geekdo-images.com/sZYp_3BTDGjh2unaZfZmuA__micro/img/sQyh47ClBO3d5sxPm73hMvM-JV4=/fit-in/64x64/filters:strip_icc()/pic2437871.jpg', 'Gloomhaven(2017)Vanquish monsters with strategic cardplay. Fulfill your quest to leave your legacy!', '8.361', '8.60', '61512', ''], ['4', 'https://cf.geekdo-images.com/SoU8p28Sk1s8MSvoM4N8pQ__micro/img/LSAi1pmhbTbWwtBrziutDOXzfdY=/fit-in/64x64/filters:strip_icc()/pic6293412.jpg', 'Ark Nova(2021)Plan and build a modern, scientifically managed zoo to support conservation projects.', '8.333', '8.54', '41305', ''], ['5', 'https://cf.geekdo-images.com/_Ppn5lssO5OaildSE-FgFA__micro/img/2gymaKs35_2yj7eyyA6cYyVmd9c=/fit-in/64x64/filters:strip_icc()/pic3727516.jpg', 'Twilight Imperium: Fourth Edition(2017)Build an intergalactic empire through trade, research, conquest and grand politics.', '8.243', '8.60', '23240', ''], ['6', 'https://cf.geekdo-images.com/PhjygpWSo-0labGrPBMyyg__micro/img/mfU7-dEFnVyXJrF-BWAO0buexao=/fit-in/64x64/filters:strip_icc()/pic5666597.jpg', 'Dune: Imperium(2020)Influence, intrigue, and combat in the universe of Dune.', '8.225', '8.43', '43405', ''], ['7', 'https://cf.geekdo-images.com/wg9oOLcsKvDesSUdZQ4rxw__micro/img/LUkXZhd1TO80eCiXMD3-KfnzA6k=/fit-in/64x64/filters:strip_icc()/pic3536616.jpg', 'Terraforming Mars(2016)Compete with rival CEOs to make Mars habitable and build your corporate empire.', '8.216', '8.36', '97186', ''], ['8', 'https://cf.geekdo-images.com/ImPgGag98W6gpV1KV812aA__micro/img/NT-Av_3kdYUcwuti5ocmIQXow3g=/fit-in/64x64/filters:strip_icc()/pic1215633.jpg', 'War of the Ring: Second Edition(2011)The Fellowship and the Free Peoples clash with Sauron over the fate of Middle-earth.', '8.180', '8.54', '20909', ''], ['9', 'https://cf.geekdo-images.com/_HhIdavYW-hid20Iq3hhmg__micro/img/OdKjWiFsNvQAfJfXXSITttiozWE=/fit-in/64x64/filters:strip_icc()/pic5055631.jpg', 'Gloomhaven: Jaws of the Lion(2020)Vanquish monsters with strategic cardplay in a 25-scenario Gloomhaven campaign.', '8.174', '8.45', '33323', ''], ['10', 'https://cf.geekdo-images.com/7SrPNGBKg9IIsP4UQpOi8g__micro/img/nEvTiCkWpT-ymH4bstc9c335TtQ=/fit-in/64x64/filters:strip_icc()/pic4325841.jpg', 'Star Wars: Rebellion(2016)Strike from your hidden base as the Rebels—or find and destroy it as the Empire.', '8.171', '8.42', '31966', ''], ['11', 'https://cf.geekdo-images.com/kjCm4ZvPjIZxS-mYgSPy1g__micro/img/sRPer5FmBxyV527MY67P-gM7ukg=/fit-in/64x64/filters:strip_icc()/pic7013651.jpg', 'Spirit Island(2017)Island Spirits join forces using elemental powers to defend their home from invaders.', '8.146', '8.35', '50055', ''], ['12', 'https://cf.geekdo-images.com/hGWFm3hbMlCDsfCsauOQ4g__micro/img/odWj2bEnZi9dEcQQrOtYj1e0QLE=/fit-in/64x64/filters:strip_icc()/pic5375625.png', 'Gaia Project(2017)Expand, research, upgrade, and settle the galaxy with one of 14 alien species.', '8.120', '8.39', '26609', ''], ['13', 'https://cf.geekdo-images.com/pNCiUUphnoeWOYfsWq0kng__micro/img/ZlfJiIATIt5MY7xWSMzFmdygaa0=/fit-in/64x64/filters:strip_icc()/pic3530661.jpg', 'Twilight Struggle(2005)Relive the Cold War and rewrite history in an epic clash between the USA and USSR.', '8.070', '8.25', '48370', ''], ['14', 'https://cf.geekdo-images.com/fVwPntkJKgaEo0rIC0RwpA__micro/img/77dZJpqtydc8TTecl0ReGF7iAVw=/fit-in/64x64/filters:strip_icc()/pic2663291.jpg', 'Through the Ages: A New Story of Civilization(2015)Rewrite history as you build up your civilization in this epic card drafting game!', '8.064', '8.30', '31249', ''], ['15', 'https://cf.geekdo-images.com/u1l0gH7sb_vnvDvoO_QHqA__micro/img/xeShpQfbj4L1id-ItJbfIYVzgyA=/fit-in/64x64/filters:strip_icc()/pic4887376.jpg', 'Great Western Trail(2016)Use strategic outposts and navigate danger as you herd your cattle to Kansas City.', '8.035', '8.20', '40417', ''], [''], ['16', 'https://cf.geekdo-images.com/5CFwjd8zTcGYVUnkXh04hw__micro/img/N1VrEUaW6bmwnqbZfi2nRScwGxM=/fit-in/64x64/filters:strip_icc()/pic1176894.jpg', 'The Castles of Burgundy(2011)Plan, trade, and build your Burgundian estate to prosperity and prominence.', '8.013', '8.14', '61348', ''], ['17', 'https://cf.geekdo-images.com/7k_nOxpO9OGIjhLq2BUZdA__micro/img/ETplc22GdhlN5u0mppcDxSP8LVk=/fit-in/64x64/filters:strip_icc()/pic3163924.jpg', 'Scythe(2016)Five factions vie for dominance in a war-torn, mech-filled, dieselpunk 1920s Europe.', '7.997', '8.15', '82141', ''], ['18', 'https://cf.geekdo-images.com/Oh3kHw6lweg6ru71Q16h2Q__micro/img/vhB59zFDq3Kul0xbr3api2selZs=/fit-in/64x64/filters:strip_icc()/pic5235277.jpg', 'Eclipse: Second Dawn for the Galaxy(2020)Build an interstellar civilization by exploration, research, conquest, and diplomacy.', '7.974', '8.47', '13047', ''], ['19', 'https://cf.geekdo-images.com/zdagMskTF7wJBPjX74XsRw__micro/img/nXtpcw3tYaelntFHb1aH4YrN7Wk=/fit-in/64x64/filters:strip_icc()/pic2576399.jpg', '7 Wonders Duel(2015)Science? Military? What will you draft to win this head-to-head version of 7 Wonders?', '7.972', '8.10', '92711', ''], ['20', 'https://cf.geekdo-images.com/tHVtPzu82mBpeQbbZkV6EA__micro/img/jM8d5Q5btvJmcWQN_px-A-nlueI=/fit-in/64x64/filters:strip_icc()/pic3469216.jpg', 'Brass: Lancashire(2007)Test your economic mettle as you build and network in the Industrial Revolution.', '7.962', '8.19', '24642', ''], ['21', 'https://cf.geekdo-images.com/tAqLpWxQ0Oo3GaPP3MER1g__micro/img/tivhH093LwCowK-_S7bVF_xha34=/fit-in/64x64/filters:strip_icc()/pic5073276.jpg', 'Nemesis(2018)Survive an alien-infested spaceship, but beware of other players and their agendas!', '7.955', '8.27', '29637', ''], ['22', 'https://cf.geekdo-images.com/hc2NDafu5c24iLJh_IZmyg__micro/img/v2WzacDprYF837E6h9O2WuFFmpw=/fit-in/64x64/filters:strip_icc()/pic4885780.png', 'Clank! Legacy: Acquisitions Incorporated(2019)\"Go forth, be bold, and ACQUIRE!\" in this campaign version of \"Clank!\"', '7.949', '8.55', '9176', ''], ['23', 'https://cf.geekdo-images.com/CzwSm8i7tkLz6cBnrILZBg__micro/img/FQyxREkHBn7yTbGmBg7c44eLgaM=/fit-in/64x64/filters:strip_icc()/pic3453267.jpg', 'Concordia(2013)Merchants build and trade throughout the Roman Empire to please the Gods.', '7.945', '8.10', '39884', ''], ['24', 'https://cf.geekdo-images.com/s9oGMCo1fcfV4Dk3EnqLZw__micro/img/JCrcuFDrjVQ64uLbqpH-Pmg6XsU=/fit-in/64x64/filters:strip_icc()/pic3146943.png', 'A Feast for Odin(2016)Puzzle together the life of a Viking village as you hunt, farm, craft, and explore.', '7.944', '8.17', '27842', ''], ['25', 'https://cf.geekdo-images.com/yLZJCVLlIx4c7eJEWUNJ7w__micro/img/5ZaRePVhfelfofF7T_OC1e0gUCw=/fit-in/64x64/filters:strip_icc()/pic4458123.jpg', 'Wingspan(2019)Attract a beautiful and diverse collection of birds to your wildlife preserve.', '7.908', '8.06', '90684', ''], ['26', 'https://cf.geekdo-images.com/bre12I1YiXkZr7elvriz4A__micro/img/SAwaBrDhHbGuq6dFY-ok95qFMcU=/fit-in/64x64/filters:strip_icc()/pic5375624.jpg', 'Terra Mystica(2012)Play fantastical factions.  Expand your influence by terraforming and joining cults.', '7.901', '8.07', '47581', ''], ['27', 'https://cf.geekdo-images.com/B5F5ulz0UivNgrI9Ky0euA__micro/img/DnDtwD_7oQR982carXqiVfhOQog=/fit-in/64x64/filters:strip_icc()/pic3122349.jpg', 'Arkham Horror: The Card Game(2016)Investigate the horrors of Arkham while courting cosmic doom.', '7.901', '8.13', '42502', ''], ['28', 'https://cf.geekdo-images.com/6GqH14TJJhza86BX5HCLEQ__micro/img/2FKVaukjh9a-Kg9LWQuMSvLS34s=/fit-in/64x64/filters:strip_icc()/pic5674958.jpg', 'Lost Ruins of Arnak(2020)Explore an island to find resources and discover the lost ruins of Arnak.', '7.900', '8.08', '42501', ''], ['29', 'https://cf.geekdo-images.com/gDn7AhrDlmfCLSz9ZqoNFQ__micro/img/eGBh_Csj13hXnODUTB-7dmpq-M0=/fit-in/64x64/filters:strip_icc()/pic5988511.jpg', 'Great Western Trail: Second Edition(2021)Wrangle your herd of cows across the Midwest prairie and deliver it to Kansas City.', '7.893', '8.35', '11894', ''], ['30', 'https://cf.geekdo-images.com/JUAUWaVUzeBgzirhZNmHHw__micro/img/tdHLiMYfi-KTy89sGBGZVeE9ts0=/fit-in/64x64/filters:strip_icc()/pic4254509.jpg', 'Root(2018)Decide the fate of the forest as woodland factions fight for contrasting goals.', '7.886', '8.07', '49765', ''], [''], ['31', 'https://cf.geekdo-images.com/nagl1li6kYt9elV9jbfVQw__micro/img/hUKCvnqgFvTl0aOMd8FLkgCObT0=/fit-in/64x64/filters:strip_icc()/pic6228507.jpg', 'Orléans(2014)Craftsmen, scholars & monks can help you reign supreme—but who will turn up to help?', '7.873', '8.06', '30893', ''], ['32', 'https://cf.geekdo-images.com/iEBr5o8AbJi9V9cgQcYROQ__micro/img/n9Ol4YKAhRLuOu4f7OVVXGjlWSQ=/fit-in/64x64/filters:strip_icc()/pic6177719.jpg', 'Frosthaven(2022)Adventure in the frozen north and build up your outpost throughout an epic campaign.', '7.862', '8.86', '6545', ''], ['33', 'https://cf.geekdo-images.com/wKwRk0wYBcrtLAfgn4PCdg__micro/img/Q6VXZKoVSlMjTU7Vp8tn1tkcVzw=/fit-in/64x64/filters:strip_icc()/pic6624445.png', 'Too Many Bones(2017)Toss gobs of unique dice in an epic adventure en route to a final boss showdown.', '7.857', '8.35', '12755', ''], ['34', 'https://cf.geekdo-images.com/DUO2hz9AlLOH8p9ED-lCWg__micro/img/eXzdbUmCbIdMIVgiQ_QwS3YNOS4=/fit-in/64x64/filters:strip_icc()/pic1083380.jpg', 'Mage Knight Board Game(2011)Build your hero’s spells, abilities, and artifacts as you explore & conquer cities.', '7.856', '8.09', '33046', ''], ['35', 'https://cf.geekdo-images.com/fjE7V5LNq31yVEW_yuqI-Q__micro/img/TAgkPCJdNAIHZfn1BE1DXadBL9g=/fit-in/64x64/filters:strip_icc()/pic3918905.png', 'Everdell(2018)Gather resources to develop a harmonious village of woodland critters and structures.', '7.852', '8.03', '52931', ''], ['36', 'https://cf.geekdo-images.com/VuBqZ1sMaDAVVHF_OEJP4g__micro/img/p3GKOrR04nV1qkim9zq-rmFfYh8=/fit-in/64x64/filters:strip_icc()/pic5988903.jpg', 'The Crew: Mission Deep Sea(2021)Dive into the deep sea in this co-operative trick-taking game with variable missions.', '7.851', '8.17', '16506', ''], ['37', 'https://cf.geekdo-images.com/jEPmWvvYpqkWrKOzqIHFsg__micro/img/Uwm0ZfmY4ZNWWxlackDXrsmS-Io=/fit-in/64x64/filters:strip_icc()/pic4336469.png', 'Barrage(2019)Nations vie for hydroelectric dominance in a dystopia where water is power.', '7.849', '8.17', '17175', ''], ['38', 'https://cf.geekdo-images.com/l_PRU2lVlX9seScRFcvFlA__micro/img/3EqHlTkNSnZNFHVaAeFSpzfzuIQ=/fit-in/64x64/filters:strip_icc()/pic6500949.jpg', \"Viticulture Essential Edition(2015)Create the most prosperous winery in Italy from the Tuscan vineyard you've inherited.\", '7.844', '7.99', '47848', ''], ['39', 'https://cf.geekdo-images.com/Wtxml94LAXsIWQCxGPS63Q__micro/img/4Oucoa190njfSaNHr8YRIl6UnTU=/fit-in/64x64/filters:strip_icc()/pic2649434.png', 'Food Chain Magnate(2015)Strategically hire and manage your workforce to outcompete rival fast food chains.', '7.805', '8.07', '20093', ''], ['40', 'https://cf.geekdo-images.com/kRvUgYiaOq07kC67ZK5UoQ__micro/img/4DLQr45lpVBfCkiy-kVwhl4z4vQ=/fit-in/64x64/filters:strip_icc()/pic4900321.jpg', 'Marvel Champions: The Card Game(2019)Battle Marvel villains with unique teams of iconic heroes in this LCG.', '7.799', '8.13', '23052', ''], ['41', 'https://cf.geekdo-images.com/oSM_AuKYfGIwOtKbVEsoVg__micro/img/SKUliR88eoltB2ytmwz3BffW7aA=/fit-in/64x64/filters:strip_icc()/pic4503733.png', 'Pax Pamir: Second Edition(2019)Swing the tides of \"The Great Game\" as countries vie for control of Afghanistan.', '7.795', '8.20', '13546', ''], ['42', 'https://cf.geekdo-images.com/PwOwTVHovJAUQgghnGqCOg__micro/img/9ftDcGDumAWKm_3hmu6JUwjb1aU=/fit-in/64x64/filters:strip_icc()/pic4837710.png', 'Underwater Cities(2018)Develop future cities on the seafloor through politics, production, and science.', '7.788', '8.07', '19131', ''], ['43', 'https://cf.geekdo-images.com/-vOrd4bOspibyohYExLqWg__micro/img/bcHg_0mMkgMaBp9Sz1gxJtHtaHw=/fit-in/64x64/filters:strip_icc()/pic6940449.png', \"Heat: Pedal to the Metal(2022)Manage your race car's speed to keep from overheating.\", '7.784', '8.09', '19978', ''], ['44', 'https://cf.geekdo-images.com/QFiIRd2kimaMqTyWsX0aUg__micro/img/ggNIAA1GEadqvcY7Mvwb9_VEybU=/fit-in/64x64/filters:strip_icc()/pic158548.jpg', 'Puerto Rico(2002)Ship goods, construct buildings, and choose roles that benefit you more than others.', '7.781', '7.92', '70579', ''], ['45', 'https://cf.geekdo-images.com/MjeJZfulbsM1DSV3DrGJYA__micro/img/x2BDobiHVhQHl7LhBimeU8L1ko4=/fit-in/64x64/filters:strip_icc()/pic5100691.jpg', 'Cascadia(2021)Create the most harmonious ecosystem as you puzzle together habitats and wildlife.', '7.773', '7.96', '36354', ''], [''], ['46', 'https://cf.geekdo-images.com/rz22tqa5PCYvK9oDjIbvxg__micro/img/sog7ni3vUAAfvd66e6XW4iOca4I=/fit-in/64x64/filters:strip_icc()/pic1790789.jpg', 'Caverna: The Cave Farmers(2013)From a simple cave, expand your dwarven home through mining, agriculture, and more.', '7.768', '7.95', '34498', ''], ['47', 'https://cf.geekdo-images.com/7ejbxsn-UtLl3ehamuAEdw__micro/img/5UygdMxz3N_dTCkGlwVlgJXK_vg=/fit-in/64x64/filters:strip_icc()/pic79413.jpg', 'Crokinole(1876)Flick discs and make trick shots in this traditional Canadian dexterity game!', '7.762', '8.03', '17646', ''], ['48', 'https://cf.geekdo-images.com/HkZSJfQnZ3EpS214xtuplg__micro/img/7xdR1_OUo1ReAvYzhi7jBhFMHu0=/fit-in/64x64/filters:strip_icc()/pic2439223.jpg', 'Blood Rage(2015)Ragnarök has come! Secure your place in Valhalla in epic Viking battles.', '7.762', '7.93', '46468', ''], ['49', 'https://cf.geekdo-images.com/31quLNzteInnevVRAABoow__micro/img/CMEokoPk9cBV5A82_eBwjDJPMfE=/fit-in/64x64/filters:strip_icc()/pic3499707.jpg', 'Anachrony(2017)Use Exosuits & time travel to ensure your vision for the future after the cataclysm.', '7.759', '8.08', '18248', ''], ['50', 'https://cf.geekdo-images.com/Nm0Iw8NoiM9V8IsifimGBw__micro/img/HQNReYu8QkZqD4dbZeWg3cQrkv0=/fit-in/64x64/filters:strip_icc()/pic4357658.jpg', 'On Mars(2020)Be a part of the first Martian colony, striving to be the best contributor.', '7.756', '8.20', '12294', ''], ['51', 'https://cf.geekdo-images.com/dDDo2Hexl80ucK1IlqTk-g__micro/img/SZgGqufNqaW8BCFT29wkYPaRXOE=/fit-in/64x64/filters:strip_icc()/pic831744.jpg', \"Agricola(2007)Build your farmstead by sowing fields and raising livestock. But don't forget to eat!\", '7.753', '7.88', '72285', ''], ['52', 'https://cf.geekdo-images.com/L2Wn-zUqkcHgqvwvY212Ig__micro/img/2pY9Wo185ehuYO7Mb0gTDpdww74=/fit-in/64x64/filters:strip_icc()/pic4924232.jpg', 'Kanban EV(2020)EV-factory workers optimize and innovate to stand out at the big board meeting.', '7.752', '8.43', '7305', ''], ['53', 'https://cf.geekdo-images.com/y0x1zbkpUXjddzWWnhekYw__micro/img/oUW7QBHTiMOcpt5FgNXd_Uy2LfM=/fit-in/64x64/filters:strip_icc()/pic5581457.jpg', 'Pandemic Legacy: Season 0(2020)Work together during the Cold War to prevent a Soviet bio-threat.', '7.750', '8.41', '7410', ''], ['54', 'https://cf.geekdo-images.com/Zdt8l4oTBpFICsMyNof7Jg__micro/img/xnXopdLVlL31M169AjW8ofHRe5Q=/fit-in/64x64/filters:strip_icc()/pic5975244.png', 'Sleeping Gods(2021)Voyages of the steamship \"Manticore\" and her crew on the Wandering Sea.', '7.748', '8.24', '11415', ''], ['55', 'https://cf.geekdo-images.com/Qtkb-UTvHa0-kxt_MK1nKw__micro/img/eYV_Y45Hk66WceHroLlRqnHEHmg=/fit-in/64x64/filters:strip_icc()/pic3763549.jpg', 'Pandemic Legacy: Season 2(2017)The world is a mystery after a devastating pandemic—where will your team go?', '7.727', '8.04', '16703', ''], ['56', 'https://cf.geekdo-images.com/LIooA9bTdjnE9qmhjL-UFw__micro/img/rsUu4YzIErI1oi6TRRA-cKiS-I0=/fit-in/64x64/filters:strip_icc()/pic3118622.jpg', 'Mansions of Madness: Second Edition(2016)Unravel mysteries in Arkham with your investigative team in this app-guided game.', '7.718', '7.95', '35855', ''], ['57', 'https://cf.geekdo-images.com/OrHS8_a1CqSGiXeTfCk0Wg__micro/img/rpfZR0COMOP41SI2EZPrSrX_LL8=/fit-in/64x64/filters:strip_icc()/pic3209553.jpg', 'Lisboa(2017)Compete to reconstruct the city of Lisboa after the great earthquake of 1755.', '7.718', '8.19', '10853', ''], ['58', 'https://cf.geekdo-images.com/rMNa0k05zMdKgSEp26Q3Tw__micro/img/rDI-yCgwVbB_szRjUWOY8IKIdUk=/fit-in/64x64/filters:strip_icc()/pic4917407.jpg', 'Maracaibo(2019)Seafarers journey to obtain wealth and fame in the 17th century Caribbean.', '7.711', '8.04', '15842', ''], ['59', 'https://cf.geekdo-images.com/kXf7mDyDYuHg6oe8yTUIEA__micro/img/3EqJtoxAlTb2pJWxmA7TUu4HWNI=/fit-in/64x64/filters:strip_icc()/pic4604439.jpg', \"Tzolk'in: The Mayan Calendar(2012)Lead your people, build monuments and make offerings to earn the favour of the gods.\", '7.706', '7.86', '38896', ''], ['60', 'https://cf.geekdo-images.com/yd6LuatytHRhcFCxCf-EEg__micro/img/ZUrGKfXAZS4AztFRXq2W9oD6TG4=/fit-in/64x64/filters:strip_icc()/pic4459753.jpg', 'Power Grid(2004)Bid, network, and manage resources in a race to supply the most cities with power.', '7.704', '7.81', '64917', ''], [''], ['61', 'https://cf.geekdo-images.com/e8D09pfFsUsoX1D81EeoZg__micro/img/g4fUW30OaTTN48VW7tdVOIAEvWQ=/fit-in/64x64/filters:strip_icc()/pic4705171.jpg', 'Cthulhu: Death May Die(2019)Disrupt the ritual and slay the Elder Gods in this co-op dice chucker.', '7.700', '8.19', '11881', ''], ['62', 'https://cf.geekdo-images.com/sy89BiuZXfbSnG7Cag9tBQ__micro/img/0VYxwvacU7ADCGyJt5iLMa5WQoA=/fit-in/64x64/filters:strip_icc()/pic5902073.png', 'Obsession(2018)Renovate an estate, manage servants, and pursue romance in Victorian England.', '7.689', '8.16', '11512', ''], ['63', 'https://cf.geekdo-images.com/pH5LgRL4mNRon-2NsSDb1Q__micro/img/pAWwGfiqFpn-kkzUKexMTZOvoA4=/fit-in/64x64/filters:strip_icc()/pic6137509.png', 'The Quacks of Quedlinburg(2018)Pull ingredients from your stock to make your pot bubble, but hopefully not explode!', '7.687', '7.83', '48403', ''], ['64', 'https://cf.geekdo-images.com/SPuwc6RJ6y4PnTH36Pegsg__micro/img/wWI0kOjt4L4TOOV_Dn2BLthq5QQ=/fit-in/64x64/filters:strip_icc()/pic3511783.png', 'Clans of Caledonia(2017)Lead your unique Scottish clan to economic might via production, trade, and export.', '7.685', '7.95', '20164', ''], ['65', 'https://cf.geekdo-images.com/GlCmHjdLwv3SqSjv52ToGw__micro/img/egqhEcYTqBsaT7AeNBe2LdUcGZs=/fit-in/64x64/filters:strip_icc()/pic6966955.jpg', 'Grand Austria Hotel(2015)Serve guests and prepare rooms to be the best hotelier in the Viennese modern age.', '7.684', '7.94', '20416', ''], ['66', 'https://cf.geekdo-images.com/y7Rqd3S6J7vyVhicR1bqTQ__micro/img/c1qPt4uwG4qhjxmrgtIuKulwQkI=/fit-in/64x64/filters:strip_icc()/pic6091101.jpg', 'Le Havre(2008)Establish a supply chain by collecting resources, building industries, and shipping.', '7.683', '7.85', '31366', ''], ['67', 'https://cf.geekdo-images.com/4nhokcLdYoo6ulbZ1rmGgA__micro/img/WMzScSxJICvIyErl47KBVoskhnQ=/fit-in/64x64/filters:strip_icc()/pic4462987.png', 'Paladins of the West Kingdom(2019)Invaders are coming from everywhere.  Keep the faith and defend your homeland.', '7.680', '7.99', '17439', ''], ['68', 'https://cf.geekdo-images.com/pIQ_MXvaoARRp1loCHJuHg__micro/img/i2soAnlvaDCzWksrpO2By4-GgGA=/fit-in/64x64/filters:strip_icc()/pic2247647.jpg', 'Star Wars: Imperial Assault(2014)Play as Rebel or Imperial forces to fulfill mission objectives.', '7.676', '7.97', '24468', ''], ['69', 'https://cf.geekdo-images.com/ie1GSt1XV04sXQXt-3O1UQ__micro/img/Zxap2me5W8VgLK_VNU_lY5vLnbA=/fit-in/64x64/filters:strip_icc()/pic2503200.png', 'The Gallerist(2015)Amass a fortune, and stake your reputation by operating a lucrative art gallery.', '7.676', '8.02', '14326', ''], ['70', 'https://cf.geekdo-images.com/98LnQShydr11OBKS46xY-Q__micro/img/bIVTqYzQ5wDuCSmcQvpNokXZOUo=/fit-in/64x64/filters:strip_icc()/pic5687013.jpg', 'The Crew: The Quest for Planet Nine(2019)Go on many planet-discovering space missions in this cooperative trick-taking game.', '7.668', '7.81', '40759', ''], ['71', 'https://cf.geekdo-images.com/n4J5LebMj0DQD016qW7ABw__micro/img/n4vvAq2JZvjf0yS_Mugr79dqM90=/fit-in/64x64/filters:strip_icc()/pic3184103.jpg', 'Mechs vs. Minions(2016)Cooperatively program and pilot your mechs to defeat an army of marauding minions.', '7.665', '7.97', '17310', ''], ['72', 'https://cf.geekdo-images.com/2ewHIIG_TRq8bYlqk0jIMw__micro/img/U5irACQ5P-7X9XyeDWj71ai-Ruw=/fit-in/64x64/filters:strip_icc()/pic3738560.jpg', 'Android: Netrunner(2012)Megacorporation versus Netrunner in this futuristic cyberpunk game of cat and mouse.', '7.659', '7.88', '29952', ''], ['73', 'https://cf.geekdo-images.com/LenzJBOHboAGU0cUIqAZPQ__micro/img/6YI32BDhyuO9JZrofc1CPbuFlVY=/fit-in/64x64/filters:strip_icc()/pic2931007.jpg', 'Kingdom Death: Monster(2015)Try to survive in a nightmarish world that lies under eternal darkness.', '7.656', '8.50', '9542', ''], ['74', 'https://cf.geekdo-images.com/aPSHJO0d0XOpQR5X-wJonw__micro/img/3M2bj5ZXqAskTOvLTXRuHOH-Y44=/fit-in/64x64/filters:strip_icc()/pic6973671.png', 'Azul(2017)Artfully embellish the walls of your palace by drafting the most beautiful tiles.', '7.643', '7.75', '88368', ''], ['75', 'https://cf.geekdo-images.com/YCGWJMFwOI5efji2RJ2mSw__micro/img/GQNkMukGtKD2cVOgpUk4ZSmpUfA=/fit-in/64x64/filters:strip_icc()/pic8093340.jpg', 'Agricola (Revised Edition)(2016)Help your farm to prosper in this updated, streamlined edition of the acclaimed game.', '7.640', '7.96', '17401', ''], [''], ['76', 'https://cf.geekdo-images.com/-DOqixs8uwKUvvWPKI4f9w__micro/img/Fz_qRw_ZHI9TfZXY0b4YZ6zfT7o=/fit-in/64x64/filters:strip_icc()/pic5261714.jpg', \"Race for the Galaxy(2007)Worlds await! Colonize, develop and conquer, taking advantage of others' choices.\", '7.631', '7.74', '55077', ''], ['77', 'https://cf.geekdo-images.com/dmo-WD6HZHVUPrbVHunaTw__micro/img/fxKL3MvU00YeEkfeLNdQGUl5rxA=/fit-in/64x64/filters:strip_icc()/pic2055255.jpg', 'Five Tribes: The Djinns of Naqala(2014)Move assassins, elders & builders through Naqala to claim oases & control djinns.', '7.625', '7.78', '41047', ''], ['78', 'https://cf.geekdo-images.com/cnFppsVNOSTJ-W3APQFuTg__micro/img/dfQTNAju5CUxn6JQl-Pxubac99o=/fit-in/64x64/filters:strip_icc()/pic1974056.jpg', 'Eclipse: New Dawn for the Galaxy(2011)Build an interstellar civilization by exploration, research, conquest, and diplomacy.', '7.622', '7.83', '28282', ''], ['79', 'https://cf.geekdo-images.com/dezQ4YjF03lZVxTdI-UJYw__micro/img/7bEpYVStLA2qmeKUIweHTGziwSU=/fit-in/64x64/filters:strip_icc()/pic6863204.jpg', \"Oathsworn: Into the Deepwood(2022)Fight for humanity's survival against unnatural horrors and the Deepwood itself.\", '7.622', '9.02', '4351', ''], ['80', 'https://cf.geekdo-images.com/DPjV1iI0ygo5Bl3XLNRiIg__micro/img/5hO7ln_bquTyy4Q__ksB4NT1gMs=/fit-in/64x64/filters:strip_icc()/pic4449526.jpg', \"Clank!: A Deck-Building Adventure(2016)Claim your treasures but don't attract the dragon in this deck-building dungeon race.\", '7.620', '7.78', '41679', ''], ['81', 'https://cf.geekdo-images.com/d50LceHj6LIafa4S_qIsCg__micro/img/0El7f9TAr9UfvKlcsXYrBe8jEOc=/fit-in/64x64/filters:strip_icc()/pic3189350.jpg', \"Aeon's End(2016)Mages must reach their full potential to defend humanity from terrible monstrosities.\", '7.618', '7.91', '20187', ''], ['82', 'https://cf.geekdo-images.com/0w8go6cfvlpgJKydHUkDtA__micro/img/9JEU9pIfwl2wUIE3fmCmjjH_iiM=/fit-in/64x64/filters:strip_icc()/pic2225968.png', 'Fields of Arle(2014)Construct dikes, drain bogs, harvest flax and tend to newborn animals in East Frisia.', '7.606', '8.03', '10834', ''], ['83', 'https://cf.geekdo-images.com/BfEHqHQAvZLbRX7y7e9TWg__micro/img/RgHc2PFvpz3xxRPRg5v7d46JQNc=/fit-in/64x64/filters:strip_icc()/pic5617866.jpg', 'Beyond the Sun(2020)Collectively develop a tech tree to fuel new discoveries and colonize space.', '7.602', '7.94', '13998', ''], ['84', 'https://cf.geekdo-images.com/wW5xjgBJcFyLaEWZwrYuKA__micro/img/kXVTBtcGC-5L706WFNJLAuZTovQ=/fit-in/64x64/filters:strip_icc()/pic4583626.jpg', 'Teotihuacan: City of Gods(2018)Use your worker dice to raise the legendary and breathtaking Pyramid of the Sun.', '7.600', '7.87', '19623', ''], ['85', 'https://cf.geekdo-images.com/3piN3YX4WmBRuIvbEG2Ygg__micro/img/xy_566fY112BYtYJjT29cfAcHsk=/fit-in/64x64/filters:strip_icc()/pic236169.jpg', 'Through the Ages: A Story of Civilization(2006)Lead your civilization through strategic drafting of leaders, technologies, and more.', '7.599', '7.85', '19300', ''], ['86', 'https://cf.geekdo-images.com/-hk8f8iGk_DyWyMrfiPBkg__micro/img/tWSg9ErrwvVcwaE1Kze1IsxwpGg=/fit-in/64x64/filters:strip_icc()/pic1116080.jpg', 'Lords of Waterdeep(2012)Deploy agents and hire adventurers to expand your control over the city of Waterdeep.', '7.594', '7.74', '55100', ''], ['87', 'https://cf.geekdo-images.com/DCLgJlrvB-EqL6A3WgQLMQ__micro/img/j_LPta_lgRrN8Rrs9Rxt_d3Hysc=/fit-in/64x64/filters:strip_icc()/pic5715770.jpg', 'Hegemony: Lead Your Class to Victory(2023)Simulate a whole contemporary nation in this asymmetric, politico-economic euro-game.', '7.586', '8.53', '5349', ''], ['88', 'https://cf.geekdo-images.com/oeygRZntjNUJWvc8SxDfww__micro/img/gXi23Nbfem6XTfRlV2eHEHB_cHY=/fit-in/64x64/filters:strip_icc()/pic784193.jpg', 'Dominant Species(2010)With an ice age approaching, which animals will best propagate, migrate, and adapt?', '7.583', '7.82', '21049', ''], ['89', 'https://cf.geekdo-images.com/n1G7_aWToLAAB7Mqt8iwyA__micro/img/c8Ld-3E8S0devFlugLvyiAEESbY=/fit-in/64x64/filters:strip_icc()/pic2461346.png', 'The Voyages of Marco Polo(2015)Using unique abilities, fulfill contracts and reach your goals along the Silk Road.', '7.581', '7.79', '24679', ''], ['90', 'https://cf.geekdo-images.com/FbFnaTx3aT5dM18K_bR_Pg__micro/img/brcsM5-72GgeBDQg3CSI6VB1Dqo=/fit-in/64x64/filters:strip_icc()/pic3165731.jpg', 'Robinson Crusoe: Adventures on the Cursed Island(2012)Work together — with friends or with Friday — to survive on a deserted island.', '7.579', '7.75', '42997', ''], [''], ['91', 'https://cf.geekdo-images.com/35h9Za_JvMMMtx_92kT0Jg__micro/img/4BRnGQ-EoU-2LNirfZpUC3HRReU=/fit-in/64x64/filters:strip_icc()/pic7149798.jpg', '7 Wonders(2010)Draft cards to develop your ancient civilization and build its Wonder of the World.', '7.578', '7.69', '103590', ''], ['92', 'https://cf.geekdo-images.com/RRKDHaYtFPHhczkUDcHOmg__micro/img/_hnYEtmQrfIco_6UTFRLZdhWMnQ=/fit-in/64x64/filters:strip_icc()/pic7906240.jpg', 'El Grande(1995)Use your caballeros to control regions of medieval Spain, keeping clear of the King!', '7.570', '7.75', '28305', ''], ['93', 'https://cf.geekdo-images.com/NItjtztEUAKOpaTWZddu9A__micro/img/m4I9uS6LBjNz02oNquEkBM-L464=/fit-in/64x64/filters:strip_icc()/pic5744928.jpg', 'The Search for Planet X(2020)Plan, scan, and theorize to find a new planet at the edge of our solar system.', '7.568', '7.97', '11688', ''], ['94', 'https://cf.geekdo-images.com/aAwBzPzta4joKfFZt05hCw__micro/img/28sp86TqPbMqn9M_qHWfS9j44-w=/fit-in/64x64/filters:strip_icc()/pic4385726.jpg', 'Tainted Grail: The Fall of Avalon(2019)Exploration, combat, and diplomacy in a dark Arthurian realm.', '7.549', '8.09', '12149', ''], ['95', 'https://cf.geekdo-images.com/5Q2w2rFJiFI_uV89KP6ECg__micro/img/KGgAsbHUPaEjsl-r05JCH2ixP1o=/fit-in/64x64/filters:strip_icc()/pic354500.jpg', \"Battlestar Galactica: The Board Game(2008)How can the human race survive when you don't know who is actually human?\", '7.542', '7.73', '36353', ''], ['96', 'https://cf.geekdo-images.com/OAX7HfOz-9N60StgADzd0g__micro/img/5OEOXKjvrEMh2aT5I-FrAn5-9jo=/fit-in/64x64/filters:strip_icc()/pic3781944.png', 'Architects of the West Kingdom(2018)Will you be a virtuous or nefarious servant of the king? Build your way to glory.', '7.542', '7.74', '28573', ''], ['97', 'https://cf.geekdo-images.com/hHZWXnUTMYDd_KTAM6Jwlw__micro/img/g7DQGNNf6ZFwYDGpe9kT3e4KELY=/fit-in/64x64/filters:strip_icc()/pic3759421.jpg', \"Decrypto(2018)Decipher your opponents' code before they decipher yours. Don't get caught.\", '7.541', '7.77', '21956', ''], ['98', 'https://cf.geekdo-images.com/6QE8mnPFmauoj2THsyUYPA__micro/img/KzK9JEEodDn0EyHA8rJy2X0cyYA=/fit-in/64x64/filters:strip_icc()/pic4739757.jpg', 'Inis(2016)Claim the crown through merit and wisdom in this Celtic island struggle.', '7.539', '7.83', '19814', ''], ['99', 'https://cf.geekdo-images.com/9gob752VqEklQFV_gz16hw__micro/img/kYOLnVbUwnKjA37DqEe9HECvqI0=/fit-in/64x64/filters:strip_icc()/pic2585510.png', 'Trickerion: Legends of Illusion(2015)Magicians perform dazzling tricks for money and fame in a Victorian steampunk world.', '7.533', '7.97', '10684', ''], ['100', 'https://cf.geekdo-images.com/36WIe0ZHkp5OvHOlB-8vog__micro/img/7lY7AE0KsFAO2svml1DMpa20-kg=/fit-in/64x64/filters:strip_icc()/pic4356580.jpg', 'Concordia Venus(2018)Merchants build and trade throughout the Roman Empire to please the Gods.', '7.530', '8.29', '5587', '']]]\n"
     ]
    }
   ],
   "source": [
    "# extract the data from the web page   \n",
    "\n",
    "import pandas as pd\n",
    "\n",
    "soup = BeautifulSoup(html, 'html.parser')\n",
    "\n",
    "all_data = []\n",
    "\n",
    "# get all tables in the page\n",
    "tables = soup.find_all('table')\n",
    "\n",
    "# Extract header\n",
    "header = []\n",
    "for th in tables[0].find_all('th'):\n",
    "  header.append(th.get_text(strip=True))\n",
    "\n",
    "# get data from each table\n",
    "for table in tables:\n",
    "  table_data = []\n",
    "  for tr in table.find_all('tr'):\n",
    "      row_data = []\n",
    "      for td in tr.find_all('td'):\n",
    "          img_tag = td.find('img')\n",
    "          if img_tag:\n",
    "              row_data.append(img_tag['src'])\n",
    "          else:\n",
    "              row_data.append(td.get_text(strip=True))\n",
    "      table_data.append(row_data)\n",
    "  all_data.append(table_data)\n",
    "  \n",
    "print(header)\n",
    "print(all_data)"
   ]
  },
  {
   "cell_type": "code",
   "execution_count": 0,
   "metadata": {
    "application/vnd.databricks.v1+cell": {
     "cellMetadata": {
      "byteLimit": 2048000,
      "rowLimit": 10000
     },
     "inputWidgets": {},
     "nuid": "c071abd8-5c7c-4db7-8282-8307400f7de9",
     "showTitle": false,
     "tableResultSettingsMap": {},
     "title": ""
    }
   },
   "outputs": [
    {
     "output_type": "display_data",
     "data": {
      "text/html": [
       "<style scoped>\n",
       "  .table-result-container {\n",
       "    max-height: 300px;\n",
       "    overflow: auto;\n",
       "  }\n",
       "  table, th, td {\n",
       "    border: 1px solid black;\n",
       "    border-collapse: collapse;\n",
       "  }\n",
       "  th, td {\n",
       "    padding: 5px;\n",
       "  }\n",
       "  th {\n",
       "    text-align: left;\n",
       "  }\n",
       "</style><div class='table-result-container'><table class='table-result'><thead style='background-color: white'><tr><th>Board Game Rank</th><th>Thumbnail image</th><th>Title</th><th>Geek Rating</th><th>Avg Rating</th><th>Num Voters</th><th>Shop</th></tr></thead><tbody><tr><td>null</td><td>null</td><td>null</td><td>null</td><td>null</td><td>null</td><td>null</td></tr><tr><td>1</td><td>https://cf.geekdo-images.com/x3zxjr-Vw5iU4yDPg70Jgw__micro/img/4Od3GYCiqptga0VbmyumPbJlBsU=/fit-in/64x64/filters:strip_icc()/pic3490053.jpg</td><td>Brass: Birmingham(2018)Build networks, grow industries, and navigate the world of the Industrial Revolution.</td><td>8.417</td><td>8.60</td><td>44343</td><td></td></tr><tr><td>2</td><td>https://cf.geekdo-images.com/-Qer2BBPG7qGGDu6KcVDIw__micro/img/n6-sXYD6XXZoqIxq4P6AG7VPCuA=/fit-in/64x64/filters:strip_icc()/pic2452831.png</td><td>Pandemic Legacy: Season 1(2015)Mutating diseases are spreading around the world - can your team save humanity?</td><td>8.383</td><td>8.53</td><td>52964</td><td></td></tr><tr><td>3</td><td>https://cf.geekdo-images.com/sZYp_3BTDGjh2unaZfZmuA__micro/img/sQyh47ClBO3d5sxPm73hMvM-JV4=/fit-in/64x64/filters:strip_icc()/pic2437871.jpg</td><td>Gloomhaven(2017)Vanquish monsters with strategic cardplay. Fulfill your quest to leave your legacy!</td><td>8.361</td><td>8.60</td><td>61512</td><td></td></tr><tr><td>4</td><td>https://cf.geekdo-images.com/SoU8p28Sk1s8MSvoM4N8pQ__micro/img/LSAi1pmhbTbWwtBrziutDOXzfdY=/fit-in/64x64/filters:strip_icc()/pic6293412.jpg</td><td>Ark Nova(2021)Plan and build a modern, scientifically managed zoo to support conservation projects.</td><td>8.333</td><td>8.54</td><td>41305</td><td></td></tr><tr><td>5</td><td>https://cf.geekdo-images.com/_Ppn5lssO5OaildSE-FgFA__micro/img/2gymaKs35_2yj7eyyA6cYyVmd9c=/fit-in/64x64/filters:strip_icc()/pic3727516.jpg</td><td>Twilight Imperium: Fourth Edition(2017)Build an intergalactic empire through trade, research, conquest and grand politics.</td><td>8.243</td><td>8.60</td><td>23240</td><td></td></tr><tr><td>6</td><td>https://cf.geekdo-images.com/PhjygpWSo-0labGrPBMyyg__micro/img/mfU7-dEFnVyXJrF-BWAO0buexao=/fit-in/64x64/filters:strip_icc()/pic5666597.jpg</td><td>Dune: Imperium(2020)Influence, intrigue, and combat in the universe of Dune.</td><td>8.225</td><td>8.43</td><td>43405</td><td></td></tr><tr><td>7</td><td>https://cf.geekdo-images.com/wg9oOLcsKvDesSUdZQ4rxw__micro/img/LUkXZhd1TO80eCiXMD3-KfnzA6k=/fit-in/64x64/filters:strip_icc()/pic3536616.jpg</td><td>Terraforming Mars(2016)Compete with rival CEOs to make Mars habitable and build your corporate empire.</td><td>8.216</td><td>8.36</td><td>97186</td><td></td></tr><tr><td>8</td><td>https://cf.geekdo-images.com/ImPgGag98W6gpV1KV812aA__micro/img/NT-Av_3kdYUcwuti5ocmIQXow3g=/fit-in/64x64/filters:strip_icc()/pic1215633.jpg</td><td>War of the Ring: Second Edition(2011)The Fellowship and the Free Peoples clash with Sauron over the fate of Middle-earth.</td><td>8.180</td><td>8.54</td><td>20909</td><td></td></tr><tr><td>9</td><td>https://cf.geekdo-images.com/_HhIdavYW-hid20Iq3hhmg__micro/img/OdKjWiFsNvQAfJfXXSITttiozWE=/fit-in/64x64/filters:strip_icc()/pic5055631.jpg</td><td>Gloomhaven: Jaws of the Lion(2020)Vanquish monsters with strategic cardplay in a 25-scenario Gloomhaven campaign.</td><td>8.174</td><td>8.45</td><td>33323</td><td></td></tr><tr><td>10</td><td>https://cf.geekdo-images.com/7SrPNGBKg9IIsP4UQpOi8g__micro/img/nEvTiCkWpT-ymH4bstc9c335TtQ=/fit-in/64x64/filters:strip_icc()/pic4325841.jpg</td><td>Star Wars: Rebellion(2016)Strike from your hidden base as the Rebels—or find and destroy it as the Empire.</td><td>8.171</td><td>8.42</td><td>31966</td><td></td></tr><tr><td>11</td><td>https://cf.geekdo-images.com/kjCm4ZvPjIZxS-mYgSPy1g__micro/img/sRPer5FmBxyV527MY67P-gM7ukg=/fit-in/64x64/filters:strip_icc()/pic7013651.jpg</td><td>Spirit Island(2017)Island Spirits join forces using elemental powers to defend their home from invaders.</td><td>8.146</td><td>8.35</td><td>50055</td><td></td></tr><tr><td>12</td><td>https://cf.geekdo-images.com/hGWFm3hbMlCDsfCsauOQ4g__micro/img/odWj2bEnZi9dEcQQrOtYj1e0QLE=/fit-in/64x64/filters:strip_icc()/pic5375625.png</td><td>Gaia Project(2017)Expand, research, upgrade, and settle the galaxy with one of 14 alien species.</td><td>8.120</td><td>8.39</td><td>26609</td><td></td></tr><tr><td>13</td><td>https://cf.geekdo-images.com/pNCiUUphnoeWOYfsWq0kng__micro/img/ZlfJiIATIt5MY7xWSMzFmdygaa0=/fit-in/64x64/filters:strip_icc()/pic3530661.jpg</td><td>Twilight Struggle(2005)Relive the Cold War and rewrite history in an epic clash between the USA and USSR.</td><td>8.070</td><td>8.25</td><td>48370</td><td></td></tr><tr><td>14</td><td>https://cf.geekdo-images.com/fVwPntkJKgaEo0rIC0RwpA__micro/img/77dZJpqtydc8TTecl0ReGF7iAVw=/fit-in/64x64/filters:strip_icc()/pic2663291.jpg</td><td>Through the Ages: A New Story of Civilization(2015)Rewrite history as you build up your civilization in this epic card drafting game!</td><td>8.064</td><td>8.30</td><td>31249</td><td></td></tr><tr><td>15</td><td>https://cf.geekdo-images.com/u1l0gH7sb_vnvDvoO_QHqA__micro/img/xeShpQfbj4L1id-ItJbfIYVzgyA=/fit-in/64x64/filters:strip_icc()/pic4887376.jpg</td><td>Great Western Trail(2016)Use strategic outposts and navigate danger as you herd your cattle to Kansas City.</td><td>8.035</td><td>8.20</td><td>40417</td><td></td></tr><tr><td></td><td>null</td><td>null</td><td>null</td><td>null</td><td>null</td><td>null</td></tr><tr><td>16</td><td>https://cf.geekdo-images.com/5CFwjd8zTcGYVUnkXh04hw__micro/img/N1VrEUaW6bmwnqbZfi2nRScwGxM=/fit-in/64x64/filters:strip_icc()/pic1176894.jpg</td><td>The Castles of Burgundy(2011)Plan, trade, and build your Burgundian estate to prosperity and prominence.</td><td>8.013</td><td>8.14</td><td>61348</td><td></td></tr><tr><td>17</td><td>https://cf.geekdo-images.com/7k_nOxpO9OGIjhLq2BUZdA__micro/img/ETplc22GdhlN5u0mppcDxSP8LVk=/fit-in/64x64/filters:strip_icc()/pic3163924.jpg</td><td>Scythe(2016)Five factions vie for dominance in a war-torn, mech-filled, dieselpunk 1920s Europe.</td><td>7.997</td><td>8.15</td><td>82141</td><td></td></tr><tr><td>18</td><td>https://cf.geekdo-images.com/Oh3kHw6lweg6ru71Q16h2Q__micro/img/vhB59zFDq3Kul0xbr3api2selZs=/fit-in/64x64/filters:strip_icc()/pic5235277.jpg</td><td>Eclipse: Second Dawn for the Galaxy(2020)Build an interstellar civilization by exploration, research, conquest, and diplomacy.</td><td>7.974</td><td>8.47</td><td>13047</td><td></td></tr><tr><td>19</td><td>https://cf.geekdo-images.com/zdagMskTF7wJBPjX74XsRw__micro/img/nXtpcw3tYaelntFHb1aH4YrN7Wk=/fit-in/64x64/filters:strip_icc()/pic2576399.jpg</td><td>7 Wonders Duel(2015)Science? Military? What will you draft to win this head-to-head version of 7 Wonders?</td><td>7.972</td><td>8.10</td><td>92711</td><td></td></tr><tr><td>20</td><td>https://cf.geekdo-images.com/tHVtPzu82mBpeQbbZkV6EA__micro/img/jM8d5Q5btvJmcWQN_px-A-nlueI=/fit-in/64x64/filters:strip_icc()/pic3469216.jpg</td><td>Brass: Lancashire(2007)Test your economic mettle as you build and network in the Industrial Revolution.</td><td>7.962</td><td>8.19</td><td>24642</td><td></td></tr><tr><td>21</td><td>https://cf.geekdo-images.com/tAqLpWxQ0Oo3GaPP3MER1g__micro/img/tivhH093LwCowK-_S7bVF_xha34=/fit-in/64x64/filters:strip_icc()/pic5073276.jpg</td><td>Nemesis(2018)Survive an alien-infested spaceship, but beware of other players and their agendas!</td><td>7.955</td><td>8.27</td><td>29637</td><td></td></tr><tr><td>22</td><td>https://cf.geekdo-images.com/hc2NDafu5c24iLJh_IZmyg__micro/img/v2WzacDprYF837E6h9O2WuFFmpw=/fit-in/64x64/filters:strip_icc()/pic4885780.png</td><td>Clank! Legacy: Acquisitions Incorporated(2019)\"Go forth, be bold, and ACQUIRE!\" in this campaign version of \"Clank!\"</td><td>7.949</td><td>8.55</td><td>9176</td><td></td></tr><tr><td>23</td><td>https://cf.geekdo-images.com/CzwSm8i7tkLz6cBnrILZBg__micro/img/FQyxREkHBn7yTbGmBg7c44eLgaM=/fit-in/64x64/filters:strip_icc()/pic3453267.jpg</td><td>Concordia(2013)Merchants build and trade throughout the Roman Empire to please the Gods.</td><td>7.945</td><td>8.10</td><td>39884</td><td></td></tr><tr><td>24</td><td>https://cf.geekdo-images.com/s9oGMCo1fcfV4Dk3EnqLZw__micro/img/JCrcuFDrjVQ64uLbqpH-Pmg6XsU=/fit-in/64x64/filters:strip_icc()/pic3146943.png</td><td>A Feast for Odin(2016)Puzzle together the life of a Viking village as you hunt, farm, craft, and explore.</td><td>7.944</td><td>8.17</td><td>27842</td><td></td></tr><tr><td>25</td><td>https://cf.geekdo-images.com/yLZJCVLlIx4c7eJEWUNJ7w__micro/img/5ZaRePVhfelfofF7T_OC1e0gUCw=/fit-in/64x64/filters:strip_icc()/pic4458123.jpg</td><td>Wingspan(2019)Attract a beautiful and diverse collection of birds to your wildlife preserve.</td><td>7.908</td><td>8.06</td><td>90684</td><td></td></tr><tr><td>26</td><td>https://cf.geekdo-images.com/bre12I1YiXkZr7elvriz4A__micro/img/SAwaBrDhHbGuq6dFY-ok95qFMcU=/fit-in/64x64/filters:strip_icc()/pic5375624.jpg</td><td>Terra Mystica(2012)Play fantastical factions.  Expand your influence by terraforming and joining cults.</td><td>7.901</td><td>8.07</td><td>47581</td><td></td></tr><tr><td>27</td><td>https://cf.geekdo-images.com/B5F5ulz0UivNgrI9Ky0euA__micro/img/DnDtwD_7oQR982carXqiVfhOQog=/fit-in/64x64/filters:strip_icc()/pic3122349.jpg</td><td>Arkham Horror: The Card Game(2016)Investigate the horrors of Arkham while courting cosmic doom.</td><td>7.901</td><td>8.13</td><td>42502</td><td></td></tr><tr><td>28</td><td>https://cf.geekdo-images.com/6GqH14TJJhza86BX5HCLEQ__micro/img/2FKVaukjh9a-Kg9LWQuMSvLS34s=/fit-in/64x64/filters:strip_icc()/pic5674958.jpg</td><td>Lost Ruins of Arnak(2020)Explore an island to find resources and discover the lost ruins of Arnak.</td><td>7.900</td><td>8.08</td><td>42501</td><td></td></tr><tr><td>29</td><td>https://cf.geekdo-images.com/gDn7AhrDlmfCLSz9ZqoNFQ__micro/img/eGBh_Csj13hXnODUTB-7dmpq-M0=/fit-in/64x64/filters:strip_icc()/pic5988511.jpg</td><td>Great Western Trail: Second Edition(2021)Wrangle your herd of cows across the Midwest prairie and deliver it to Kansas City.</td><td>7.893</td><td>8.35</td><td>11894</td><td></td></tr><tr><td>30</td><td>https://cf.geekdo-images.com/JUAUWaVUzeBgzirhZNmHHw__micro/img/tdHLiMYfi-KTy89sGBGZVeE9ts0=/fit-in/64x64/filters:strip_icc()/pic4254509.jpg</td><td>Root(2018)Decide the fate of the forest as woodland factions fight for contrasting goals.</td><td>7.886</td><td>8.07</td><td>49765</td><td></td></tr><tr><td></td><td>null</td><td>null</td><td>null</td><td>null</td><td>null</td><td>null</td></tr><tr><td>31</td><td>https://cf.geekdo-images.com/nagl1li6kYt9elV9jbfVQw__micro/img/hUKCvnqgFvTl0aOMd8FLkgCObT0=/fit-in/64x64/filters:strip_icc()/pic6228507.jpg</td><td>Orléans(2014)Craftsmen, scholars & monks can help you reign supreme—but who will turn up to help?</td><td>7.873</td><td>8.06</td><td>30893</td><td></td></tr><tr><td>32</td><td>https://cf.geekdo-images.com/iEBr5o8AbJi9V9cgQcYROQ__micro/img/n9Ol4YKAhRLuOu4f7OVVXGjlWSQ=/fit-in/64x64/filters:strip_icc()/pic6177719.jpg</td><td>Frosthaven(2022)Adventure in the frozen north and build up your outpost throughout an epic campaign.</td><td>7.862</td><td>8.86</td><td>6545</td><td></td></tr><tr><td>33</td><td>https://cf.geekdo-images.com/wKwRk0wYBcrtLAfgn4PCdg__micro/img/Q6VXZKoVSlMjTU7Vp8tn1tkcVzw=/fit-in/64x64/filters:strip_icc()/pic6624445.png</td><td>Too Many Bones(2017)Toss gobs of unique dice in an epic adventure en route to a final boss showdown.</td><td>7.857</td><td>8.35</td><td>12755</td><td></td></tr><tr><td>34</td><td>https://cf.geekdo-images.com/DUO2hz9AlLOH8p9ED-lCWg__micro/img/eXzdbUmCbIdMIVgiQ_QwS3YNOS4=/fit-in/64x64/filters:strip_icc()/pic1083380.jpg</td><td>Mage Knight Board Game(2011)Build your hero’s spells, abilities, and artifacts as you explore & conquer cities.</td><td>7.856</td><td>8.09</td><td>33046</td><td></td></tr><tr><td>35</td><td>https://cf.geekdo-images.com/fjE7V5LNq31yVEW_yuqI-Q__micro/img/TAgkPCJdNAIHZfn1BE1DXadBL9g=/fit-in/64x64/filters:strip_icc()/pic3918905.png</td><td>Everdell(2018)Gather resources to develop a harmonious village of woodland critters and structures.</td><td>7.852</td><td>8.03</td><td>52931</td><td></td></tr><tr><td>36</td><td>https://cf.geekdo-images.com/VuBqZ1sMaDAVVHF_OEJP4g__micro/img/p3GKOrR04nV1qkim9zq-rmFfYh8=/fit-in/64x64/filters:strip_icc()/pic5988903.jpg</td><td>The Crew: Mission Deep Sea(2021)Dive into the deep sea in this co-operative trick-taking game with variable missions.</td><td>7.851</td><td>8.17</td><td>16506</td><td></td></tr><tr><td>37</td><td>https://cf.geekdo-images.com/jEPmWvvYpqkWrKOzqIHFsg__micro/img/Uwm0ZfmY4ZNWWxlackDXrsmS-Io=/fit-in/64x64/filters:strip_icc()/pic4336469.png</td><td>Barrage(2019)Nations vie for hydroelectric dominance in a dystopia where water is power.</td><td>7.849</td><td>8.17</td><td>17175</td><td></td></tr><tr><td>38</td><td>https://cf.geekdo-images.com/l_PRU2lVlX9seScRFcvFlA__micro/img/3EqHlTkNSnZNFHVaAeFSpzfzuIQ=/fit-in/64x64/filters:strip_icc()/pic6500949.jpg</td><td>Viticulture Essential Edition(2015)Create the most prosperous winery in Italy from the Tuscan vineyard you've inherited.</td><td>7.844</td><td>7.99</td><td>47848</td><td></td></tr><tr><td>39</td><td>https://cf.geekdo-images.com/Wtxml94LAXsIWQCxGPS63Q__micro/img/4Oucoa190njfSaNHr8YRIl6UnTU=/fit-in/64x64/filters:strip_icc()/pic2649434.png</td><td>Food Chain Magnate(2015)Strategically hire and manage your workforce to outcompete rival fast food chains.</td><td>7.805</td><td>8.07</td><td>20093</td><td></td></tr><tr><td>40</td><td>https://cf.geekdo-images.com/kRvUgYiaOq07kC67ZK5UoQ__micro/img/4DLQr45lpVBfCkiy-kVwhl4z4vQ=/fit-in/64x64/filters:strip_icc()/pic4900321.jpg</td><td>Marvel Champions: The Card Game(2019)Battle Marvel villains with unique teams of iconic heroes in this LCG.</td><td>7.799</td><td>8.13</td><td>23052</td><td></td></tr><tr><td>41</td><td>https://cf.geekdo-images.com/oSM_AuKYfGIwOtKbVEsoVg__micro/img/SKUliR88eoltB2ytmwz3BffW7aA=/fit-in/64x64/filters:strip_icc()/pic4503733.png</td><td>Pax Pamir: Second Edition(2019)Swing the tides of \"The Great Game\" as countries vie for control of Afghanistan.</td><td>7.795</td><td>8.20</td><td>13546</td><td></td></tr><tr><td>42</td><td>https://cf.geekdo-images.com/PwOwTVHovJAUQgghnGqCOg__micro/img/9ftDcGDumAWKm_3hmu6JUwjb1aU=/fit-in/64x64/filters:strip_icc()/pic4837710.png</td><td>Underwater Cities(2018)Develop future cities on the seafloor through politics, production, and science.</td><td>7.788</td><td>8.07</td><td>19131</td><td></td></tr><tr><td>43</td><td>https://cf.geekdo-images.com/-vOrd4bOspibyohYExLqWg__micro/img/bcHg_0mMkgMaBp9Sz1gxJtHtaHw=/fit-in/64x64/filters:strip_icc()/pic6940449.png</td><td>Heat: Pedal to the Metal(2022)Manage your race car's speed to keep from overheating.</td><td>7.784</td><td>8.09</td><td>19978</td><td></td></tr><tr><td>44</td><td>https://cf.geekdo-images.com/QFiIRd2kimaMqTyWsX0aUg__micro/img/ggNIAA1GEadqvcY7Mvwb9_VEybU=/fit-in/64x64/filters:strip_icc()/pic158548.jpg</td><td>Puerto Rico(2002)Ship goods, construct buildings, and choose roles that benefit you more than others.</td><td>7.781</td><td>7.92</td><td>70579</td><td></td></tr><tr><td>45</td><td>https://cf.geekdo-images.com/MjeJZfulbsM1DSV3DrGJYA__micro/img/x2BDobiHVhQHl7LhBimeU8L1ko4=/fit-in/64x64/filters:strip_icc()/pic5100691.jpg</td><td>Cascadia(2021)Create the most harmonious ecosystem as you puzzle together habitats and wildlife.</td><td>7.773</td><td>7.96</td><td>36354</td><td></td></tr><tr><td></td><td>null</td><td>null</td><td>null</td><td>null</td><td>null</td><td>null</td></tr><tr><td>46</td><td>https://cf.geekdo-images.com/rz22tqa5PCYvK9oDjIbvxg__micro/img/sog7ni3vUAAfvd66e6XW4iOca4I=/fit-in/64x64/filters:strip_icc()/pic1790789.jpg</td><td>Caverna: The Cave Farmers(2013)From a simple cave, expand your dwarven home through mining, agriculture, and more.</td><td>7.768</td><td>7.95</td><td>34498</td><td></td></tr><tr><td>47</td><td>https://cf.geekdo-images.com/7ejbxsn-UtLl3ehamuAEdw__micro/img/5UygdMxz3N_dTCkGlwVlgJXK_vg=/fit-in/64x64/filters:strip_icc()/pic79413.jpg</td><td>Crokinole(1876)Flick discs and make trick shots in this traditional Canadian dexterity game!</td><td>7.762</td><td>8.03</td><td>17646</td><td></td></tr><tr><td>48</td><td>https://cf.geekdo-images.com/HkZSJfQnZ3EpS214xtuplg__micro/img/7xdR1_OUo1ReAvYzhi7jBhFMHu0=/fit-in/64x64/filters:strip_icc()/pic2439223.jpg</td><td>Blood Rage(2015)Ragnarök has come! Secure your place in Valhalla in epic Viking battles.</td><td>7.762</td><td>7.93</td><td>46468</td><td></td></tr><tr><td>49</td><td>https://cf.geekdo-images.com/31quLNzteInnevVRAABoow__micro/img/CMEokoPk9cBV5A82_eBwjDJPMfE=/fit-in/64x64/filters:strip_icc()/pic3499707.jpg</td><td>Anachrony(2017)Use Exosuits & time travel to ensure your vision for the future after the cataclysm.</td><td>7.759</td><td>8.08</td><td>18248</td><td></td></tr><tr><td>50</td><td>https://cf.geekdo-images.com/Nm0Iw8NoiM9V8IsifimGBw__micro/img/HQNReYu8QkZqD4dbZeWg3cQrkv0=/fit-in/64x64/filters:strip_icc()/pic4357658.jpg</td><td>On Mars(2020)Be a part of the first Martian colony, striving to be the best contributor.</td><td>7.756</td><td>8.20</td><td>12294</td><td></td></tr><tr><td>51</td><td>https://cf.geekdo-images.com/dDDo2Hexl80ucK1IlqTk-g__micro/img/SZgGqufNqaW8BCFT29wkYPaRXOE=/fit-in/64x64/filters:strip_icc()/pic831744.jpg</td><td>Agricola(2007)Build your farmstead by sowing fields and raising livestock. But don't forget to eat!</td><td>7.753</td><td>7.88</td><td>72285</td><td></td></tr><tr><td>52</td><td>https://cf.geekdo-images.com/L2Wn-zUqkcHgqvwvY212Ig__micro/img/2pY9Wo185ehuYO7Mb0gTDpdww74=/fit-in/64x64/filters:strip_icc()/pic4924232.jpg</td><td>Kanban EV(2020)EV-factory workers optimize and innovate to stand out at the big board meeting.</td><td>7.752</td><td>8.43</td><td>7305</td><td></td></tr><tr><td>53</td><td>https://cf.geekdo-images.com/y0x1zbkpUXjddzWWnhekYw__micro/img/oUW7QBHTiMOcpt5FgNXd_Uy2LfM=/fit-in/64x64/filters:strip_icc()/pic5581457.jpg</td><td>Pandemic Legacy: Season 0(2020)Work together during the Cold War to prevent a Soviet bio-threat.</td><td>7.750</td><td>8.41</td><td>7410</td><td></td></tr><tr><td>54</td><td>https://cf.geekdo-images.com/Zdt8l4oTBpFICsMyNof7Jg__micro/img/xnXopdLVlL31M169AjW8ofHRe5Q=/fit-in/64x64/filters:strip_icc()/pic5975244.png</td><td>Sleeping Gods(2021)Voyages of the steamship \"Manticore\" and her crew on the Wandering Sea.</td><td>7.748</td><td>8.24</td><td>11415</td><td></td></tr><tr><td>55</td><td>https://cf.geekdo-images.com/Qtkb-UTvHa0-kxt_MK1nKw__micro/img/eYV_Y45Hk66WceHroLlRqnHEHmg=/fit-in/64x64/filters:strip_icc()/pic3763549.jpg</td><td>Pandemic Legacy: Season 2(2017)The world is a mystery after a devastating pandemic—where will your team go?</td><td>7.727</td><td>8.04</td><td>16703</td><td></td></tr><tr><td>56</td><td>https://cf.geekdo-images.com/LIooA9bTdjnE9qmhjL-UFw__micro/img/rsUu4YzIErI1oi6TRRA-cKiS-I0=/fit-in/64x64/filters:strip_icc()/pic3118622.jpg</td><td>Mansions of Madness: Second Edition(2016)Unravel mysteries in Arkham with your investigative team in this app-guided game.</td><td>7.718</td><td>7.95</td><td>35855</td><td></td></tr><tr><td>57</td><td>https://cf.geekdo-images.com/OrHS8_a1CqSGiXeTfCk0Wg__micro/img/rpfZR0COMOP41SI2EZPrSrX_LL8=/fit-in/64x64/filters:strip_icc()/pic3209553.jpg</td><td>Lisboa(2017)Compete to reconstruct the city of Lisboa after the great earthquake of 1755.</td><td>7.718</td><td>8.19</td><td>10853</td><td></td></tr><tr><td>58</td><td>https://cf.geekdo-images.com/rMNa0k05zMdKgSEp26Q3Tw__micro/img/rDI-yCgwVbB_szRjUWOY8IKIdUk=/fit-in/64x64/filters:strip_icc()/pic4917407.jpg</td><td>Maracaibo(2019)Seafarers journey to obtain wealth and fame in the 17th century Caribbean.</td><td>7.711</td><td>8.04</td><td>15842</td><td></td></tr><tr><td>59</td><td>https://cf.geekdo-images.com/kXf7mDyDYuHg6oe8yTUIEA__micro/img/3EqJtoxAlTb2pJWxmA7TUu4HWNI=/fit-in/64x64/filters:strip_icc()/pic4604439.jpg</td><td>Tzolk'in: The Mayan Calendar(2012)Lead your people, build monuments and make offerings to earn the favour of the gods.</td><td>7.706</td><td>7.86</td><td>38896</td><td></td></tr><tr><td>60</td><td>https://cf.geekdo-images.com/yd6LuatytHRhcFCxCf-EEg__micro/img/ZUrGKfXAZS4AztFRXq2W9oD6TG4=/fit-in/64x64/filters:strip_icc()/pic4459753.jpg</td><td>Power Grid(2004)Bid, network, and manage resources in a race to supply the most cities with power.</td><td>7.704</td><td>7.81</td><td>64917</td><td></td></tr><tr><td></td><td>null</td><td>null</td><td>null</td><td>null</td><td>null</td><td>null</td></tr><tr><td>61</td><td>https://cf.geekdo-images.com/e8D09pfFsUsoX1D81EeoZg__micro/img/g4fUW30OaTTN48VW7tdVOIAEvWQ=/fit-in/64x64/filters:strip_icc()/pic4705171.jpg</td><td>Cthulhu: Death May Die(2019)Disrupt the ritual and slay the Elder Gods in this co-op dice chucker.</td><td>7.700</td><td>8.19</td><td>11881</td><td></td></tr><tr><td>62</td><td>https://cf.geekdo-images.com/sy89BiuZXfbSnG7Cag9tBQ__micro/img/0VYxwvacU7ADCGyJt5iLMa5WQoA=/fit-in/64x64/filters:strip_icc()/pic5902073.png</td><td>Obsession(2018)Renovate an estate, manage servants, and pursue romance in Victorian England.</td><td>7.689</td><td>8.16</td><td>11512</td><td></td></tr><tr><td>63</td><td>https://cf.geekdo-images.com/pH5LgRL4mNRon-2NsSDb1Q__micro/img/pAWwGfiqFpn-kkzUKexMTZOvoA4=/fit-in/64x64/filters:strip_icc()/pic6137509.png</td><td>The Quacks of Quedlinburg(2018)Pull ingredients from your stock to make your pot bubble, but hopefully not explode!</td><td>7.687</td><td>7.83</td><td>48403</td><td></td></tr><tr><td>64</td><td>https://cf.geekdo-images.com/SPuwc6RJ6y4PnTH36Pegsg__micro/img/wWI0kOjt4L4TOOV_Dn2BLthq5QQ=/fit-in/64x64/filters:strip_icc()/pic3511783.png</td><td>Clans of Caledonia(2017)Lead your unique Scottish clan to economic might via production, trade, and export.</td><td>7.685</td><td>7.95</td><td>20164</td><td></td></tr><tr><td>65</td><td>https://cf.geekdo-images.com/GlCmHjdLwv3SqSjv52ToGw__micro/img/egqhEcYTqBsaT7AeNBe2LdUcGZs=/fit-in/64x64/filters:strip_icc()/pic6966955.jpg</td><td>Grand Austria Hotel(2015)Serve guests and prepare rooms to be the best hotelier in the Viennese modern age.</td><td>7.684</td><td>7.94</td><td>20416</td><td></td></tr><tr><td>66</td><td>https://cf.geekdo-images.com/y7Rqd3S6J7vyVhicR1bqTQ__micro/img/c1qPt4uwG4qhjxmrgtIuKulwQkI=/fit-in/64x64/filters:strip_icc()/pic6091101.jpg</td><td>Le Havre(2008)Establish a supply chain by collecting resources, building industries, and shipping.</td><td>7.683</td><td>7.85</td><td>31366</td><td></td></tr><tr><td>67</td><td>https://cf.geekdo-images.com/4nhokcLdYoo6ulbZ1rmGgA__micro/img/WMzScSxJICvIyErl47KBVoskhnQ=/fit-in/64x64/filters:strip_icc()/pic4462987.png</td><td>Paladins of the West Kingdom(2019)Invaders are coming from everywhere.  Keep the faith and defend your homeland.</td><td>7.680</td><td>7.99</td><td>17439</td><td></td></tr><tr><td>68</td><td>https://cf.geekdo-images.com/pIQ_MXvaoARRp1loCHJuHg__micro/img/i2soAnlvaDCzWksrpO2By4-GgGA=/fit-in/64x64/filters:strip_icc()/pic2247647.jpg</td><td>Star Wars: Imperial Assault(2014)Play as Rebel or Imperial forces to fulfill mission objectives.</td><td>7.676</td><td>7.97</td><td>24468</td><td></td></tr><tr><td>69</td><td>https://cf.geekdo-images.com/ie1GSt1XV04sXQXt-3O1UQ__micro/img/Zxap2me5W8VgLK_VNU_lY5vLnbA=/fit-in/64x64/filters:strip_icc()/pic2503200.png</td><td>The Gallerist(2015)Amass a fortune, and stake your reputation by operating a lucrative art gallery.</td><td>7.676</td><td>8.02</td><td>14326</td><td></td></tr><tr><td>70</td><td>https://cf.geekdo-images.com/98LnQShydr11OBKS46xY-Q__micro/img/bIVTqYzQ5wDuCSmcQvpNokXZOUo=/fit-in/64x64/filters:strip_icc()/pic5687013.jpg</td><td>The Crew: The Quest for Planet Nine(2019)Go on many planet-discovering space missions in this cooperative trick-taking game.</td><td>7.668</td><td>7.81</td><td>40759</td><td></td></tr><tr><td>71</td><td>https://cf.geekdo-images.com/n4J5LebMj0DQD016qW7ABw__micro/img/n4vvAq2JZvjf0yS_Mugr79dqM90=/fit-in/64x64/filters:strip_icc()/pic3184103.jpg</td><td>Mechs vs. Minions(2016)Cooperatively program and pilot your mechs to defeat an army of marauding minions.</td><td>7.665</td><td>7.97</td><td>17310</td><td></td></tr><tr><td>72</td><td>https://cf.geekdo-images.com/2ewHIIG_TRq8bYlqk0jIMw__micro/img/U5irACQ5P-7X9XyeDWj71ai-Ruw=/fit-in/64x64/filters:strip_icc()/pic3738560.jpg</td><td>Android: Netrunner(2012)Megacorporation versus Netrunner in this futuristic cyberpunk game of cat and mouse.</td><td>7.659</td><td>7.88</td><td>29952</td><td></td></tr><tr><td>73</td><td>https://cf.geekdo-images.com/LenzJBOHboAGU0cUIqAZPQ__micro/img/6YI32BDhyuO9JZrofc1CPbuFlVY=/fit-in/64x64/filters:strip_icc()/pic2931007.jpg</td><td>Kingdom Death: Monster(2015)Try to survive in a nightmarish world that lies under eternal darkness.</td><td>7.656</td><td>8.50</td><td>9542</td><td></td></tr><tr><td>74</td><td>https://cf.geekdo-images.com/aPSHJO0d0XOpQR5X-wJonw__micro/img/3M2bj5ZXqAskTOvLTXRuHOH-Y44=/fit-in/64x64/filters:strip_icc()/pic6973671.png</td><td>Azul(2017)Artfully embellish the walls of your palace by drafting the most beautiful tiles.</td><td>7.643</td><td>7.75</td><td>88368</td><td></td></tr><tr><td>75</td><td>https://cf.geekdo-images.com/YCGWJMFwOI5efji2RJ2mSw__micro/img/GQNkMukGtKD2cVOgpUk4ZSmpUfA=/fit-in/64x64/filters:strip_icc()/pic8093340.jpg</td><td>Agricola (Revised Edition)(2016)Help your farm to prosper in this updated, streamlined edition of the acclaimed game.</td><td>7.640</td><td>7.96</td><td>17401</td><td></td></tr><tr><td></td><td>null</td><td>null</td><td>null</td><td>null</td><td>null</td><td>null</td></tr><tr><td>76</td><td>https://cf.geekdo-images.com/-DOqixs8uwKUvvWPKI4f9w__micro/img/Fz_qRw_ZHI9TfZXY0b4YZ6zfT7o=/fit-in/64x64/filters:strip_icc()/pic5261714.jpg</td><td>Race for the Galaxy(2007)Worlds await! Colonize, develop and conquer, taking advantage of others' choices.</td><td>7.631</td><td>7.74</td><td>55077</td><td></td></tr><tr><td>77</td><td>https://cf.geekdo-images.com/dmo-WD6HZHVUPrbVHunaTw__micro/img/fxKL3MvU00YeEkfeLNdQGUl5rxA=/fit-in/64x64/filters:strip_icc()/pic2055255.jpg</td><td>Five Tribes: The Djinns of Naqala(2014)Move assassins, elders & builders through Naqala to claim oases & control djinns.</td><td>7.625</td><td>7.78</td><td>41047</td><td></td></tr><tr><td>78</td><td>https://cf.geekdo-images.com/cnFppsVNOSTJ-W3APQFuTg__micro/img/dfQTNAju5CUxn6JQl-Pxubac99o=/fit-in/64x64/filters:strip_icc()/pic1974056.jpg</td><td>Eclipse: New Dawn for the Galaxy(2011)Build an interstellar civilization by exploration, research, conquest, and diplomacy.</td><td>7.622</td><td>7.83</td><td>28282</td><td></td></tr><tr><td>79</td><td>https://cf.geekdo-images.com/dezQ4YjF03lZVxTdI-UJYw__micro/img/7bEpYVStLA2qmeKUIweHTGziwSU=/fit-in/64x64/filters:strip_icc()/pic6863204.jpg</td><td>Oathsworn: Into the Deepwood(2022)Fight for humanity's survival against unnatural horrors and the Deepwood itself.</td><td>7.622</td><td>9.02</td><td>4351</td><td></td></tr><tr><td>80</td><td>https://cf.geekdo-images.com/DPjV1iI0ygo5Bl3XLNRiIg__micro/img/5hO7ln_bquTyy4Q__ksB4NT1gMs=/fit-in/64x64/filters:strip_icc()/pic4449526.jpg</td><td>Clank!: A Deck-Building Adventure(2016)Claim your treasures but don't attract the dragon in this deck-building dungeon race.</td><td>7.620</td><td>7.78</td><td>41679</td><td></td></tr><tr><td>81</td><td>https://cf.geekdo-images.com/d50LceHj6LIafa4S_qIsCg__micro/img/0El7f9TAr9UfvKlcsXYrBe8jEOc=/fit-in/64x64/filters:strip_icc()/pic3189350.jpg</td><td>Aeon's End(2016)Mages must reach their full potential to defend humanity from terrible monstrosities.</td><td>7.618</td><td>7.91</td><td>20187</td><td></td></tr><tr><td>82</td><td>https://cf.geekdo-images.com/0w8go6cfvlpgJKydHUkDtA__micro/img/9JEU9pIfwl2wUIE3fmCmjjH_iiM=/fit-in/64x64/filters:strip_icc()/pic2225968.png</td><td>Fields of Arle(2014)Construct dikes, drain bogs, harvest flax and tend to newborn animals in East Frisia.</td><td>7.606</td><td>8.03</td><td>10834</td><td></td></tr><tr><td>83</td><td>https://cf.geekdo-images.com/BfEHqHQAvZLbRX7y7e9TWg__micro/img/RgHc2PFvpz3xxRPRg5v7d46JQNc=/fit-in/64x64/filters:strip_icc()/pic5617866.jpg</td><td>Beyond the Sun(2020)Collectively develop a tech tree to fuel new discoveries and colonize space.</td><td>7.602</td><td>7.94</td><td>13998</td><td></td></tr><tr><td>84</td><td>https://cf.geekdo-images.com/wW5xjgBJcFyLaEWZwrYuKA__micro/img/kXVTBtcGC-5L706WFNJLAuZTovQ=/fit-in/64x64/filters:strip_icc()/pic4583626.jpg</td><td>Teotihuacan: City of Gods(2018)Use your worker dice to raise the legendary and breathtaking Pyramid of the Sun.</td><td>7.600</td><td>7.87</td><td>19623</td><td></td></tr><tr><td>85</td><td>https://cf.geekdo-images.com/3piN3YX4WmBRuIvbEG2Ygg__micro/img/xy_566fY112BYtYJjT29cfAcHsk=/fit-in/64x64/filters:strip_icc()/pic236169.jpg</td><td>Through the Ages: A Story of Civilization(2006)Lead your civilization through strategic drafting of leaders, technologies, and more.</td><td>7.599</td><td>7.85</td><td>19300</td><td></td></tr><tr><td>86</td><td>https://cf.geekdo-images.com/-hk8f8iGk_DyWyMrfiPBkg__micro/img/tWSg9ErrwvVcwaE1Kze1IsxwpGg=/fit-in/64x64/filters:strip_icc()/pic1116080.jpg</td><td>Lords of Waterdeep(2012)Deploy agents and hire adventurers to expand your control over the city of Waterdeep.</td><td>7.594</td><td>7.74</td><td>55100</td><td></td></tr><tr><td>87</td><td>https://cf.geekdo-images.com/DCLgJlrvB-EqL6A3WgQLMQ__micro/img/j_LPta_lgRrN8Rrs9Rxt_d3Hysc=/fit-in/64x64/filters:strip_icc()/pic5715770.jpg</td><td>Hegemony: Lead Your Class to Victory(2023)Simulate a whole contemporary nation in this asymmetric, politico-economic euro-game.</td><td>7.586</td><td>8.53</td><td>5349</td><td></td></tr><tr><td>88</td><td>https://cf.geekdo-images.com/oeygRZntjNUJWvc8SxDfww__micro/img/gXi23Nbfem6XTfRlV2eHEHB_cHY=/fit-in/64x64/filters:strip_icc()/pic784193.jpg</td><td>Dominant Species(2010)With an ice age approaching, which animals will best propagate, migrate, and adapt?</td><td>7.583</td><td>7.82</td><td>21049</td><td></td></tr><tr><td>89</td><td>https://cf.geekdo-images.com/n1G7_aWToLAAB7Mqt8iwyA__micro/img/c8Ld-3E8S0devFlugLvyiAEESbY=/fit-in/64x64/filters:strip_icc()/pic2461346.png</td><td>The Voyages of Marco Polo(2015)Using unique abilities, fulfill contracts and reach your goals along the Silk Road.</td><td>7.581</td><td>7.79</td><td>24679</td><td></td></tr><tr><td>90</td><td>https://cf.geekdo-images.com/FbFnaTx3aT5dM18K_bR_Pg__micro/img/brcsM5-72GgeBDQg3CSI6VB1Dqo=/fit-in/64x64/filters:strip_icc()/pic3165731.jpg</td><td>Robinson Crusoe: Adventures on the Cursed Island(2012)Work together — with friends or with Friday — to survive on a deserted island.</td><td>7.579</td><td>7.75</td><td>42997</td><td></td></tr><tr><td></td><td>null</td><td>null</td><td>null</td><td>null</td><td>null</td><td>null</td></tr><tr><td>91</td><td>https://cf.geekdo-images.com/35h9Za_JvMMMtx_92kT0Jg__micro/img/4BRnGQ-EoU-2LNirfZpUC3HRReU=/fit-in/64x64/filters:strip_icc()/pic7149798.jpg</td><td>7 Wonders(2010)Draft cards to develop your ancient civilization and build its Wonder of the World.</td><td>7.578</td><td>7.69</td><td>103590</td><td></td></tr><tr><td>92</td><td>https://cf.geekdo-images.com/RRKDHaYtFPHhczkUDcHOmg__micro/img/_hnYEtmQrfIco_6UTFRLZdhWMnQ=/fit-in/64x64/filters:strip_icc()/pic7906240.jpg</td><td>El Grande(1995)Use your caballeros to control regions of medieval Spain, keeping clear of the King!</td><td>7.570</td><td>7.75</td><td>28305</td><td></td></tr><tr><td>93</td><td>https://cf.geekdo-images.com/NItjtztEUAKOpaTWZddu9A__micro/img/m4I9uS6LBjNz02oNquEkBM-L464=/fit-in/64x64/filters:strip_icc()/pic5744928.jpg</td><td>The Search for Planet X(2020)Plan, scan, and theorize to find a new planet at the edge of our solar system.</td><td>7.568</td><td>7.97</td><td>11688</td><td></td></tr><tr><td>94</td><td>https://cf.geekdo-images.com/aAwBzPzta4joKfFZt05hCw__micro/img/28sp86TqPbMqn9M_qHWfS9j44-w=/fit-in/64x64/filters:strip_icc()/pic4385726.jpg</td><td>Tainted Grail: The Fall of Avalon(2019)Exploration, combat, and diplomacy in a dark Arthurian realm.</td><td>7.549</td><td>8.09</td><td>12149</td><td></td></tr><tr><td>95</td><td>https://cf.geekdo-images.com/5Q2w2rFJiFI_uV89KP6ECg__micro/img/KGgAsbHUPaEjsl-r05JCH2ixP1o=/fit-in/64x64/filters:strip_icc()/pic354500.jpg</td><td>Battlestar Galactica: The Board Game(2008)How can the human race survive when you don't know who is actually human?</td><td>7.542</td><td>7.73</td><td>36353</td><td></td></tr><tr><td>96</td><td>https://cf.geekdo-images.com/OAX7HfOz-9N60StgADzd0g__micro/img/5OEOXKjvrEMh2aT5I-FrAn5-9jo=/fit-in/64x64/filters:strip_icc()/pic3781944.png</td><td>Architects of the West Kingdom(2018)Will you be a virtuous or nefarious servant of the king? Build your way to glory.</td><td>7.542</td><td>7.74</td><td>28573</td><td></td></tr><tr><td>97</td><td>https://cf.geekdo-images.com/hHZWXnUTMYDd_KTAM6Jwlw__micro/img/g7DQGNNf6ZFwYDGpe9kT3e4KELY=/fit-in/64x64/filters:strip_icc()/pic3759421.jpg</td><td>Decrypto(2018)Decipher your opponents' code before they decipher yours. Don't get caught.</td><td>7.541</td><td>7.77</td><td>21956</td><td></td></tr><tr><td>98</td><td>https://cf.geekdo-images.com/6QE8mnPFmauoj2THsyUYPA__micro/img/KzK9JEEodDn0EyHA8rJy2X0cyYA=/fit-in/64x64/filters:strip_icc()/pic4739757.jpg</td><td>Inis(2016)Claim the crown through merit and wisdom in this Celtic island struggle.</td><td>7.539</td><td>7.83</td><td>19814</td><td></td></tr><tr><td>99</td><td>https://cf.geekdo-images.com/9gob752VqEklQFV_gz16hw__micro/img/kYOLnVbUwnKjA37DqEe9HECvqI0=/fit-in/64x64/filters:strip_icc()/pic2585510.png</td><td>Trickerion: Legends of Illusion(2015)Magicians perform dazzling tricks for money and fame in a Victorian steampunk world.</td><td>7.533</td><td>7.97</td><td>10684</td><td></td></tr><tr><td>100</td><td>https://cf.geekdo-images.com/36WIe0ZHkp5OvHOlB-8vog__micro/img/7lY7AE0KsFAO2svml1DMpa20-kg=/fit-in/64x64/filters:strip_icc()/pic4356580.jpg</td><td>Concordia Venus(2018)Merchants build and trade throughout the Roman Empire to please the Gods.</td><td>7.530</td><td>8.29</td><td>5587</td><td></td></tr></tbody></table></div>"
      ]
     },
     "metadata": {
      "application/vnd.databricks.v1+output": {
       "addedWidgets": {},
       "aggData": [],
       "aggError": "",
       "aggOverflow": false,
       "aggSchema": [],
       "aggSeriesLimitReached": false,
       "aggType": "",
       "arguments": {},
       "columnCustomDisplayInfos": {},
       "data": [
        [
         null,
         null,
         null,
         null,
         null,
         null,
         null
        ],
        [
         "1",
         "https://cf.geekdo-images.com/x3zxjr-Vw5iU4yDPg70Jgw__micro/img/4Od3GYCiqptga0VbmyumPbJlBsU=/fit-in/64x64/filters:strip_icc()/pic3490053.jpg",
         "Brass: Birmingham(2018)Build networks, grow industries, and navigate the world of the Industrial Revolution.",
         "8.417",
         "8.60",
         "44343",
         ""
        ],
        [
         "2",
         "https://cf.geekdo-images.com/-Qer2BBPG7qGGDu6KcVDIw__micro/img/n6-sXYD6XXZoqIxq4P6AG7VPCuA=/fit-in/64x64/filters:strip_icc()/pic2452831.png",
         "Pandemic Legacy: Season 1(2015)Mutating diseases are spreading around the world - can your team save humanity?",
         "8.383",
         "8.53",
         "52964",
         ""
        ],
        [
         "3",
         "https://cf.geekdo-images.com/sZYp_3BTDGjh2unaZfZmuA__micro/img/sQyh47ClBO3d5sxPm73hMvM-JV4=/fit-in/64x64/filters:strip_icc()/pic2437871.jpg",
         "Gloomhaven(2017)Vanquish monsters with strategic cardplay. Fulfill your quest to leave your legacy!",
         "8.361",
         "8.60",
         "61512",
         ""
        ],
        [
         "4",
         "https://cf.geekdo-images.com/SoU8p28Sk1s8MSvoM4N8pQ__micro/img/LSAi1pmhbTbWwtBrziutDOXzfdY=/fit-in/64x64/filters:strip_icc()/pic6293412.jpg",
         "Ark Nova(2021)Plan and build a modern, scientifically managed zoo to support conservation projects.",
         "8.333",
         "8.54",
         "41305",
         ""
        ],
        [
         "5",
         "https://cf.geekdo-images.com/_Ppn5lssO5OaildSE-FgFA__micro/img/2gymaKs35_2yj7eyyA6cYyVmd9c=/fit-in/64x64/filters:strip_icc()/pic3727516.jpg",
         "Twilight Imperium: Fourth Edition(2017)Build an intergalactic empire through trade, research, conquest and grand politics.",
         "8.243",
         "8.60",
         "23240",
         ""
        ],
        [
         "6",
         "https://cf.geekdo-images.com/PhjygpWSo-0labGrPBMyyg__micro/img/mfU7-dEFnVyXJrF-BWAO0buexao=/fit-in/64x64/filters:strip_icc()/pic5666597.jpg",
         "Dune: Imperium(2020)Influence, intrigue, and combat in the universe of Dune.",
         "8.225",
         "8.43",
         "43405",
         ""
        ],
        [
         "7",
         "https://cf.geekdo-images.com/wg9oOLcsKvDesSUdZQ4rxw__micro/img/LUkXZhd1TO80eCiXMD3-KfnzA6k=/fit-in/64x64/filters:strip_icc()/pic3536616.jpg",
         "Terraforming Mars(2016)Compete with rival CEOs to make Mars habitable and build your corporate empire.",
         "8.216",
         "8.36",
         "97186",
         ""
        ],
        [
         "8",
         "https://cf.geekdo-images.com/ImPgGag98W6gpV1KV812aA__micro/img/NT-Av_3kdYUcwuti5ocmIQXow3g=/fit-in/64x64/filters:strip_icc()/pic1215633.jpg",
         "War of the Ring: Second Edition(2011)The Fellowship and the Free Peoples clash with Sauron over the fate of Middle-earth.",
         "8.180",
         "8.54",
         "20909",
         ""
        ],
        [
         "9",
         "https://cf.geekdo-images.com/_HhIdavYW-hid20Iq3hhmg__micro/img/OdKjWiFsNvQAfJfXXSITttiozWE=/fit-in/64x64/filters:strip_icc()/pic5055631.jpg",
         "Gloomhaven: Jaws of the Lion(2020)Vanquish monsters with strategic cardplay in a 25-scenario Gloomhaven campaign.",
         "8.174",
         "8.45",
         "33323",
         ""
        ],
        [
         "10",
         "https://cf.geekdo-images.com/7SrPNGBKg9IIsP4UQpOi8g__micro/img/nEvTiCkWpT-ymH4bstc9c335TtQ=/fit-in/64x64/filters:strip_icc()/pic4325841.jpg",
         "Star Wars: Rebellion(2016)Strike from your hidden base as the Rebels—or find and destroy it as the Empire.",
         "8.171",
         "8.42",
         "31966",
         ""
        ],
        [
         "11",
         "https://cf.geekdo-images.com/kjCm4ZvPjIZxS-mYgSPy1g__micro/img/sRPer5FmBxyV527MY67P-gM7ukg=/fit-in/64x64/filters:strip_icc()/pic7013651.jpg",
         "Spirit Island(2017)Island Spirits join forces using elemental powers to defend their home from invaders.",
         "8.146",
         "8.35",
         "50055",
         ""
        ],
        [
         "12",
         "https://cf.geekdo-images.com/hGWFm3hbMlCDsfCsauOQ4g__micro/img/odWj2bEnZi9dEcQQrOtYj1e0QLE=/fit-in/64x64/filters:strip_icc()/pic5375625.png",
         "Gaia Project(2017)Expand, research, upgrade, and settle the galaxy with one of 14 alien species.",
         "8.120",
         "8.39",
         "26609",
         ""
        ],
        [
         "13",
         "https://cf.geekdo-images.com/pNCiUUphnoeWOYfsWq0kng__micro/img/ZlfJiIATIt5MY7xWSMzFmdygaa0=/fit-in/64x64/filters:strip_icc()/pic3530661.jpg",
         "Twilight Struggle(2005)Relive the Cold War and rewrite history in an epic clash between the USA and USSR.",
         "8.070",
         "8.25",
         "48370",
         ""
        ],
        [
         "14",
         "https://cf.geekdo-images.com/fVwPntkJKgaEo0rIC0RwpA__micro/img/77dZJpqtydc8TTecl0ReGF7iAVw=/fit-in/64x64/filters:strip_icc()/pic2663291.jpg",
         "Through the Ages: A New Story of Civilization(2015)Rewrite history as you build up your civilization in this epic card drafting game!",
         "8.064",
         "8.30",
         "31249",
         ""
        ],
        [
         "15",
         "https://cf.geekdo-images.com/u1l0gH7sb_vnvDvoO_QHqA__micro/img/xeShpQfbj4L1id-ItJbfIYVzgyA=/fit-in/64x64/filters:strip_icc()/pic4887376.jpg",
         "Great Western Trail(2016)Use strategic outposts and navigate danger as you herd your cattle to Kansas City.",
         "8.035",
         "8.20",
         "40417",
         ""
        ],
        [
         "",
         null,
         null,
         null,
         null,
         null,
         null
        ],
        [
         "16",
         "https://cf.geekdo-images.com/5CFwjd8zTcGYVUnkXh04hw__micro/img/N1VrEUaW6bmwnqbZfi2nRScwGxM=/fit-in/64x64/filters:strip_icc()/pic1176894.jpg",
         "The Castles of Burgundy(2011)Plan, trade, and build your Burgundian estate to prosperity and prominence.",
         "8.013",
         "8.14",
         "61348",
         ""
        ],
        [
         "17",
         "https://cf.geekdo-images.com/7k_nOxpO9OGIjhLq2BUZdA__micro/img/ETplc22GdhlN5u0mppcDxSP8LVk=/fit-in/64x64/filters:strip_icc()/pic3163924.jpg",
         "Scythe(2016)Five factions vie for dominance in a war-torn, mech-filled, dieselpunk 1920s Europe.",
         "7.997",
         "8.15",
         "82141",
         ""
        ],
        [
         "18",
         "https://cf.geekdo-images.com/Oh3kHw6lweg6ru71Q16h2Q__micro/img/vhB59zFDq3Kul0xbr3api2selZs=/fit-in/64x64/filters:strip_icc()/pic5235277.jpg",
         "Eclipse: Second Dawn for the Galaxy(2020)Build an interstellar civilization by exploration, research, conquest, and diplomacy.",
         "7.974",
         "8.47",
         "13047",
         ""
        ],
        [
         "19",
         "https://cf.geekdo-images.com/zdagMskTF7wJBPjX74XsRw__micro/img/nXtpcw3tYaelntFHb1aH4YrN7Wk=/fit-in/64x64/filters:strip_icc()/pic2576399.jpg",
         "7 Wonders Duel(2015)Science? Military? What will you draft to win this head-to-head version of 7 Wonders?",
         "7.972",
         "8.10",
         "92711",
         ""
        ],
        [
         "20",
         "https://cf.geekdo-images.com/tHVtPzu82mBpeQbbZkV6EA__micro/img/jM8d5Q5btvJmcWQN_px-A-nlueI=/fit-in/64x64/filters:strip_icc()/pic3469216.jpg",
         "Brass: Lancashire(2007)Test your economic mettle as you build and network in the Industrial Revolution.",
         "7.962",
         "8.19",
         "24642",
         ""
        ],
        [
         "21",
         "https://cf.geekdo-images.com/tAqLpWxQ0Oo3GaPP3MER1g__micro/img/tivhH093LwCowK-_S7bVF_xha34=/fit-in/64x64/filters:strip_icc()/pic5073276.jpg",
         "Nemesis(2018)Survive an alien-infested spaceship, but beware of other players and their agendas!",
         "7.955",
         "8.27",
         "29637",
         ""
        ],
        [
         "22",
         "https://cf.geekdo-images.com/hc2NDafu5c24iLJh_IZmyg__micro/img/v2WzacDprYF837E6h9O2WuFFmpw=/fit-in/64x64/filters:strip_icc()/pic4885780.png",
         "Clank! Legacy: Acquisitions Incorporated(2019)\"Go forth, be bold, and ACQUIRE!\" in this campaign version of \"Clank!\"",
         "7.949",
         "8.55",
         "9176",
         ""
        ],
        [
         "23",
         "https://cf.geekdo-images.com/CzwSm8i7tkLz6cBnrILZBg__micro/img/FQyxREkHBn7yTbGmBg7c44eLgaM=/fit-in/64x64/filters:strip_icc()/pic3453267.jpg",
         "Concordia(2013)Merchants build and trade throughout the Roman Empire to please the Gods.",
         "7.945",
         "8.10",
         "39884",
         ""
        ],
        [
         "24",
         "https://cf.geekdo-images.com/s9oGMCo1fcfV4Dk3EnqLZw__micro/img/JCrcuFDrjVQ64uLbqpH-Pmg6XsU=/fit-in/64x64/filters:strip_icc()/pic3146943.png",
         "A Feast for Odin(2016)Puzzle together the life of a Viking village as you hunt, farm, craft, and explore.",
         "7.944",
         "8.17",
         "27842",
         ""
        ],
        [
         "25",
         "https://cf.geekdo-images.com/yLZJCVLlIx4c7eJEWUNJ7w__micro/img/5ZaRePVhfelfofF7T_OC1e0gUCw=/fit-in/64x64/filters:strip_icc()/pic4458123.jpg",
         "Wingspan(2019)Attract a beautiful and diverse collection of birds to your wildlife preserve.",
         "7.908",
         "8.06",
         "90684",
         ""
        ],
        [
         "26",
         "https://cf.geekdo-images.com/bre12I1YiXkZr7elvriz4A__micro/img/SAwaBrDhHbGuq6dFY-ok95qFMcU=/fit-in/64x64/filters:strip_icc()/pic5375624.jpg",
         "Terra Mystica(2012)Play fantastical factions.  Expand your influence by terraforming and joining cults.",
         "7.901",
         "8.07",
         "47581",
         ""
        ],
        [
         "27",
         "https://cf.geekdo-images.com/B5F5ulz0UivNgrI9Ky0euA__micro/img/DnDtwD_7oQR982carXqiVfhOQog=/fit-in/64x64/filters:strip_icc()/pic3122349.jpg",
         "Arkham Horror: The Card Game(2016)Investigate the horrors of Arkham while courting cosmic doom.",
         "7.901",
         "8.13",
         "42502",
         ""
        ],
        [
         "28",
         "https://cf.geekdo-images.com/6GqH14TJJhza86BX5HCLEQ__micro/img/2FKVaukjh9a-Kg9LWQuMSvLS34s=/fit-in/64x64/filters:strip_icc()/pic5674958.jpg",
         "Lost Ruins of Arnak(2020)Explore an island to find resources and discover the lost ruins of Arnak.",
         "7.900",
         "8.08",
         "42501",
         ""
        ],
        [
         "29",
         "https://cf.geekdo-images.com/gDn7AhrDlmfCLSz9ZqoNFQ__micro/img/eGBh_Csj13hXnODUTB-7dmpq-M0=/fit-in/64x64/filters:strip_icc()/pic5988511.jpg",
         "Great Western Trail: Second Edition(2021)Wrangle your herd of cows across the Midwest prairie and deliver it to Kansas City.",
         "7.893",
         "8.35",
         "11894",
         ""
        ],
        [
         "30",
         "https://cf.geekdo-images.com/JUAUWaVUzeBgzirhZNmHHw__micro/img/tdHLiMYfi-KTy89sGBGZVeE9ts0=/fit-in/64x64/filters:strip_icc()/pic4254509.jpg",
         "Root(2018)Decide the fate of the forest as woodland factions fight for contrasting goals.",
         "7.886",
         "8.07",
         "49765",
         ""
        ],
        [
         "",
         null,
         null,
         null,
         null,
         null,
         null
        ],
        [
         "31",
         "https://cf.geekdo-images.com/nagl1li6kYt9elV9jbfVQw__micro/img/hUKCvnqgFvTl0aOMd8FLkgCObT0=/fit-in/64x64/filters:strip_icc()/pic6228507.jpg",
         "Orléans(2014)Craftsmen, scholars & monks can help you reign supreme—but who will turn up to help?",
         "7.873",
         "8.06",
         "30893",
         ""
        ],
        [
         "32",
         "https://cf.geekdo-images.com/iEBr5o8AbJi9V9cgQcYROQ__micro/img/n9Ol4YKAhRLuOu4f7OVVXGjlWSQ=/fit-in/64x64/filters:strip_icc()/pic6177719.jpg",
         "Frosthaven(2022)Adventure in the frozen north and build up your outpost throughout an epic campaign.",
         "7.862",
         "8.86",
         "6545",
         ""
        ],
        [
         "33",
         "https://cf.geekdo-images.com/wKwRk0wYBcrtLAfgn4PCdg__micro/img/Q6VXZKoVSlMjTU7Vp8tn1tkcVzw=/fit-in/64x64/filters:strip_icc()/pic6624445.png",
         "Too Many Bones(2017)Toss gobs of unique dice in an epic adventure en route to a final boss showdown.",
         "7.857",
         "8.35",
         "12755",
         ""
        ],
        [
         "34",
         "https://cf.geekdo-images.com/DUO2hz9AlLOH8p9ED-lCWg__micro/img/eXzdbUmCbIdMIVgiQ_QwS3YNOS4=/fit-in/64x64/filters:strip_icc()/pic1083380.jpg",
         "Mage Knight Board Game(2011)Build your hero’s spells, abilities, and artifacts as you explore & conquer cities.",
         "7.856",
         "8.09",
         "33046",
         ""
        ],
        [
         "35",
         "https://cf.geekdo-images.com/fjE7V5LNq31yVEW_yuqI-Q__micro/img/TAgkPCJdNAIHZfn1BE1DXadBL9g=/fit-in/64x64/filters:strip_icc()/pic3918905.png",
         "Everdell(2018)Gather resources to develop a harmonious village of woodland critters and structures.",
         "7.852",
         "8.03",
         "52931",
         ""
        ],
        [
         "36",
         "https://cf.geekdo-images.com/VuBqZ1sMaDAVVHF_OEJP4g__micro/img/p3GKOrR04nV1qkim9zq-rmFfYh8=/fit-in/64x64/filters:strip_icc()/pic5988903.jpg",
         "The Crew: Mission Deep Sea(2021)Dive into the deep sea in this co-operative trick-taking game with variable missions.",
         "7.851",
         "8.17",
         "16506",
         ""
        ],
        [
         "37",
         "https://cf.geekdo-images.com/jEPmWvvYpqkWrKOzqIHFsg__micro/img/Uwm0ZfmY4ZNWWxlackDXrsmS-Io=/fit-in/64x64/filters:strip_icc()/pic4336469.png",
         "Barrage(2019)Nations vie for hydroelectric dominance in a dystopia where water is power.",
         "7.849",
         "8.17",
         "17175",
         ""
        ],
        [
         "38",
         "https://cf.geekdo-images.com/l_PRU2lVlX9seScRFcvFlA__micro/img/3EqHlTkNSnZNFHVaAeFSpzfzuIQ=/fit-in/64x64/filters:strip_icc()/pic6500949.jpg",
         "Viticulture Essential Edition(2015)Create the most prosperous winery in Italy from the Tuscan vineyard you've inherited.",
         "7.844",
         "7.99",
         "47848",
         ""
        ],
        [
         "39",
         "https://cf.geekdo-images.com/Wtxml94LAXsIWQCxGPS63Q__micro/img/4Oucoa190njfSaNHr8YRIl6UnTU=/fit-in/64x64/filters:strip_icc()/pic2649434.png",
         "Food Chain Magnate(2015)Strategically hire and manage your workforce to outcompete rival fast food chains.",
         "7.805",
         "8.07",
         "20093",
         ""
        ],
        [
         "40",
         "https://cf.geekdo-images.com/kRvUgYiaOq07kC67ZK5UoQ__micro/img/4DLQr45lpVBfCkiy-kVwhl4z4vQ=/fit-in/64x64/filters:strip_icc()/pic4900321.jpg",
         "Marvel Champions: The Card Game(2019)Battle Marvel villains with unique teams of iconic heroes in this LCG.",
         "7.799",
         "8.13",
         "23052",
         ""
        ],
        [
         "41",
         "https://cf.geekdo-images.com/oSM_AuKYfGIwOtKbVEsoVg__micro/img/SKUliR88eoltB2ytmwz3BffW7aA=/fit-in/64x64/filters:strip_icc()/pic4503733.png",
         "Pax Pamir: Second Edition(2019)Swing the tides of \"The Great Game\" as countries vie for control of Afghanistan.",
         "7.795",
         "8.20",
         "13546",
         ""
        ],
        [
         "42",
         "https://cf.geekdo-images.com/PwOwTVHovJAUQgghnGqCOg__micro/img/9ftDcGDumAWKm_3hmu6JUwjb1aU=/fit-in/64x64/filters:strip_icc()/pic4837710.png",
         "Underwater Cities(2018)Develop future cities on the seafloor through politics, production, and science.",
         "7.788",
         "8.07",
         "19131",
         ""
        ],
        [
         "43",
         "https://cf.geekdo-images.com/-vOrd4bOspibyohYExLqWg__micro/img/bcHg_0mMkgMaBp9Sz1gxJtHtaHw=/fit-in/64x64/filters:strip_icc()/pic6940449.png",
         "Heat: Pedal to the Metal(2022)Manage your race car's speed to keep from overheating.",
         "7.784",
         "8.09",
         "19978",
         ""
        ],
        [
         "44",
         "https://cf.geekdo-images.com/QFiIRd2kimaMqTyWsX0aUg__micro/img/ggNIAA1GEadqvcY7Mvwb9_VEybU=/fit-in/64x64/filters:strip_icc()/pic158548.jpg",
         "Puerto Rico(2002)Ship goods, construct buildings, and choose roles that benefit you more than others.",
         "7.781",
         "7.92",
         "70579",
         ""
        ],
        [
         "45",
         "https://cf.geekdo-images.com/MjeJZfulbsM1DSV3DrGJYA__micro/img/x2BDobiHVhQHl7LhBimeU8L1ko4=/fit-in/64x64/filters:strip_icc()/pic5100691.jpg",
         "Cascadia(2021)Create the most harmonious ecosystem as you puzzle together habitats and wildlife.",
         "7.773",
         "7.96",
         "36354",
         ""
        ],
        [
         "",
         null,
         null,
         null,
         null,
         null,
         null
        ],
        [
         "46",
         "https://cf.geekdo-images.com/rz22tqa5PCYvK9oDjIbvxg__micro/img/sog7ni3vUAAfvd66e6XW4iOca4I=/fit-in/64x64/filters:strip_icc()/pic1790789.jpg",
         "Caverna: The Cave Farmers(2013)From a simple cave, expand your dwarven home through mining, agriculture, and more.",
         "7.768",
         "7.95",
         "34498",
         ""
        ],
        [
         "47",
         "https://cf.geekdo-images.com/7ejbxsn-UtLl3ehamuAEdw__micro/img/5UygdMxz3N_dTCkGlwVlgJXK_vg=/fit-in/64x64/filters:strip_icc()/pic79413.jpg",
         "Crokinole(1876)Flick discs and make trick shots in this traditional Canadian dexterity game!",
         "7.762",
         "8.03",
         "17646",
         ""
        ],
        [
         "48",
         "https://cf.geekdo-images.com/HkZSJfQnZ3EpS214xtuplg__micro/img/7xdR1_OUo1ReAvYzhi7jBhFMHu0=/fit-in/64x64/filters:strip_icc()/pic2439223.jpg",
         "Blood Rage(2015)Ragnarök has come! Secure your place in Valhalla in epic Viking battles.",
         "7.762",
         "7.93",
         "46468",
         ""
        ],
        [
         "49",
         "https://cf.geekdo-images.com/31quLNzteInnevVRAABoow__micro/img/CMEokoPk9cBV5A82_eBwjDJPMfE=/fit-in/64x64/filters:strip_icc()/pic3499707.jpg",
         "Anachrony(2017)Use Exosuits & time travel to ensure your vision for the future after the cataclysm.",
         "7.759",
         "8.08",
         "18248",
         ""
        ],
        [
         "50",
         "https://cf.geekdo-images.com/Nm0Iw8NoiM9V8IsifimGBw__micro/img/HQNReYu8QkZqD4dbZeWg3cQrkv0=/fit-in/64x64/filters:strip_icc()/pic4357658.jpg",
         "On Mars(2020)Be a part of the first Martian colony, striving to be the best contributor.",
         "7.756",
         "8.20",
         "12294",
         ""
        ],
        [
         "51",
         "https://cf.geekdo-images.com/dDDo2Hexl80ucK1IlqTk-g__micro/img/SZgGqufNqaW8BCFT29wkYPaRXOE=/fit-in/64x64/filters:strip_icc()/pic831744.jpg",
         "Agricola(2007)Build your farmstead by sowing fields and raising livestock. But don't forget to eat!",
         "7.753",
         "7.88",
         "72285",
         ""
        ],
        [
         "52",
         "https://cf.geekdo-images.com/L2Wn-zUqkcHgqvwvY212Ig__micro/img/2pY9Wo185ehuYO7Mb0gTDpdww74=/fit-in/64x64/filters:strip_icc()/pic4924232.jpg",
         "Kanban EV(2020)EV-factory workers optimize and innovate to stand out at the big board meeting.",
         "7.752",
         "8.43",
         "7305",
         ""
        ],
        [
         "53",
         "https://cf.geekdo-images.com/y0x1zbkpUXjddzWWnhekYw__micro/img/oUW7QBHTiMOcpt5FgNXd_Uy2LfM=/fit-in/64x64/filters:strip_icc()/pic5581457.jpg",
         "Pandemic Legacy: Season 0(2020)Work together during the Cold War to prevent a Soviet bio-threat.",
         "7.750",
         "8.41",
         "7410",
         ""
        ],
        [
         "54",
         "https://cf.geekdo-images.com/Zdt8l4oTBpFICsMyNof7Jg__micro/img/xnXopdLVlL31M169AjW8ofHRe5Q=/fit-in/64x64/filters:strip_icc()/pic5975244.png",
         "Sleeping Gods(2021)Voyages of the steamship \"Manticore\" and her crew on the Wandering Sea.",
         "7.748",
         "8.24",
         "11415",
         ""
        ],
        [
         "55",
         "https://cf.geekdo-images.com/Qtkb-UTvHa0-kxt_MK1nKw__micro/img/eYV_Y45Hk66WceHroLlRqnHEHmg=/fit-in/64x64/filters:strip_icc()/pic3763549.jpg",
         "Pandemic Legacy: Season 2(2017)The world is a mystery after a devastating pandemic—where will your team go?",
         "7.727",
         "8.04",
         "16703",
         ""
        ],
        [
         "56",
         "https://cf.geekdo-images.com/LIooA9bTdjnE9qmhjL-UFw__micro/img/rsUu4YzIErI1oi6TRRA-cKiS-I0=/fit-in/64x64/filters:strip_icc()/pic3118622.jpg",
         "Mansions of Madness: Second Edition(2016)Unravel mysteries in Arkham with your investigative team in this app-guided game.",
         "7.718",
         "7.95",
         "35855",
         ""
        ],
        [
         "57",
         "https://cf.geekdo-images.com/OrHS8_a1CqSGiXeTfCk0Wg__micro/img/rpfZR0COMOP41SI2EZPrSrX_LL8=/fit-in/64x64/filters:strip_icc()/pic3209553.jpg",
         "Lisboa(2017)Compete to reconstruct the city of Lisboa after the great earthquake of 1755.",
         "7.718",
         "8.19",
         "10853",
         ""
        ],
        [
         "58",
         "https://cf.geekdo-images.com/rMNa0k05zMdKgSEp26Q3Tw__micro/img/rDI-yCgwVbB_szRjUWOY8IKIdUk=/fit-in/64x64/filters:strip_icc()/pic4917407.jpg",
         "Maracaibo(2019)Seafarers journey to obtain wealth and fame in the 17th century Caribbean.",
         "7.711",
         "8.04",
         "15842",
         ""
        ],
        [
         "59",
         "https://cf.geekdo-images.com/kXf7mDyDYuHg6oe8yTUIEA__micro/img/3EqJtoxAlTb2pJWxmA7TUu4HWNI=/fit-in/64x64/filters:strip_icc()/pic4604439.jpg",
         "Tzolk'in: The Mayan Calendar(2012)Lead your people, build monuments and make offerings to earn the favour of the gods.",
         "7.706",
         "7.86",
         "38896",
         ""
        ],
        [
         "60",
         "https://cf.geekdo-images.com/yd6LuatytHRhcFCxCf-EEg__micro/img/ZUrGKfXAZS4AztFRXq2W9oD6TG4=/fit-in/64x64/filters:strip_icc()/pic4459753.jpg",
         "Power Grid(2004)Bid, network, and manage resources in a race to supply the most cities with power.",
         "7.704",
         "7.81",
         "64917",
         ""
        ],
        [
         "",
         null,
         null,
         null,
         null,
         null,
         null
        ],
        [
         "61",
         "https://cf.geekdo-images.com/e8D09pfFsUsoX1D81EeoZg__micro/img/g4fUW30OaTTN48VW7tdVOIAEvWQ=/fit-in/64x64/filters:strip_icc()/pic4705171.jpg",
         "Cthulhu: Death May Die(2019)Disrupt the ritual and slay the Elder Gods in this co-op dice chucker.",
         "7.700",
         "8.19",
         "11881",
         ""
        ],
        [
         "62",
         "https://cf.geekdo-images.com/sy89BiuZXfbSnG7Cag9tBQ__micro/img/0VYxwvacU7ADCGyJt5iLMa5WQoA=/fit-in/64x64/filters:strip_icc()/pic5902073.png",
         "Obsession(2018)Renovate an estate, manage servants, and pursue romance in Victorian England.",
         "7.689",
         "8.16",
         "11512",
         ""
        ],
        [
         "63",
         "https://cf.geekdo-images.com/pH5LgRL4mNRon-2NsSDb1Q__micro/img/pAWwGfiqFpn-kkzUKexMTZOvoA4=/fit-in/64x64/filters:strip_icc()/pic6137509.png",
         "The Quacks of Quedlinburg(2018)Pull ingredients from your stock to make your pot bubble, but hopefully not explode!",
         "7.687",
         "7.83",
         "48403",
         ""
        ],
        [
         "64",
         "https://cf.geekdo-images.com/SPuwc6RJ6y4PnTH36Pegsg__micro/img/wWI0kOjt4L4TOOV_Dn2BLthq5QQ=/fit-in/64x64/filters:strip_icc()/pic3511783.png",
         "Clans of Caledonia(2017)Lead your unique Scottish clan to economic might via production, trade, and export.",
         "7.685",
         "7.95",
         "20164",
         ""
        ],
        [
         "65",
         "https://cf.geekdo-images.com/GlCmHjdLwv3SqSjv52ToGw__micro/img/egqhEcYTqBsaT7AeNBe2LdUcGZs=/fit-in/64x64/filters:strip_icc()/pic6966955.jpg",
         "Grand Austria Hotel(2015)Serve guests and prepare rooms to be the best hotelier in the Viennese modern age.",
         "7.684",
         "7.94",
         "20416",
         ""
        ],
        [
         "66",
         "https://cf.geekdo-images.com/y7Rqd3S6J7vyVhicR1bqTQ__micro/img/c1qPt4uwG4qhjxmrgtIuKulwQkI=/fit-in/64x64/filters:strip_icc()/pic6091101.jpg",
         "Le Havre(2008)Establish a supply chain by collecting resources, building industries, and shipping.",
         "7.683",
         "7.85",
         "31366",
         ""
        ],
        [
         "67",
         "https://cf.geekdo-images.com/4nhokcLdYoo6ulbZ1rmGgA__micro/img/WMzScSxJICvIyErl47KBVoskhnQ=/fit-in/64x64/filters:strip_icc()/pic4462987.png",
         "Paladins of the West Kingdom(2019)Invaders are coming from everywhere.  Keep the faith and defend your homeland.",
         "7.680",
         "7.99",
         "17439",
         ""
        ],
        [
         "68",
         "https://cf.geekdo-images.com/pIQ_MXvaoARRp1loCHJuHg__micro/img/i2soAnlvaDCzWksrpO2By4-GgGA=/fit-in/64x64/filters:strip_icc()/pic2247647.jpg",
         "Star Wars: Imperial Assault(2014)Play as Rebel or Imperial forces to fulfill mission objectives.",
         "7.676",
         "7.97",
         "24468",
         ""
        ],
        [
         "69",
         "https://cf.geekdo-images.com/ie1GSt1XV04sXQXt-3O1UQ__micro/img/Zxap2me5W8VgLK_VNU_lY5vLnbA=/fit-in/64x64/filters:strip_icc()/pic2503200.png",
         "The Gallerist(2015)Amass a fortune, and stake your reputation by operating a lucrative art gallery.",
         "7.676",
         "8.02",
         "14326",
         ""
        ],
        [
         "70",
         "https://cf.geekdo-images.com/98LnQShydr11OBKS46xY-Q__micro/img/bIVTqYzQ5wDuCSmcQvpNokXZOUo=/fit-in/64x64/filters:strip_icc()/pic5687013.jpg",
         "The Crew: The Quest for Planet Nine(2019)Go on many planet-discovering space missions in this cooperative trick-taking game.",
         "7.668",
         "7.81",
         "40759",
         ""
        ],
        [
         "71",
         "https://cf.geekdo-images.com/n4J5LebMj0DQD016qW7ABw__micro/img/n4vvAq2JZvjf0yS_Mugr79dqM90=/fit-in/64x64/filters:strip_icc()/pic3184103.jpg",
         "Mechs vs. Minions(2016)Cooperatively program and pilot your mechs to defeat an army of marauding minions.",
         "7.665",
         "7.97",
         "17310",
         ""
        ],
        [
         "72",
         "https://cf.geekdo-images.com/2ewHIIG_TRq8bYlqk0jIMw__micro/img/U5irACQ5P-7X9XyeDWj71ai-Ruw=/fit-in/64x64/filters:strip_icc()/pic3738560.jpg",
         "Android: Netrunner(2012)Megacorporation versus Netrunner in this futuristic cyberpunk game of cat and mouse.",
         "7.659",
         "7.88",
         "29952",
         ""
        ],
        [
         "73",
         "https://cf.geekdo-images.com/LenzJBOHboAGU0cUIqAZPQ__micro/img/6YI32BDhyuO9JZrofc1CPbuFlVY=/fit-in/64x64/filters:strip_icc()/pic2931007.jpg",
         "Kingdom Death: Monster(2015)Try to survive in a nightmarish world that lies under eternal darkness.",
         "7.656",
         "8.50",
         "9542",
         ""
        ],
        [
         "74",
         "https://cf.geekdo-images.com/aPSHJO0d0XOpQR5X-wJonw__micro/img/3M2bj5ZXqAskTOvLTXRuHOH-Y44=/fit-in/64x64/filters:strip_icc()/pic6973671.png",
         "Azul(2017)Artfully embellish the walls of your palace by drafting the most beautiful tiles.",
         "7.643",
         "7.75",
         "88368",
         ""
        ],
        [
         "75",
         "https://cf.geekdo-images.com/YCGWJMFwOI5efji2RJ2mSw__micro/img/GQNkMukGtKD2cVOgpUk4ZSmpUfA=/fit-in/64x64/filters:strip_icc()/pic8093340.jpg",
         "Agricola (Revised Edition)(2016)Help your farm to prosper in this updated, streamlined edition of the acclaimed game.",
         "7.640",
         "7.96",
         "17401",
         ""
        ],
        [
         "",
         null,
         null,
         null,
         null,
         null,
         null
        ],
        [
         "76",
         "https://cf.geekdo-images.com/-DOqixs8uwKUvvWPKI4f9w__micro/img/Fz_qRw_ZHI9TfZXY0b4YZ6zfT7o=/fit-in/64x64/filters:strip_icc()/pic5261714.jpg",
         "Race for the Galaxy(2007)Worlds await! Colonize, develop and conquer, taking advantage of others' choices.",
         "7.631",
         "7.74",
         "55077",
         ""
        ],
        [
         "77",
         "https://cf.geekdo-images.com/dmo-WD6HZHVUPrbVHunaTw__micro/img/fxKL3MvU00YeEkfeLNdQGUl5rxA=/fit-in/64x64/filters:strip_icc()/pic2055255.jpg",
         "Five Tribes: The Djinns of Naqala(2014)Move assassins, elders & builders through Naqala to claim oases & control djinns.",
         "7.625",
         "7.78",
         "41047",
         ""
        ],
        [
         "78",
         "https://cf.geekdo-images.com/cnFppsVNOSTJ-W3APQFuTg__micro/img/dfQTNAju5CUxn6JQl-Pxubac99o=/fit-in/64x64/filters:strip_icc()/pic1974056.jpg",
         "Eclipse: New Dawn for the Galaxy(2011)Build an interstellar civilization by exploration, research, conquest, and diplomacy.",
         "7.622",
         "7.83",
         "28282",
         ""
        ],
        [
         "79",
         "https://cf.geekdo-images.com/dezQ4YjF03lZVxTdI-UJYw__micro/img/7bEpYVStLA2qmeKUIweHTGziwSU=/fit-in/64x64/filters:strip_icc()/pic6863204.jpg",
         "Oathsworn: Into the Deepwood(2022)Fight for humanity's survival against unnatural horrors and the Deepwood itself.",
         "7.622",
         "9.02",
         "4351",
         ""
        ],
        [
         "80",
         "https://cf.geekdo-images.com/DPjV1iI0ygo5Bl3XLNRiIg__micro/img/5hO7ln_bquTyy4Q__ksB4NT1gMs=/fit-in/64x64/filters:strip_icc()/pic4449526.jpg",
         "Clank!: A Deck-Building Adventure(2016)Claim your treasures but don't attract the dragon in this deck-building dungeon race.",
         "7.620",
         "7.78",
         "41679",
         ""
        ],
        [
         "81",
         "https://cf.geekdo-images.com/d50LceHj6LIafa4S_qIsCg__micro/img/0El7f9TAr9UfvKlcsXYrBe8jEOc=/fit-in/64x64/filters:strip_icc()/pic3189350.jpg",
         "Aeon's End(2016)Mages must reach their full potential to defend humanity from terrible monstrosities.",
         "7.618",
         "7.91",
         "20187",
         ""
        ],
        [
         "82",
         "https://cf.geekdo-images.com/0w8go6cfvlpgJKydHUkDtA__micro/img/9JEU9pIfwl2wUIE3fmCmjjH_iiM=/fit-in/64x64/filters:strip_icc()/pic2225968.png",
         "Fields of Arle(2014)Construct dikes, drain bogs, harvest flax and tend to newborn animals in East Frisia.",
         "7.606",
         "8.03",
         "10834",
         ""
        ],
        [
         "83",
         "https://cf.geekdo-images.com/BfEHqHQAvZLbRX7y7e9TWg__micro/img/RgHc2PFvpz3xxRPRg5v7d46JQNc=/fit-in/64x64/filters:strip_icc()/pic5617866.jpg",
         "Beyond the Sun(2020)Collectively develop a tech tree to fuel new discoveries and colonize space.",
         "7.602",
         "7.94",
         "13998",
         ""
        ],
        [
         "84",
         "https://cf.geekdo-images.com/wW5xjgBJcFyLaEWZwrYuKA__micro/img/kXVTBtcGC-5L706WFNJLAuZTovQ=/fit-in/64x64/filters:strip_icc()/pic4583626.jpg",
         "Teotihuacan: City of Gods(2018)Use your worker dice to raise the legendary and breathtaking Pyramid of the Sun.",
         "7.600",
         "7.87",
         "19623",
         ""
        ],
        [
         "85",
         "https://cf.geekdo-images.com/3piN3YX4WmBRuIvbEG2Ygg__micro/img/xy_566fY112BYtYJjT29cfAcHsk=/fit-in/64x64/filters:strip_icc()/pic236169.jpg",
         "Through the Ages: A Story of Civilization(2006)Lead your civilization through strategic drafting of leaders, technologies, and more.",
         "7.599",
         "7.85",
         "19300",
         ""
        ],
        [
         "86",
         "https://cf.geekdo-images.com/-hk8f8iGk_DyWyMrfiPBkg__micro/img/tWSg9ErrwvVcwaE1Kze1IsxwpGg=/fit-in/64x64/filters:strip_icc()/pic1116080.jpg",
         "Lords of Waterdeep(2012)Deploy agents and hire adventurers to expand your control over the city of Waterdeep.",
         "7.594",
         "7.74",
         "55100",
         ""
        ],
        [
         "87",
         "https://cf.geekdo-images.com/DCLgJlrvB-EqL6A3WgQLMQ__micro/img/j_LPta_lgRrN8Rrs9Rxt_d3Hysc=/fit-in/64x64/filters:strip_icc()/pic5715770.jpg",
         "Hegemony: Lead Your Class to Victory(2023)Simulate a whole contemporary nation in this asymmetric, politico-economic euro-game.",
         "7.586",
         "8.53",
         "5349",
         ""
        ],
        [
         "88",
         "https://cf.geekdo-images.com/oeygRZntjNUJWvc8SxDfww__micro/img/gXi23Nbfem6XTfRlV2eHEHB_cHY=/fit-in/64x64/filters:strip_icc()/pic784193.jpg",
         "Dominant Species(2010)With an ice age approaching, which animals will best propagate, migrate, and adapt?",
         "7.583",
         "7.82",
         "21049",
         ""
        ],
        [
         "89",
         "https://cf.geekdo-images.com/n1G7_aWToLAAB7Mqt8iwyA__micro/img/c8Ld-3E8S0devFlugLvyiAEESbY=/fit-in/64x64/filters:strip_icc()/pic2461346.png",
         "The Voyages of Marco Polo(2015)Using unique abilities, fulfill contracts and reach your goals along the Silk Road.",
         "7.581",
         "7.79",
         "24679",
         ""
        ],
        [
         "90",
         "https://cf.geekdo-images.com/FbFnaTx3aT5dM18K_bR_Pg__micro/img/brcsM5-72GgeBDQg3CSI6VB1Dqo=/fit-in/64x64/filters:strip_icc()/pic3165731.jpg",
         "Robinson Crusoe: Adventures on the Cursed Island(2012)Work together — with friends or with Friday — to survive on a deserted island.",
         "7.579",
         "7.75",
         "42997",
         ""
        ],
        [
         "",
         null,
         null,
         null,
         null,
         null,
         null
        ],
        [
         "91",
         "https://cf.geekdo-images.com/35h9Za_JvMMMtx_92kT0Jg__micro/img/4BRnGQ-EoU-2LNirfZpUC3HRReU=/fit-in/64x64/filters:strip_icc()/pic7149798.jpg",
         "7 Wonders(2010)Draft cards to develop your ancient civilization and build its Wonder of the World.",
         "7.578",
         "7.69",
         "103590",
         ""
        ],
        [
         "92",
         "https://cf.geekdo-images.com/RRKDHaYtFPHhczkUDcHOmg__micro/img/_hnYEtmQrfIco_6UTFRLZdhWMnQ=/fit-in/64x64/filters:strip_icc()/pic7906240.jpg",
         "El Grande(1995)Use your caballeros to control regions of medieval Spain, keeping clear of the King!",
         "7.570",
         "7.75",
         "28305",
         ""
        ],
        [
         "93",
         "https://cf.geekdo-images.com/NItjtztEUAKOpaTWZddu9A__micro/img/m4I9uS6LBjNz02oNquEkBM-L464=/fit-in/64x64/filters:strip_icc()/pic5744928.jpg",
         "The Search for Planet X(2020)Plan, scan, and theorize to find a new planet at the edge of our solar system.",
         "7.568",
         "7.97",
         "11688",
         ""
        ],
        [
         "94",
         "https://cf.geekdo-images.com/aAwBzPzta4joKfFZt05hCw__micro/img/28sp86TqPbMqn9M_qHWfS9j44-w=/fit-in/64x64/filters:strip_icc()/pic4385726.jpg",
         "Tainted Grail: The Fall of Avalon(2019)Exploration, combat, and diplomacy in a dark Arthurian realm.",
         "7.549",
         "8.09",
         "12149",
         ""
        ],
        [
         "95",
         "https://cf.geekdo-images.com/5Q2w2rFJiFI_uV89KP6ECg__micro/img/KGgAsbHUPaEjsl-r05JCH2ixP1o=/fit-in/64x64/filters:strip_icc()/pic354500.jpg",
         "Battlestar Galactica: The Board Game(2008)How can the human race survive when you don't know who is actually human?",
         "7.542",
         "7.73",
         "36353",
         ""
        ],
        [
         "96",
         "https://cf.geekdo-images.com/OAX7HfOz-9N60StgADzd0g__micro/img/5OEOXKjvrEMh2aT5I-FrAn5-9jo=/fit-in/64x64/filters:strip_icc()/pic3781944.png",
         "Architects of the West Kingdom(2018)Will you be a virtuous or nefarious servant of the king? Build your way to glory.",
         "7.542",
         "7.74",
         "28573",
         ""
        ],
        [
         "97",
         "https://cf.geekdo-images.com/hHZWXnUTMYDd_KTAM6Jwlw__micro/img/g7DQGNNf6ZFwYDGpe9kT3e4KELY=/fit-in/64x64/filters:strip_icc()/pic3759421.jpg",
         "Decrypto(2018)Decipher your opponents' code before they decipher yours. Don't get caught.",
         "7.541",
         "7.77",
         "21956",
         ""
        ],
        [
         "98",
         "https://cf.geekdo-images.com/6QE8mnPFmauoj2THsyUYPA__micro/img/KzK9JEEodDn0EyHA8rJy2X0cyYA=/fit-in/64x64/filters:strip_icc()/pic4739757.jpg",
         "Inis(2016)Claim the crown through merit and wisdom in this Celtic island struggle.",
         "7.539",
         "7.83",
         "19814",
         ""
        ],
        [
         "99",
         "https://cf.geekdo-images.com/9gob752VqEklQFV_gz16hw__micro/img/kYOLnVbUwnKjA37DqEe9HECvqI0=/fit-in/64x64/filters:strip_icc()/pic2585510.png",
         "Trickerion: Legends of Illusion(2015)Magicians perform dazzling tricks for money and fame in a Victorian steampunk world.",
         "7.533",
         "7.97",
         "10684",
         ""
        ],
        [
         "100",
         "https://cf.geekdo-images.com/36WIe0ZHkp5OvHOlB-8vog__micro/img/7lY7AE0KsFAO2svml1DMpa20-kg=/fit-in/64x64/filters:strip_icc()/pic4356580.jpg",
         "Concordia Venus(2018)Merchants build and trade throughout the Roman Empire to please the Gods.",
         "7.530",
         "8.29",
         "5587",
         ""
        ]
       ],
       "datasetInfos": [],
       "dbfsResultPath": null,
       "isJsonSchema": true,
       "metadata": {},
       "overflow": false,
       "plotOptions": {
        "customPlotOptions": {},
        "displayType": "table",
        "pivotAggregation": null,
        "pivotColumns": null,
        "xColumns": null,
        "yColumns": null
       },
       "removedWidgets": [],
       "schema": [
        {
         "metadata": "{}",
         "name": "Board Game Rank",
         "type": "\"string\""
        },
        {
         "metadata": "{}",
         "name": "Thumbnail image",
         "type": "\"string\""
        },
        {
         "metadata": "{}",
         "name": "Title",
         "type": "\"string\""
        },
        {
         "metadata": "{}",
         "name": "Geek Rating",
         "type": "\"string\""
        },
        {
         "metadata": "{}",
         "name": "Avg Rating",
         "type": "\"string\""
        },
        {
         "metadata": "{}",
         "name": "Num Voters",
         "type": "\"string\""
        },
        {
         "metadata": "{}",
         "name": "Shop",
         "type": "\"string\""
        }
       ],
       "type": "table"
      }
     },
     "output_type": "display_data"
    }
   ],
   "source": [
    "# convert the data to a Spark SQL table\n",
    "df = pd.DataFrame(all_data[0], columns=header)\n",
    "\n",
    "BGG = spark.createDataFrame(df)\n",
    "\n",
    "display(BGG)"
   ]
  },
  {
   "cell_type": "code",
   "execution_count": 0,
   "metadata": {
    "application/vnd.databricks.v1+cell": {
     "cellMetadata": {
      "byteLimit": 2048000,
      "rowLimit": 10000
     },
     "inputWidgets": {},
     "nuid": "1b066e9f-8a84-4bb4-93b9-0edc79f58b71",
     "showTitle": false,
     "tableResultSettingsMap": {},
     "title": ""
    }
   },
   "outputs": [
    {
     "output_type": "display_data",
     "data": {
      "text/html": [
       "<style scoped>\n",
       "  .table-result-container {\n",
       "    max-height: 300px;\n",
       "    overflow: auto;\n",
       "  }\n",
       "  table, th, td {\n",
       "    border: 1px solid black;\n",
       "    border-collapse: collapse;\n",
       "  }\n",
       "  th, td {\n",
       "    padding: 5px;\n",
       "  }\n",
       "  th {\n",
       "    text-align: left;\n",
       "  }\n",
       "</style><div class='table-result-container'><table class='table-result'><thead style='background-color: white'><tr><th>Rank</th><th>ImageURL</th><th>Title</th><th>YearPublished</th><th>GeekRating</th><th>AvgRating</th><th>NumVoters</th><th>currentdate</th></tr></thead><tbody><tr><td>5</td><td>https://cf.geekdo-images.com/_Ppn5lssO5OaildSE-FgFA__micro/img/2gymaKs35_2yj7eyyA6cYyVmd9c=/fit-in/64x64/filters:strip_icc()/pic3727516.jpg</td><td>Twilight Imperium: Fourth Edition</td><td>2017</td><td>8.243</td><td>8.60</td><td>23240</td><td>2024-03-30</td></tr><tr><td>8</td><td>https://cf.geekdo-images.com/ImPgGag98W6gpV1KV812aA__micro/img/NT-Av_3kdYUcwuti5ocmIQXow3g=/fit-in/64x64/filters:strip_icc()/pic1215633.jpg</td><td>War of the Ring: Second Edition</td><td>2011</td><td>8.180</td><td>8.54</td><td>20909</td><td>2024-03-30</td></tr><tr><td>4</td><td>https://cf.geekdo-images.com/SoU8p28Sk1s8MSvoM4N8pQ__micro/img/LSAi1pmhbTbWwtBrziutDOXzfdY=/fit-in/64x64/filters:strip_icc()/pic6293412.jpg</td><td>Ark Nova</td><td>2021</td><td>8.333</td><td>8.54</td><td>41305</td><td>2024-03-30</td></tr><tr><td>11</td><td>https://cf.geekdo-images.com/kjCm4ZvPjIZxS-mYgSPy1g__micro/img/sRPer5FmBxyV527MY67P-gM7ukg=/fit-in/64x64/filters:strip_icc()/pic7013651.jpg</td><td>Spirit Island</td><td>2017</td><td>8.146</td><td>8.35</td><td>50055</td><td>2024-03-30</td></tr><tr><td>3</td><td>https://cf.geekdo-images.com/sZYp_3BTDGjh2unaZfZmuA__micro/img/sQyh47ClBO3d5sxPm73hMvM-JV4=/fit-in/64x64/filters:strip_icc()/pic2437871.jpg</td><td>Gloomhaven</td><td>2017</td><td>8.361</td><td>8.60</td><td>61512</td><td>2024-03-30</td></tr><tr><td>7</td><td>https://cf.geekdo-images.com/wg9oOLcsKvDesSUdZQ4rxw__micro/img/LUkXZhd1TO80eCiXMD3-KfnzA6k=/fit-in/64x64/filters:strip_icc()/pic3536616.jpg</td><td>Terraforming Mars</td><td>2016</td><td>8.216</td><td>8.36</td><td>97186</td><td>2024-03-30</td></tr><tr><td>2</td><td>https://cf.geekdo-images.com/-Qer2BBPG7qGGDu6KcVDIw__micro/img/n6-sXYD6XXZoqIxq4P6AG7VPCuA=/fit-in/64x64/filters:strip_icc()/pic2452831.png</td><td>Pandemic Legacy: Season 1</td><td>2015</td><td>8.383</td><td>8.53</td><td>52964</td><td>2024-03-30</td></tr><tr><td>12</td><td>https://cf.geekdo-images.com/hGWFm3hbMlCDsfCsauOQ4g__micro/img/odWj2bEnZi9dEcQQrOtYj1e0QLE=/fit-in/64x64/filters:strip_icc()/pic5375625.png</td><td>Gaia Project</td><td>2017</td><td>8.120</td><td>8.39</td><td>26609</td><td>2024-03-30</td></tr><tr><td>6</td><td>https://cf.geekdo-images.com/PhjygpWSo-0labGrPBMyyg__micro/img/mfU7-dEFnVyXJrF-BWAO0buexao=/fit-in/64x64/filters:strip_icc()/pic5666597.jpg</td><td>Dune: Imperium</td><td>2020</td><td>8.225</td><td>8.43</td><td>43405</td><td>2024-03-30</td></tr><tr><td>9</td><td>https://cf.geekdo-images.com/_HhIdavYW-hid20Iq3hhmg__micro/img/OdKjWiFsNvQAfJfXXSITttiozWE=/fit-in/64x64/filters:strip_icc()/pic5055631.jpg</td><td>Gloomhaven: Jaws of the Lion</td><td>2020</td><td>8.174</td><td>8.45</td><td>33323</td><td>2024-03-30</td></tr><tr><td>10</td><td>https://cf.geekdo-images.com/7SrPNGBKg9IIsP4UQpOi8g__micro/img/nEvTiCkWpT-ymH4bstc9c335TtQ=/fit-in/64x64/filters:strip_icc()/pic4325841.jpg</td><td>Star Wars: Rebellion</td><td>2016</td><td>8.171</td><td>8.42</td><td>31966</td><td>2024-03-30</td></tr><tr><td>1</td><td>https://cf.geekdo-images.com/x3zxjr-Vw5iU4yDPg70Jgw__micro/img/4Od3GYCiqptga0VbmyumPbJlBsU=/fit-in/64x64/filters:strip_icc()/pic3490053.jpg</td><td>Brass: Birmingham</td><td>2018</td><td>8.417</td><td>8.60</td><td>44343</td><td>2024-03-30</td></tr><tr><td>21</td><td>https://cf.geekdo-images.com/tAqLpWxQ0Oo3GaPP3MER1g__micro/img/tivhH093LwCowK-_S7bVF_xha34=/fit-in/64x64/filters:strip_icc()/pic5073276.jpg</td><td>Nemesis</td><td>2018</td><td>7.955</td><td>8.27</td><td>29637</td><td>2024-03-30</td></tr><tr><td>17</td><td>https://cf.geekdo-images.com/7k_nOxpO9OGIjhLq2BUZdA__micro/img/ETplc22GdhlN5u0mppcDxSP8LVk=/fit-in/64x64/filters:strip_icc()/pic3163924.jpg</td><td>Scythe</td><td>2016</td><td>7.997</td><td>8.15</td><td>82141</td><td>2024-03-30</td></tr><tr><td>23</td><td>https://cf.geekdo-images.com/CzwSm8i7tkLz6cBnrILZBg__micro/img/FQyxREkHBn7yTbGmBg7c44eLgaM=/fit-in/64x64/filters:strip_icc()/pic3453267.jpg</td><td>Concordia</td><td>2013</td><td>7.945</td><td>8.10</td><td>39884</td><td>2024-03-30</td></tr><tr><td>16</td><td>https://cf.geekdo-images.com/5CFwjd8zTcGYVUnkXh04hw__micro/img/N1VrEUaW6bmwnqbZfi2nRScwGxM=/fit-in/64x64/filters:strip_icc()/pic1176894.jpg</td><td>The Castles of Burgundy</td><td>2011</td><td>8.013</td><td>8.14</td><td>61348</td><td>2024-03-30</td></tr><tr><td>13</td><td>https://cf.geekdo-images.com/pNCiUUphnoeWOYfsWq0kng__micro/img/ZlfJiIATIt5MY7xWSMzFmdygaa0=/fit-in/64x64/filters:strip_icc()/pic3530661.jpg</td><td>Twilight Struggle</td><td>2005</td><td>8.070</td><td>8.25</td><td>48370</td><td>2024-03-30</td></tr><tr><td>22</td><td>https://cf.geekdo-images.com/hc2NDafu5c24iLJh_IZmyg__micro/img/v2WzacDprYF837E6h9O2WuFFmpw=/fit-in/64x64/filters:strip_icc()/pic4885780.png</td><td>Clank! Legacy: Acquisitions Incorporated</td><td>2019</td><td>7.949</td><td>8.55</td><td>9176</td><td>2024-03-30</td></tr><tr><td>24</td><td>https://cf.geekdo-images.com/s9oGMCo1fcfV4Dk3EnqLZw__micro/img/JCrcuFDrjVQ64uLbqpH-Pmg6XsU=/fit-in/64x64/filters:strip_icc()/pic3146943.png</td><td>A Feast for Odin</td><td>2016</td><td>7.944</td><td>8.17</td><td>27842</td><td>2024-03-30</td></tr><tr><td>15</td><td>https://cf.geekdo-images.com/u1l0gH7sb_vnvDvoO_QHqA__micro/img/xeShpQfbj4L1id-ItJbfIYVzgyA=/fit-in/64x64/filters:strip_icc()/pic4887376.jpg</td><td>Great Western Trail</td><td>2016</td><td>8.035</td><td>8.20</td><td>40417</td><td>2024-03-30</td></tr><tr><td>18</td><td>https://cf.geekdo-images.com/Oh3kHw6lweg6ru71Q16h2Q__micro/img/vhB59zFDq3Kul0xbr3api2selZs=/fit-in/64x64/filters:strip_icc()/pic5235277.jpg</td><td>Eclipse: Second Dawn for the Galaxy</td><td>2020</td><td>7.974</td><td>8.47</td><td>13047</td><td>2024-03-30</td></tr><tr><td>19</td><td>https://cf.geekdo-images.com/zdagMskTF7wJBPjX74XsRw__micro/img/nXtpcw3tYaelntFHb1aH4YrN7Wk=/fit-in/64x64/filters:strip_icc()/pic2576399.jpg</td><td>7 Wonders Duel</td><td>2015</td><td>7.972</td><td>8.10</td><td>92711</td><td>2024-03-30</td></tr><tr><td>14</td><td>https://cf.geekdo-images.com/fVwPntkJKgaEo0rIC0RwpA__micro/img/77dZJpqtydc8TTecl0ReGF7iAVw=/fit-in/64x64/filters:strip_icc()/pic2663291.jpg</td><td>Through the Ages: A New Story of Civilization</td><td>2015</td><td>8.064</td><td>8.30</td><td>31249</td><td>2024-03-30</td></tr><tr><td>20</td><td>https://cf.geekdo-images.com/tHVtPzu82mBpeQbbZkV6EA__micro/img/jM8d5Q5btvJmcWQN_px-A-nlueI=/fit-in/64x64/filters:strip_icc()/pic3469216.jpg</td><td>Brass: Lancashire</td><td>2007</td><td>7.962</td><td>8.19</td><td>24642</td><td>2024-03-30</td></tr><tr><td>25</td><td>https://cf.geekdo-images.com/yLZJCVLlIx4c7eJEWUNJ7w__micro/img/5ZaRePVhfelfofF7T_OC1e0gUCw=/fit-in/64x64/filters:strip_icc()/pic4458123.jpg</td><td>Wingspan</td><td>2019</td><td>7.908</td><td>8.06</td><td>90684</td><td>2024-03-30</td></tr><tr><td>37</td><td>https://cf.geekdo-images.com/jEPmWvvYpqkWrKOzqIHFsg__micro/img/Uwm0ZfmY4ZNWWxlackDXrsmS-Io=/fit-in/64x64/filters:strip_icc()/pic4336469.png</td><td>Barrage</td><td>2019</td><td>7.849</td><td>8.17</td><td>17175</td><td>2024-03-30</td></tr><tr><td>34</td><td>https://cf.geekdo-images.com/DUO2hz9AlLOH8p9ED-lCWg__micro/img/eXzdbUmCbIdMIVgiQ_QwS3YNOS4=/fit-in/64x64/filters:strip_icc()/pic1083380.jpg</td><td>Mage Knight Board Game</td><td>2011</td><td>7.856</td><td>8.09</td><td>33046</td><td>2024-03-30</td></tr><tr><td>35</td><td>https://cf.geekdo-images.com/fjE7V5LNq31yVEW_yuqI-Q__micro/img/TAgkPCJdNAIHZfn1BE1DXadBL9g=/fit-in/64x64/filters:strip_icc()/pic3918905.png</td><td>Everdell</td><td>2018</td><td>7.852</td><td>8.03</td><td>52931</td><td>2024-03-30</td></tr><tr><td>30</td><td>https://cf.geekdo-images.com/JUAUWaVUzeBgzirhZNmHHw__micro/img/tdHLiMYfi-KTy89sGBGZVeE9ts0=/fit-in/64x64/filters:strip_icc()/pic4254509.jpg</td><td>Root</td><td>2018</td><td>7.886</td><td>8.07</td><td>49765</td><td>2024-03-30</td></tr><tr><td>28</td><td>https://cf.geekdo-images.com/6GqH14TJJhza86BX5HCLEQ__micro/img/2FKVaukjh9a-Kg9LWQuMSvLS34s=/fit-in/64x64/filters:strip_icc()/pic5674958.jpg</td><td>Lost Ruins of Arnak</td><td>2020</td><td>7.900</td><td>8.08</td><td>42501</td><td>2024-03-30</td></tr><tr><td>33</td><td>https://cf.geekdo-images.com/wKwRk0wYBcrtLAfgn4PCdg__micro/img/Q6VXZKoVSlMjTU7Vp8tn1tkcVzw=/fit-in/64x64/filters:strip_icc()/pic6624445.png</td><td>Too Many Bones</td><td>2017</td><td>7.857</td><td>8.35</td><td>12755</td><td>2024-03-30</td></tr><tr><td>36</td><td>https://cf.geekdo-images.com/VuBqZ1sMaDAVVHF_OEJP4g__micro/img/p3GKOrR04nV1qkim9zq-rmFfYh8=/fit-in/64x64/filters:strip_icc()/pic5988903.jpg</td><td>The Crew: Mission Deep Sea</td><td>2021</td><td>7.851</td><td>8.17</td><td>16506</td><td>2024-03-30</td></tr><tr><td>26</td><td>https://cf.geekdo-images.com/bre12I1YiXkZr7elvriz4A__micro/img/SAwaBrDhHbGuq6dFY-ok95qFMcU=/fit-in/64x64/filters:strip_icc()/pic5375624.jpg</td><td>Terra Mystica</td><td>2012</td><td>7.901</td><td>8.07</td><td>47581</td><td>2024-03-30</td></tr><tr><td>29</td><td>https://cf.geekdo-images.com/gDn7AhrDlmfCLSz9ZqoNFQ__micro/img/eGBh_Csj13hXnODUTB-7dmpq-M0=/fit-in/64x64/filters:strip_icc()/pic5988511.jpg</td><td>Great Western Trail: Second Edition</td><td>2021</td><td>7.893</td><td>8.35</td><td>11894</td><td>2024-03-30</td></tr><tr><td>31</td><td>https://cf.geekdo-images.com/nagl1li6kYt9elV9jbfVQw__micro/img/hUKCvnqgFvTl0aOMd8FLkgCObT0=/fit-in/64x64/filters:strip_icc()/pic6228507.jpg</td><td>Orléans</td><td>2014</td><td>7.873</td><td>8.06</td><td>30893</td><td>2024-03-30</td></tr><tr><td>32</td><td>https://cf.geekdo-images.com/iEBr5o8AbJi9V9cgQcYROQ__micro/img/n9Ol4YKAhRLuOu4f7OVVXGjlWSQ=/fit-in/64x64/filters:strip_icc()/pic6177719.jpg</td><td>Frosthaven</td><td>2022</td><td>7.862</td><td>8.86</td><td>6545</td><td>2024-03-30</td></tr><tr><td>27</td><td>https://cf.geekdo-images.com/B5F5ulz0UivNgrI9Ky0euA__micro/img/DnDtwD_7oQR982carXqiVfhOQog=/fit-in/64x64/filters:strip_icc()/pic3122349.jpg</td><td>Arkham Horror: The Card Game</td><td>2016</td><td>7.901</td><td>8.13</td><td>42502</td><td>2024-03-30</td></tr><tr><td>49</td><td>https://cf.geekdo-images.com/31quLNzteInnevVRAABoow__micro/img/CMEokoPk9cBV5A82_eBwjDJPMfE=/fit-in/64x64/filters:strip_icc()/pic3499707.jpg</td><td>Anachrony</td><td>2017</td><td>7.759</td><td>8.08</td><td>18248</td><td>2024-03-30</td></tr><tr><td>41</td><td>https://cf.geekdo-images.com/oSM_AuKYfGIwOtKbVEsoVg__micro/img/SKUliR88eoltB2ytmwz3BffW7aA=/fit-in/64x64/filters:strip_icc()/pic4503733.png</td><td>Pax Pamir: Second Edition</td><td>2019</td><td>7.795</td><td>8.20</td><td>13546</td><td>2024-03-30</td></tr><tr><td>45</td><td>https://cf.geekdo-images.com/MjeJZfulbsM1DSV3DrGJYA__micro/img/x2BDobiHVhQHl7LhBimeU8L1ko4=/fit-in/64x64/filters:strip_icc()/pic5100691.jpg</td><td>Cascadia</td><td>2021</td><td>7.773</td><td>7.96</td><td>36354</td><td>2024-03-30</td></tr><tr><td>46</td><td>https://cf.geekdo-images.com/rz22tqa5PCYvK9oDjIbvxg__micro/img/sog7ni3vUAAfvd66e6XW4iOca4I=/fit-in/64x64/filters:strip_icc()/pic1790789.jpg</td><td>Caverna: The Cave Farmers</td><td>2013</td><td>7.768</td><td>7.95</td><td>34498</td><td>2024-03-30</td></tr><tr><td>50</td><td>https://cf.geekdo-images.com/Nm0Iw8NoiM9V8IsifimGBw__micro/img/HQNReYu8QkZqD4dbZeWg3cQrkv0=/fit-in/64x64/filters:strip_icc()/pic4357658.jpg</td><td>On Mars</td><td>2020</td><td>7.756</td><td>8.20</td><td>12294</td><td>2024-03-30</td></tr><tr><td>48</td><td>https://cf.geekdo-images.com/HkZSJfQnZ3EpS214xtuplg__micro/img/7xdR1_OUo1ReAvYzhi7jBhFMHu0=/fit-in/64x64/filters:strip_icc()/pic2439223.jpg</td><td>Blood Rage</td><td>2015</td><td>7.762</td><td>7.93</td><td>46468</td><td>2024-03-30</td></tr><tr><td>38</td><td>https://cf.geekdo-images.com/l_PRU2lVlX9seScRFcvFlA__micro/img/3EqHlTkNSnZNFHVaAeFSpzfzuIQ=/fit-in/64x64/filters:strip_icc()/pic6500949.jpg</td><td>Viticulture Essential Edition</td><td>2015</td><td>7.844</td><td>7.99</td><td>47848</td><td>2024-03-30</td></tr><tr><td>39</td><td>https://cf.geekdo-images.com/Wtxml94LAXsIWQCxGPS63Q__micro/img/4Oucoa190njfSaNHr8YRIl6UnTU=/fit-in/64x64/filters:strip_icc()/pic2649434.png</td><td>Food Chain Magnate</td><td>2015</td><td>7.805</td><td>8.07</td><td>20093</td><td>2024-03-30</td></tr><tr><td>43</td><td>https://cf.geekdo-images.com/-vOrd4bOspibyohYExLqWg__micro/img/bcHg_0mMkgMaBp9Sz1gxJtHtaHw=/fit-in/64x64/filters:strip_icc()/pic6940449.png</td><td>Heat: Pedal to the Metal</td><td>2022</td><td>7.784</td><td>8.09</td><td>19978</td><td>2024-03-30</td></tr><tr><td>44</td><td>https://cf.geekdo-images.com/QFiIRd2kimaMqTyWsX0aUg__micro/img/ggNIAA1GEadqvcY7Mvwb9_VEybU=/fit-in/64x64/filters:strip_icc()/pic158548.jpg</td><td>Puerto Rico</td><td>2002</td><td>7.781</td><td>7.92</td><td>70579</td><td>2024-03-30</td></tr><tr><td>47</td><td>https://cf.geekdo-images.com/7ejbxsn-UtLl3ehamuAEdw__micro/img/5UygdMxz3N_dTCkGlwVlgJXK_vg=/fit-in/64x64/filters:strip_icc()/pic79413.jpg</td><td>Crokinole</td><td>1876</td><td>7.762</td><td>8.03</td><td>17646</td><td>2024-03-30</td></tr><tr><td>42</td><td>https://cf.geekdo-images.com/PwOwTVHovJAUQgghnGqCOg__micro/img/9ftDcGDumAWKm_3hmu6JUwjb1aU=/fit-in/64x64/filters:strip_icc()/pic4837710.png</td><td>Underwater Cities</td><td>2018</td><td>7.788</td><td>8.07</td><td>19131</td><td>2024-03-30</td></tr><tr><td>40</td><td>https://cf.geekdo-images.com/kRvUgYiaOq07kC67ZK5UoQ__micro/img/4DLQr45lpVBfCkiy-kVwhl4z4vQ=/fit-in/64x64/filters:strip_icc()/pic4900321.jpg</td><td>Marvel Champions: The Card Game</td><td>2019</td><td>7.799</td><td>8.13</td><td>23052</td><td>2024-03-30</td></tr><tr><td>59</td><td>https://cf.geekdo-images.com/kXf7mDyDYuHg6oe8yTUIEA__micro/img/3EqJtoxAlTb2pJWxmA7TUu4HWNI=/fit-in/64x64/filters:strip_icc()/pic4604439.jpg</td><td>Tzolk'in: The Mayan Calendar</td><td>2012</td><td>7.706</td><td>7.86</td><td>38896</td><td>2024-03-30</td></tr><tr><td>58</td><td>https://cf.geekdo-images.com/rMNa0k05zMdKgSEp26Q3Tw__micro/img/rDI-yCgwVbB_szRjUWOY8IKIdUk=/fit-in/64x64/filters:strip_icc()/pic4917407.jpg</td><td>Maracaibo</td><td>2019</td><td>7.711</td><td>8.04</td><td>15842</td><td>2024-03-30</td></tr><tr><td>53</td><td>https://cf.geekdo-images.com/y0x1zbkpUXjddzWWnhekYw__micro/img/oUW7QBHTiMOcpt5FgNXd_Uy2LfM=/fit-in/64x64/filters:strip_icc()/pic5581457.jpg</td><td>Pandemic Legacy: Season 0</td><td>2020</td><td>7.750</td><td>8.41</td><td>7410</td><td>2024-03-30</td></tr><tr><td>52</td><td>https://cf.geekdo-images.com/L2Wn-zUqkcHgqvwvY212Ig__micro/img/2pY9Wo185ehuYO7Mb0gTDpdww74=/fit-in/64x64/filters:strip_icc()/pic4924232.jpg</td><td>Kanban EV</td><td>2020</td><td>7.752</td><td>8.43</td><td>7305</td><td>2024-03-30</td></tr><tr><td>54</td><td>https://cf.geekdo-images.com/Zdt8l4oTBpFICsMyNof7Jg__micro/img/xnXopdLVlL31M169AjW8ofHRe5Q=/fit-in/64x64/filters:strip_icc()/pic5975244.png</td><td>Sleeping Gods</td><td>2021</td><td>7.748</td><td>8.24</td><td>11415</td><td>2024-03-30</td></tr><tr><td>56</td><td>https://cf.geekdo-images.com/LIooA9bTdjnE9qmhjL-UFw__micro/img/rsUu4YzIErI1oi6TRRA-cKiS-I0=/fit-in/64x64/filters:strip_icc()/pic3118622.jpg</td><td>Mansions of Madness: Second Edition</td><td>2016</td><td>7.718</td><td>7.95</td><td>35855</td><td>2024-03-30</td></tr><tr><td>61</td><td>https://cf.geekdo-images.com/e8D09pfFsUsoX1D81EeoZg__micro/img/g4fUW30OaTTN48VW7tdVOIAEvWQ=/fit-in/64x64/filters:strip_icc()/pic4705171.jpg</td><td>Cthulhu: Death May Die</td><td>2019</td><td>7.700</td><td>8.19</td><td>11881</td><td>2024-03-30</td></tr><tr><td>51</td><td>https://cf.geekdo-images.com/dDDo2Hexl80ucK1IlqTk-g__micro/img/SZgGqufNqaW8BCFT29wkYPaRXOE=/fit-in/64x64/filters:strip_icc()/pic831744.jpg</td><td>Agricola</td><td>2007</td><td>7.753</td><td>7.88</td><td>72285</td><td>2024-03-30</td></tr><tr><td>62</td><td>https://cf.geekdo-images.com/sy89BiuZXfbSnG7Cag9tBQ__micro/img/0VYxwvacU7ADCGyJt5iLMa5WQoA=/fit-in/64x64/filters:strip_icc()/pic5902073.png</td><td>Obsession</td><td>2018</td><td>7.689</td><td>8.16</td><td>11512</td><td>2024-03-30</td></tr><tr><td>57</td><td>https://cf.geekdo-images.com/OrHS8_a1CqSGiXeTfCk0Wg__micro/img/rpfZR0COMOP41SI2EZPrSrX_LL8=/fit-in/64x64/filters:strip_icc()/pic3209553.jpg</td><td>Lisboa</td><td>2017</td><td>7.718</td><td>8.19</td><td>10853</td><td>2024-03-30</td></tr><tr><td>60</td><td>https://cf.geekdo-images.com/yd6LuatytHRhcFCxCf-EEg__micro/img/ZUrGKfXAZS4AztFRXq2W9oD6TG4=/fit-in/64x64/filters:strip_icc()/pic4459753.jpg</td><td>Power Grid</td><td>2004</td><td>7.704</td><td>7.81</td><td>64917</td><td>2024-03-30</td></tr><tr><td>55</td><td>https://cf.geekdo-images.com/Qtkb-UTvHa0-kxt_MK1nKw__micro/img/eYV_Y45Hk66WceHroLlRqnHEHmg=/fit-in/64x64/filters:strip_icc()/pic3763549.jpg</td><td>Pandemic Legacy: Season 2</td><td>2017</td><td>7.727</td><td>8.04</td><td>16703</td><td>2024-03-30</td></tr><tr><td>66</td><td>https://cf.geekdo-images.com/y7Rqd3S6J7vyVhicR1bqTQ__micro/img/c1qPt4uwG4qhjxmrgtIuKulwQkI=/fit-in/64x64/filters:strip_icc()/pic6091101.jpg</td><td>Le Havre</td><td>2008</td><td>7.683</td><td>7.85</td><td>31366</td><td>2024-03-30</td></tr><tr><td>68</td><td>https://cf.geekdo-images.com/pIQ_MXvaoARRp1loCHJuHg__micro/img/i2soAnlvaDCzWksrpO2By4-GgGA=/fit-in/64x64/filters:strip_icc()/pic2247647.jpg</td><td>Star Wars: Imperial Assault</td><td>2014</td><td>7.676</td><td>7.97</td><td>24468</td><td>2024-03-30</td></tr><tr><td>70</td><td>https://cf.geekdo-images.com/98LnQShydr11OBKS46xY-Q__micro/img/bIVTqYzQ5wDuCSmcQvpNokXZOUo=/fit-in/64x64/filters:strip_icc()/pic5687013.jpg</td><td>The Crew: The Quest for Planet Nine</td><td>2019</td><td>7.668</td><td>7.81</td><td>40759</td><td>2024-03-30</td></tr><tr><td>69</td><td>https://cf.geekdo-images.com/ie1GSt1XV04sXQXt-3O1UQ__micro/img/Zxap2me5W8VgLK_VNU_lY5vLnbA=/fit-in/64x64/filters:strip_icc()/pic2503200.png</td><td>The Gallerist</td><td>2015</td><td>7.676</td><td>8.02</td><td>14326</td><td>2024-03-30</td></tr><tr><td>72</td><td>https://cf.geekdo-images.com/2ewHIIG_TRq8bYlqk0jIMw__micro/img/U5irACQ5P-7X9XyeDWj71ai-Ruw=/fit-in/64x64/filters:strip_icc()/pic3738560.jpg</td><td>Android: Netrunner</td><td>2012</td><td>7.659</td><td>7.88</td><td>29952</td><td>2024-03-30</td></tr><tr><td>63</td><td>https://cf.geekdo-images.com/pH5LgRL4mNRon-2NsSDb1Q__micro/img/pAWwGfiqFpn-kkzUKexMTZOvoA4=/fit-in/64x64/filters:strip_icc()/pic6137509.png</td><td>The Quacks of Quedlinburg</td><td>2018</td><td>7.687</td><td>7.83</td><td>48403</td><td>2024-03-30</td></tr><tr><td>71</td><td>https://cf.geekdo-images.com/n4J5LebMj0DQD016qW7ABw__micro/img/n4vvAq2JZvjf0yS_Mugr79dqM90=/fit-in/64x64/filters:strip_icc()/pic3184103.jpg</td><td>Mechs vs. Minions</td><td>2016</td><td>7.665</td><td>7.97</td><td>17310</td><td>2024-03-30</td></tr><tr><td>65</td><td>https://cf.geekdo-images.com/GlCmHjdLwv3SqSjv52ToGw__micro/img/egqhEcYTqBsaT7AeNBe2LdUcGZs=/fit-in/64x64/filters:strip_icc()/pic6966955.jpg</td><td>Grand Austria Hotel</td><td>2015</td><td>7.684</td><td>7.94</td><td>20416</td><td>2024-03-30</td></tr><tr><td>74</td><td>https://cf.geekdo-images.com/aPSHJO0d0XOpQR5X-wJonw__micro/img/3M2bj5ZXqAskTOvLTXRuHOH-Y44=/fit-in/64x64/filters:strip_icc()/pic6973671.png</td><td>Azul</td><td>2017</td><td>7.643</td><td>7.75</td><td>88368</td><td>2024-03-30</td></tr><tr><td>75</td><td>https://cf.geekdo-images.com/YCGWJMFwOI5efji2RJ2mSw__micro/img/GQNkMukGtKD2cVOgpUk4ZSmpUfA=/fit-in/64x64/filters:strip_icc()/pic8093340.jpg</td><td>Agricola </td><td>2016</td><td>7.640</td><td>7.96</td><td>17401</td><td>2024-03-30</td></tr><tr><td>67</td><td>https://cf.geekdo-images.com/4nhokcLdYoo6ulbZ1rmGgA__micro/img/WMzScSxJICvIyErl47KBVoskhnQ=/fit-in/64x64/filters:strip_icc()/pic4462987.png</td><td>Paladins of the West Kingdom</td><td>2019</td><td>7.680</td><td>7.99</td><td>17439</td><td>2024-03-30</td></tr><tr><td>73</td><td>https://cf.geekdo-images.com/LenzJBOHboAGU0cUIqAZPQ__micro/img/6YI32BDhyuO9JZrofc1CPbuFlVY=/fit-in/64x64/filters:strip_icc()/pic2931007.jpg</td><td>Kingdom Death: Monster</td><td>2015</td><td>7.656</td><td>8.50</td><td>9542</td><td>2024-03-30</td></tr><tr><td>64</td><td>https://cf.geekdo-images.com/SPuwc6RJ6y4PnTH36Pegsg__micro/img/wWI0kOjt4L4TOOV_Dn2BLthq5QQ=/fit-in/64x64/filters:strip_icc()/pic3511783.png</td><td>Clans of Caledonia</td><td>2017</td><td>7.685</td><td>7.95</td><td>20164</td><td>2024-03-30</td></tr><tr><td>83</td><td>https://cf.geekdo-images.com/BfEHqHQAvZLbRX7y7e9TWg__micro/img/RgHc2PFvpz3xxRPRg5v7d46JQNc=/fit-in/64x64/filters:strip_icc()/pic5617866.jpg</td><td>Beyond the Sun</td><td>2020</td><td>7.602</td><td>7.94</td><td>13998</td><td>2024-03-30</td></tr><tr><td>80</td><td>https://cf.geekdo-images.com/DPjV1iI0ygo5Bl3XLNRiIg__micro/img/5hO7ln_bquTyy4Q__ksB4NT1gMs=/fit-in/64x64/filters:strip_icc()/pic4449526.jpg</td><td>Clank!: A Deck-Building Adventure</td><td>2016</td><td>7.620</td><td>7.78</td><td>41679</td><td>2024-03-30</td></tr><tr><td>77</td><td>https://cf.geekdo-images.com/dmo-WD6HZHVUPrbVHunaTw__micro/img/fxKL3MvU00YeEkfeLNdQGUl5rxA=/fit-in/64x64/filters:strip_icc()/pic2055255.jpg</td><td>Five Tribes: The Djinns of Naqala</td><td>2014</td><td>7.625</td><td>7.78</td><td>41047</td><td>2024-03-30</td></tr><tr><td>78</td><td>https://cf.geekdo-images.com/cnFppsVNOSTJ-W3APQFuTg__micro/img/dfQTNAju5CUxn6JQl-Pxubac99o=/fit-in/64x64/filters:strip_icc()/pic1974056.jpg</td><td>Eclipse: New Dawn for the Galaxy</td><td>2011</td><td>7.622</td><td>7.83</td><td>28282</td><td>2024-03-30</td></tr><tr><td>82</td><td>https://cf.geekdo-images.com/0w8go6cfvlpgJKydHUkDtA__micro/img/9JEU9pIfwl2wUIE3fmCmjjH_iiM=/fit-in/64x64/filters:strip_icc()/pic2225968.png</td><td>Fields of Arle</td><td>2014</td><td>7.606</td><td>8.03</td><td>10834</td><td>2024-03-30</td></tr><tr><td>76</td><td>https://cf.geekdo-images.com/-DOqixs8uwKUvvWPKI4f9w__micro/img/Fz_qRw_ZHI9TfZXY0b4YZ6zfT7o=/fit-in/64x64/filters:strip_icc()/pic5261714.jpg</td><td>Race for the Galaxy</td><td>2007</td><td>7.631</td><td>7.74</td><td>55077</td><td>2024-03-30</td></tr><tr><td>86</td><td>https://cf.geekdo-images.com/-hk8f8iGk_DyWyMrfiPBkg__micro/img/tWSg9ErrwvVcwaE1Kze1IsxwpGg=/fit-in/64x64/filters:strip_icc()/pic1116080.jpg</td><td>Lords of Waterdeep</td><td>2012</td><td>7.594</td><td>7.74</td><td>55100</td><td>2024-03-30</td></tr><tr><td>85</td><td>https://cf.geekdo-images.com/3piN3YX4WmBRuIvbEG2Ygg__micro/img/xy_566fY112BYtYJjT29cfAcHsk=/fit-in/64x64/filters:strip_icc()/pic236169.jpg</td><td>Through the Ages: A Story of Civilization</td><td>2006</td><td>7.599</td><td>7.85</td><td>19300</td><td>2024-03-30</td></tr><tr><td>81</td><td>https://cf.geekdo-images.com/d50LceHj6LIafa4S_qIsCg__micro/img/0El7f9TAr9UfvKlcsXYrBe8jEOc=/fit-in/64x64/filters:strip_icc()/pic3189350.jpg</td><td>Aeon's End</td><td>2016</td><td>7.618</td><td>7.91</td><td>20187</td><td>2024-03-30</td></tr><tr><td>84</td><td>https://cf.geekdo-images.com/wW5xjgBJcFyLaEWZwrYuKA__micro/img/kXVTBtcGC-5L706WFNJLAuZTovQ=/fit-in/64x64/filters:strip_icc()/pic4583626.jpg</td><td>Teotihuacan: City of Gods</td><td>2018</td><td>7.600</td><td>7.87</td><td>19623</td><td>2024-03-30</td></tr><tr><td>79</td><td>https://cf.geekdo-images.com/dezQ4YjF03lZVxTdI-UJYw__micro/img/7bEpYVStLA2qmeKUIweHTGziwSU=/fit-in/64x64/filters:strip_icc()/pic6863204.jpg</td><td>Oathsworn: Into the Deepwood</td><td>2022</td><td>7.622</td><td>9.02</td><td>4351</td><td>2024-03-30</td></tr><tr><td>87</td><td>https://cf.geekdo-images.com/DCLgJlrvB-EqL6A3WgQLMQ__micro/img/j_LPta_lgRrN8Rrs9Rxt_d3Hysc=/fit-in/64x64/filters:strip_icc()/pic5715770.jpg</td><td>Hegemony: Lead Your Class to Victory</td><td>2023</td><td>7.586</td><td>8.53</td><td>5349</td><td>2024-03-30</td></tr><tr><td>97</td><td>https://cf.geekdo-images.com/hHZWXnUTMYDd_KTAM6Jwlw__micro/img/g7DQGNNf6ZFwYDGpe9kT3e4KELY=/fit-in/64x64/filters:strip_icc()/pic3759421.jpg</td><td>Decrypto</td><td>2018</td><td>7.541</td><td>7.77</td><td>21956</td><td>2024-03-30</td></tr><tr><td>94</td><td>https://cf.geekdo-images.com/aAwBzPzta4joKfFZt05hCw__micro/img/28sp86TqPbMqn9M_qHWfS9j44-w=/fit-in/64x64/filters:strip_icc()/pic4385726.jpg</td><td>Tainted Grail: The Fall of Avalon</td><td>2019</td><td>7.549</td><td>8.09</td><td>12149</td><td>2024-03-30</td></tr><tr><td>92</td><td>https://cf.geekdo-images.com/RRKDHaYtFPHhczkUDcHOmg__micro/img/_hnYEtmQrfIco_6UTFRLZdhWMnQ=/fit-in/64x64/filters:strip_icc()/pic7906240.jpg</td><td>El Grande</td><td>1995</td><td>7.570</td><td>7.75</td><td>28305</td><td>2024-03-30</td></tr><tr><td>100</td><td>https://cf.geekdo-images.com/36WIe0ZHkp5OvHOlB-8vog__micro/img/7lY7AE0KsFAO2svml1DMpa20-kg=/fit-in/64x64/filters:strip_icc()/pic4356580.jpg</td><td>Concordia Venus</td><td>2018</td><td>7.530</td><td>8.29</td><td>5587</td><td>2024-03-30</td></tr><tr><td>99</td><td>https://cf.geekdo-images.com/9gob752VqEklQFV_gz16hw__micro/img/kYOLnVbUwnKjA37DqEe9HECvqI0=/fit-in/64x64/filters:strip_icc()/pic2585510.png</td><td>Trickerion: Legends of Illusion</td><td>2015</td><td>7.533</td><td>7.97</td><td>10684</td><td>2024-03-30</td></tr><tr><td>88</td><td>https://cf.geekdo-images.com/oeygRZntjNUJWvc8SxDfww__micro/img/gXi23Nbfem6XTfRlV2eHEHB_cHY=/fit-in/64x64/filters:strip_icc()/pic784193.jpg</td><td>Dominant Species</td><td>2010</td><td>7.583</td><td>7.82</td><td>21049</td><td>2024-03-30</td></tr><tr><td>98</td><td>https://cf.geekdo-images.com/6QE8mnPFmauoj2THsyUYPA__micro/img/KzK9JEEodDn0EyHA8rJy2X0cyYA=/fit-in/64x64/filters:strip_icc()/pic4739757.jpg</td><td>Inis</td><td>2016</td><td>7.539</td><td>7.83</td><td>19814</td><td>2024-03-30</td></tr><tr><td>95</td><td>https://cf.geekdo-images.com/5Q2w2rFJiFI_uV89KP6ECg__micro/img/KGgAsbHUPaEjsl-r05JCH2ixP1o=/fit-in/64x64/filters:strip_icc()/pic354500.jpg</td><td>Battlestar Galactica: The Board Game</td><td>2008</td><td>7.542</td><td>7.73</td><td>36353</td><td>2024-03-30</td></tr><tr><td>91</td><td>https://cf.geekdo-images.com/35h9Za_JvMMMtx_92kT0Jg__micro/img/4BRnGQ-EoU-2LNirfZpUC3HRReU=/fit-in/64x64/filters:strip_icc()/pic7149798.jpg</td><td>7 Wonders</td><td>2010</td><td>7.578</td><td>7.69</td><td>103590</td><td>2024-03-30</td></tr><tr><td>96</td><td>https://cf.geekdo-images.com/OAX7HfOz-9N60StgADzd0g__micro/img/5OEOXKjvrEMh2aT5I-FrAn5-9jo=/fit-in/64x64/filters:strip_icc()/pic3781944.png</td><td>Architects of the West Kingdom</td><td>2018</td><td>7.542</td><td>7.74</td><td>28573</td><td>2024-03-30</td></tr><tr><td>89</td><td>https://cf.geekdo-images.com/n1G7_aWToLAAB7Mqt8iwyA__micro/img/c8Ld-3E8S0devFlugLvyiAEESbY=/fit-in/64x64/filters:strip_icc()/pic2461346.png</td><td>The Voyages of Marco Polo</td><td>2015</td><td>7.581</td><td>7.79</td><td>24679</td><td>2024-03-30</td></tr><tr><td>90</td><td>https://cf.geekdo-images.com/FbFnaTx3aT5dM18K_bR_Pg__micro/img/brcsM5-72GgeBDQg3CSI6VB1Dqo=/fit-in/64x64/filters:strip_icc()/pic3165731.jpg</td><td>Robinson Crusoe: Adventures on the Cursed Island</td><td>2012</td><td>7.579</td><td>7.75</td><td>42997</td><td>2024-03-30</td></tr><tr><td>93</td><td>https://cf.geekdo-images.com/NItjtztEUAKOpaTWZddu9A__micro/img/m4I9uS6LBjNz02oNquEkBM-L464=/fit-in/64x64/filters:strip_icc()/pic5744928.jpg</td><td>The Search for Planet X</td><td>2020</td><td>7.568</td><td>7.97</td><td>11688</td><td>2024-03-30</td></tr></tbody></table></div>"
      ]
     },
     "metadata": {
      "application/vnd.databricks.v1+output": {
       "addedWidgets": {},
       "aggData": [],
       "aggError": "",
       "aggOverflow": false,
       "aggSchema": [],
       "aggSeriesLimitReached": false,
       "aggType": "",
       "arguments": {},
       "columnCustomDisplayInfos": {},
       "data": [
        [
         "5",
         "https://cf.geekdo-images.com/_Ppn5lssO5OaildSE-FgFA__micro/img/2gymaKs35_2yj7eyyA6cYyVmd9c=/fit-in/64x64/filters:strip_icc()/pic3727516.jpg",
         "Twilight Imperium: Fourth Edition",
         "2017",
         "8.243",
         "8.60",
         "23240",
         "2024-03-30"
        ],
        [
         "8",
         "https://cf.geekdo-images.com/ImPgGag98W6gpV1KV812aA__micro/img/NT-Av_3kdYUcwuti5ocmIQXow3g=/fit-in/64x64/filters:strip_icc()/pic1215633.jpg",
         "War of the Ring: Second Edition",
         "2011",
         "8.180",
         "8.54",
         "20909",
         "2024-03-30"
        ],
        [
         "4",
         "https://cf.geekdo-images.com/SoU8p28Sk1s8MSvoM4N8pQ__micro/img/LSAi1pmhbTbWwtBrziutDOXzfdY=/fit-in/64x64/filters:strip_icc()/pic6293412.jpg",
         "Ark Nova",
         "2021",
         "8.333",
         "8.54",
         "41305",
         "2024-03-30"
        ],
        [
         "11",
         "https://cf.geekdo-images.com/kjCm4ZvPjIZxS-mYgSPy1g__micro/img/sRPer5FmBxyV527MY67P-gM7ukg=/fit-in/64x64/filters:strip_icc()/pic7013651.jpg",
         "Spirit Island",
         "2017",
         "8.146",
         "8.35",
         "50055",
         "2024-03-30"
        ],
        [
         "3",
         "https://cf.geekdo-images.com/sZYp_3BTDGjh2unaZfZmuA__micro/img/sQyh47ClBO3d5sxPm73hMvM-JV4=/fit-in/64x64/filters:strip_icc()/pic2437871.jpg",
         "Gloomhaven",
         "2017",
         "8.361",
         "8.60",
         "61512",
         "2024-03-30"
        ],
        [
         "7",
         "https://cf.geekdo-images.com/wg9oOLcsKvDesSUdZQ4rxw__micro/img/LUkXZhd1TO80eCiXMD3-KfnzA6k=/fit-in/64x64/filters:strip_icc()/pic3536616.jpg",
         "Terraforming Mars",
         "2016",
         "8.216",
         "8.36",
         "97186",
         "2024-03-30"
        ],
        [
         "2",
         "https://cf.geekdo-images.com/-Qer2BBPG7qGGDu6KcVDIw__micro/img/n6-sXYD6XXZoqIxq4P6AG7VPCuA=/fit-in/64x64/filters:strip_icc()/pic2452831.png",
         "Pandemic Legacy: Season 1",
         "2015",
         "8.383",
         "8.53",
         "52964",
         "2024-03-30"
        ],
        [
         "12",
         "https://cf.geekdo-images.com/hGWFm3hbMlCDsfCsauOQ4g__micro/img/odWj2bEnZi9dEcQQrOtYj1e0QLE=/fit-in/64x64/filters:strip_icc()/pic5375625.png",
         "Gaia Project",
         "2017",
         "8.120",
         "8.39",
         "26609",
         "2024-03-30"
        ],
        [
         "6",
         "https://cf.geekdo-images.com/PhjygpWSo-0labGrPBMyyg__micro/img/mfU7-dEFnVyXJrF-BWAO0buexao=/fit-in/64x64/filters:strip_icc()/pic5666597.jpg",
         "Dune: Imperium",
         "2020",
         "8.225",
         "8.43",
         "43405",
         "2024-03-30"
        ],
        [
         "9",
         "https://cf.geekdo-images.com/_HhIdavYW-hid20Iq3hhmg__micro/img/OdKjWiFsNvQAfJfXXSITttiozWE=/fit-in/64x64/filters:strip_icc()/pic5055631.jpg",
         "Gloomhaven: Jaws of the Lion",
         "2020",
         "8.174",
         "8.45",
         "33323",
         "2024-03-30"
        ],
        [
         "10",
         "https://cf.geekdo-images.com/7SrPNGBKg9IIsP4UQpOi8g__micro/img/nEvTiCkWpT-ymH4bstc9c335TtQ=/fit-in/64x64/filters:strip_icc()/pic4325841.jpg",
         "Star Wars: Rebellion",
         "2016",
         "8.171",
         "8.42",
         "31966",
         "2024-03-30"
        ],
        [
         "1",
         "https://cf.geekdo-images.com/x3zxjr-Vw5iU4yDPg70Jgw__micro/img/4Od3GYCiqptga0VbmyumPbJlBsU=/fit-in/64x64/filters:strip_icc()/pic3490053.jpg",
         "Brass: Birmingham",
         "2018",
         "8.417",
         "8.60",
         "44343",
         "2024-03-30"
        ],
        [
         "21",
         "https://cf.geekdo-images.com/tAqLpWxQ0Oo3GaPP3MER1g__micro/img/tivhH093LwCowK-_S7bVF_xha34=/fit-in/64x64/filters:strip_icc()/pic5073276.jpg",
         "Nemesis",
         "2018",
         "7.955",
         "8.27",
         "29637",
         "2024-03-30"
        ],
        [
         "17",
         "https://cf.geekdo-images.com/7k_nOxpO9OGIjhLq2BUZdA__micro/img/ETplc22GdhlN5u0mppcDxSP8LVk=/fit-in/64x64/filters:strip_icc()/pic3163924.jpg",
         "Scythe",
         "2016",
         "7.997",
         "8.15",
         "82141",
         "2024-03-30"
        ],
        [
         "23",
         "https://cf.geekdo-images.com/CzwSm8i7tkLz6cBnrILZBg__micro/img/FQyxREkHBn7yTbGmBg7c44eLgaM=/fit-in/64x64/filters:strip_icc()/pic3453267.jpg",
         "Concordia",
         "2013",
         "7.945",
         "8.10",
         "39884",
         "2024-03-30"
        ],
        [
         "16",
         "https://cf.geekdo-images.com/5CFwjd8zTcGYVUnkXh04hw__micro/img/N1VrEUaW6bmwnqbZfi2nRScwGxM=/fit-in/64x64/filters:strip_icc()/pic1176894.jpg",
         "The Castles of Burgundy",
         "2011",
         "8.013",
         "8.14",
         "61348",
         "2024-03-30"
        ],
        [
         "13",
         "https://cf.geekdo-images.com/pNCiUUphnoeWOYfsWq0kng__micro/img/ZlfJiIATIt5MY7xWSMzFmdygaa0=/fit-in/64x64/filters:strip_icc()/pic3530661.jpg",
         "Twilight Struggle",
         "2005",
         "8.070",
         "8.25",
         "48370",
         "2024-03-30"
        ],
        [
         "22",
         "https://cf.geekdo-images.com/hc2NDafu5c24iLJh_IZmyg__micro/img/v2WzacDprYF837E6h9O2WuFFmpw=/fit-in/64x64/filters:strip_icc()/pic4885780.png",
         "Clank! Legacy: Acquisitions Incorporated",
         "2019",
         "7.949",
         "8.55",
         "9176",
         "2024-03-30"
        ],
        [
         "24",
         "https://cf.geekdo-images.com/s9oGMCo1fcfV4Dk3EnqLZw__micro/img/JCrcuFDrjVQ64uLbqpH-Pmg6XsU=/fit-in/64x64/filters:strip_icc()/pic3146943.png",
         "A Feast for Odin",
         "2016",
         "7.944",
         "8.17",
         "27842",
         "2024-03-30"
        ],
        [
         "15",
         "https://cf.geekdo-images.com/u1l0gH7sb_vnvDvoO_QHqA__micro/img/xeShpQfbj4L1id-ItJbfIYVzgyA=/fit-in/64x64/filters:strip_icc()/pic4887376.jpg",
         "Great Western Trail",
         "2016",
         "8.035",
         "8.20",
         "40417",
         "2024-03-30"
        ],
        [
         "18",
         "https://cf.geekdo-images.com/Oh3kHw6lweg6ru71Q16h2Q__micro/img/vhB59zFDq3Kul0xbr3api2selZs=/fit-in/64x64/filters:strip_icc()/pic5235277.jpg",
         "Eclipse: Second Dawn for the Galaxy",
         "2020",
         "7.974",
         "8.47",
         "13047",
         "2024-03-30"
        ],
        [
         "19",
         "https://cf.geekdo-images.com/zdagMskTF7wJBPjX74XsRw__micro/img/nXtpcw3tYaelntFHb1aH4YrN7Wk=/fit-in/64x64/filters:strip_icc()/pic2576399.jpg",
         "7 Wonders Duel",
         "2015",
         "7.972",
         "8.10",
         "92711",
         "2024-03-30"
        ],
        [
         "14",
         "https://cf.geekdo-images.com/fVwPntkJKgaEo0rIC0RwpA__micro/img/77dZJpqtydc8TTecl0ReGF7iAVw=/fit-in/64x64/filters:strip_icc()/pic2663291.jpg",
         "Through the Ages: A New Story of Civilization",
         "2015",
         "8.064",
         "8.30",
         "31249",
         "2024-03-30"
        ],
        [
         "20",
         "https://cf.geekdo-images.com/tHVtPzu82mBpeQbbZkV6EA__micro/img/jM8d5Q5btvJmcWQN_px-A-nlueI=/fit-in/64x64/filters:strip_icc()/pic3469216.jpg",
         "Brass: Lancashire",
         "2007",
         "7.962",
         "8.19",
         "24642",
         "2024-03-30"
        ],
        [
         "25",
         "https://cf.geekdo-images.com/yLZJCVLlIx4c7eJEWUNJ7w__micro/img/5ZaRePVhfelfofF7T_OC1e0gUCw=/fit-in/64x64/filters:strip_icc()/pic4458123.jpg",
         "Wingspan",
         "2019",
         "7.908",
         "8.06",
         "90684",
         "2024-03-30"
        ],
        [
         "37",
         "https://cf.geekdo-images.com/jEPmWvvYpqkWrKOzqIHFsg__micro/img/Uwm0ZfmY4ZNWWxlackDXrsmS-Io=/fit-in/64x64/filters:strip_icc()/pic4336469.png",
         "Barrage",
         "2019",
         "7.849",
         "8.17",
         "17175",
         "2024-03-30"
        ],
        [
         "34",
         "https://cf.geekdo-images.com/DUO2hz9AlLOH8p9ED-lCWg__micro/img/eXzdbUmCbIdMIVgiQ_QwS3YNOS4=/fit-in/64x64/filters:strip_icc()/pic1083380.jpg",
         "Mage Knight Board Game",
         "2011",
         "7.856",
         "8.09",
         "33046",
         "2024-03-30"
        ],
        [
         "35",
         "https://cf.geekdo-images.com/fjE7V5LNq31yVEW_yuqI-Q__micro/img/TAgkPCJdNAIHZfn1BE1DXadBL9g=/fit-in/64x64/filters:strip_icc()/pic3918905.png",
         "Everdell",
         "2018",
         "7.852",
         "8.03",
         "52931",
         "2024-03-30"
        ],
        [
         "30",
         "https://cf.geekdo-images.com/JUAUWaVUzeBgzirhZNmHHw__micro/img/tdHLiMYfi-KTy89sGBGZVeE9ts0=/fit-in/64x64/filters:strip_icc()/pic4254509.jpg",
         "Root",
         "2018",
         "7.886",
         "8.07",
         "49765",
         "2024-03-30"
        ],
        [
         "28",
         "https://cf.geekdo-images.com/6GqH14TJJhza86BX5HCLEQ__micro/img/2FKVaukjh9a-Kg9LWQuMSvLS34s=/fit-in/64x64/filters:strip_icc()/pic5674958.jpg",
         "Lost Ruins of Arnak",
         "2020",
         "7.900",
         "8.08",
         "42501",
         "2024-03-30"
        ],
        [
         "33",
         "https://cf.geekdo-images.com/wKwRk0wYBcrtLAfgn4PCdg__micro/img/Q6VXZKoVSlMjTU7Vp8tn1tkcVzw=/fit-in/64x64/filters:strip_icc()/pic6624445.png",
         "Too Many Bones",
         "2017",
         "7.857",
         "8.35",
         "12755",
         "2024-03-30"
        ],
        [
         "36",
         "https://cf.geekdo-images.com/VuBqZ1sMaDAVVHF_OEJP4g__micro/img/p3GKOrR04nV1qkim9zq-rmFfYh8=/fit-in/64x64/filters:strip_icc()/pic5988903.jpg",
         "The Crew: Mission Deep Sea",
         "2021",
         "7.851",
         "8.17",
         "16506",
         "2024-03-30"
        ],
        [
         "26",
         "https://cf.geekdo-images.com/bre12I1YiXkZr7elvriz4A__micro/img/SAwaBrDhHbGuq6dFY-ok95qFMcU=/fit-in/64x64/filters:strip_icc()/pic5375624.jpg",
         "Terra Mystica",
         "2012",
         "7.901",
         "8.07",
         "47581",
         "2024-03-30"
        ],
        [
         "29",
         "https://cf.geekdo-images.com/gDn7AhrDlmfCLSz9ZqoNFQ__micro/img/eGBh_Csj13hXnODUTB-7dmpq-M0=/fit-in/64x64/filters:strip_icc()/pic5988511.jpg",
         "Great Western Trail: Second Edition",
         "2021",
         "7.893",
         "8.35",
         "11894",
         "2024-03-30"
        ],
        [
         "31",
         "https://cf.geekdo-images.com/nagl1li6kYt9elV9jbfVQw__micro/img/hUKCvnqgFvTl0aOMd8FLkgCObT0=/fit-in/64x64/filters:strip_icc()/pic6228507.jpg",
         "Orléans",
         "2014",
         "7.873",
         "8.06",
         "30893",
         "2024-03-30"
        ],
        [
         "32",
         "https://cf.geekdo-images.com/iEBr5o8AbJi9V9cgQcYROQ__micro/img/n9Ol4YKAhRLuOu4f7OVVXGjlWSQ=/fit-in/64x64/filters:strip_icc()/pic6177719.jpg",
         "Frosthaven",
         "2022",
         "7.862",
         "8.86",
         "6545",
         "2024-03-30"
        ],
        [
         "27",
         "https://cf.geekdo-images.com/B5F5ulz0UivNgrI9Ky0euA__micro/img/DnDtwD_7oQR982carXqiVfhOQog=/fit-in/64x64/filters:strip_icc()/pic3122349.jpg",
         "Arkham Horror: The Card Game",
         "2016",
         "7.901",
         "8.13",
         "42502",
         "2024-03-30"
        ],
        [
         "49",
         "https://cf.geekdo-images.com/31quLNzteInnevVRAABoow__micro/img/CMEokoPk9cBV5A82_eBwjDJPMfE=/fit-in/64x64/filters:strip_icc()/pic3499707.jpg",
         "Anachrony",
         "2017",
         "7.759",
         "8.08",
         "18248",
         "2024-03-30"
        ],
        [
         "41",
         "https://cf.geekdo-images.com/oSM_AuKYfGIwOtKbVEsoVg__micro/img/SKUliR88eoltB2ytmwz3BffW7aA=/fit-in/64x64/filters:strip_icc()/pic4503733.png",
         "Pax Pamir: Second Edition",
         "2019",
         "7.795",
         "8.20",
         "13546",
         "2024-03-30"
        ],
        [
         "45",
         "https://cf.geekdo-images.com/MjeJZfulbsM1DSV3DrGJYA__micro/img/x2BDobiHVhQHl7LhBimeU8L1ko4=/fit-in/64x64/filters:strip_icc()/pic5100691.jpg",
         "Cascadia",
         "2021",
         "7.773",
         "7.96",
         "36354",
         "2024-03-30"
        ],
        [
         "46",
         "https://cf.geekdo-images.com/rz22tqa5PCYvK9oDjIbvxg__micro/img/sog7ni3vUAAfvd66e6XW4iOca4I=/fit-in/64x64/filters:strip_icc()/pic1790789.jpg",
         "Caverna: The Cave Farmers",
         "2013",
         "7.768",
         "7.95",
         "34498",
         "2024-03-30"
        ],
        [
         "50",
         "https://cf.geekdo-images.com/Nm0Iw8NoiM9V8IsifimGBw__micro/img/HQNReYu8QkZqD4dbZeWg3cQrkv0=/fit-in/64x64/filters:strip_icc()/pic4357658.jpg",
         "On Mars",
         "2020",
         "7.756",
         "8.20",
         "12294",
         "2024-03-30"
        ],
        [
         "48",
         "https://cf.geekdo-images.com/HkZSJfQnZ3EpS214xtuplg__micro/img/7xdR1_OUo1ReAvYzhi7jBhFMHu0=/fit-in/64x64/filters:strip_icc()/pic2439223.jpg",
         "Blood Rage",
         "2015",
         "7.762",
         "7.93",
         "46468",
         "2024-03-30"
        ],
        [
         "38",
         "https://cf.geekdo-images.com/l_PRU2lVlX9seScRFcvFlA__micro/img/3EqHlTkNSnZNFHVaAeFSpzfzuIQ=/fit-in/64x64/filters:strip_icc()/pic6500949.jpg",
         "Viticulture Essential Edition",
         "2015",
         "7.844",
         "7.99",
         "47848",
         "2024-03-30"
        ],
        [
         "39",
         "https://cf.geekdo-images.com/Wtxml94LAXsIWQCxGPS63Q__micro/img/4Oucoa190njfSaNHr8YRIl6UnTU=/fit-in/64x64/filters:strip_icc()/pic2649434.png",
         "Food Chain Magnate",
         "2015",
         "7.805",
         "8.07",
         "20093",
         "2024-03-30"
        ],
        [
         "43",
         "https://cf.geekdo-images.com/-vOrd4bOspibyohYExLqWg__micro/img/bcHg_0mMkgMaBp9Sz1gxJtHtaHw=/fit-in/64x64/filters:strip_icc()/pic6940449.png",
         "Heat: Pedal to the Metal",
         "2022",
         "7.784",
         "8.09",
         "19978",
         "2024-03-30"
        ],
        [
         "44",
         "https://cf.geekdo-images.com/QFiIRd2kimaMqTyWsX0aUg__micro/img/ggNIAA1GEadqvcY7Mvwb9_VEybU=/fit-in/64x64/filters:strip_icc()/pic158548.jpg",
         "Puerto Rico",
         "2002",
         "7.781",
         "7.92",
         "70579",
         "2024-03-30"
        ],
        [
         "47",
         "https://cf.geekdo-images.com/7ejbxsn-UtLl3ehamuAEdw__micro/img/5UygdMxz3N_dTCkGlwVlgJXK_vg=/fit-in/64x64/filters:strip_icc()/pic79413.jpg",
         "Crokinole",
         "1876",
         "7.762",
         "8.03",
         "17646",
         "2024-03-30"
        ],
        [
         "42",
         "https://cf.geekdo-images.com/PwOwTVHovJAUQgghnGqCOg__micro/img/9ftDcGDumAWKm_3hmu6JUwjb1aU=/fit-in/64x64/filters:strip_icc()/pic4837710.png",
         "Underwater Cities",
         "2018",
         "7.788",
         "8.07",
         "19131",
         "2024-03-30"
        ],
        [
         "40",
         "https://cf.geekdo-images.com/kRvUgYiaOq07kC67ZK5UoQ__micro/img/4DLQr45lpVBfCkiy-kVwhl4z4vQ=/fit-in/64x64/filters:strip_icc()/pic4900321.jpg",
         "Marvel Champions: The Card Game",
         "2019",
         "7.799",
         "8.13",
         "23052",
         "2024-03-30"
        ],
        [
         "59",
         "https://cf.geekdo-images.com/kXf7mDyDYuHg6oe8yTUIEA__micro/img/3EqJtoxAlTb2pJWxmA7TUu4HWNI=/fit-in/64x64/filters:strip_icc()/pic4604439.jpg",
         "Tzolk'in: The Mayan Calendar",
         "2012",
         "7.706",
         "7.86",
         "38896",
         "2024-03-30"
        ],
        [
         "58",
         "https://cf.geekdo-images.com/rMNa0k05zMdKgSEp26Q3Tw__micro/img/rDI-yCgwVbB_szRjUWOY8IKIdUk=/fit-in/64x64/filters:strip_icc()/pic4917407.jpg",
         "Maracaibo",
         "2019",
         "7.711",
         "8.04",
         "15842",
         "2024-03-30"
        ],
        [
         "53",
         "https://cf.geekdo-images.com/y0x1zbkpUXjddzWWnhekYw__micro/img/oUW7QBHTiMOcpt5FgNXd_Uy2LfM=/fit-in/64x64/filters:strip_icc()/pic5581457.jpg",
         "Pandemic Legacy: Season 0",
         "2020",
         "7.750",
         "8.41",
         "7410",
         "2024-03-30"
        ],
        [
         "52",
         "https://cf.geekdo-images.com/L2Wn-zUqkcHgqvwvY212Ig__micro/img/2pY9Wo185ehuYO7Mb0gTDpdww74=/fit-in/64x64/filters:strip_icc()/pic4924232.jpg",
         "Kanban EV",
         "2020",
         "7.752",
         "8.43",
         "7305",
         "2024-03-30"
        ],
        [
         "54",
         "https://cf.geekdo-images.com/Zdt8l4oTBpFICsMyNof7Jg__micro/img/xnXopdLVlL31M169AjW8ofHRe5Q=/fit-in/64x64/filters:strip_icc()/pic5975244.png",
         "Sleeping Gods",
         "2021",
         "7.748",
         "8.24",
         "11415",
         "2024-03-30"
        ],
        [
         "56",
         "https://cf.geekdo-images.com/LIooA9bTdjnE9qmhjL-UFw__micro/img/rsUu4YzIErI1oi6TRRA-cKiS-I0=/fit-in/64x64/filters:strip_icc()/pic3118622.jpg",
         "Mansions of Madness: Second Edition",
         "2016",
         "7.718",
         "7.95",
         "35855",
         "2024-03-30"
        ],
        [
         "61",
         "https://cf.geekdo-images.com/e8D09pfFsUsoX1D81EeoZg__micro/img/g4fUW30OaTTN48VW7tdVOIAEvWQ=/fit-in/64x64/filters:strip_icc()/pic4705171.jpg",
         "Cthulhu: Death May Die",
         "2019",
         "7.700",
         "8.19",
         "11881",
         "2024-03-30"
        ],
        [
         "51",
         "https://cf.geekdo-images.com/dDDo2Hexl80ucK1IlqTk-g__micro/img/SZgGqufNqaW8BCFT29wkYPaRXOE=/fit-in/64x64/filters:strip_icc()/pic831744.jpg",
         "Agricola",
         "2007",
         "7.753",
         "7.88",
         "72285",
         "2024-03-30"
        ],
        [
         "62",
         "https://cf.geekdo-images.com/sy89BiuZXfbSnG7Cag9tBQ__micro/img/0VYxwvacU7ADCGyJt5iLMa5WQoA=/fit-in/64x64/filters:strip_icc()/pic5902073.png",
         "Obsession",
         "2018",
         "7.689",
         "8.16",
         "11512",
         "2024-03-30"
        ],
        [
         "57",
         "https://cf.geekdo-images.com/OrHS8_a1CqSGiXeTfCk0Wg__micro/img/rpfZR0COMOP41SI2EZPrSrX_LL8=/fit-in/64x64/filters:strip_icc()/pic3209553.jpg",
         "Lisboa",
         "2017",
         "7.718",
         "8.19",
         "10853",
         "2024-03-30"
        ],
        [
         "60",
         "https://cf.geekdo-images.com/yd6LuatytHRhcFCxCf-EEg__micro/img/ZUrGKfXAZS4AztFRXq2W9oD6TG4=/fit-in/64x64/filters:strip_icc()/pic4459753.jpg",
         "Power Grid",
         "2004",
         "7.704",
         "7.81",
         "64917",
         "2024-03-30"
        ],
        [
         "55",
         "https://cf.geekdo-images.com/Qtkb-UTvHa0-kxt_MK1nKw__micro/img/eYV_Y45Hk66WceHroLlRqnHEHmg=/fit-in/64x64/filters:strip_icc()/pic3763549.jpg",
         "Pandemic Legacy: Season 2",
         "2017",
         "7.727",
         "8.04",
         "16703",
         "2024-03-30"
        ],
        [
         "66",
         "https://cf.geekdo-images.com/y7Rqd3S6J7vyVhicR1bqTQ__micro/img/c1qPt4uwG4qhjxmrgtIuKulwQkI=/fit-in/64x64/filters:strip_icc()/pic6091101.jpg",
         "Le Havre",
         "2008",
         "7.683",
         "7.85",
         "31366",
         "2024-03-30"
        ],
        [
         "68",
         "https://cf.geekdo-images.com/pIQ_MXvaoARRp1loCHJuHg__micro/img/i2soAnlvaDCzWksrpO2By4-GgGA=/fit-in/64x64/filters:strip_icc()/pic2247647.jpg",
         "Star Wars: Imperial Assault",
         "2014",
         "7.676",
         "7.97",
         "24468",
         "2024-03-30"
        ],
        [
         "70",
         "https://cf.geekdo-images.com/98LnQShydr11OBKS46xY-Q__micro/img/bIVTqYzQ5wDuCSmcQvpNokXZOUo=/fit-in/64x64/filters:strip_icc()/pic5687013.jpg",
         "The Crew: The Quest for Planet Nine",
         "2019",
         "7.668",
         "7.81",
         "40759",
         "2024-03-30"
        ],
        [
         "69",
         "https://cf.geekdo-images.com/ie1GSt1XV04sXQXt-3O1UQ__micro/img/Zxap2me5W8VgLK_VNU_lY5vLnbA=/fit-in/64x64/filters:strip_icc()/pic2503200.png",
         "The Gallerist",
         "2015",
         "7.676",
         "8.02",
         "14326",
         "2024-03-30"
        ],
        [
         "72",
         "https://cf.geekdo-images.com/2ewHIIG_TRq8bYlqk0jIMw__micro/img/U5irACQ5P-7X9XyeDWj71ai-Ruw=/fit-in/64x64/filters:strip_icc()/pic3738560.jpg",
         "Android: Netrunner",
         "2012",
         "7.659",
         "7.88",
         "29952",
         "2024-03-30"
        ],
        [
         "63",
         "https://cf.geekdo-images.com/pH5LgRL4mNRon-2NsSDb1Q__micro/img/pAWwGfiqFpn-kkzUKexMTZOvoA4=/fit-in/64x64/filters:strip_icc()/pic6137509.png",
         "The Quacks of Quedlinburg",
         "2018",
         "7.687",
         "7.83",
         "48403",
         "2024-03-30"
        ],
        [
         "71",
         "https://cf.geekdo-images.com/n4J5LebMj0DQD016qW7ABw__micro/img/n4vvAq2JZvjf0yS_Mugr79dqM90=/fit-in/64x64/filters:strip_icc()/pic3184103.jpg",
         "Mechs vs. Minions",
         "2016",
         "7.665",
         "7.97",
         "17310",
         "2024-03-30"
        ],
        [
         "65",
         "https://cf.geekdo-images.com/GlCmHjdLwv3SqSjv52ToGw__micro/img/egqhEcYTqBsaT7AeNBe2LdUcGZs=/fit-in/64x64/filters:strip_icc()/pic6966955.jpg",
         "Grand Austria Hotel",
         "2015",
         "7.684",
         "7.94",
         "20416",
         "2024-03-30"
        ],
        [
         "74",
         "https://cf.geekdo-images.com/aPSHJO0d0XOpQR5X-wJonw__micro/img/3M2bj5ZXqAskTOvLTXRuHOH-Y44=/fit-in/64x64/filters:strip_icc()/pic6973671.png",
         "Azul",
         "2017",
         "7.643",
         "7.75",
         "88368",
         "2024-03-30"
        ],
        [
         "75",
         "https://cf.geekdo-images.com/YCGWJMFwOI5efji2RJ2mSw__micro/img/GQNkMukGtKD2cVOgpUk4ZSmpUfA=/fit-in/64x64/filters:strip_icc()/pic8093340.jpg",
         "Agricola ",
         "2016",
         "7.640",
         "7.96",
         "17401",
         "2024-03-30"
        ],
        [
         "67",
         "https://cf.geekdo-images.com/4nhokcLdYoo6ulbZ1rmGgA__micro/img/WMzScSxJICvIyErl47KBVoskhnQ=/fit-in/64x64/filters:strip_icc()/pic4462987.png",
         "Paladins of the West Kingdom",
         "2019",
         "7.680",
         "7.99",
         "17439",
         "2024-03-30"
        ],
        [
         "73",
         "https://cf.geekdo-images.com/LenzJBOHboAGU0cUIqAZPQ__micro/img/6YI32BDhyuO9JZrofc1CPbuFlVY=/fit-in/64x64/filters:strip_icc()/pic2931007.jpg",
         "Kingdom Death: Monster",
         "2015",
         "7.656",
         "8.50",
         "9542",
         "2024-03-30"
        ],
        [
         "64",
         "https://cf.geekdo-images.com/SPuwc6RJ6y4PnTH36Pegsg__micro/img/wWI0kOjt4L4TOOV_Dn2BLthq5QQ=/fit-in/64x64/filters:strip_icc()/pic3511783.png",
         "Clans of Caledonia",
         "2017",
         "7.685",
         "7.95",
         "20164",
         "2024-03-30"
        ],
        [
         "83",
         "https://cf.geekdo-images.com/BfEHqHQAvZLbRX7y7e9TWg__micro/img/RgHc2PFvpz3xxRPRg5v7d46JQNc=/fit-in/64x64/filters:strip_icc()/pic5617866.jpg",
         "Beyond the Sun",
         "2020",
         "7.602",
         "7.94",
         "13998",
         "2024-03-30"
        ],
        [
         "80",
         "https://cf.geekdo-images.com/DPjV1iI0ygo5Bl3XLNRiIg__micro/img/5hO7ln_bquTyy4Q__ksB4NT1gMs=/fit-in/64x64/filters:strip_icc()/pic4449526.jpg",
         "Clank!: A Deck-Building Adventure",
         "2016",
         "7.620",
         "7.78",
         "41679",
         "2024-03-30"
        ],
        [
         "77",
         "https://cf.geekdo-images.com/dmo-WD6HZHVUPrbVHunaTw__micro/img/fxKL3MvU00YeEkfeLNdQGUl5rxA=/fit-in/64x64/filters:strip_icc()/pic2055255.jpg",
         "Five Tribes: The Djinns of Naqala",
         "2014",
         "7.625",
         "7.78",
         "41047",
         "2024-03-30"
        ],
        [
         "78",
         "https://cf.geekdo-images.com/cnFppsVNOSTJ-W3APQFuTg__micro/img/dfQTNAju5CUxn6JQl-Pxubac99o=/fit-in/64x64/filters:strip_icc()/pic1974056.jpg",
         "Eclipse: New Dawn for the Galaxy",
         "2011",
         "7.622",
         "7.83",
         "28282",
         "2024-03-30"
        ],
        [
         "82",
         "https://cf.geekdo-images.com/0w8go6cfvlpgJKydHUkDtA__micro/img/9JEU9pIfwl2wUIE3fmCmjjH_iiM=/fit-in/64x64/filters:strip_icc()/pic2225968.png",
         "Fields of Arle",
         "2014",
         "7.606",
         "8.03",
         "10834",
         "2024-03-30"
        ],
        [
         "76",
         "https://cf.geekdo-images.com/-DOqixs8uwKUvvWPKI4f9w__micro/img/Fz_qRw_ZHI9TfZXY0b4YZ6zfT7o=/fit-in/64x64/filters:strip_icc()/pic5261714.jpg",
         "Race for the Galaxy",
         "2007",
         "7.631",
         "7.74",
         "55077",
         "2024-03-30"
        ],
        [
         "86",
         "https://cf.geekdo-images.com/-hk8f8iGk_DyWyMrfiPBkg__micro/img/tWSg9ErrwvVcwaE1Kze1IsxwpGg=/fit-in/64x64/filters:strip_icc()/pic1116080.jpg",
         "Lords of Waterdeep",
         "2012",
         "7.594",
         "7.74",
         "55100",
         "2024-03-30"
        ],
        [
         "85",
         "https://cf.geekdo-images.com/3piN3YX4WmBRuIvbEG2Ygg__micro/img/xy_566fY112BYtYJjT29cfAcHsk=/fit-in/64x64/filters:strip_icc()/pic236169.jpg",
         "Through the Ages: A Story of Civilization",
         "2006",
         "7.599",
         "7.85",
         "19300",
         "2024-03-30"
        ],
        [
         "81",
         "https://cf.geekdo-images.com/d50LceHj6LIafa4S_qIsCg__micro/img/0El7f9TAr9UfvKlcsXYrBe8jEOc=/fit-in/64x64/filters:strip_icc()/pic3189350.jpg",
         "Aeon's End",
         "2016",
         "7.618",
         "7.91",
         "20187",
         "2024-03-30"
        ],
        [
         "84",
         "https://cf.geekdo-images.com/wW5xjgBJcFyLaEWZwrYuKA__micro/img/kXVTBtcGC-5L706WFNJLAuZTovQ=/fit-in/64x64/filters:strip_icc()/pic4583626.jpg",
         "Teotihuacan: City of Gods",
         "2018",
         "7.600",
         "7.87",
         "19623",
         "2024-03-30"
        ],
        [
         "79",
         "https://cf.geekdo-images.com/dezQ4YjF03lZVxTdI-UJYw__micro/img/7bEpYVStLA2qmeKUIweHTGziwSU=/fit-in/64x64/filters:strip_icc()/pic6863204.jpg",
         "Oathsworn: Into the Deepwood",
         "2022",
         "7.622",
         "9.02",
         "4351",
         "2024-03-30"
        ],
        [
         "87",
         "https://cf.geekdo-images.com/DCLgJlrvB-EqL6A3WgQLMQ__micro/img/j_LPta_lgRrN8Rrs9Rxt_d3Hysc=/fit-in/64x64/filters:strip_icc()/pic5715770.jpg",
         "Hegemony: Lead Your Class to Victory",
         "2023",
         "7.586",
         "8.53",
         "5349",
         "2024-03-30"
        ],
        [
         "97",
         "https://cf.geekdo-images.com/hHZWXnUTMYDd_KTAM6Jwlw__micro/img/g7DQGNNf6ZFwYDGpe9kT3e4KELY=/fit-in/64x64/filters:strip_icc()/pic3759421.jpg",
         "Decrypto",
         "2018",
         "7.541",
         "7.77",
         "21956",
         "2024-03-30"
        ],
        [
         "94",
         "https://cf.geekdo-images.com/aAwBzPzta4joKfFZt05hCw__micro/img/28sp86TqPbMqn9M_qHWfS9j44-w=/fit-in/64x64/filters:strip_icc()/pic4385726.jpg",
         "Tainted Grail: The Fall of Avalon",
         "2019",
         "7.549",
         "8.09",
         "12149",
         "2024-03-30"
        ],
        [
         "92",
         "https://cf.geekdo-images.com/RRKDHaYtFPHhczkUDcHOmg__micro/img/_hnYEtmQrfIco_6UTFRLZdhWMnQ=/fit-in/64x64/filters:strip_icc()/pic7906240.jpg",
         "El Grande",
         "1995",
         "7.570",
         "7.75",
         "28305",
         "2024-03-30"
        ],
        [
         "100",
         "https://cf.geekdo-images.com/36WIe0ZHkp5OvHOlB-8vog__micro/img/7lY7AE0KsFAO2svml1DMpa20-kg=/fit-in/64x64/filters:strip_icc()/pic4356580.jpg",
         "Concordia Venus",
         "2018",
         "7.530",
         "8.29",
         "5587",
         "2024-03-30"
        ],
        [
         "99",
         "https://cf.geekdo-images.com/9gob752VqEklQFV_gz16hw__micro/img/kYOLnVbUwnKjA37DqEe9HECvqI0=/fit-in/64x64/filters:strip_icc()/pic2585510.png",
         "Trickerion: Legends of Illusion",
         "2015",
         "7.533",
         "7.97",
         "10684",
         "2024-03-30"
        ],
        [
         "88",
         "https://cf.geekdo-images.com/oeygRZntjNUJWvc8SxDfww__micro/img/gXi23Nbfem6XTfRlV2eHEHB_cHY=/fit-in/64x64/filters:strip_icc()/pic784193.jpg",
         "Dominant Species",
         "2010",
         "7.583",
         "7.82",
         "21049",
         "2024-03-30"
        ],
        [
         "98",
         "https://cf.geekdo-images.com/6QE8mnPFmauoj2THsyUYPA__micro/img/KzK9JEEodDn0EyHA8rJy2X0cyYA=/fit-in/64x64/filters:strip_icc()/pic4739757.jpg",
         "Inis",
         "2016",
         "7.539",
         "7.83",
         "19814",
         "2024-03-30"
        ],
        [
         "95",
         "https://cf.geekdo-images.com/5Q2w2rFJiFI_uV89KP6ECg__micro/img/KGgAsbHUPaEjsl-r05JCH2ixP1o=/fit-in/64x64/filters:strip_icc()/pic354500.jpg",
         "Battlestar Galactica: The Board Game",
         "2008",
         "7.542",
         "7.73",
         "36353",
         "2024-03-30"
        ],
        [
         "91",
         "https://cf.geekdo-images.com/35h9Za_JvMMMtx_92kT0Jg__micro/img/4BRnGQ-EoU-2LNirfZpUC3HRReU=/fit-in/64x64/filters:strip_icc()/pic7149798.jpg",
         "7 Wonders",
         "2010",
         "7.578",
         "7.69",
         "103590",
         "2024-03-30"
        ],
        [
         "96",
         "https://cf.geekdo-images.com/OAX7HfOz-9N60StgADzd0g__micro/img/5OEOXKjvrEMh2aT5I-FrAn5-9jo=/fit-in/64x64/filters:strip_icc()/pic3781944.png",
         "Architects of the West Kingdom",
         "2018",
         "7.542",
         "7.74",
         "28573",
         "2024-03-30"
        ],
        [
         "89",
         "https://cf.geekdo-images.com/n1G7_aWToLAAB7Mqt8iwyA__micro/img/c8Ld-3E8S0devFlugLvyiAEESbY=/fit-in/64x64/filters:strip_icc()/pic2461346.png",
         "The Voyages of Marco Polo",
         "2015",
         "7.581",
         "7.79",
         "24679",
         "2024-03-30"
        ],
        [
         "90",
         "https://cf.geekdo-images.com/FbFnaTx3aT5dM18K_bR_Pg__micro/img/brcsM5-72GgeBDQg3CSI6VB1Dqo=/fit-in/64x64/filters:strip_icc()/pic3165731.jpg",
         "Robinson Crusoe: Adventures on the Cursed Island",
         "2012",
         "7.579",
         "7.75",
         "42997",
         "2024-03-30"
        ],
        [
         "93",
         "https://cf.geekdo-images.com/NItjtztEUAKOpaTWZddu9A__micro/img/m4I9uS6LBjNz02oNquEkBM-L464=/fit-in/64x64/filters:strip_icc()/pic5744928.jpg",
         "The Search for Planet X",
         "2020",
         "7.568",
         "7.97",
         "11688",
         "2024-03-30"
        ]
       ],
       "datasetInfos": [],
       "dbfsResultPath": null,
       "isJsonSchema": true,
       "metadata": {},
       "overflow": false,
       "plotOptions": {
        "customPlotOptions": {},
        "displayType": "table",
        "pivotAggregation": null,
        "pivotColumns": null,
        "xColumns": null,
        "yColumns": null
       },
       "removedWidgets": [],
       "schema": [
        {
         "metadata": "{}",
         "name": "Rank",
         "type": "\"string\""
        },
        {
         "metadata": "{}",
         "name": "ImageURL",
         "type": "\"string\""
        },
        {
         "metadata": "{}",
         "name": "Title",
         "type": "\"string\""
        },
        {
         "metadata": "{}",
         "name": "YearPublished",
         "type": "\"string\""
        },
        {
         "metadata": "{}",
         "name": "GeekRating",
         "type": "\"string\""
        },
        {
         "metadata": "{}",
         "name": "AvgRating",
         "type": "\"string\""
        },
        {
         "metadata": "{}",
         "name": "NumVoters",
         "type": "\"string\""
        },
        {
         "metadata": "{}",
         "name": "currentdate",
         "type": "\"string\""
        }
       ],
       "type": "table"
      }
     },
     "output_type": "display_data"
    }
   ],
   "source": [
    "# cleanup\n",
    "import pyspark.sql.functions as f\n",
    "from datetime import datetime\n",
    "import re\n",
    "\n",
    "# extract year\n",
    "def extract_year_from_title(title):\n",
    "    year_match = re.search(r'\\((\\d{4})\\)', title)\n",
    "    if year_match:\n",
    "        return int(year_match.group(1))\n",
    "    else:\n",
    "        return None\n",
    "      \n",
    "extract_year_udf = f.udf(extract_year_from_title)\n",
    "\n",
    "# clean up data in the dataframe\n",
    "clean_BGG = (\n",
    "  BGG\n",
    "    .distinct() # remove duplicate rows\n",
    "    .withColumnRenamed(\"Board Game Rank\", \"Rank\")\n",
    "    .withColumnRenamed(\"Thumbnail image\", \"ImageURL\")\n",
    "    .withColumnRenamed(\"Geek Rating\", \"GeekRating\")\n",
    "    .withColumnRenamed(\"Avg Rating\", \"AvgRating\")\n",
    "    .withColumnRenamed(\"Num Voters\", \"NumVoters\")\n",
    "    .drop(\"shop\")\n",
    "    .dropna(how='any')\n",
    "    .withColumn('YearPublished', extract_year_udf(f.col('Title')))\n",
    "    .withColumn('currentdate', f.lit(datetime.now().strftime(\"%Y-%m-%d\")))\n",
    ")\n",
    "\n",
    "clean_BGG = clean_BGG.withColumn('Title', f.substring_index(clean_BGG['Title'], '(', 1))\n",
    "\n",
    "clean_BGG = clean_BGG.select('Rank', 'ImageURL', 'Title', 'YearPublished', 'GeekRating', 'AvgRating', 'NumVoters', 'currentdate')\n",
    "    \n",
    "display(clean_BGG)"
   ]
  },
  {
   "cell_type": "code",
   "execution_count": 0,
   "metadata": {
    "application/vnd.databricks.v1+cell": {
     "cellMetadata": {
      "byteLimit": 2048000,
      "rowLimit": 10000
     },
     "inputWidgets": {},
     "nuid": "2566fd66-bd46-4410-a8fd-82db084d7275",
     "showTitle": false,
     "tableResultSettingsMap": {},
     "title": ""
    }
   },
   "outputs": [
    {
     "output_type": "display_data",
     "data": {
      "text/html": [
       "<style scoped>\n",
       "  .table-result-container {\n",
       "    max-height: 300px;\n",
       "    overflow: auto;\n",
       "  }\n",
       "  table, th, td {\n",
       "    border: 1px solid black;\n",
       "    border-collapse: collapse;\n",
       "  }\n",
       "  th, td {\n",
       "    padding: 5px;\n",
       "  }\n",
       "  th {\n",
       "    text-align: left;\n",
       "  }\n",
       "</style><div class='table-result-container'><table class='table-result'><thead style='background-color: white'><tr><th>Rank</th><th>ImageURL</th><th>Title</th><th>YearPublished</th><th>GeekRating</th><th>AvgRating</th><th>NumVoters</th><th>currentdate</th></tr></thead><tbody><tr><td>5</td><td>https://cf.geekdo-images.com/_Ppn5lssO5OaildSE-FgFA__micro/img/2gymaKs35_2yj7eyyA6cYyVmd9c=/fit-in/64x64/filters:strip_icc()/pic3727516.jpg</td><td>Twilight Imperium: Fourth Edition</td><td>2017</td><td>8.243</td><td>8.60</td><td>23240</td><td>2024-03-30</td></tr><tr><td>8</td><td>https://cf.geekdo-images.com/ImPgGag98W6gpV1KV812aA__micro/img/NT-Av_3kdYUcwuti5ocmIQXow3g=/fit-in/64x64/filters:strip_icc()/pic1215633.jpg</td><td>War of the Ring: Second Edition</td><td>2011</td><td>8.180</td><td>8.54</td><td>20909</td><td>2024-03-30</td></tr><tr><td>4</td><td>https://cf.geekdo-images.com/SoU8p28Sk1s8MSvoM4N8pQ__micro/img/LSAi1pmhbTbWwtBrziutDOXzfdY=/fit-in/64x64/filters:strip_icc()/pic6293412.jpg</td><td>Ark Nova</td><td>2021</td><td>8.333</td><td>8.54</td><td>41305</td><td>2024-03-30</td></tr><tr><td>11</td><td>https://cf.geekdo-images.com/kjCm4ZvPjIZxS-mYgSPy1g__micro/img/sRPer5FmBxyV527MY67P-gM7ukg=/fit-in/64x64/filters:strip_icc()/pic7013651.jpg</td><td>Spirit Island</td><td>2017</td><td>8.146</td><td>8.35</td><td>50055</td><td>2024-03-30</td></tr><tr><td>3</td><td>https://cf.geekdo-images.com/sZYp_3BTDGjh2unaZfZmuA__micro/img/sQyh47ClBO3d5sxPm73hMvM-JV4=/fit-in/64x64/filters:strip_icc()/pic2437871.jpg</td><td>Gloomhaven</td><td>2017</td><td>8.361</td><td>8.60</td><td>61512</td><td>2024-03-30</td></tr><tr><td>7</td><td>https://cf.geekdo-images.com/wg9oOLcsKvDesSUdZQ4rxw__micro/img/LUkXZhd1TO80eCiXMD3-KfnzA6k=/fit-in/64x64/filters:strip_icc()/pic3536616.jpg</td><td>Terraforming Mars</td><td>2016</td><td>8.216</td><td>8.36</td><td>97186</td><td>2024-03-30</td></tr><tr><td>2</td><td>https://cf.geekdo-images.com/-Qer2BBPG7qGGDu6KcVDIw__micro/img/n6-sXYD6XXZoqIxq4P6AG7VPCuA=/fit-in/64x64/filters:strip_icc()/pic2452831.png</td><td>Pandemic Legacy: Season 1</td><td>2015</td><td>8.383</td><td>8.53</td><td>52964</td><td>2024-03-30</td></tr><tr><td>12</td><td>https://cf.geekdo-images.com/hGWFm3hbMlCDsfCsauOQ4g__micro/img/odWj2bEnZi9dEcQQrOtYj1e0QLE=/fit-in/64x64/filters:strip_icc()/pic5375625.png</td><td>Gaia Project</td><td>2017</td><td>8.120</td><td>8.39</td><td>26609</td><td>2024-03-30</td></tr><tr><td>6</td><td>https://cf.geekdo-images.com/PhjygpWSo-0labGrPBMyyg__micro/img/mfU7-dEFnVyXJrF-BWAO0buexao=/fit-in/64x64/filters:strip_icc()/pic5666597.jpg</td><td>Dune: Imperium</td><td>2020</td><td>8.225</td><td>8.43</td><td>43405</td><td>2024-03-30</td></tr><tr><td>9</td><td>https://cf.geekdo-images.com/_HhIdavYW-hid20Iq3hhmg__micro/img/OdKjWiFsNvQAfJfXXSITttiozWE=/fit-in/64x64/filters:strip_icc()/pic5055631.jpg</td><td>Gloomhaven: Jaws of the Lion</td><td>2020</td><td>8.174</td><td>8.45</td><td>33323</td><td>2024-03-30</td></tr><tr><td>10</td><td>https://cf.geekdo-images.com/7SrPNGBKg9IIsP4UQpOi8g__micro/img/nEvTiCkWpT-ymH4bstc9c335TtQ=/fit-in/64x64/filters:strip_icc()/pic4325841.jpg</td><td>Star Wars: Rebellion</td><td>2016</td><td>8.171</td><td>8.42</td><td>31966</td><td>2024-03-30</td></tr><tr><td>1</td><td>https://cf.geekdo-images.com/x3zxjr-Vw5iU4yDPg70Jgw__micro/img/4Od3GYCiqptga0VbmyumPbJlBsU=/fit-in/64x64/filters:strip_icc()/pic3490053.jpg</td><td>Brass: Birmingham</td><td>2018</td><td>8.417</td><td>8.60</td><td>44343</td><td>2024-03-30</td></tr><tr><td>21</td><td>https://cf.geekdo-images.com/tAqLpWxQ0Oo3GaPP3MER1g__micro/img/tivhH093LwCowK-_S7bVF_xha34=/fit-in/64x64/filters:strip_icc()/pic5073276.jpg</td><td>Nemesis</td><td>2018</td><td>7.955</td><td>8.27</td><td>29637</td><td>2024-03-30</td></tr><tr><td>17</td><td>https://cf.geekdo-images.com/7k_nOxpO9OGIjhLq2BUZdA__micro/img/ETplc22GdhlN5u0mppcDxSP8LVk=/fit-in/64x64/filters:strip_icc()/pic3163924.jpg</td><td>Scythe</td><td>2016</td><td>7.997</td><td>8.15</td><td>82141</td><td>2024-03-30</td></tr><tr><td>23</td><td>https://cf.geekdo-images.com/CzwSm8i7tkLz6cBnrILZBg__micro/img/FQyxREkHBn7yTbGmBg7c44eLgaM=/fit-in/64x64/filters:strip_icc()/pic3453267.jpg</td><td>Concordia</td><td>2013</td><td>7.945</td><td>8.10</td><td>39884</td><td>2024-03-30</td></tr><tr><td>16</td><td>https://cf.geekdo-images.com/5CFwjd8zTcGYVUnkXh04hw__micro/img/N1VrEUaW6bmwnqbZfi2nRScwGxM=/fit-in/64x64/filters:strip_icc()/pic1176894.jpg</td><td>The Castles of Burgundy</td><td>2011</td><td>8.013</td><td>8.14</td><td>61348</td><td>2024-03-30</td></tr><tr><td>13</td><td>https://cf.geekdo-images.com/pNCiUUphnoeWOYfsWq0kng__micro/img/ZlfJiIATIt5MY7xWSMzFmdygaa0=/fit-in/64x64/filters:strip_icc()/pic3530661.jpg</td><td>Twilight Struggle</td><td>2005</td><td>8.070</td><td>8.25</td><td>48370</td><td>2024-03-30</td></tr><tr><td>22</td><td>https://cf.geekdo-images.com/hc2NDafu5c24iLJh_IZmyg__micro/img/v2WzacDprYF837E6h9O2WuFFmpw=/fit-in/64x64/filters:strip_icc()/pic4885780.png</td><td>Clank! Legacy: Acquisitions Incorporated</td><td>2019</td><td>7.949</td><td>8.55</td><td>9176</td><td>2024-03-30</td></tr><tr><td>24</td><td>https://cf.geekdo-images.com/s9oGMCo1fcfV4Dk3EnqLZw__micro/img/JCrcuFDrjVQ64uLbqpH-Pmg6XsU=/fit-in/64x64/filters:strip_icc()/pic3146943.png</td><td>A Feast for Odin</td><td>2016</td><td>7.944</td><td>8.17</td><td>27842</td><td>2024-03-30</td></tr><tr><td>15</td><td>https://cf.geekdo-images.com/u1l0gH7sb_vnvDvoO_QHqA__micro/img/xeShpQfbj4L1id-ItJbfIYVzgyA=/fit-in/64x64/filters:strip_icc()/pic4887376.jpg</td><td>Great Western Trail</td><td>2016</td><td>8.035</td><td>8.20</td><td>40417</td><td>2024-03-30</td></tr><tr><td>18</td><td>https://cf.geekdo-images.com/Oh3kHw6lweg6ru71Q16h2Q__micro/img/vhB59zFDq3Kul0xbr3api2selZs=/fit-in/64x64/filters:strip_icc()/pic5235277.jpg</td><td>Eclipse: Second Dawn for the Galaxy</td><td>2020</td><td>7.974</td><td>8.47</td><td>13047</td><td>2024-03-30</td></tr><tr><td>19</td><td>https://cf.geekdo-images.com/zdagMskTF7wJBPjX74XsRw__micro/img/nXtpcw3tYaelntFHb1aH4YrN7Wk=/fit-in/64x64/filters:strip_icc()/pic2576399.jpg</td><td>7 Wonders Duel</td><td>2015</td><td>7.972</td><td>8.10</td><td>92711</td><td>2024-03-30</td></tr><tr><td>14</td><td>https://cf.geekdo-images.com/fVwPntkJKgaEo0rIC0RwpA__micro/img/77dZJpqtydc8TTecl0ReGF7iAVw=/fit-in/64x64/filters:strip_icc()/pic2663291.jpg</td><td>Through the Ages: A New Story of Civilization</td><td>2015</td><td>8.064</td><td>8.30</td><td>31249</td><td>2024-03-30</td></tr><tr><td>20</td><td>https://cf.geekdo-images.com/tHVtPzu82mBpeQbbZkV6EA__micro/img/jM8d5Q5btvJmcWQN_px-A-nlueI=/fit-in/64x64/filters:strip_icc()/pic3469216.jpg</td><td>Brass: Lancashire</td><td>2007</td><td>7.962</td><td>8.19</td><td>24642</td><td>2024-03-30</td></tr><tr><td>25</td><td>https://cf.geekdo-images.com/yLZJCVLlIx4c7eJEWUNJ7w__micro/img/5ZaRePVhfelfofF7T_OC1e0gUCw=/fit-in/64x64/filters:strip_icc()/pic4458123.jpg</td><td>Wingspan</td><td>2019</td><td>7.908</td><td>8.06</td><td>90684</td><td>2024-03-30</td></tr><tr><td>37</td><td>https://cf.geekdo-images.com/jEPmWvvYpqkWrKOzqIHFsg__micro/img/Uwm0ZfmY4ZNWWxlackDXrsmS-Io=/fit-in/64x64/filters:strip_icc()/pic4336469.png</td><td>Barrage</td><td>2019</td><td>7.849</td><td>8.17</td><td>17175</td><td>2024-03-30</td></tr><tr><td>34</td><td>https://cf.geekdo-images.com/DUO2hz9AlLOH8p9ED-lCWg__micro/img/eXzdbUmCbIdMIVgiQ_QwS3YNOS4=/fit-in/64x64/filters:strip_icc()/pic1083380.jpg</td><td>Mage Knight Board Game</td><td>2011</td><td>7.856</td><td>8.09</td><td>33046</td><td>2024-03-30</td></tr><tr><td>35</td><td>https://cf.geekdo-images.com/fjE7V5LNq31yVEW_yuqI-Q__micro/img/TAgkPCJdNAIHZfn1BE1DXadBL9g=/fit-in/64x64/filters:strip_icc()/pic3918905.png</td><td>Everdell</td><td>2018</td><td>7.852</td><td>8.03</td><td>52931</td><td>2024-03-30</td></tr><tr><td>30</td><td>https://cf.geekdo-images.com/JUAUWaVUzeBgzirhZNmHHw__micro/img/tdHLiMYfi-KTy89sGBGZVeE9ts0=/fit-in/64x64/filters:strip_icc()/pic4254509.jpg</td><td>Root</td><td>2018</td><td>7.886</td><td>8.07</td><td>49765</td><td>2024-03-30</td></tr><tr><td>28</td><td>https://cf.geekdo-images.com/6GqH14TJJhza86BX5HCLEQ__micro/img/2FKVaukjh9a-Kg9LWQuMSvLS34s=/fit-in/64x64/filters:strip_icc()/pic5674958.jpg</td><td>Lost Ruins of Arnak</td><td>2020</td><td>7.900</td><td>8.08</td><td>42501</td><td>2024-03-30</td></tr><tr><td>33</td><td>https://cf.geekdo-images.com/wKwRk0wYBcrtLAfgn4PCdg__micro/img/Q6VXZKoVSlMjTU7Vp8tn1tkcVzw=/fit-in/64x64/filters:strip_icc()/pic6624445.png</td><td>Too Many Bones</td><td>2017</td><td>7.857</td><td>8.35</td><td>12755</td><td>2024-03-30</td></tr><tr><td>36</td><td>https://cf.geekdo-images.com/VuBqZ1sMaDAVVHF_OEJP4g__micro/img/p3GKOrR04nV1qkim9zq-rmFfYh8=/fit-in/64x64/filters:strip_icc()/pic5988903.jpg</td><td>The Crew: Mission Deep Sea</td><td>2021</td><td>7.851</td><td>8.17</td><td>16506</td><td>2024-03-30</td></tr><tr><td>26</td><td>https://cf.geekdo-images.com/bre12I1YiXkZr7elvriz4A__micro/img/SAwaBrDhHbGuq6dFY-ok95qFMcU=/fit-in/64x64/filters:strip_icc()/pic5375624.jpg</td><td>Terra Mystica</td><td>2012</td><td>7.901</td><td>8.07</td><td>47581</td><td>2024-03-30</td></tr><tr><td>29</td><td>https://cf.geekdo-images.com/gDn7AhrDlmfCLSz9ZqoNFQ__micro/img/eGBh_Csj13hXnODUTB-7dmpq-M0=/fit-in/64x64/filters:strip_icc()/pic5988511.jpg</td><td>Great Western Trail: Second Edition</td><td>2021</td><td>7.893</td><td>8.35</td><td>11894</td><td>2024-03-30</td></tr><tr><td>31</td><td>https://cf.geekdo-images.com/nagl1li6kYt9elV9jbfVQw__micro/img/hUKCvnqgFvTl0aOMd8FLkgCObT0=/fit-in/64x64/filters:strip_icc()/pic6228507.jpg</td><td>Orléans</td><td>2014</td><td>7.873</td><td>8.06</td><td>30893</td><td>2024-03-30</td></tr><tr><td>32</td><td>https://cf.geekdo-images.com/iEBr5o8AbJi9V9cgQcYROQ__micro/img/n9Ol4YKAhRLuOu4f7OVVXGjlWSQ=/fit-in/64x64/filters:strip_icc()/pic6177719.jpg</td><td>Frosthaven</td><td>2022</td><td>7.862</td><td>8.86</td><td>6545</td><td>2024-03-30</td></tr><tr><td>27</td><td>https://cf.geekdo-images.com/B5F5ulz0UivNgrI9Ky0euA__micro/img/DnDtwD_7oQR982carXqiVfhOQog=/fit-in/64x64/filters:strip_icc()/pic3122349.jpg</td><td>Arkham Horror: The Card Game</td><td>2016</td><td>7.901</td><td>8.13</td><td>42502</td><td>2024-03-30</td></tr><tr><td>49</td><td>https://cf.geekdo-images.com/31quLNzteInnevVRAABoow__micro/img/CMEokoPk9cBV5A82_eBwjDJPMfE=/fit-in/64x64/filters:strip_icc()/pic3499707.jpg</td><td>Anachrony</td><td>2017</td><td>7.759</td><td>8.08</td><td>18248</td><td>2024-03-30</td></tr><tr><td>41</td><td>https://cf.geekdo-images.com/oSM_AuKYfGIwOtKbVEsoVg__micro/img/SKUliR88eoltB2ytmwz3BffW7aA=/fit-in/64x64/filters:strip_icc()/pic4503733.png</td><td>Pax Pamir: Second Edition</td><td>2019</td><td>7.795</td><td>8.20</td><td>13546</td><td>2024-03-30</td></tr><tr><td>45</td><td>https://cf.geekdo-images.com/MjeJZfulbsM1DSV3DrGJYA__micro/img/x2BDobiHVhQHl7LhBimeU8L1ko4=/fit-in/64x64/filters:strip_icc()/pic5100691.jpg</td><td>Cascadia</td><td>2021</td><td>7.773</td><td>7.96</td><td>36354</td><td>2024-03-30</td></tr><tr><td>46</td><td>https://cf.geekdo-images.com/rz22tqa5PCYvK9oDjIbvxg__micro/img/sog7ni3vUAAfvd66e6XW4iOca4I=/fit-in/64x64/filters:strip_icc()/pic1790789.jpg</td><td>Caverna: The Cave Farmers</td><td>2013</td><td>7.768</td><td>7.95</td><td>34498</td><td>2024-03-30</td></tr><tr><td>50</td><td>https://cf.geekdo-images.com/Nm0Iw8NoiM9V8IsifimGBw__micro/img/HQNReYu8QkZqD4dbZeWg3cQrkv0=/fit-in/64x64/filters:strip_icc()/pic4357658.jpg</td><td>On Mars</td><td>2020</td><td>7.756</td><td>8.20</td><td>12294</td><td>2024-03-30</td></tr><tr><td>48</td><td>https://cf.geekdo-images.com/HkZSJfQnZ3EpS214xtuplg__micro/img/7xdR1_OUo1ReAvYzhi7jBhFMHu0=/fit-in/64x64/filters:strip_icc()/pic2439223.jpg</td><td>Blood Rage</td><td>2015</td><td>7.762</td><td>7.93</td><td>46468</td><td>2024-03-30</td></tr><tr><td>38</td><td>https://cf.geekdo-images.com/l_PRU2lVlX9seScRFcvFlA__micro/img/3EqHlTkNSnZNFHVaAeFSpzfzuIQ=/fit-in/64x64/filters:strip_icc()/pic6500949.jpg</td><td>Viticulture Essential Edition</td><td>2015</td><td>7.844</td><td>7.99</td><td>47848</td><td>2024-03-30</td></tr><tr><td>39</td><td>https://cf.geekdo-images.com/Wtxml94LAXsIWQCxGPS63Q__micro/img/4Oucoa190njfSaNHr8YRIl6UnTU=/fit-in/64x64/filters:strip_icc()/pic2649434.png</td><td>Food Chain Magnate</td><td>2015</td><td>7.805</td><td>8.07</td><td>20093</td><td>2024-03-30</td></tr><tr><td>43</td><td>https://cf.geekdo-images.com/-vOrd4bOspibyohYExLqWg__micro/img/bcHg_0mMkgMaBp9Sz1gxJtHtaHw=/fit-in/64x64/filters:strip_icc()/pic6940449.png</td><td>Heat: Pedal to the Metal</td><td>2022</td><td>7.784</td><td>8.09</td><td>19978</td><td>2024-03-30</td></tr><tr><td>44</td><td>https://cf.geekdo-images.com/QFiIRd2kimaMqTyWsX0aUg__micro/img/ggNIAA1GEadqvcY7Mvwb9_VEybU=/fit-in/64x64/filters:strip_icc()/pic158548.jpg</td><td>Puerto Rico</td><td>2002</td><td>7.781</td><td>7.92</td><td>70579</td><td>2024-03-30</td></tr><tr><td>47</td><td>https://cf.geekdo-images.com/7ejbxsn-UtLl3ehamuAEdw__micro/img/5UygdMxz3N_dTCkGlwVlgJXK_vg=/fit-in/64x64/filters:strip_icc()/pic79413.jpg</td><td>Crokinole</td><td>1876</td><td>7.762</td><td>8.03</td><td>17646</td><td>2024-03-30</td></tr><tr><td>42</td><td>https://cf.geekdo-images.com/PwOwTVHovJAUQgghnGqCOg__micro/img/9ftDcGDumAWKm_3hmu6JUwjb1aU=/fit-in/64x64/filters:strip_icc()/pic4837710.png</td><td>Underwater Cities</td><td>2018</td><td>7.788</td><td>8.07</td><td>19131</td><td>2024-03-30</td></tr><tr><td>40</td><td>https://cf.geekdo-images.com/kRvUgYiaOq07kC67ZK5UoQ__micro/img/4DLQr45lpVBfCkiy-kVwhl4z4vQ=/fit-in/64x64/filters:strip_icc()/pic4900321.jpg</td><td>Marvel Champions: The Card Game</td><td>2019</td><td>7.799</td><td>8.13</td><td>23052</td><td>2024-03-30</td></tr><tr><td>59</td><td>https://cf.geekdo-images.com/kXf7mDyDYuHg6oe8yTUIEA__micro/img/3EqJtoxAlTb2pJWxmA7TUu4HWNI=/fit-in/64x64/filters:strip_icc()/pic4604439.jpg</td><td>Tzolk'in: The Mayan Calendar</td><td>2012</td><td>7.706</td><td>7.86</td><td>38896</td><td>2024-03-30</td></tr><tr><td>58</td><td>https://cf.geekdo-images.com/rMNa0k05zMdKgSEp26Q3Tw__micro/img/rDI-yCgwVbB_szRjUWOY8IKIdUk=/fit-in/64x64/filters:strip_icc()/pic4917407.jpg</td><td>Maracaibo</td><td>2019</td><td>7.711</td><td>8.04</td><td>15842</td><td>2024-03-30</td></tr><tr><td>53</td><td>https://cf.geekdo-images.com/y0x1zbkpUXjddzWWnhekYw__micro/img/oUW7QBHTiMOcpt5FgNXd_Uy2LfM=/fit-in/64x64/filters:strip_icc()/pic5581457.jpg</td><td>Pandemic Legacy: Season 0</td><td>2020</td><td>7.750</td><td>8.41</td><td>7410</td><td>2024-03-30</td></tr><tr><td>52</td><td>https://cf.geekdo-images.com/L2Wn-zUqkcHgqvwvY212Ig__micro/img/2pY9Wo185ehuYO7Mb0gTDpdww74=/fit-in/64x64/filters:strip_icc()/pic4924232.jpg</td><td>Kanban EV</td><td>2020</td><td>7.752</td><td>8.43</td><td>7305</td><td>2024-03-30</td></tr><tr><td>54</td><td>https://cf.geekdo-images.com/Zdt8l4oTBpFICsMyNof7Jg__micro/img/xnXopdLVlL31M169AjW8ofHRe5Q=/fit-in/64x64/filters:strip_icc()/pic5975244.png</td><td>Sleeping Gods</td><td>2021</td><td>7.748</td><td>8.24</td><td>11415</td><td>2024-03-30</td></tr><tr><td>56</td><td>https://cf.geekdo-images.com/LIooA9bTdjnE9qmhjL-UFw__micro/img/rsUu4YzIErI1oi6TRRA-cKiS-I0=/fit-in/64x64/filters:strip_icc()/pic3118622.jpg</td><td>Mansions of Madness: Second Edition</td><td>2016</td><td>7.718</td><td>7.95</td><td>35855</td><td>2024-03-30</td></tr><tr><td>61</td><td>https://cf.geekdo-images.com/e8D09pfFsUsoX1D81EeoZg__micro/img/g4fUW30OaTTN48VW7tdVOIAEvWQ=/fit-in/64x64/filters:strip_icc()/pic4705171.jpg</td><td>Cthulhu: Death May Die</td><td>2019</td><td>7.700</td><td>8.19</td><td>11881</td><td>2024-03-30</td></tr><tr><td>51</td><td>https://cf.geekdo-images.com/dDDo2Hexl80ucK1IlqTk-g__micro/img/SZgGqufNqaW8BCFT29wkYPaRXOE=/fit-in/64x64/filters:strip_icc()/pic831744.jpg</td><td>Agricola</td><td>2007</td><td>7.753</td><td>7.88</td><td>72285</td><td>2024-03-30</td></tr><tr><td>62</td><td>https://cf.geekdo-images.com/sy89BiuZXfbSnG7Cag9tBQ__micro/img/0VYxwvacU7ADCGyJt5iLMa5WQoA=/fit-in/64x64/filters:strip_icc()/pic5902073.png</td><td>Obsession</td><td>2018</td><td>7.689</td><td>8.16</td><td>11512</td><td>2024-03-30</td></tr><tr><td>57</td><td>https://cf.geekdo-images.com/OrHS8_a1CqSGiXeTfCk0Wg__micro/img/rpfZR0COMOP41SI2EZPrSrX_LL8=/fit-in/64x64/filters:strip_icc()/pic3209553.jpg</td><td>Lisboa</td><td>2017</td><td>7.718</td><td>8.19</td><td>10853</td><td>2024-03-30</td></tr><tr><td>60</td><td>https://cf.geekdo-images.com/yd6LuatytHRhcFCxCf-EEg__micro/img/ZUrGKfXAZS4AztFRXq2W9oD6TG4=/fit-in/64x64/filters:strip_icc()/pic4459753.jpg</td><td>Power Grid</td><td>2004</td><td>7.704</td><td>7.81</td><td>64917</td><td>2024-03-30</td></tr><tr><td>55</td><td>https://cf.geekdo-images.com/Qtkb-UTvHa0-kxt_MK1nKw__micro/img/eYV_Y45Hk66WceHroLlRqnHEHmg=/fit-in/64x64/filters:strip_icc()/pic3763549.jpg</td><td>Pandemic Legacy: Season 2</td><td>2017</td><td>7.727</td><td>8.04</td><td>16703</td><td>2024-03-30</td></tr><tr><td>66</td><td>https://cf.geekdo-images.com/y7Rqd3S6J7vyVhicR1bqTQ__micro/img/c1qPt4uwG4qhjxmrgtIuKulwQkI=/fit-in/64x64/filters:strip_icc()/pic6091101.jpg</td><td>Le Havre</td><td>2008</td><td>7.683</td><td>7.85</td><td>31366</td><td>2024-03-30</td></tr><tr><td>68</td><td>https://cf.geekdo-images.com/pIQ_MXvaoARRp1loCHJuHg__micro/img/i2soAnlvaDCzWksrpO2By4-GgGA=/fit-in/64x64/filters:strip_icc()/pic2247647.jpg</td><td>Star Wars: Imperial Assault</td><td>2014</td><td>7.676</td><td>7.97</td><td>24468</td><td>2024-03-30</td></tr><tr><td>70</td><td>https://cf.geekdo-images.com/98LnQShydr11OBKS46xY-Q__micro/img/bIVTqYzQ5wDuCSmcQvpNokXZOUo=/fit-in/64x64/filters:strip_icc()/pic5687013.jpg</td><td>The Crew: The Quest for Planet Nine</td><td>2019</td><td>7.668</td><td>7.81</td><td>40759</td><td>2024-03-30</td></tr><tr><td>69</td><td>https://cf.geekdo-images.com/ie1GSt1XV04sXQXt-3O1UQ__micro/img/Zxap2me5W8VgLK_VNU_lY5vLnbA=/fit-in/64x64/filters:strip_icc()/pic2503200.png</td><td>The Gallerist</td><td>2015</td><td>7.676</td><td>8.02</td><td>14326</td><td>2024-03-30</td></tr><tr><td>72</td><td>https://cf.geekdo-images.com/2ewHIIG_TRq8bYlqk0jIMw__micro/img/U5irACQ5P-7X9XyeDWj71ai-Ruw=/fit-in/64x64/filters:strip_icc()/pic3738560.jpg</td><td>Android: Netrunner</td><td>2012</td><td>7.659</td><td>7.88</td><td>29952</td><td>2024-03-30</td></tr><tr><td>63</td><td>https://cf.geekdo-images.com/pH5LgRL4mNRon-2NsSDb1Q__micro/img/pAWwGfiqFpn-kkzUKexMTZOvoA4=/fit-in/64x64/filters:strip_icc()/pic6137509.png</td><td>The Quacks of Quedlinburg</td><td>2018</td><td>7.687</td><td>7.83</td><td>48403</td><td>2024-03-30</td></tr><tr><td>71</td><td>https://cf.geekdo-images.com/n4J5LebMj0DQD016qW7ABw__micro/img/n4vvAq2JZvjf0yS_Mugr79dqM90=/fit-in/64x64/filters:strip_icc()/pic3184103.jpg</td><td>Mechs vs. Minions</td><td>2016</td><td>7.665</td><td>7.97</td><td>17310</td><td>2024-03-30</td></tr><tr><td>65</td><td>https://cf.geekdo-images.com/GlCmHjdLwv3SqSjv52ToGw__micro/img/egqhEcYTqBsaT7AeNBe2LdUcGZs=/fit-in/64x64/filters:strip_icc()/pic6966955.jpg</td><td>Grand Austria Hotel</td><td>2015</td><td>7.684</td><td>7.94</td><td>20416</td><td>2024-03-30</td></tr><tr><td>74</td><td>https://cf.geekdo-images.com/aPSHJO0d0XOpQR5X-wJonw__micro/img/3M2bj5ZXqAskTOvLTXRuHOH-Y44=/fit-in/64x64/filters:strip_icc()/pic6973671.png</td><td>Azul</td><td>2017</td><td>7.643</td><td>7.75</td><td>88368</td><td>2024-03-30</td></tr><tr><td>75</td><td>https://cf.geekdo-images.com/YCGWJMFwOI5efji2RJ2mSw__micro/img/GQNkMukGtKD2cVOgpUk4ZSmpUfA=/fit-in/64x64/filters:strip_icc()/pic8093340.jpg</td><td>Agricola </td><td>2016</td><td>7.640</td><td>7.96</td><td>17401</td><td>2024-03-30</td></tr><tr><td>67</td><td>https://cf.geekdo-images.com/4nhokcLdYoo6ulbZ1rmGgA__micro/img/WMzScSxJICvIyErl47KBVoskhnQ=/fit-in/64x64/filters:strip_icc()/pic4462987.png</td><td>Paladins of the West Kingdom</td><td>2019</td><td>7.680</td><td>7.99</td><td>17439</td><td>2024-03-30</td></tr><tr><td>73</td><td>https://cf.geekdo-images.com/LenzJBOHboAGU0cUIqAZPQ__micro/img/6YI32BDhyuO9JZrofc1CPbuFlVY=/fit-in/64x64/filters:strip_icc()/pic2931007.jpg</td><td>Kingdom Death: Monster</td><td>2015</td><td>7.656</td><td>8.50</td><td>9542</td><td>2024-03-30</td></tr><tr><td>64</td><td>https://cf.geekdo-images.com/SPuwc6RJ6y4PnTH36Pegsg__micro/img/wWI0kOjt4L4TOOV_Dn2BLthq5QQ=/fit-in/64x64/filters:strip_icc()/pic3511783.png</td><td>Clans of Caledonia</td><td>2017</td><td>7.685</td><td>7.95</td><td>20164</td><td>2024-03-30</td></tr><tr><td>83</td><td>https://cf.geekdo-images.com/BfEHqHQAvZLbRX7y7e9TWg__micro/img/RgHc2PFvpz3xxRPRg5v7d46JQNc=/fit-in/64x64/filters:strip_icc()/pic5617866.jpg</td><td>Beyond the Sun</td><td>2020</td><td>7.602</td><td>7.94</td><td>13998</td><td>2024-03-30</td></tr><tr><td>80</td><td>https://cf.geekdo-images.com/DPjV1iI0ygo5Bl3XLNRiIg__micro/img/5hO7ln_bquTyy4Q__ksB4NT1gMs=/fit-in/64x64/filters:strip_icc()/pic4449526.jpg</td><td>Clank!: A Deck-Building Adventure</td><td>2016</td><td>7.620</td><td>7.78</td><td>41679</td><td>2024-03-30</td></tr><tr><td>77</td><td>https://cf.geekdo-images.com/dmo-WD6HZHVUPrbVHunaTw__micro/img/fxKL3MvU00YeEkfeLNdQGUl5rxA=/fit-in/64x64/filters:strip_icc()/pic2055255.jpg</td><td>Five Tribes: The Djinns of Naqala</td><td>2014</td><td>7.625</td><td>7.78</td><td>41047</td><td>2024-03-30</td></tr><tr><td>78</td><td>https://cf.geekdo-images.com/cnFppsVNOSTJ-W3APQFuTg__micro/img/dfQTNAju5CUxn6JQl-Pxubac99o=/fit-in/64x64/filters:strip_icc()/pic1974056.jpg</td><td>Eclipse: New Dawn for the Galaxy</td><td>2011</td><td>7.622</td><td>7.83</td><td>28282</td><td>2024-03-30</td></tr><tr><td>82</td><td>https://cf.geekdo-images.com/0w8go6cfvlpgJKydHUkDtA__micro/img/9JEU9pIfwl2wUIE3fmCmjjH_iiM=/fit-in/64x64/filters:strip_icc()/pic2225968.png</td><td>Fields of Arle</td><td>2014</td><td>7.606</td><td>8.03</td><td>10834</td><td>2024-03-30</td></tr><tr><td>76</td><td>https://cf.geekdo-images.com/-DOqixs8uwKUvvWPKI4f9w__micro/img/Fz_qRw_ZHI9TfZXY0b4YZ6zfT7o=/fit-in/64x64/filters:strip_icc()/pic5261714.jpg</td><td>Race for the Galaxy</td><td>2007</td><td>7.631</td><td>7.74</td><td>55077</td><td>2024-03-30</td></tr><tr><td>86</td><td>https://cf.geekdo-images.com/-hk8f8iGk_DyWyMrfiPBkg__micro/img/tWSg9ErrwvVcwaE1Kze1IsxwpGg=/fit-in/64x64/filters:strip_icc()/pic1116080.jpg</td><td>Lords of Waterdeep</td><td>2012</td><td>7.594</td><td>7.74</td><td>55100</td><td>2024-03-30</td></tr><tr><td>85</td><td>https://cf.geekdo-images.com/3piN3YX4WmBRuIvbEG2Ygg__micro/img/xy_566fY112BYtYJjT29cfAcHsk=/fit-in/64x64/filters:strip_icc()/pic236169.jpg</td><td>Through the Ages: A Story of Civilization</td><td>2006</td><td>7.599</td><td>7.85</td><td>19300</td><td>2024-03-30</td></tr><tr><td>81</td><td>https://cf.geekdo-images.com/d50LceHj6LIafa4S_qIsCg__micro/img/0El7f9TAr9UfvKlcsXYrBe8jEOc=/fit-in/64x64/filters:strip_icc()/pic3189350.jpg</td><td>Aeon's End</td><td>2016</td><td>7.618</td><td>7.91</td><td>20187</td><td>2024-03-30</td></tr><tr><td>84</td><td>https://cf.geekdo-images.com/wW5xjgBJcFyLaEWZwrYuKA__micro/img/kXVTBtcGC-5L706WFNJLAuZTovQ=/fit-in/64x64/filters:strip_icc()/pic4583626.jpg</td><td>Teotihuacan: City of Gods</td><td>2018</td><td>7.600</td><td>7.87</td><td>19623</td><td>2024-03-30</td></tr><tr><td>79</td><td>https://cf.geekdo-images.com/dezQ4YjF03lZVxTdI-UJYw__micro/img/7bEpYVStLA2qmeKUIweHTGziwSU=/fit-in/64x64/filters:strip_icc()/pic6863204.jpg</td><td>Oathsworn: Into the Deepwood</td><td>2022</td><td>7.622</td><td>9.02</td><td>4351</td><td>2024-03-30</td></tr><tr><td>87</td><td>https://cf.geekdo-images.com/DCLgJlrvB-EqL6A3WgQLMQ__micro/img/j_LPta_lgRrN8Rrs9Rxt_d3Hysc=/fit-in/64x64/filters:strip_icc()/pic5715770.jpg</td><td>Hegemony: Lead Your Class to Victory</td><td>2023</td><td>7.586</td><td>8.53</td><td>5349</td><td>2024-03-30</td></tr><tr><td>97</td><td>https://cf.geekdo-images.com/hHZWXnUTMYDd_KTAM6Jwlw__micro/img/g7DQGNNf6ZFwYDGpe9kT3e4KELY=/fit-in/64x64/filters:strip_icc()/pic3759421.jpg</td><td>Decrypto</td><td>2018</td><td>7.541</td><td>7.77</td><td>21956</td><td>2024-03-30</td></tr><tr><td>94</td><td>https://cf.geekdo-images.com/aAwBzPzta4joKfFZt05hCw__micro/img/28sp86TqPbMqn9M_qHWfS9j44-w=/fit-in/64x64/filters:strip_icc()/pic4385726.jpg</td><td>Tainted Grail: The Fall of Avalon</td><td>2019</td><td>7.549</td><td>8.09</td><td>12149</td><td>2024-03-30</td></tr><tr><td>92</td><td>https://cf.geekdo-images.com/RRKDHaYtFPHhczkUDcHOmg__micro/img/_hnYEtmQrfIco_6UTFRLZdhWMnQ=/fit-in/64x64/filters:strip_icc()/pic7906240.jpg</td><td>El Grande</td><td>1995</td><td>7.570</td><td>7.75</td><td>28305</td><td>2024-03-30</td></tr><tr><td>100</td><td>https://cf.geekdo-images.com/36WIe0ZHkp5OvHOlB-8vog__micro/img/7lY7AE0KsFAO2svml1DMpa20-kg=/fit-in/64x64/filters:strip_icc()/pic4356580.jpg</td><td>Concordia Venus</td><td>2018</td><td>7.530</td><td>8.29</td><td>5587</td><td>2024-03-30</td></tr><tr><td>99</td><td>https://cf.geekdo-images.com/9gob752VqEklQFV_gz16hw__micro/img/kYOLnVbUwnKjA37DqEe9HECvqI0=/fit-in/64x64/filters:strip_icc()/pic2585510.png</td><td>Trickerion: Legends of Illusion</td><td>2015</td><td>7.533</td><td>7.97</td><td>10684</td><td>2024-03-30</td></tr><tr><td>88</td><td>https://cf.geekdo-images.com/oeygRZntjNUJWvc8SxDfww__micro/img/gXi23Nbfem6XTfRlV2eHEHB_cHY=/fit-in/64x64/filters:strip_icc()/pic784193.jpg</td><td>Dominant Species</td><td>2010</td><td>7.583</td><td>7.82</td><td>21049</td><td>2024-03-30</td></tr><tr><td>98</td><td>https://cf.geekdo-images.com/6QE8mnPFmauoj2THsyUYPA__micro/img/KzK9JEEodDn0EyHA8rJy2X0cyYA=/fit-in/64x64/filters:strip_icc()/pic4739757.jpg</td><td>Inis</td><td>2016</td><td>7.539</td><td>7.83</td><td>19814</td><td>2024-03-30</td></tr><tr><td>95</td><td>https://cf.geekdo-images.com/5Q2w2rFJiFI_uV89KP6ECg__micro/img/KGgAsbHUPaEjsl-r05JCH2ixP1o=/fit-in/64x64/filters:strip_icc()/pic354500.jpg</td><td>Battlestar Galactica: The Board Game</td><td>2008</td><td>7.542</td><td>7.73</td><td>36353</td><td>2024-03-30</td></tr><tr><td>91</td><td>https://cf.geekdo-images.com/35h9Za_JvMMMtx_92kT0Jg__micro/img/4BRnGQ-EoU-2LNirfZpUC3HRReU=/fit-in/64x64/filters:strip_icc()/pic7149798.jpg</td><td>7 Wonders</td><td>2010</td><td>7.578</td><td>7.69</td><td>103590</td><td>2024-03-30</td></tr><tr><td>96</td><td>https://cf.geekdo-images.com/OAX7HfOz-9N60StgADzd0g__micro/img/5OEOXKjvrEMh2aT5I-FrAn5-9jo=/fit-in/64x64/filters:strip_icc()/pic3781944.png</td><td>Architects of the West Kingdom</td><td>2018</td><td>7.542</td><td>7.74</td><td>28573</td><td>2024-03-30</td></tr><tr><td>89</td><td>https://cf.geekdo-images.com/n1G7_aWToLAAB7Mqt8iwyA__micro/img/c8Ld-3E8S0devFlugLvyiAEESbY=/fit-in/64x64/filters:strip_icc()/pic2461346.png</td><td>The Voyages of Marco Polo</td><td>2015</td><td>7.581</td><td>7.79</td><td>24679</td><td>2024-03-30</td></tr><tr><td>90</td><td>https://cf.geekdo-images.com/FbFnaTx3aT5dM18K_bR_Pg__micro/img/brcsM5-72GgeBDQg3CSI6VB1Dqo=/fit-in/64x64/filters:strip_icc()/pic3165731.jpg</td><td>Robinson Crusoe: Adventures on the Cursed Island</td><td>2012</td><td>7.579</td><td>7.75</td><td>42997</td><td>2024-03-30</td></tr><tr><td>93</td><td>https://cf.geekdo-images.com/NItjtztEUAKOpaTWZddu9A__micro/img/m4I9uS6LBjNz02oNquEkBM-L464=/fit-in/64x64/filters:strip_icc()/pic5744928.jpg</td><td>The Search for Planet X</td><td>2020</td><td>7.568</td><td>7.97</td><td>11688</td><td>2024-03-30</td></tr></tbody></table></div>"
      ]
     },
     "metadata": {
      "application/vnd.databricks.v1+output": {
       "addedWidgets": {},
       "aggData": [],
       "aggError": "",
       "aggOverflow": false,
       "aggSchema": [],
       "aggSeriesLimitReached": false,
       "aggType": "",
       "arguments": {},
       "columnCustomDisplayInfos": {},
       "data": [
        [
         "5",
         "https://cf.geekdo-images.com/_Ppn5lssO5OaildSE-FgFA__micro/img/2gymaKs35_2yj7eyyA6cYyVmd9c=/fit-in/64x64/filters:strip_icc()/pic3727516.jpg",
         "Twilight Imperium: Fourth Edition",
         "2017",
         "8.243",
         "8.60",
         "23240",
         "2024-03-30"
        ],
        [
         "8",
         "https://cf.geekdo-images.com/ImPgGag98W6gpV1KV812aA__micro/img/NT-Av_3kdYUcwuti5ocmIQXow3g=/fit-in/64x64/filters:strip_icc()/pic1215633.jpg",
         "War of the Ring: Second Edition",
         "2011",
         "8.180",
         "8.54",
         "20909",
         "2024-03-30"
        ],
        [
         "4",
         "https://cf.geekdo-images.com/SoU8p28Sk1s8MSvoM4N8pQ__micro/img/LSAi1pmhbTbWwtBrziutDOXzfdY=/fit-in/64x64/filters:strip_icc()/pic6293412.jpg",
         "Ark Nova",
         "2021",
         "8.333",
         "8.54",
         "41305",
         "2024-03-30"
        ],
        [
         "11",
         "https://cf.geekdo-images.com/kjCm4ZvPjIZxS-mYgSPy1g__micro/img/sRPer5FmBxyV527MY67P-gM7ukg=/fit-in/64x64/filters:strip_icc()/pic7013651.jpg",
         "Spirit Island",
         "2017",
         "8.146",
         "8.35",
         "50055",
         "2024-03-30"
        ],
        [
         "3",
         "https://cf.geekdo-images.com/sZYp_3BTDGjh2unaZfZmuA__micro/img/sQyh47ClBO3d5sxPm73hMvM-JV4=/fit-in/64x64/filters:strip_icc()/pic2437871.jpg",
         "Gloomhaven",
         "2017",
         "8.361",
         "8.60",
         "61512",
         "2024-03-30"
        ],
        [
         "7",
         "https://cf.geekdo-images.com/wg9oOLcsKvDesSUdZQ4rxw__micro/img/LUkXZhd1TO80eCiXMD3-KfnzA6k=/fit-in/64x64/filters:strip_icc()/pic3536616.jpg",
         "Terraforming Mars",
         "2016",
         "8.216",
         "8.36",
         "97186",
         "2024-03-30"
        ],
        [
         "2",
         "https://cf.geekdo-images.com/-Qer2BBPG7qGGDu6KcVDIw__micro/img/n6-sXYD6XXZoqIxq4P6AG7VPCuA=/fit-in/64x64/filters:strip_icc()/pic2452831.png",
         "Pandemic Legacy: Season 1",
         "2015",
         "8.383",
         "8.53",
         "52964",
         "2024-03-30"
        ],
        [
         "12",
         "https://cf.geekdo-images.com/hGWFm3hbMlCDsfCsauOQ4g__micro/img/odWj2bEnZi9dEcQQrOtYj1e0QLE=/fit-in/64x64/filters:strip_icc()/pic5375625.png",
         "Gaia Project",
         "2017",
         "8.120",
         "8.39",
         "26609",
         "2024-03-30"
        ],
        [
         "6",
         "https://cf.geekdo-images.com/PhjygpWSo-0labGrPBMyyg__micro/img/mfU7-dEFnVyXJrF-BWAO0buexao=/fit-in/64x64/filters:strip_icc()/pic5666597.jpg",
         "Dune: Imperium",
         "2020",
         "8.225",
         "8.43",
         "43405",
         "2024-03-30"
        ],
        [
         "9",
         "https://cf.geekdo-images.com/_HhIdavYW-hid20Iq3hhmg__micro/img/OdKjWiFsNvQAfJfXXSITttiozWE=/fit-in/64x64/filters:strip_icc()/pic5055631.jpg",
         "Gloomhaven: Jaws of the Lion",
         "2020",
         "8.174",
         "8.45",
         "33323",
         "2024-03-30"
        ],
        [
         "10",
         "https://cf.geekdo-images.com/7SrPNGBKg9IIsP4UQpOi8g__micro/img/nEvTiCkWpT-ymH4bstc9c335TtQ=/fit-in/64x64/filters:strip_icc()/pic4325841.jpg",
         "Star Wars: Rebellion",
         "2016",
         "8.171",
         "8.42",
         "31966",
         "2024-03-30"
        ],
        [
         "1",
         "https://cf.geekdo-images.com/x3zxjr-Vw5iU4yDPg70Jgw__micro/img/4Od3GYCiqptga0VbmyumPbJlBsU=/fit-in/64x64/filters:strip_icc()/pic3490053.jpg",
         "Brass: Birmingham",
         "2018",
         "8.417",
         "8.60",
         "44343",
         "2024-03-30"
        ],
        [
         "21",
         "https://cf.geekdo-images.com/tAqLpWxQ0Oo3GaPP3MER1g__micro/img/tivhH093LwCowK-_S7bVF_xha34=/fit-in/64x64/filters:strip_icc()/pic5073276.jpg",
         "Nemesis",
         "2018",
         "7.955",
         "8.27",
         "29637",
         "2024-03-30"
        ],
        [
         "17",
         "https://cf.geekdo-images.com/7k_nOxpO9OGIjhLq2BUZdA__micro/img/ETplc22GdhlN5u0mppcDxSP8LVk=/fit-in/64x64/filters:strip_icc()/pic3163924.jpg",
         "Scythe",
         "2016",
         "7.997",
         "8.15",
         "82141",
         "2024-03-30"
        ],
        [
         "23",
         "https://cf.geekdo-images.com/CzwSm8i7tkLz6cBnrILZBg__micro/img/FQyxREkHBn7yTbGmBg7c44eLgaM=/fit-in/64x64/filters:strip_icc()/pic3453267.jpg",
         "Concordia",
         "2013",
         "7.945",
         "8.10",
         "39884",
         "2024-03-30"
        ],
        [
         "16",
         "https://cf.geekdo-images.com/5CFwjd8zTcGYVUnkXh04hw__micro/img/N1VrEUaW6bmwnqbZfi2nRScwGxM=/fit-in/64x64/filters:strip_icc()/pic1176894.jpg",
         "The Castles of Burgundy",
         "2011",
         "8.013",
         "8.14",
         "61348",
         "2024-03-30"
        ],
        [
         "13",
         "https://cf.geekdo-images.com/pNCiUUphnoeWOYfsWq0kng__micro/img/ZlfJiIATIt5MY7xWSMzFmdygaa0=/fit-in/64x64/filters:strip_icc()/pic3530661.jpg",
         "Twilight Struggle",
         "2005",
         "8.070",
         "8.25",
         "48370",
         "2024-03-30"
        ],
        [
         "22",
         "https://cf.geekdo-images.com/hc2NDafu5c24iLJh_IZmyg__micro/img/v2WzacDprYF837E6h9O2WuFFmpw=/fit-in/64x64/filters:strip_icc()/pic4885780.png",
         "Clank! Legacy: Acquisitions Incorporated",
         "2019",
         "7.949",
         "8.55",
         "9176",
         "2024-03-30"
        ],
        [
         "24",
         "https://cf.geekdo-images.com/s9oGMCo1fcfV4Dk3EnqLZw__micro/img/JCrcuFDrjVQ64uLbqpH-Pmg6XsU=/fit-in/64x64/filters:strip_icc()/pic3146943.png",
         "A Feast for Odin",
         "2016",
         "7.944",
         "8.17",
         "27842",
         "2024-03-30"
        ],
        [
         "15",
         "https://cf.geekdo-images.com/u1l0gH7sb_vnvDvoO_QHqA__micro/img/xeShpQfbj4L1id-ItJbfIYVzgyA=/fit-in/64x64/filters:strip_icc()/pic4887376.jpg",
         "Great Western Trail",
         "2016",
         "8.035",
         "8.20",
         "40417",
         "2024-03-30"
        ],
        [
         "18",
         "https://cf.geekdo-images.com/Oh3kHw6lweg6ru71Q16h2Q__micro/img/vhB59zFDq3Kul0xbr3api2selZs=/fit-in/64x64/filters:strip_icc()/pic5235277.jpg",
         "Eclipse: Second Dawn for the Galaxy",
         "2020",
         "7.974",
         "8.47",
         "13047",
         "2024-03-30"
        ],
        [
         "19",
         "https://cf.geekdo-images.com/zdagMskTF7wJBPjX74XsRw__micro/img/nXtpcw3tYaelntFHb1aH4YrN7Wk=/fit-in/64x64/filters:strip_icc()/pic2576399.jpg",
         "7 Wonders Duel",
         "2015",
         "7.972",
         "8.10",
         "92711",
         "2024-03-30"
        ],
        [
         "14",
         "https://cf.geekdo-images.com/fVwPntkJKgaEo0rIC0RwpA__micro/img/77dZJpqtydc8TTecl0ReGF7iAVw=/fit-in/64x64/filters:strip_icc()/pic2663291.jpg",
         "Through the Ages: A New Story of Civilization",
         "2015",
         "8.064",
         "8.30",
         "31249",
         "2024-03-30"
        ],
        [
         "20",
         "https://cf.geekdo-images.com/tHVtPzu82mBpeQbbZkV6EA__micro/img/jM8d5Q5btvJmcWQN_px-A-nlueI=/fit-in/64x64/filters:strip_icc()/pic3469216.jpg",
         "Brass: Lancashire",
         "2007",
         "7.962",
         "8.19",
         "24642",
         "2024-03-30"
        ],
        [
         "25",
         "https://cf.geekdo-images.com/yLZJCVLlIx4c7eJEWUNJ7w__micro/img/5ZaRePVhfelfofF7T_OC1e0gUCw=/fit-in/64x64/filters:strip_icc()/pic4458123.jpg",
         "Wingspan",
         "2019",
         "7.908",
         "8.06",
         "90684",
         "2024-03-30"
        ],
        [
         "37",
         "https://cf.geekdo-images.com/jEPmWvvYpqkWrKOzqIHFsg__micro/img/Uwm0ZfmY4ZNWWxlackDXrsmS-Io=/fit-in/64x64/filters:strip_icc()/pic4336469.png",
         "Barrage",
         "2019",
         "7.849",
         "8.17",
         "17175",
         "2024-03-30"
        ],
        [
         "34",
         "https://cf.geekdo-images.com/DUO2hz9AlLOH8p9ED-lCWg__micro/img/eXzdbUmCbIdMIVgiQ_QwS3YNOS4=/fit-in/64x64/filters:strip_icc()/pic1083380.jpg",
         "Mage Knight Board Game",
         "2011",
         "7.856",
         "8.09",
         "33046",
         "2024-03-30"
        ],
        [
         "35",
         "https://cf.geekdo-images.com/fjE7V5LNq31yVEW_yuqI-Q__micro/img/TAgkPCJdNAIHZfn1BE1DXadBL9g=/fit-in/64x64/filters:strip_icc()/pic3918905.png",
         "Everdell",
         "2018",
         "7.852",
         "8.03",
         "52931",
         "2024-03-30"
        ],
        [
         "30",
         "https://cf.geekdo-images.com/JUAUWaVUzeBgzirhZNmHHw__micro/img/tdHLiMYfi-KTy89sGBGZVeE9ts0=/fit-in/64x64/filters:strip_icc()/pic4254509.jpg",
         "Root",
         "2018",
         "7.886",
         "8.07",
         "49765",
         "2024-03-30"
        ],
        [
         "28",
         "https://cf.geekdo-images.com/6GqH14TJJhza86BX5HCLEQ__micro/img/2FKVaukjh9a-Kg9LWQuMSvLS34s=/fit-in/64x64/filters:strip_icc()/pic5674958.jpg",
         "Lost Ruins of Arnak",
         "2020",
         "7.900",
         "8.08",
         "42501",
         "2024-03-30"
        ],
        [
         "33",
         "https://cf.geekdo-images.com/wKwRk0wYBcrtLAfgn4PCdg__micro/img/Q6VXZKoVSlMjTU7Vp8tn1tkcVzw=/fit-in/64x64/filters:strip_icc()/pic6624445.png",
         "Too Many Bones",
         "2017",
         "7.857",
         "8.35",
         "12755",
         "2024-03-30"
        ],
        [
         "36",
         "https://cf.geekdo-images.com/VuBqZ1sMaDAVVHF_OEJP4g__micro/img/p3GKOrR04nV1qkim9zq-rmFfYh8=/fit-in/64x64/filters:strip_icc()/pic5988903.jpg",
         "The Crew: Mission Deep Sea",
         "2021",
         "7.851",
         "8.17",
         "16506",
         "2024-03-30"
        ],
        [
         "26",
         "https://cf.geekdo-images.com/bre12I1YiXkZr7elvriz4A__micro/img/SAwaBrDhHbGuq6dFY-ok95qFMcU=/fit-in/64x64/filters:strip_icc()/pic5375624.jpg",
         "Terra Mystica",
         "2012",
         "7.901",
         "8.07",
         "47581",
         "2024-03-30"
        ],
        [
         "29",
         "https://cf.geekdo-images.com/gDn7AhrDlmfCLSz9ZqoNFQ__micro/img/eGBh_Csj13hXnODUTB-7dmpq-M0=/fit-in/64x64/filters:strip_icc()/pic5988511.jpg",
         "Great Western Trail: Second Edition",
         "2021",
         "7.893",
         "8.35",
         "11894",
         "2024-03-30"
        ],
        [
         "31",
         "https://cf.geekdo-images.com/nagl1li6kYt9elV9jbfVQw__micro/img/hUKCvnqgFvTl0aOMd8FLkgCObT0=/fit-in/64x64/filters:strip_icc()/pic6228507.jpg",
         "Orléans",
         "2014",
         "7.873",
         "8.06",
         "30893",
         "2024-03-30"
        ],
        [
         "32",
         "https://cf.geekdo-images.com/iEBr5o8AbJi9V9cgQcYROQ__micro/img/n9Ol4YKAhRLuOu4f7OVVXGjlWSQ=/fit-in/64x64/filters:strip_icc()/pic6177719.jpg",
         "Frosthaven",
         "2022",
         "7.862",
         "8.86",
         "6545",
         "2024-03-30"
        ],
        [
         "27",
         "https://cf.geekdo-images.com/B5F5ulz0UivNgrI9Ky0euA__micro/img/DnDtwD_7oQR982carXqiVfhOQog=/fit-in/64x64/filters:strip_icc()/pic3122349.jpg",
         "Arkham Horror: The Card Game",
         "2016",
         "7.901",
         "8.13",
         "42502",
         "2024-03-30"
        ],
        [
         "49",
         "https://cf.geekdo-images.com/31quLNzteInnevVRAABoow__micro/img/CMEokoPk9cBV5A82_eBwjDJPMfE=/fit-in/64x64/filters:strip_icc()/pic3499707.jpg",
         "Anachrony",
         "2017",
         "7.759",
         "8.08",
         "18248",
         "2024-03-30"
        ],
        [
         "41",
         "https://cf.geekdo-images.com/oSM_AuKYfGIwOtKbVEsoVg__micro/img/SKUliR88eoltB2ytmwz3BffW7aA=/fit-in/64x64/filters:strip_icc()/pic4503733.png",
         "Pax Pamir: Second Edition",
         "2019",
         "7.795",
         "8.20",
         "13546",
         "2024-03-30"
        ],
        [
         "45",
         "https://cf.geekdo-images.com/MjeJZfulbsM1DSV3DrGJYA__micro/img/x2BDobiHVhQHl7LhBimeU8L1ko4=/fit-in/64x64/filters:strip_icc()/pic5100691.jpg",
         "Cascadia",
         "2021",
         "7.773",
         "7.96",
         "36354",
         "2024-03-30"
        ],
        [
         "46",
         "https://cf.geekdo-images.com/rz22tqa5PCYvK9oDjIbvxg__micro/img/sog7ni3vUAAfvd66e6XW4iOca4I=/fit-in/64x64/filters:strip_icc()/pic1790789.jpg",
         "Caverna: The Cave Farmers",
         "2013",
         "7.768",
         "7.95",
         "34498",
         "2024-03-30"
        ],
        [
         "50",
         "https://cf.geekdo-images.com/Nm0Iw8NoiM9V8IsifimGBw__micro/img/HQNReYu8QkZqD4dbZeWg3cQrkv0=/fit-in/64x64/filters:strip_icc()/pic4357658.jpg",
         "On Mars",
         "2020",
         "7.756",
         "8.20",
         "12294",
         "2024-03-30"
        ],
        [
         "48",
         "https://cf.geekdo-images.com/HkZSJfQnZ3EpS214xtuplg__micro/img/7xdR1_OUo1ReAvYzhi7jBhFMHu0=/fit-in/64x64/filters:strip_icc()/pic2439223.jpg",
         "Blood Rage",
         "2015",
         "7.762",
         "7.93",
         "46468",
         "2024-03-30"
        ],
        [
         "38",
         "https://cf.geekdo-images.com/l_PRU2lVlX9seScRFcvFlA__micro/img/3EqHlTkNSnZNFHVaAeFSpzfzuIQ=/fit-in/64x64/filters:strip_icc()/pic6500949.jpg",
         "Viticulture Essential Edition",
         "2015",
         "7.844",
         "7.99",
         "47848",
         "2024-03-30"
        ],
        [
         "39",
         "https://cf.geekdo-images.com/Wtxml94LAXsIWQCxGPS63Q__micro/img/4Oucoa190njfSaNHr8YRIl6UnTU=/fit-in/64x64/filters:strip_icc()/pic2649434.png",
         "Food Chain Magnate",
         "2015",
         "7.805",
         "8.07",
         "20093",
         "2024-03-30"
        ],
        [
         "43",
         "https://cf.geekdo-images.com/-vOrd4bOspibyohYExLqWg__micro/img/bcHg_0mMkgMaBp9Sz1gxJtHtaHw=/fit-in/64x64/filters:strip_icc()/pic6940449.png",
         "Heat: Pedal to the Metal",
         "2022",
         "7.784",
         "8.09",
         "19978",
         "2024-03-30"
        ],
        [
         "44",
         "https://cf.geekdo-images.com/QFiIRd2kimaMqTyWsX0aUg__micro/img/ggNIAA1GEadqvcY7Mvwb9_VEybU=/fit-in/64x64/filters:strip_icc()/pic158548.jpg",
         "Puerto Rico",
         "2002",
         "7.781",
         "7.92",
         "70579",
         "2024-03-30"
        ],
        [
         "47",
         "https://cf.geekdo-images.com/7ejbxsn-UtLl3ehamuAEdw__micro/img/5UygdMxz3N_dTCkGlwVlgJXK_vg=/fit-in/64x64/filters:strip_icc()/pic79413.jpg",
         "Crokinole",
         "1876",
         "7.762",
         "8.03",
         "17646",
         "2024-03-30"
        ],
        [
         "42",
         "https://cf.geekdo-images.com/PwOwTVHovJAUQgghnGqCOg__micro/img/9ftDcGDumAWKm_3hmu6JUwjb1aU=/fit-in/64x64/filters:strip_icc()/pic4837710.png",
         "Underwater Cities",
         "2018",
         "7.788",
         "8.07",
         "19131",
         "2024-03-30"
        ],
        [
         "40",
         "https://cf.geekdo-images.com/kRvUgYiaOq07kC67ZK5UoQ__micro/img/4DLQr45lpVBfCkiy-kVwhl4z4vQ=/fit-in/64x64/filters:strip_icc()/pic4900321.jpg",
         "Marvel Champions: The Card Game",
         "2019",
         "7.799",
         "8.13",
         "23052",
         "2024-03-30"
        ],
        [
         "59",
         "https://cf.geekdo-images.com/kXf7mDyDYuHg6oe8yTUIEA__micro/img/3EqJtoxAlTb2pJWxmA7TUu4HWNI=/fit-in/64x64/filters:strip_icc()/pic4604439.jpg",
         "Tzolk'in: The Mayan Calendar",
         "2012",
         "7.706",
         "7.86",
         "38896",
         "2024-03-30"
        ],
        [
         "58",
         "https://cf.geekdo-images.com/rMNa0k05zMdKgSEp26Q3Tw__micro/img/rDI-yCgwVbB_szRjUWOY8IKIdUk=/fit-in/64x64/filters:strip_icc()/pic4917407.jpg",
         "Maracaibo",
         "2019",
         "7.711",
         "8.04",
         "15842",
         "2024-03-30"
        ],
        [
         "53",
         "https://cf.geekdo-images.com/y0x1zbkpUXjddzWWnhekYw__micro/img/oUW7QBHTiMOcpt5FgNXd_Uy2LfM=/fit-in/64x64/filters:strip_icc()/pic5581457.jpg",
         "Pandemic Legacy: Season 0",
         "2020",
         "7.750",
         "8.41",
         "7410",
         "2024-03-30"
        ],
        [
         "52",
         "https://cf.geekdo-images.com/L2Wn-zUqkcHgqvwvY212Ig__micro/img/2pY9Wo185ehuYO7Mb0gTDpdww74=/fit-in/64x64/filters:strip_icc()/pic4924232.jpg",
         "Kanban EV",
         "2020",
         "7.752",
         "8.43",
         "7305",
         "2024-03-30"
        ],
        [
         "54",
         "https://cf.geekdo-images.com/Zdt8l4oTBpFICsMyNof7Jg__micro/img/xnXopdLVlL31M169AjW8ofHRe5Q=/fit-in/64x64/filters:strip_icc()/pic5975244.png",
         "Sleeping Gods",
         "2021",
         "7.748",
         "8.24",
         "11415",
         "2024-03-30"
        ],
        [
         "56",
         "https://cf.geekdo-images.com/LIooA9bTdjnE9qmhjL-UFw__micro/img/rsUu4YzIErI1oi6TRRA-cKiS-I0=/fit-in/64x64/filters:strip_icc()/pic3118622.jpg",
         "Mansions of Madness: Second Edition",
         "2016",
         "7.718",
         "7.95",
         "35855",
         "2024-03-30"
        ],
        [
         "61",
         "https://cf.geekdo-images.com/e8D09pfFsUsoX1D81EeoZg__micro/img/g4fUW30OaTTN48VW7tdVOIAEvWQ=/fit-in/64x64/filters:strip_icc()/pic4705171.jpg",
         "Cthulhu: Death May Die",
         "2019",
         "7.700",
         "8.19",
         "11881",
         "2024-03-30"
        ],
        [
         "51",
         "https://cf.geekdo-images.com/dDDo2Hexl80ucK1IlqTk-g__micro/img/SZgGqufNqaW8BCFT29wkYPaRXOE=/fit-in/64x64/filters:strip_icc()/pic831744.jpg",
         "Agricola",
         "2007",
         "7.753",
         "7.88",
         "72285",
         "2024-03-30"
        ],
        [
         "62",
         "https://cf.geekdo-images.com/sy89BiuZXfbSnG7Cag9tBQ__micro/img/0VYxwvacU7ADCGyJt5iLMa5WQoA=/fit-in/64x64/filters:strip_icc()/pic5902073.png",
         "Obsession",
         "2018",
         "7.689",
         "8.16",
         "11512",
         "2024-03-30"
        ],
        [
         "57",
         "https://cf.geekdo-images.com/OrHS8_a1CqSGiXeTfCk0Wg__micro/img/rpfZR0COMOP41SI2EZPrSrX_LL8=/fit-in/64x64/filters:strip_icc()/pic3209553.jpg",
         "Lisboa",
         "2017",
         "7.718",
         "8.19",
         "10853",
         "2024-03-30"
        ],
        [
         "60",
         "https://cf.geekdo-images.com/yd6LuatytHRhcFCxCf-EEg__micro/img/ZUrGKfXAZS4AztFRXq2W9oD6TG4=/fit-in/64x64/filters:strip_icc()/pic4459753.jpg",
         "Power Grid",
         "2004",
         "7.704",
         "7.81",
         "64917",
         "2024-03-30"
        ],
        [
         "55",
         "https://cf.geekdo-images.com/Qtkb-UTvHa0-kxt_MK1nKw__micro/img/eYV_Y45Hk66WceHroLlRqnHEHmg=/fit-in/64x64/filters:strip_icc()/pic3763549.jpg",
         "Pandemic Legacy: Season 2",
         "2017",
         "7.727",
         "8.04",
         "16703",
         "2024-03-30"
        ],
        [
         "66",
         "https://cf.geekdo-images.com/y7Rqd3S6J7vyVhicR1bqTQ__micro/img/c1qPt4uwG4qhjxmrgtIuKulwQkI=/fit-in/64x64/filters:strip_icc()/pic6091101.jpg",
         "Le Havre",
         "2008",
         "7.683",
         "7.85",
         "31366",
         "2024-03-30"
        ],
        [
         "68",
         "https://cf.geekdo-images.com/pIQ_MXvaoARRp1loCHJuHg__micro/img/i2soAnlvaDCzWksrpO2By4-GgGA=/fit-in/64x64/filters:strip_icc()/pic2247647.jpg",
         "Star Wars: Imperial Assault",
         "2014",
         "7.676",
         "7.97",
         "24468",
         "2024-03-30"
        ],
        [
         "70",
         "https://cf.geekdo-images.com/98LnQShydr11OBKS46xY-Q__micro/img/bIVTqYzQ5wDuCSmcQvpNokXZOUo=/fit-in/64x64/filters:strip_icc()/pic5687013.jpg",
         "The Crew: The Quest for Planet Nine",
         "2019",
         "7.668",
         "7.81",
         "40759",
         "2024-03-30"
        ],
        [
         "69",
         "https://cf.geekdo-images.com/ie1GSt1XV04sXQXt-3O1UQ__micro/img/Zxap2me5W8VgLK_VNU_lY5vLnbA=/fit-in/64x64/filters:strip_icc()/pic2503200.png",
         "The Gallerist",
         "2015",
         "7.676",
         "8.02",
         "14326",
         "2024-03-30"
        ],
        [
         "72",
         "https://cf.geekdo-images.com/2ewHIIG_TRq8bYlqk0jIMw__micro/img/U5irACQ5P-7X9XyeDWj71ai-Ruw=/fit-in/64x64/filters:strip_icc()/pic3738560.jpg",
         "Android: Netrunner",
         "2012",
         "7.659",
         "7.88",
         "29952",
         "2024-03-30"
        ],
        [
         "63",
         "https://cf.geekdo-images.com/pH5LgRL4mNRon-2NsSDb1Q__micro/img/pAWwGfiqFpn-kkzUKexMTZOvoA4=/fit-in/64x64/filters:strip_icc()/pic6137509.png",
         "The Quacks of Quedlinburg",
         "2018",
         "7.687",
         "7.83",
         "48403",
         "2024-03-30"
        ],
        [
         "71",
         "https://cf.geekdo-images.com/n4J5LebMj0DQD016qW7ABw__micro/img/n4vvAq2JZvjf0yS_Mugr79dqM90=/fit-in/64x64/filters:strip_icc()/pic3184103.jpg",
         "Mechs vs. Minions",
         "2016",
         "7.665",
         "7.97",
         "17310",
         "2024-03-30"
        ],
        [
         "65",
         "https://cf.geekdo-images.com/GlCmHjdLwv3SqSjv52ToGw__micro/img/egqhEcYTqBsaT7AeNBe2LdUcGZs=/fit-in/64x64/filters:strip_icc()/pic6966955.jpg",
         "Grand Austria Hotel",
         "2015",
         "7.684",
         "7.94",
         "20416",
         "2024-03-30"
        ],
        [
         "74",
         "https://cf.geekdo-images.com/aPSHJO0d0XOpQR5X-wJonw__micro/img/3M2bj5ZXqAskTOvLTXRuHOH-Y44=/fit-in/64x64/filters:strip_icc()/pic6973671.png",
         "Azul",
         "2017",
         "7.643",
         "7.75",
         "88368",
         "2024-03-30"
        ],
        [
         "75",
         "https://cf.geekdo-images.com/YCGWJMFwOI5efji2RJ2mSw__micro/img/GQNkMukGtKD2cVOgpUk4ZSmpUfA=/fit-in/64x64/filters:strip_icc()/pic8093340.jpg",
         "Agricola ",
         "2016",
         "7.640",
         "7.96",
         "17401",
         "2024-03-30"
        ],
        [
         "67",
         "https://cf.geekdo-images.com/4nhokcLdYoo6ulbZ1rmGgA__micro/img/WMzScSxJICvIyErl47KBVoskhnQ=/fit-in/64x64/filters:strip_icc()/pic4462987.png",
         "Paladins of the West Kingdom",
         "2019",
         "7.680",
         "7.99",
         "17439",
         "2024-03-30"
        ],
        [
         "73",
         "https://cf.geekdo-images.com/LenzJBOHboAGU0cUIqAZPQ__micro/img/6YI32BDhyuO9JZrofc1CPbuFlVY=/fit-in/64x64/filters:strip_icc()/pic2931007.jpg",
         "Kingdom Death: Monster",
         "2015",
         "7.656",
         "8.50",
         "9542",
         "2024-03-30"
        ],
        [
         "64",
         "https://cf.geekdo-images.com/SPuwc6RJ6y4PnTH36Pegsg__micro/img/wWI0kOjt4L4TOOV_Dn2BLthq5QQ=/fit-in/64x64/filters:strip_icc()/pic3511783.png",
         "Clans of Caledonia",
         "2017",
         "7.685",
         "7.95",
         "20164",
         "2024-03-30"
        ],
        [
         "83",
         "https://cf.geekdo-images.com/BfEHqHQAvZLbRX7y7e9TWg__micro/img/RgHc2PFvpz3xxRPRg5v7d46JQNc=/fit-in/64x64/filters:strip_icc()/pic5617866.jpg",
         "Beyond the Sun",
         "2020",
         "7.602",
         "7.94",
         "13998",
         "2024-03-30"
        ],
        [
         "80",
         "https://cf.geekdo-images.com/DPjV1iI0ygo5Bl3XLNRiIg__micro/img/5hO7ln_bquTyy4Q__ksB4NT1gMs=/fit-in/64x64/filters:strip_icc()/pic4449526.jpg",
         "Clank!: A Deck-Building Adventure",
         "2016",
         "7.620",
         "7.78",
         "41679",
         "2024-03-30"
        ],
        [
         "77",
         "https://cf.geekdo-images.com/dmo-WD6HZHVUPrbVHunaTw__micro/img/fxKL3MvU00YeEkfeLNdQGUl5rxA=/fit-in/64x64/filters:strip_icc()/pic2055255.jpg",
         "Five Tribes: The Djinns of Naqala",
         "2014",
         "7.625",
         "7.78",
         "41047",
         "2024-03-30"
        ],
        [
         "78",
         "https://cf.geekdo-images.com/cnFppsVNOSTJ-W3APQFuTg__micro/img/dfQTNAju5CUxn6JQl-Pxubac99o=/fit-in/64x64/filters:strip_icc()/pic1974056.jpg",
         "Eclipse: New Dawn for the Galaxy",
         "2011",
         "7.622",
         "7.83",
         "28282",
         "2024-03-30"
        ],
        [
         "82",
         "https://cf.geekdo-images.com/0w8go6cfvlpgJKydHUkDtA__micro/img/9JEU9pIfwl2wUIE3fmCmjjH_iiM=/fit-in/64x64/filters:strip_icc()/pic2225968.png",
         "Fields of Arle",
         "2014",
         "7.606",
         "8.03",
         "10834",
         "2024-03-30"
        ],
        [
         "76",
         "https://cf.geekdo-images.com/-DOqixs8uwKUvvWPKI4f9w__micro/img/Fz_qRw_ZHI9TfZXY0b4YZ6zfT7o=/fit-in/64x64/filters:strip_icc()/pic5261714.jpg",
         "Race for the Galaxy",
         "2007",
         "7.631",
         "7.74",
         "55077",
         "2024-03-30"
        ],
        [
         "86",
         "https://cf.geekdo-images.com/-hk8f8iGk_DyWyMrfiPBkg__micro/img/tWSg9ErrwvVcwaE1Kze1IsxwpGg=/fit-in/64x64/filters:strip_icc()/pic1116080.jpg",
         "Lords of Waterdeep",
         "2012",
         "7.594",
         "7.74",
         "55100",
         "2024-03-30"
        ],
        [
         "85",
         "https://cf.geekdo-images.com/3piN3YX4WmBRuIvbEG2Ygg__micro/img/xy_566fY112BYtYJjT29cfAcHsk=/fit-in/64x64/filters:strip_icc()/pic236169.jpg",
         "Through the Ages: A Story of Civilization",
         "2006",
         "7.599",
         "7.85",
         "19300",
         "2024-03-30"
        ],
        [
         "81",
         "https://cf.geekdo-images.com/d50LceHj6LIafa4S_qIsCg__micro/img/0El7f9TAr9UfvKlcsXYrBe8jEOc=/fit-in/64x64/filters:strip_icc()/pic3189350.jpg",
         "Aeon's End",
         "2016",
         "7.618",
         "7.91",
         "20187",
         "2024-03-30"
        ],
        [
         "84",
         "https://cf.geekdo-images.com/wW5xjgBJcFyLaEWZwrYuKA__micro/img/kXVTBtcGC-5L706WFNJLAuZTovQ=/fit-in/64x64/filters:strip_icc()/pic4583626.jpg",
         "Teotihuacan: City of Gods",
         "2018",
         "7.600",
         "7.87",
         "19623",
         "2024-03-30"
        ],
        [
         "79",
         "https://cf.geekdo-images.com/dezQ4YjF03lZVxTdI-UJYw__micro/img/7bEpYVStLA2qmeKUIweHTGziwSU=/fit-in/64x64/filters:strip_icc()/pic6863204.jpg",
         "Oathsworn: Into the Deepwood",
         "2022",
         "7.622",
         "9.02",
         "4351",
         "2024-03-30"
        ],
        [
         "87",
         "https://cf.geekdo-images.com/DCLgJlrvB-EqL6A3WgQLMQ__micro/img/j_LPta_lgRrN8Rrs9Rxt_d3Hysc=/fit-in/64x64/filters:strip_icc()/pic5715770.jpg",
         "Hegemony: Lead Your Class to Victory",
         "2023",
         "7.586",
         "8.53",
         "5349",
         "2024-03-30"
        ],
        [
         "97",
         "https://cf.geekdo-images.com/hHZWXnUTMYDd_KTAM6Jwlw__micro/img/g7DQGNNf6ZFwYDGpe9kT3e4KELY=/fit-in/64x64/filters:strip_icc()/pic3759421.jpg",
         "Decrypto",
         "2018",
         "7.541",
         "7.77",
         "21956",
         "2024-03-30"
        ],
        [
         "94",
         "https://cf.geekdo-images.com/aAwBzPzta4joKfFZt05hCw__micro/img/28sp86TqPbMqn9M_qHWfS9j44-w=/fit-in/64x64/filters:strip_icc()/pic4385726.jpg",
         "Tainted Grail: The Fall of Avalon",
         "2019",
         "7.549",
         "8.09",
         "12149",
         "2024-03-30"
        ],
        [
         "92",
         "https://cf.geekdo-images.com/RRKDHaYtFPHhczkUDcHOmg__micro/img/_hnYEtmQrfIco_6UTFRLZdhWMnQ=/fit-in/64x64/filters:strip_icc()/pic7906240.jpg",
         "El Grande",
         "1995",
         "7.570",
         "7.75",
         "28305",
         "2024-03-30"
        ],
        [
         "100",
         "https://cf.geekdo-images.com/36WIe0ZHkp5OvHOlB-8vog__micro/img/7lY7AE0KsFAO2svml1DMpa20-kg=/fit-in/64x64/filters:strip_icc()/pic4356580.jpg",
         "Concordia Venus",
         "2018",
         "7.530",
         "8.29",
         "5587",
         "2024-03-30"
        ],
        [
         "99",
         "https://cf.geekdo-images.com/9gob752VqEklQFV_gz16hw__micro/img/kYOLnVbUwnKjA37DqEe9HECvqI0=/fit-in/64x64/filters:strip_icc()/pic2585510.png",
         "Trickerion: Legends of Illusion",
         "2015",
         "7.533",
         "7.97",
         "10684",
         "2024-03-30"
        ],
        [
         "88",
         "https://cf.geekdo-images.com/oeygRZntjNUJWvc8SxDfww__micro/img/gXi23Nbfem6XTfRlV2eHEHB_cHY=/fit-in/64x64/filters:strip_icc()/pic784193.jpg",
         "Dominant Species",
         "2010",
         "7.583",
         "7.82",
         "21049",
         "2024-03-30"
        ],
        [
         "98",
         "https://cf.geekdo-images.com/6QE8mnPFmauoj2THsyUYPA__micro/img/KzK9JEEodDn0EyHA8rJy2X0cyYA=/fit-in/64x64/filters:strip_icc()/pic4739757.jpg",
         "Inis",
         "2016",
         "7.539",
         "7.83",
         "19814",
         "2024-03-30"
        ],
        [
         "95",
         "https://cf.geekdo-images.com/5Q2w2rFJiFI_uV89KP6ECg__micro/img/KGgAsbHUPaEjsl-r05JCH2ixP1o=/fit-in/64x64/filters:strip_icc()/pic354500.jpg",
         "Battlestar Galactica: The Board Game",
         "2008",
         "7.542",
         "7.73",
         "36353",
         "2024-03-30"
        ],
        [
         "91",
         "https://cf.geekdo-images.com/35h9Za_JvMMMtx_92kT0Jg__micro/img/4BRnGQ-EoU-2LNirfZpUC3HRReU=/fit-in/64x64/filters:strip_icc()/pic7149798.jpg",
         "7 Wonders",
         "2010",
         "7.578",
         "7.69",
         "103590",
         "2024-03-30"
        ],
        [
         "96",
         "https://cf.geekdo-images.com/OAX7HfOz-9N60StgADzd0g__micro/img/5OEOXKjvrEMh2aT5I-FrAn5-9jo=/fit-in/64x64/filters:strip_icc()/pic3781944.png",
         "Architects of the West Kingdom",
         "2018",
         "7.542",
         "7.74",
         "28573",
         "2024-03-30"
        ],
        [
         "89",
         "https://cf.geekdo-images.com/n1G7_aWToLAAB7Mqt8iwyA__micro/img/c8Ld-3E8S0devFlugLvyiAEESbY=/fit-in/64x64/filters:strip_icc()/pic2461346.png",
         "The Voyages of Marco Polo",
         "2015",
         "7.581",
         "7.79",
         "24679",
         "2024-03-30"
        ],
        [
         "90",
         "https://cf.geekdo-images.com/FbFnaTx3aT5dM18K_bR_Pg__micro/img/brcsM5-72GgeBDQg3CSI6VB1Dqo=/fit-in/64x64/filters:strip_icc()/pic3165731.jpg",
         "Robinson Crusoe: Adventures on the Cursed Island",
         "2012",
         "7.579",
         "7.75",
         "42997",
         "2024-03-30"
        ],
        [
         "93",
         "https://cf.geekdo-images.com/NItjtztEUAKOpaTWZddu9A__micro/img/m4I9uS6LBjNz02oNquEkBM-L464=/fit-in/64x64/filters:strip_icc()/pic5744928.jpg",
         "The Search for Planet X",
         "2020",
         "7.568",
         "7.97",
         "11688",
         "2024-03-30"
        ]
       ],
       "datasetInfos": [],
       "dbfsResultPath": null,
       "isJsonSchema": true,
       "metadata": {},
       "overflow": false,
       "plotOptions": {
        "customPlotOptions": {},
        "displayType": "table",
        "pivotAggregation": null,
        "pivotColumns": null,
        "xColumns": null,
        "yColumns": null
       },
       "removedWidgets": [],
       "schema": [
        {
         "metadata": "{}",
         "name": "Rank",
         "type": "\"string\""
        },
        {
         "metadata": "{}",
         "name": "ImageURL",
         "type": "\"string\""
        },
        {
         "metadata": "{}",
         "name": "Title",
         "type": "\"string\""
        },
        {
         "metadata": "{}",
         "name": "YearPublished",
         "type": "\"string\""
        },
        {
         "metadata": "{}",
         "name": "GeekRating",
         "type": "\"string\""
        },
        {
         "metadata": "{}",
         "name": "AvgRating",
         "type": "\"string\""
        },
        {
         "metadata": "{}",
         "name": "NumVoters",
         "type": "\"string\""
        },
        {
         "metadata": "{}",
         "name": "currentdate",
         "type": "\"string\""
        }
       ],
       "type": "table"
      }
     },
     "output_type": "display_data"
    }
   ],
   "source": [
    "# convert the data to a Spark SQL table\n",
    "spark.sql('CREATE DATABASE IF NOT EXISTS games')\n",
    " \n",
    "# save ufo sightings data as a table\n",
    "(\n",
    "  clean_BGG\n",
    "    .write\n",
    "    .partitionBy('currentdate')\n",
    "    .format('parquet')\n",
    "    .mode('overwrite')\n",
    "    .option('overwriteSchema','true')\n",
    "    .option('path','/tmp/games')\n",
    "    .saveAsTable('games.board_games')\n",
    "  )\n",
    " \n",
    "# read data from table\n",
    "display(\n",
    "  spark.table('games.board_games')\n",
    "  )"
   ]
  },
  {
   "cell_type": "markdown",
   "metadata": {
    "application/vnd.databricks.v1+cell": {
     "cellMetadata": {},
     "inputWidgets": {},
     "nuid": "8e2a9a36-45b0-4db6-b246-792654347016",
     "showTitle": false,
     "tableResultSettingsMap": {},
     "title": ""
    }
   },
   "source": [
    "Execute the following SQL statements to validate your results:"
   ]
  },
  {
   "cell_type": "code",
   "execution_count": 0,
   "metadata": {
    "application/vnd.databricks.v1+cell": {
     "cellMetadata": {
      "byteLimit": 2048000,
      "implicitDf": true,
      "rowLimit": 10000
     },
     "inputWidgets": {},
     "nuid": "75d6ce3b-5e45-4d30-9c1d-47e18efefa41",
     "showTitle": false,
     "tableResultSettingsMap": {},
     "title": ""
    }
   },
   "outputs": [
    {
     "output_type": "display_data",
     "data": {
      "text/html": [
       "<style scoped>\n",
       "  .table-result-container {\n",
       "    max-height: 300px;\n",
       "    overflow: auto;\n",
       "  }\n",
       "  table, th, td {\n",
       "    border: 1px solid black;\n",
       "    border-collapse: collapse;\n",
       "  }\n",
       "  th, td {\n",
       "    padding: 5px;\n",
       "  }\n",
       "  th {\n",
       "    text-align: left;\n",
       "  }\n",
       "</style><div class='table-result-container'><table class='table-result'><thead style='background-color: white'><tr><th>count(1)</th></tr></thead><tbody><tr><td>100</td></tr></tbody></table></div>"
      ]
     },
     "metadata": {
      "application/vnd.databricks.v1+output": {
       "addedWidgets": {},
       "aggData": [],
       "aggError": "",
       "aggOverflow": false,
       "aggSchema": [],
       "aggSeriesLimitReached": false,
       "aggType": "",
       "arguments": {},
       "columnCustomDisplayInfos": {},
       "data": [
        [
         100
        ]
       ],
       "datasetInfos": [],
       "dbfsResultPath": null,
       "isJsonSchema": true,
       "metadata": {},
       "overflow": false,
       "plotOptions": {
        "customPlotOptions": {},
        "displayType": "table",
        "pivotAggregation": null,
        "pivotColumns": null,
        "xColumns": null,
        "yColumns": null
       },
       "removedWidgets": [],
       "schema": [
        {
         "metadata": "{\"__autoGeneratedAlias\":\"true\"}",
         "name": "count(1)",
         "type": "\"long\""
        }
       ],
       "type": "table"
      }
     },
     "output_type": "display_data"
    }
   ],
   "source": [
    "%sql -- verify row count\n",
    "\n",
    "SELECT COUNT(*) FROM games.board_games;"
   ]
  },
  {
   "cell_type": "code",
   "execution_count": 0,
   "metadata": {
    "application/vnd.databricks.v1+cell": {
     "cellMetadata": {
      "byteLimit": 2048000,
      "implicitDf": true,
      "rowLimit": 10000
     },
     "inputWidgets": {},
     "nuid": "649c161c-7b78-4583-8fbf-a30ebc4957ea",
     "showTitle": false,
     "tableResultSettingsMap": {},
     "title": ""
    }
   },
   "outputs": [
    {
     "output_type": "display_data",
     "data": {
      "text/html": [
       "<style scoped>\n",
       "  .table-result-container {\n",
       "    max-height: 300px;\n",
       "    overflow: auto;\n",
       "  }\n",
       "  table, th, td {\n",
       "    border: 1px solid black;\n",
       "    border-collapse: collapse;\n",
       "  }\n",
       "  th, td {\n",
       "    padding: 5px;\n",
       "  }\n",
       "  th {\n",
       "    text-align: left;\n",
       "  }\n",
       "</style><div class='table-result-container'><table class='table-result'><thead style='background-color: white'><tr><th>Rank</th><th>ImageURL</th><th>Title</th><th>YearPublished</th><th>GeekRating</th><th>AvgRating</th><th>NumVoters</th><th>currentdate</th></tr></thead><tbody><tr><td>1</td><td>https://cf.geekdo-images.com/x3zxjr-Vw5iU4yDPg70Jgw__micro/img/4Od3GYCiqptga0VbmyumPbJlBsU=/fit-in/64x64/filters:strip_icc()/pic3490053.jpg</td><td>Brass: Birmingham</td><td>2018</td><td>8.417</td><td>8.60</td><td>44343</td><td>2024-03-30</td></tr><tr><td>10</td><td>https://cf.geekdo-images.com/7SrPNGBKg9IIsP4UQpOi8g__micro/img/nEvTiCkWpT-ymH4bstc9c335TtQ=/fit-in/64x64/filters:strip_icc()/pic4325841.jpg</td><td>Star Wars: Rebellion</td><td>2016</td><td>8.171</td><td>8.42</td><td>31966</td><td>2024-03-30</td></tr><tr><td>100</td><td>https://cf.geekdo-images.com/36WIe0ZHkp5OvHOlB-8vog__micro/img/7lY7AE0KsFAO2svml1DMpa20-kg=/fit-in/64x64/filters:strip_icc()/pic4356580.jpg</td><td>Concordia Venus</td><td>2018</td><td>7.530</td><td>8.29</td><td>5587</td><td>2024-03-30</td></tr><tr><td>11</td><td>https://cf.geekdo-images.com/kjCm4ZvPjIZxS-mYgSPy1g__micro/img/sRPer5FmBxyV527MY67P-gM7ukg=/fit-in/64x64/filters:strip_icc()/pic7013651.jpg</td><td>Spirit Island</td><td>2017</td><td>8.146</td><td>8.35</td><td>50055</td><td>2024-03-30</td></tr><tr><td>12</td><td>https://cf.geekdo-images.com/hGWFm3hbMlCDsfCsauOQ4g__micro/img/odWj2bEnZi9dEcQQrOtYj1e0QLE=/fit-in/64x64/filters:strip_icc()/pic5375625.png</td><td>Gaia Project</td><td>2017</td><td>8.120</td><td>8.39</td><td>26609</td><td>2024-03-30</td></tr><tr><td>13</td><td>https://cf.geekdo-images.com/pNCiUUphnoeWOYfsWq0kng__micro/img/ZlfJiIATIt5MY7xWSMzFmdygaa0=/fit-in/64x64/filters:strip_icc()/pic3530661.jpg</td><td>Twilight Struggle</td><td>2005</td><td>8.070</td><td>8.25</td><td>48370</td><td>2024-03-30</td></tr><tr><td>14</td><td>https://cf.geekdo-images.com/fVwPntkJKgaEo0rIC0RwpA__micro/img/77dZJpqtydc8TTecl0ReGF7iAVw=/fit-in/64x64/filters:strip_icc()/pic2663291.jpg</td><td>Through the Ages: A New Story of Civilization</td><td>2015</td><td>8.064</td><td>8.30</td><td>31249</td><td>2024-03-30</td></tr><tr><td>15</td><td>https://cf.geekdo-images.com/u1l0gH7sb_vnvDvoO_QHqA__micro/img/xeShpQfbj4L1id-ItJbfIYVzgyA=/fit-in/64x64/filters:strip_icc()/pic4887376.jpg</td><td>Great Western Trail</td><td>2016</td><td>8.035</td><td>8.20</td><td>40417</td><td>2024-03-30</td></tr><tr><td>16</td><td>https://cf.geekdo-images.com/5CFwjd8zTcGYVUnkXh04hw__micro/img/N1VrEUaW6bmwnqbZfi2nRScwGxM=/fit-in/64x64/filters:strip_icc()/pic1176894.jpg</td><td>The Castles of Burgundy</td><td>2011</td><td>8.013</td><td>8.14</td><td>61348</td><td>2024-03-30</td></tr><tr><td>17</td><td>https://cf.geekdo-images.com/7k_nOxpO9OGIjhLq2BUZdA__micro/img/ETplc22GdhlN5u0mppcDxSP8LVk=/fit-in/64x64/filters:strip_icc()/pic3163924.jpg</td><td>Scythe</td><td>2016</td><td>7.997</td><td>8.15</td><td>82141</td><td>2024-03-30</td></tr><tr><td>18</td><td>https://cf.geekdo-images.com/Oh3kHw6lweg6ru71Q16h2Q__micro/img/vhB59zFDq3Kul0xbr3api2selZs=/fit-in/64x64/filters:strip_icc()/pic5235277.jpg</td><td>Eclipse: Second Dawn for the Galaxy</td><td>2020</td><td>7.974</td><td>8.47</td><td>13047</td><td>2024-03-30</td></tr><tr><td>19</td><td>https://cf.geekdo-images.com/zdagMskTF7wJBPjX74XsRw__micro/img/nXtpcw3tYaelntFHb1aH4YrN7Wk=/fit-in/64x64/filters:strip_icc()/pic2576399.jpg</td><td>7 Wonders Duel</td><td>2015</td><td>7.972</td><td>8.10</td><td>92711</td><td>2024-03-30</td></tr><tr><td>2</td><td>https://cf.geekdo-images.com/-Qer2BBPG7qGGDu6KcVDIw__micro/img/n6-sXYD6XXZoqIxq4P6AG7VPCuA=/fit-in/64x64/filters:strip_icc()/pic2452831.png</td><td>Pandemic Legacy: Season 1</td><td>2015</td><td>8.383</td><td>8.53</td><td>52964</td><td>2024-03-30</td></tr><tr><td>20</td><td>https://cf.geekdo-images.com/tHVtPzu82mBpeQbbZkV6EA__micro/img/jM8d5Q5btvJmcWQN_px-A-nlueI=/fit-in/64x64/filters:strip_icc()/pic3469216.jpg</td><td>Brass: Lancashire</td><td>2007</td><td>7.962</td><td>8.19</td><td>24642</td><td>2024-03-30</td></tr><tr><td>21</td><td>https://cf.geekdo-images.com/tAqLpWxQ0Oo3GaPP3MER1g__micro/img/tivhH093LwCowK-_S7bVF_xha34=/fit-in/64x64/filters:strip_icc()/pic5073276.jpg</td><td>Nemesis</td><td>2018</td><td>7.955</td><td>8.27</td><td>29637</td><td>2024-03-30</td></tr><tr><td>22</td><td>https://cf.geekdo-images.com/hc2NDafu5c24iLJh_IZmyg__micro/img/v2WzacDprYF837E6h9O2WuFFmpw=/fit-in/64x64/filters:strip_icc()/pic4885780.png</td><td>Clank! Legacy: Acquisitions Incorporated</td><td>2019</td><td>7.949</td><td>8.55</td><td>9176</td><td>2024-03-30</td></tr><tr><td>23</td><td>https://cf.geekdo-images.com/CzwSm8i7tkLz6cBnrILZBg__micro/img/FQyxREkHBn7yTbGmBg7c44eLgaM=/fit-in/64x64/filters:strip_icc()/pic3453267.jpg</td><td>Concordia</td><td>2013</td><td>7.945</td><td>8.10</td><td>39884</td><td>2024-03-30</td></tr><tr><td>24</td><td>https://cf.geekdo-images.com/s9oGMCo1fcfV4Dk3EnqLZw__micro/img/JCrcuFDrjVQ64uLbqpH-Pmg6XsU=/fit-in/64x64/filters:strip_icc()/pic3146943.png</td><td>A Feast for Odin</td><td>2016</td><td>7.944</td><td>8.17</td><td>27842</td><td>2024-03-30</td></tr><tr><td>25</td><td>https://cf.geekdo-images.com/yLZJCVLlIx4c7eJEWUNJ7w__micro/img/5ZaRePVhfelfofF7T_OC1e0gUCw=/fit-in/64x64/filters:strip_icc()/pic4458123.jpg</td><td>Wingspan</td><td>2019</td><td>7.908</td><td>8.06</td><td>90684</td><td>2024-03-30</td></tr><tr><td>26</td><td>https://cf.geekdo-images.com/bre12I1YiXkZr7elvriz4A__micro/img/SAwaBrDhHbGuq6dFY-ok95qFMcU=/fit-in/64x64/filters:strip_icc()/pic5375624.jpg</td><td>Terra Mystica</td><td>2012</td><td>7.901</td><td>8.07</td><td>47581</td><td>2024-03-30</td></tr><tr><td>27</td><td>https://cf.geekdo-images.com/B5F5ulz0UivNgrI9Ky0euA__micro/img/DnDtwD_7oQR982carXqiVfhOQog=/fit-in/64x64/filters:strip_icc()/pic3122349.jpg</td><td>Arkham Horror: The Card Game</td><td>2016</td><td>7.901</td><td>8.13</td><td>42502</td><td>2024-03-30</td></tr><tr><td>28</td><td>https://cf.geekdo-images.com/6GqH14TJJhza86BX5HCLEQ__micro/img/2FKVaukjh9a-Kg9LWQuMSvLS34s=/fit-in/64x64/filters:strip_icc()/pic5674958.jpg</td><td>Lost Ruins of Arnak</td><td>2020</td><td>7.900</td><td>8.08</td><td>42501</td><td>2024-03-30</td></tr><tr><td>29</td><td>https://cf.geekdo-images.com/gDn7AhrDlmfCLSz9ZqoNFQ__micro/img/eGBh_Csj13hXnODUTB-7dmpq-M0=/fit-in/64x64/filters:strip_icc()/pic5988511.jpg</td><td>Great Western Trail: Second Edition</td><td>2021</td><td>7.893</td><td>8.35</td><td>11894</td><td>2024-03-30</td></tr><tr><td>3</td><td>https://cf.geekdo-images.com/sZYp_3BTDGjh2unaZfZmuA__micro/img/sQyh47ClBO3d5sxPm73hMvM-JV4=/fit-in/64x64/filters:strip_icc()/pic2437871.jpg</td><td>Gloomhaven</td><td>2017</td><td>8.361</td><td>8.60</td><td>61512</td><td>2024-03-30</td></tr><tr><td>30</td><td>https://cf.geekdo-images.com/JUAUWaVUzeBgzirhZNmHHw__micro/img/tdHLiMYfi-KTy89sGBGZVeE9ts0=/fit-in/64x64/filters:strip_icc()/pic4254509.jpg</td><td>Root</td><td>2018</td><td>7.886</td><td>8.07</td><td>49765</td><td>2024-03-30</td></tr><tr><td>31</td><td>https://cf.geekdo-images.com/nagl1li6kYt9elV9jbfVQw__micro/img/hUKCvnqgFvTl0aOMd8FLkgCObT0=/fit-in/64x64/filters:strip_icc()/pic6228507.jpg</td><td>Orléans</td><td>2014</td><td>7.873</td><td>8.06</td><td>30893</td><td>2024-03-30</td></tr><tr><td>32</td><td>https://cf.geekdo-images.com/iEBr5o8AbJi9V9cgQcYROQ__micro/img/n9Ol4YKAhRLuOu4f7OVVXGjlWSQ=/fit-in/64x64/filters:strip_icc()/pic6177719.jpg</td><td>Frosthaven</td><td>2022</td><td>7.862</td><td>8.86</td><td>6545</td><td>2024-03-30</td></tr><tr><td>33</td><td>https://cf.geekdo-images.com/wKwRk0wYBcrtLAfgn4PCdg__micro/img/Q6VXZKoVSlMjTU7Vp8tn1tkcVzw=/fit-in/64x64/filters:strip_icc()/pic6624445.png</td><td>Too Many Bones</td><td>2017</td><td>7.857</td><td>8.35</td><td>12755</td><td>2024-03-30</td></tr><tr><td>34</td><td>https://cf.geekdo-images.com/DUO2hz9AlLOH8p9ED-lCWg__micro/img/eXzdbUmCbIdMIVgiQ_QwS3YNOS4=/fit-in/64x64/filters:strip_icc()/pic1083380.jpg</td><td>Mage Knight Board Game</td><td>2011</td><td>7.856</td><td>8.09</td><td>33046</td><td>2024-03-30</td></tr><tr><td>35</td><td>https://cf.geekdo-images.com/fjE7V5LNq31yVEW_yuqI-Q__micro/img/TAgkPCJdNAIHZfn1BE1DXadBL9g=/fit-in/64x64/filters:strip_icc()/pic3918905.png</td><td>Everdell</td><td>2018</td><td>7.852</td><td>8.03</td><td>52931</td><td>2024-03-30</td></tr><tr><td>36</td><td>https://cf.geekdo-images.com/VuBqZ1sMaDAVVHF_OEJP4g__micro/img/p3GKOrR04nV1qkim9zq-rmFfYh8=/fit-in/64x64/filters:strip_icc()/pic5988903.jpg</td><td>The Crew: Mission Deep Sea</td><td>2021</td><td>7.851</td><td>8.17</td><td>16506</td><td>2024-03-30</td></tr><tr><td>37</td><td>https://cf.geekdo-images.com/jEPmWvvYpqkWrKOzqIHFsg__micro/img/Uwm0ZfmY4ZNWWxlackDXrsmS-Io=/fit-in/64x64/filters:strip_icc()/pic4336469.png</td><td>Barrage</td><td>2019</td><td>7.849</td><td>8.17</td><td>17175</td><td>2024-03-30</td></tr><tr><td>38</td><td>https://cf.geekdo-images.com/l_PRU2lVlX9seScRFcvFlA__micro/img/3EqHlTkNSnZNFHVaAeFSpzfzuIQ=/fit-in/64x64/filters:strip_icc()/pic6500949.jpg</td><td>Viticulture Essential Edition</td><td>2015</td><td>7.844</td><td>7.99</td><td>47848</td><td>2024-03-30</td></tr><tr><td>39</td><td>https://cf.geekdo-images.com/Wtxml94LAXsIWQCxGPS63Q__micro/img/4Oucoa190njfSaNHr8YRIl6UnTU=/fit-in/64x64/filters:strip_icc()/pic2649434.png</td><td>Food Chain Magnate</td><td>2015</td><td>7.805</td><td>8.07</td><td>20093</td><td>2024-03-30</td></tr><tr><td>4</td><td>https://cf.geekdo-images.com/SoU8p28Sk1s8MSvoM4N8pQ__micro/img/LSAi1pmhbTbWwtBrziutDOXzfdY=/fit-in/64x64/filters:strip_icc()/pic6293412.jpg</td><td>Ark Nova</td><td>2021</td><td>8.333</td><td>8.54</td><td>41305</td><td>2024-03-30</td></tr><tr><td>40</td><td>https://cf.geekdo-images.com/kRvUgYiaOq07kC67ZK5UoQ__micro/img/4DLQr45lpVBfCkiy-kVwhl4z4vQ=/fit-in/64x64/filters:strip_icc()/pic4900321.jpg</td><td>Marvel Champions: The Card Game</td><td>2019</td><td>7.799</td><td>8.13</td><td>23052</td><td>2024-03-30</td></tr><tr><td>41</td><td>https://cf.geekdo-images.com/oSM_AuKYfGIwOtKbVEsoVg__micro/img/SKUliR88eoltB2ytmwz3BffW7aA=/fit-in/64x64/filters:strip_icc()/pic4503733.png</td><td>Pax Pamir: Second Edition</td><td>2019</td><td>7.795</td><td>8.20</td><td>13546</td><td>2024-03-30</td></tr><tr><td>42</td><td>https://cf.geekdo-images.com/PwOwTVHovJAUQgghnGqCOg__micro/img/9ftDcGDumAWKm_3hmu6JUwjb1aU=/fit-in/64x64/filters:strip_icc()/pic4837710.png</td><td>Underwater Cities</td><td>2018</td><td>7.788</td><td>8.07</td><td>19131</td><td>2024-03-30</td></tr><tr><td>43</td><td>https://cf.geekdo-images.com/-vOrd4bOspibyohYExLqWg__micro/img/bcHg_0mMkgMaBp9Sz1gxJtHtaHw=/fit-in/64x64/filters:strip_icc()/pic6940449.png</td><td>Heat: Pedal to the Metal</td><td>2022</td><td>7.784</td><td>8.09</td><td>19978</td><td>2024-03-30</td></tr><tr><td>44</td><td>https://cf.geekdo-images.com/QFiIRd2kimaMqTyWsX0aUg__micro/img/ggNIAA1GEadqvcY7Mvwb9_VEybU=/fit-in/64x64/filters:strip_icc()/pic158548.jpg</td><td>Puerto Rico</td><td>2002</td><td>7.781</td><td>7.92</td><td>70579</td><td>2024-03-30</td></tr><tr><td>45</td><td>https://cf.geekdo-images.com/MjeJZfulbsM1DSV3DrGJYA__micro/img/x2BDobiHVhQHl7LhBimeU8L1ko4=/fit-in/64x64/filters:strip_icc()/pic5100691.jpg</td><td>Cascadia</td><td>2021</td><td>7.773</td><td>7.96</td><td>36354</td><td>2024-03-30</td></tr><tr><td>46</td><td>https://cf.geekdo-images.com/rz22tqa5PCYvK9oDjIbvxg__micro/img/sog7ni3vUAAfvd66e6XW4iOca4I=/fit-in/64x64/filters:strip_icc()/pic1790789.jpg</td><td>Caverna: The Cave Farmers</td><td>2013</td><td>7.768</td><td>7.95</td><td>34498</td><td>2024-03-30</td></tr><tr><td>47</td><td>https://cf.geekdo-images.com/7ejbxsn-UtLl3ehamuAEdw__micro/img/5UygdMxz3N_dTCkGlwVlgJXK_vg=/fit-in/64x64/filters:strip_icc()/pic79413.jpg</td><td>Crokinole</td><td>1876</td><td>7.762</td><td>8.03</td><td>17646</td><td>2024-03-30</td></tr><tr><td>48</td><td>https://cf.geekdo-images.com/HkZSJfQnZ3EpS214xtuplg__micro/img/7xdR1_OUo1ReAvYzhi7jBhFMHu0=/fit-in/64x64/filters:strip_icc()/pic2439223.jpg</td><td>Blood Rage</td><td>2015</td><td>7.762</td><td>7.93</td><td>46468</td><td>2024-03-30</td></tr><tr><td>49</td><td>https://cf.geekdo-images.com/31quLNzteInnevVRAABoow__micro/img/CMEokoPk9cBV5A82_eBwjDJPMfE=/fit-in/64x64/filters:strip_icc()/pic3499707.jpg</td><td>Anachrony</td><td>2017</td><td>7.759</td><td>8.08</td><td>18248</td><td>2024-03-30</td></tr><tr><td>5</td><td>https://cf.geekdo-images.com/_Ppn5lssO5OaildSE-FgFA__micro/img/2gymaKs35_2yj7eyyA6cYyVmd9c=/fit-in/64x64/filters:strip_icc()/pic3727516.jpg</td><td>Twilight Imperium: Fourth Edition</td><td>2017</td><td>8.243</td><td>8.60</td><td>23240</td><td>2024-03-30</td></tr><tr><td>50</td><td>https://cf.geekdo-images.com/Nm0Iw8NoiM9V8IsifimGBw__micro/img/HQNReYu8QkZqD4dbZeWg3cQrkv0=/fit-in/64x64/filters:strip_icc()/pic4357658.jpg</td><td>On Mars</td><td>2020</td><td>7.756</td><td>8.20</td><td>12294</td><td>2024-03-30</td></tr><tr><td>51</td><td>https://cf.geekdo-images.com/dDDo2Hexl80ucK1IlqTk-g__micro/img/SZgGqufNqaW8BCFT29wkYPaRXOE=/fit-in/64x64/filters:strip_icc()/pic831744.jpg</td><td>Agricola</td><td>2007</td><td>7.753</td><td>7.88</td><td>72285</td><td>2024-03-30</td></tr><tr><td>52</td><td>https://cf.geekdo-images.com/L2Wn-zUqkcHgqvwvY212Ig__micro/img/2pY9Wo185ehuYO7Mb0gTDpdww74=/fit-in/64x64/filters:strip_icc()/pic4924232.jpg</td><td>Kanban EV</td><td>2020</td><td>7.752</td><td>8.43</td><td>7305</td><td>2024-03-30</td></tr><tr><td>53</td><td>https://cf.geekdo-images.com/y0x1zbkpUXjddzWWnhekYw__micro/img/oUW7QBHTiMOcpt5FgNXd_Uy2LfM=/fit-in/64x64/filters:strip_icc()/pic5581457.jpg</td><td>Pandemic Legacy: Season 0</td><td>2020</td><td>7.750</td><td>8.41</td><td>7410</td><td>2024-03-30</td></tr><tr><td>54</td><td>https://cf.geekdo-images.com/Zdt8l4oTBpFICsMyNof7Jg__micro/img/xnXopdLVlL31M169AjW8ofHRe5Q=/fit-in/64x64/filters:strip_icc()/pic5975244.png</td><td>Sleeping Gods</td><td>2021</td><td>7.748</td><td>8.24</td><td>11415</td><td>2024-03-30</td></tr><tr><td>55</td><td>https://cf.geekdo-images.com/Qtkb-UTvHa0-kxt_MK1nKw__micro/img/eYV_Y45Hk66WceHroLlRqnHEHmg=/fit-in/64x64/filters:strip_icc()/pic3763549.jpg</td><td>Pandemic Legacy: Season 2</td><td>2017</td><td>7.727</td><td>8.04</td><td>16703</td><td>2024-03-30</td></tr><tr><td>56</td><td>https://cf.geekdo-images.com/LIooA9bTdjnE9qmhjL-UFw__micro/img/rsUu4YzIErI1oi6TRRA-cKiS-I0=/fit-in/64x64/filters:strip_icc()/pic3118622.jpg</td><td>Mansions of Madness: Second Edition</td><td>2016</td><td>7.718</td><td>7.95</td><td>35855</td><td>2024-03-30</td></tr><tr><td>57</td><td>https://cf.geekdo-images.com/OrHS8_a1CqSGiXeTfCk0Wg__micro/img/rpfZR0COMOP41SI2EZPrSrX_LL8=/fit-in/64x64/filters:strip_icc()/pic3209553.jpg</td><td>Lisboa</td><td>2017</td><td>7.718</td><td>8.19</td><td>10853</td><td>2024-03-30</td></tr><tr><td>58</td><td>https://cf.geekdo-images.com/rMNa0k05zMdKgSEp26Q3Tw__micro/img/rDI-yCgwVbB_szRjUWOY8IKIdUk=/fit-in/64x64/filters:strip_icc()/pic4917407.jpg</td><td>Maracaibo</td><td>2019</td><td>7.711</td><td>8.04</td><td>15842</td><td>2024-03-30</td></tr><tr><td>59</td><td>https://cf.geekdo-images.com/kXf7mDyDYuHg6oe8yTUIEA__micro/img/3EqJtoxAlTb2pJWxmA7TUu4HWNI=/fit-in/64x64/filters:strip_icc()/pic4604439.jpg</td><td>Tzolk'in: The Mayan Calendar</td><td>2012</td><td>7.706</td><td>7.86</td><td>38896</td><td>2024-03-30</td></tr><tr><td>6</td><td>https://cf.geekdo-images.com/PhjygpWSo-0labGrPBMyyg__micro/img/mfU7-dEFnVyXJrF-BWAO0buexao=/fit-in/64x64/filters:strip_icc()/pic5666597.jpg</td><td>Dune: Imperium</td><td>2020</td><td>8.225</td><td>8.43</td><td>43405</td><td>2024-03-30</td></tr><tr><td>60</td><td>https://cf.geekdo-images.com/yd6LuatytHRhcFCxCf-EEg__micro/img/ZUrGKfXAZS4AztFRXq2W9oD6TG4=/fit-in/64x64/filters:strip_icc()/pic4459753.jpg</td><td>Power Grid</td><td>2004</td><td>7.704</td><td>7.81</td><td>64917</td><td>2024-03-30</td></tr><tr><td>61</td><td>https://cf.geekdo-images.com/e8D09pfFsUsoX1D81EeoZg__micro/img/g4fUW30OaTTN48VW7tdVOIAEvWQ=/fit-in/64x64/filters:strip_icc()/pic4705171.jpg</td><td>Cthulhu: Death May Die</td><td>2019</td><td>7.700</td><td>8.19</td><td>11881</td><td>2024-03-30</td></tr><tr><td>62</td><td>https://cf.geekdo-images.com/sy89BiuZXfbSnG7Cag9tBQ__micro/img/0VYxwvacU7ADCGyJt5iLMa5WQoA=/fit-in/64x64/filters:strip_icc()/pic5902073.png</td><td>Obsession</td><td>2018</td><td>7.689</td><td>8.16</td><td>11512</td><td>2024-03-30</td></tr><tr><td>63</td><td>https://cf.geekdo-images.com/pH5LgRL4mNRon-2NsSDb1Q__micro/img/pAWwGfiqFpn-kkzUKexMTZOvoA4=/fit-in/64x64/filters:strip_icc()/pic6137509.png</td><td>The Quacks of Quedlinburg</td><td>2018</td><td>7.687</td><td>7.83</td><td>48403</td><td>2024-03-30</td></tr><tr><td>64</td><td>https://cf.geekdo-images.com/SPuwc6RJ6y4PnTH36Pegsg__micro/img/wWI0kOjt4L4TOOV_Dn2BLthq5QQ=/fit-in/64x64/filters:strip_icc()/pic3511783.png</td><td>Clans of Caledonia</td><td>2017</td><td>7.685</td><td>7.95</td><td>20164</td><td>2024-03-30</td></tr><tr><td>65</td><td>https://cf.geekdo-images.com/GlCmHjdLwv3SqSjv52ToGw__micro/img/egqhEcYTqBsaT7AeNBe2LdUcGZs=/fit-in/64x64/filters:strip_icc()/pic6966955.jpg</td><td>Grand Austria Hotel</td><td>2015</td><td>7.684</td><td>7.94</td><td>20416</td><td>2024-03-30</td></tr><tr><td>66</td><td>https://cf.geekdo-images.com/y7Rqd3S6J7vyVhicR1bqTQ__micro/img/c1qPt4uwG4qhjxmrgtIuKulwQkI=/fit-in/64x64/filters:strip_icc()/pic6091101.jpg</td><td>Le Havre</td><td>2008</td><td>7.683</td><td>7.85</td><td>31366</td><td>2024-03-30</td></tr><tr><td>67</td><td>https://cf.geekdo-images.com/4nhokcLdYoo6ulbZ1rmGgA__micro/img/WMzScSxJICvIyErl47KBVoskhnQ=/fit-in/64x64/filters:strip_icc()/pic4462987.png</td><td>Paladins of the West Kingdom</td><td>2019</td><td>7.680</td><td>7.99</td><td>17439</td><td>2024-03-30</td></tr><tr><td>68</td><td>https://cf.geekdo-images.com/pIQ_MXvaoARRp1loCHJuHg__micro/img/i2soAnlvaDCzWksrpO2By4-GgGA=/fit-in/64x64/filters:strip_icc()/pic2247647.jpg</td><td>Star Wars: Imperial Assault</td><td>2014</td><td>7.676</td><td>7.97</td><td>24468</td><td>2024-03-30</td></tr><tr><td>69</td><td>https://cf.geekdo-images.com/ie1GSt1XV04sXQXt-3O1UQ__micro/img/Zxap2me5W8VgLK_VNU_lY5vLnbA=/fit-in/64x64/filters:strip_icc()/pic2503200.png</td><td>The Gallerist</td><td>2015</td><td>7.676</td><td>8.02</td><td>14326</td><td>2024-03-30</td></tr><tr><td>7</td><td>https://cf.geekdo-images.com/wg9oOLcsKvDesSUdZQ4rxw__micro/img/LUkXZhd1TO80eCiXMD3-KfnzA6k=/fit-in/64x64/filters:strip_icc()/pic3536616.jpg</td><td>Terraforming Mars</td><td>2016</td><td>8.216</td><td>8.36</td><td>97186</td><td>2024-03-30</td></tr><tr><td>70</td><td>https://cf.geekdo-images.com/98LnQShydr11OBKS46xY-Q__micro/img/bIVTqYzQ5wDuCSmcQvpNokXZOUo=/fit-in/64x64/filters:strip_icc()/pic5687013.jpg</td><td>The Crew: The Quest for Planet Nine</td><td>2019</td><td>7.668</td><td>7.81</td><td>40759</td><td>2024-03-30</td></tr><tr><td>71</td><td>https://cf.geekdo-images.com/n4J5LebMj0DQD016qW7ABw__micro/img/n4vvAq2JZvjf0yS_Mugr79dqM90=/fit-in/64x64/filters:strip_icc()/pic3184103.jpg</td><td>Mechs vs. Minions</td><td>2016</td><td>7.665</td><td>7.97</td><td>17310</td><td>2024-03-30</td></tr><tr><td>72</td><td>https://cf.geekdo-images.com/2ewHIIG_TRq8bYlqk0jIMw__micro/img/U5irACQ5P-7X9XyeDWj71ai-Ruw=/fit-in/64x64/filters:strip_icc()/pic3738560.jpg</td><td>Android: Netrunner</td><td>2012</td><td>7.659</td><td>7.88</td><td>29952</td><td>2024-03-30</td></tr><tr><td>73</td><td>https://cf.geekdo-images.com/LenzJBOHboAGU0cUIqAZPQ__micro/img/6YI32BDhyuO9JZrofc1CPbuFlVY=/fit-in/64x64/filters:strip_icc()/pic2931007.jpg</td><td>Kingdom Death: Monster</td><td>2015</td><td>7.656</td><td>8.50</td><td>9542</td><td>2024-03-30</td></tr><tr><td>74</td><td>https://cf.geekdo-images.com/aPSHJO0d0XOpQR5X-wJonw__micro/img/3M2bj5ZXqAskTOvLTXRuHOH-Y44=/fit-in/64x64/filters:strip_icc()/pic6973671.png</td><td>Azul</td><td>2017</td><td>7.643</td><td>7.75</td><td>88368</td><td>2024-03-30</td></tr><tr><td>75</td><td>https://cf.geekdo-images.com/YCGWJMFwOI5efji2RJ2mSw__micro/img/GQNkMukGtKD2cVOgpUk4ZSmpUfA=/fit-in/64x64/filters:strip_icc()/pic8093340.jpg</td><td>Agricola </td><td>2016</td><td>7.640</td><td>7.96</td><td>17401</td><td>2024-03-30</td></tr><tr><td>76</td><td>https://cf.geekdo-images.com/-DOqixs8uwKUvvWPKI4f9w__micro/img/Fz_qRw_ZHI9TfZXY0b4YZ6zfT7o=/fit-in/64x64/filters:strip_icc()/pic5261714.jpg</td><td>Race for the Galaxy</td><td>2007</td><td>7.631</td><td>7.74</td><td>55077</td><td>2024-03-30</td></tr><tr><td>77</td><td>https://cf.geekdo-images.com/dmo-WD6HZHVUPrbVHunaTw__micro/img/fxKL3MvU00YeEkfeLNdQGUl5rxA=/fit-in/64x64/filters:strip_icc()/pic2055255.jpg</td><td>Five Tribes: The Djinns of Naqala</td><td>2014</td><td>7.625</td><td>7.78</td><td>41047</td><td>2024-03-30</td></tr><tr><td>78</td><td>https://cf.geekdo-images.com/cnFppsVNOSTJ-W3APQFuTg__micro/img/dfQTNAju5CUxn6JQl-Pxubac99o=/fit-in/64x64/filters:strip_icc()/pic1974056.jpg</td><td>Eclipse: New Dawn for the Galaxy</td><td>2011</td><td>7.622</td><td>7.83</td><td>28282</td><td>2024-03-30</td></tr><tr><td>79</td><td>https://cf.geekdo-images.com/dezQ4YjF03lZVxTdI-UJYw__micro/img/7bEpYVStLA2qmeKUIweHTGziwSU=/fit-in/64x64/filters:strip_icc()/pic6863204.jpg</td><td>Oathsworn: Into the Deepwood</td><td>2022</td><td>7.622</td><td>9.02</td><td>4351</td><td>2024-03-30</td></tr><tr><td>8</td><td>https://cf.geekdo-images.com/ImPgGag98W6gpV1KV812aA__micro/img/NT-Av_3kdYUcwuti5ocmIQXow3g=/fit-in/64x64/filters:strip_icc()/pic1215633.jpg</td><td>War of the Ring: Second Edition</td><td>2011</td><td>8.180</td><td>8.54</td><td>20909</td><td>2024-03-30</td></tr><tr><td>80</td><td>https://cf.geekdo-images.com/DPjV1iI0ygo5Bl3XLNRiIg__micro/img/5hO7ln_bquTyy4Q__ksB4NT1gMs=/fit-in/64x64/filters:strip_icc()/pic4449526.jpg</td><td>Clank!: A Deck-Building Adventure</td><td>2016</td><td>7.620</td><td>7.78</td><td>41679</td><td>2024-03-30</td></tr><tr><td>81</td><td>https://cf.geekdo-images.com/d50LceHj6LIafa4S_qIsCg__micro/img/0El7f9TAr9UfvKlcsXYrBe8jEOc=/fit-in/64x64/filters:strip_icc()/pic3189350.jpg</td><td>Aeon's End</td><td>2016</td><td>7.618</td><td>7.91</td><td>20187</td><td>2024-03-30</td></tr><tr><td>82</td><td>https://cf.geekdo-images.com/0w8go6cfvlpgJKydHUkDtA__micro/img/9JEU9pIfwl2wUIE3fmCmjjH_iiM=/fit-in/64x64/filters:strip_icc()/pic2225968.png</td><td>Fields of Arle</td><td>2014</td><td>7.606</td><td>8.03</td><td>10834</td><td>2024-03-30</td></tr><tr><td>83</td><td>https://cf.geekdo-images.com/BfEHqHQAvZLbRX7y7e9TWg__micro/img/RgHc2PFvpz3xxRPRg5v7d46JQNc=/fit-in/64x64/filters:strip_icc()/pic5617866.jpg</td><td>Beyond the Sun</td><td>2020</td><td>7.602</td><td>7.94</td><td>13998</td><td>2024-03-30</td></tr><tr><td>84</td><td>https://cf.geekdo-images.com/wW5xjgBJcFyLaEWZwrYuKA__micro/img/kXVTBtcGC-5L706WFNJLAuZTovQ=/fit-in/64x64/filters:strip_icc()/pic4583626.jpg</td><td>Teotihuacan: City of Gods</td><td>2018</td><td>7.600</td><td>7.87</td><td>19623</td><td>2024-03-30</td></tr><tr><td>85</td><td>https://cf.geekdo-images.com/3piN3YX4WmBRuIvbEG2Ygg__micro/img/xy_566fY112BYtYJjT29cfAcHsk=/fit-in/64x64/filters:strip_icc()/pic236169.jpg</td><td>Through the Ages: A Story of Civilization</td><td>2006</td><td>7.599</td><td>7.85</td><td>19300</td><td>2024-03-30</td></tr><tr><td>86</td><td>https://cf.geekdo-images.com/-hk8f8iGk_DyWyMrfiPBkg__micro/img/tWSg9ErrwvVcwaE1Kze1IsxwpGg=/fit-in/64x64/filters:strip_icc()/pic1116080.jpg</td><td>Lords of Waterdeep</td><td>2012</td><td>7.594</td><td>7.74</td><td>55100</td><td>2024-03-30</td></tr><tr><td>87</td><td>https://cf.geekdo-images.com/DCLgJlrvB-EqL6A3WgQLMQ__micro/img/j_LPta_lgRrN8Rrs9Rxt_d3Hysc=/fit-in/64x64/filters:strip_icc()/pic5715770.jpg</td><td>Hegemony: Lead Your Class to Victory</td><td>2023</td><td>7.586</td><td>8.53</td><td>5349</td><td>2024-03-30</td></tr><tr><td>88</td><td>https://cf.geekdo-images.com/oeygRZntjNUJWvc8SxDfww__micro/img/gXi23Nbfem6XTfRlV2eHEHB_cHY=/fit-in/64x64/filters:strip_icc()/pic784193.jpg</td><td>Dominant Species</td><td>2010</td><td>7.583</td><td>7.82</td><td>21049</td><td>2024-03-30</td></tr><tr><td>89</td><td>https://cf.geekdo-images.com/n1G7_aWToLAAB7Mqt8iwyA__micro/img/c8Ld-3E8S0devFlugLvyiAEESbY=/fit-in/64x64/filters:strip_icc()/pic2461346.png</td><td>The Voyages of Marco Polo</td><td>2015</td><td>7.581</td><td>7.79</td><td>24679</td><td>2024-03-30</td></tr><tr><td>9</td><td>https://cf.geekdo-images.com/_HhIdavYW-hid20Iq3hhmg__micro/img/OdKjWiFsNvQAfJfXXSITttiozWE=/fit-in/64x64/filters:strip_icc()/pic5055631.jpg</td><td>Gloomhaven: Jaws of the Lion</td><td>2020</td><td>8.174</td><td>8.45</td><td>33323</td><td>2024-03-30</td></tr><tr><td>90</td><td>https://cf.geekdo-images.com/FbFnaTx3aT5dM18K_bR_Pg__micro/img/brcsM5-72GgeBDQg3CSI6VB1Dqo=/fit-in/64x64/filters:strip_icc()/pic3165731.jpg</td><td>Robinson Crusoe: Adventures on the Cursed Island</td><td>2012</td><td>7.579</td><td>7.75</td><td>42997</td><td>2024-03-30</td></tr><tr><td>91</td><td>https://cf.geekdo-images.com/35h9Za_JvMMMtx_92kT0Jg__micro/img/4BRnGQ-EoU-2LNirfZpUC3HRReU=/fit-in/64x64/filters:strip_icc()/pic7149798.jpg</td><td>7 Wonders</td><td>2010</td><td>7.578</td><td>7.69</td><td>103590</td><td>2024-03-30</td></tr><tr><td>92</td><td>https://cf.geekdo-images.com/RRKDHaYtFPHhczkUDcHOmg__micro/img/_hnYEtmQrfIco_6UTFRLZdhWMnQ=/fit-in/64x64/filters:strip_icc()/pic7906240.jpg</td><td>El Grande</td><td>1995</td><td>7.570</td><td>7.75</td><td>28305</td><td>2024-03-30</td></tr><tr><td>93</td><td>https://cf.geekdo-images.com/NItjtztEUAKOpaTWZddu9A__micro/img/m4I9uS6LBjNz02oNquEkBM-L464=/fit-in/64x64/filters:strip_icc()/pic5744928.jpg</td><td>The Search for Planet X</td><td>2020</td><td>7.568</td><td>7.97</td><td>11688</td><td>2024-03-30</td></tr><tr><td>94</td><td>https://cf.geekdo-images.com/aAwBzPzta4joKfFZt05hCw__micro/img/28sp86TqPbMqn9M_qHWfS9j44-w=/fit-in/64x64/filters:strip_icc()/pic4385726.jpg</td><td>Tainted Grail: The Fall of Avalon</td><td>2019</td><td>7.549</td><td>8.09</td><td>12149</td><td>2024-03-30</td></tr><tr><td>95</td><td>https://cf.geekdo-images.com/5Q2w2rFJiFI_uV89KP6ECg__micro/img/KGgAsbHUPaEjsl-r05JCH2ixP1o=/fit-in/64x64/filters:strip_icc()/pic354500.jpg</td><td>Battlestar Galactica: The Board Game</td><td>2008</td><td>7.542</td><td>7.73</td><td>36353</td><td>2024-03-30</td></tr><tr><td>96</td><td>https://cf.geekdo-images.com/OAX7HfOz-9N60StgADzd0g__micro/img/5OEOXKjvrEMh2aT5I-FrAn5-9jo=/fit-in/64x64/filters:strip_icc()/pic3781944.png</td><td>Architects of the West Kingdom</td><td>2018</td><td>7.542</td><td>7.74</td><td>28573</td><td>2024-03-30</td></tr><tr><td>97</td><td>https://cf.geekdo-images.com/hHZWXnUTMYDd_KTAM6Jwlw__micro/img/g7DQGNNf6ZFwYDGpe9kT3e4KELY=/fit-in/64x64/filters:strip_icc()/pic3759421.jpg</td><td>Decrypto</td><td>2018</td><td>7.541</td><td>7.77</td><td>21956</td><td>2024-03-30</td></tr><tr><td>98</td><td>https://cf.geekdo-images.com/6QE8mnPFmauoj2THsyUYPA__micro/img/KzK9JEEodDn0EyHA8rJy2X0cyYA=/fit-in/64x64/filters:strip_icc()/pic4739757.jpg</td><td>Inis</td><td>2016</td><td>7.539</td><td>7.83</td><td>19814</td><td>2024-03-30</td></tr><tr><td>99</td><td>https://cf.geekdo-images.com/9gob752VqEklQFV_gz16hw__micro/img/kYOLnVbUwnKjA37DqEe9HECvqI0=/fit-in/64x64/filters:strip_icc()/pic2585510.png</td><td>Trickerion: Legends of Illusion</td><td>2015</td><td>7.533</td><td>7.97</td><td>10684</td><td>2024-03-30</td></tr></tbody></table></div>"
      ]
     },
     "metadata": {
      "application/vnd.databricks.v1+output": {
       "addedWidgets": {},
       "aggData": [],
       "aggError": "",
       "aggOverflow": false,
       "aggSchema": [],
       "aggSeriesLimitReached": false,
       "aggType": "",
       "arguments": {},
       "columnCustomDisplayInfos": {},
       "data": [
        [
         "1",
         "https://cf.geekdo-images.com/x3zxjr-Vw5iU4yDPg70Jgw__micro/img/4Od3GYCiqptga0VbmyumPbJlBsU=/fit-in/64x64/filters:strip_icc()/pic3490053.jpg",
         "Brass: Birmingham",
         "2018",
         "8.417",
         "8.60",
         "44343",
         "2024-03-30"
        ],
        [
         "10",
         "https://cf.geekdo-images.com/7SrPNGBKg9IIsP4UQpOi8g__micro/img/nEvTiCkWpT-ymH4bstc9c335TtQ=/fit-in/64x64/filters:strip_icc()/pic4325841.jpg",
         "Star Wars: Rebellion",
         "2016",
         "8.171",
         "8.42",
         "31966",
         "2024-03-30"
        ],
        [
         "100",
         "https://cf.geekdo-images.com/36WIe0ZHkp5OvHOlB-8vog__micro/img/7lY7AE0KsFAO2svml1DMpa20-kg=/fit-in/64x64/filters:strip_icc()/pic4356580.jpg",
         "Concordia Venus",
         "2018",
         "7.530",
         "8.29",
         "5587",
         "2024-03-30"
        ],
        [
         "11",
         "https://cf.geekdo-images.com/kjCm4ZvPjIZxS-mYgSPy1g__micro/img/sRPer5FmBxyV527MY67P-gM7ukg=/fit-in/64x64/filters:strip_icc()/pic7013651.jpg",
         "Spirit Island",
         "2017",
         "8.146",
         "8.35",
         "50055",
         "2024-03-30"
        ],
        [
         "12",
         "https://cf.geekdo-images.com/hGWFm3hbMlCDsfCsauOQ4g__micro/img/odWj2bEnZi9dEcQQrOtYj1e0QLE=/fit-in/64x64/filters:strip_icc()/pic5375625.png",
         "Gaia Project",
         "2017",
         "8.120",
         "8.39",
         "26609",
         "2024-03-30"
        ],
        [
         "13",
         "https://cf.geekdo-images.com/pNCiUUphnoeWOYfsWq0kng__micro/img/ZlfJiIATIt5MY7xWSMzFmdygaa0=/fit-in/64x64/filters:strip_icc()/pic3530661.jpg",
         "Twilight Struggle",
         "2005",
         "8.070",
         "8.25",
         "48370",
         "2024-03-30"
        ],
        [
         "14",
         "https://cf.geekdo-images.com/fVwPntkJKgaEo0rIC0RwpA__micro/img/77dZJpqtydc8TTecl0ReGF7iAVw=/fit-in/64x64/filters:strip_icc()/pic2663291.jpg",
         "Through the Ages: A New Story of Civilization",
         "2015",
         "8.064",
         "8.30",
         "31249",
         "2024-03-30"
        ],
        [
         "15",
         "https://cf.geekdo-images.com/u1l0gH7sb_vnvDvoO_QHqA__micro/img/xeShpQfbj4L1id-ItJbfIYVzgyA=/fit-in/64x64/filters:strip_icc()/pic4887376.jpg",
         "Great Western Trail",
         "2016",
         "8.035",
         "8.20",
         "40417",
         "2024-03-30"
        ],
        [
         "16",
         "https://cf.geekdo-images.com/5CFwjd8zTcGYVUnkXh04hw__micro/img/N1VrEUaW6bmwnqbZfi2nRScwGxM=/fit-in/64x64/filters:strip_icc()/pic1176894.jpg",
         "The Castles of Burgundy",
         "2011",
         "8.013",
         "8.14",
         "61348",
         "2024-03-30"
        ],
        [
         "17",
         "https://cf.geekdo-images.com/7k_nOxpO9OGIjhLq2BUZdA__micro/img/ETplc22GdhlN5u0mppcDxSP8LVk=/fit-in/64x64/filters:strip_icc()/pic3163924.jpg",
         "Scythe",
         "2016",
         "7.997",
         "8.15",
         "82141",
         "2024-03-30"
        ],
        [
         "18",
         "https://cf.geekdo-images.com/Oh3kHw6lweg6ru71Q16h2Q__micro/img/vhB59zFDq3Kul0xbr3api2selZs=/fit-in/64x64/filters:strip_icc()/pic5235277.jpg",
         "Eclipse: Second Dawn for the Galaxy",
         "2020",
         "7.974",
         "8.47",
         "13047",
         "2024-03-30"
        ],
        [
         "19",
         "https://cf.geekdo-images.com/zdagMskTF7wJBPjX74XsRw__micro/img/nXtpcw3tYaelntFHb1aH4YrN7Wk=/fit-in/64x64/filters:strip_icc()/pic2576399.jpg",
         "7 Wonders Duel",
         "2015",
         "7.972",
         "8.10",
         "92711",
         "2024-03-30"
        ],
        [
         "2",
         "https://cf.geekdo-images.com/-Qer2BBPG7qGGDu6KcVDIw__micro/img/n6-sXYD6XXZoqIxq4P6AG7VPCuA=/fit-in/64x64/filters:strip_icc()/pic2452831.png",
         "Pandemic Legacy: Season 1",
         "2015",
         "8.383",
         "8.53",
         "52964",
         "2024-03-30"
        ],
        [
         "20",
         "https://cf.geekdo-images.com/tHVtPzu82mBpeQbbZkV6EA__micro/img/jM8d5Q5btvJmcWQN_px-A-nlueI=/fit-in/64x64/filters:strip_icc()/pic3469216.jpg",
         "Brass: Lancashire",
         "2007",
         "7.962",
         "8.19",
         "24642",
         "2024-03-30"
        ],
        [
         "21",
         "https://cf.geekdo-images.com/tAqLpWxQ0Oo3GaPP3MER1g__micro/img/tivhH093LwCowK-_S7bVF_xha34=/fit-in/64x64/filters:strip_icc()/pic5073276.jpg",
         "Nemesis",
         "2018",
         "7.955",
         "8.27",
         "29637",
         "2024-03-30"
        ],
        [
         "22",
         "https://cf.geekdo-images.com/hc2NDafu5c24iLJh_IZmyg__micro/img/v2WzacDprYF837E6h9O2WuFFmpw=/fit-in/64x64/filters:strip_icc()/pic4885780.png",
         "Clank! Legacy: Acquisitions Incorporated",
         "2019",
         "7.949",
         "8.55",
         "9176",
         "2024-03-30"
        ],
        [
         "23",
         "https://cf.geekdo-images.com/CzwSm8i7tkLz6cBnrILZBg__micro/img/FQyxREkHBn7yTbGmBg7c44eLgaM=/fit-in/64x64/filters:strip_icc()/pic3453267.jpg",
         "Concordia",
         "2013",
         "7.945",
         "8.10",
         "39884",
         "2024-03-30"
        ],
        [
         "24",
         "https://cf.geekdo-images.com/s9oGMCo1fcfV4Dk3EnqLZw__micro/img/JCrcuFDrjVQ64uLbqpH-Pmg6XsU=/fit-in/64x64/filters:strip_icc()/pic3146943.png",
         "A Feast for Odin",
         "2016",
         "7.944",
         "8.17",
         "27842",
         "2024-03-30"
        ],
        [
         "25",
         "https://cf.geekdo-images.com/yLZJCVLlIx4c7eJEWUNJ7w__micro/img/5ZaRePVhfelfofF7T_OC1e0gUCw=/fit-in/64x64/filters:strip_icc()/pic4458123.jpg",
         "Wingspan",
         "2019",
         "7.908",
         "8.06",
         "90684",
         "2024-03-30"
        ],
        [
         "26",
         "https://cf.geekdo-images.com/bre12I1YiXkZr7elvriz4A__micro/img/SAwaBrDhHbGuq6dFY-ok95qFMcU=/fit-in/64x64/filters:strip_icc()/pic5375624.jpg",
         "Terra Mystica",
         "2012",
         "7.901",
         "8.07",
         "47581",
         "2024-03-30"
        ],
        [
         "27",
         "https://cf.geekdo-images.com/B5F5ulz0UivNgrI9Ky0euA__micro/img/DnDtwD_7oQR982carXqiVfhOQog=/fit-in/64x64/filters:strip_icc()/pic3122349.jpg",
         "Arkham Horror: The Card Game",
         "2016",
         "7.901",
         "8.13",
         "42502",
         "2024-03-30"
        ],
        [
         "28",
         "https://cf.geekdo-images.com/6GqH14TJJhza86BX5HCLEQ__micro/img/2FKVaukjh9a-Kg9LWQuMSvLS34s=/fit-in/64x64/filters:strip_icc()/pic5674958.jpg",
         "Lost Ruins of Arnak",
         "2020",
         "7.900",
         "8.08",
         "42501",
         "2024-03-30"
        ],
        [
         "29",
         "https://cf.geekdo-images.com/gDn7AhrDlmfCLSz9ZqoNFQ__micro/img/eGBh_Csj13hXnODUTB-7dmpq-M0=/fit-in/64x64/filters:strip_icc()/pic5988511.jpg",
         "Great Western Trail: Second Edition",
         "2021",
         "7.893",
         "8.35",
         "11894",
         "2024-03-30"
        ],
        [
         "3",
         "https://cf.geekdo-images.com/sZYp_3BTDGjh2unaZfZmuA__micro/img/sQyh47ClBO3d5sxPm73hMvM-JV4=/fit-in/64x64/filters:strip_icc()/pic2437871.jpg",
         "Gloomhaven",
         "2017",
         "8.361",
         "8.60",
         "61512",
         "2024-03-30"
        ],
        [
         "30",
         "https://cf.geekdo-images.com/JUAUWaVUzeBgzirhZNmHHw__micro/img/tdHLiMYfi-KTy89sGBGZVeE9ts0=/fit-in/64x64/filters:strip_icc()/pic4254509.jpg",
         "Root",
         "2018",
         "7.886",
         "8.07",
         "49765",
         "2024-03-30"
        ],
        [
         "31",
         "https://cf.geekdo-images.com/nagl1li6kYt9elV9jbfVQw__micro/img/hUKCvnqgFvTl0aOMd8FLkgCObT0=/fit-in/64x64/filters:strip_icc()/pic6228507.jpg",
         "Orléans",
         "2014",
         "7.873",
         "8.06",
         "30893",
         "2024-03-30"
        ],
        [
         "32",
         "https://cf.geekdo-images.com/iEBr5o8AbJi9V9cgQcYROQ__micro/img/n9Ol4YKAhRLuOu4f7OVVXGjlWSQ=/fit-in/64x64/filters:strip_icc()/pic6177719.jpg",
         "Frosthaven",
         "2022",
         "7.862",
         "8.86",
         "6545",
         "2024-03-30"
        ],
        [
         "33",
         "https://cf.geekdo-images.com/wKwRk0wYBcrtLAfgn4PCdg__micro/img/Q6VXZKoVSlMjTU7Vp8tn1tkcVzw=/fit-in/64x64/filters:strip_icc()/pic6624445.png",
         "Too Many Bones",
         "2017",
         "7.857",
         "8.35",
         "12755",
         "2024-03-30"
        ],
        [
         "34",
         "https://cf.geekdo-images.com/DUO2hz9AlLOH8p9ED-lCWg__micro/img/eXzdbUmCbIdMIVgiQ_QwS3YNOS4=/fit-in/64x64/filters:strip_icc()/pic1083380.jpg",
         "Mage Knight Board Game",
         "2011",
         "7.856",
         "8.09",
         "33046",
         "2024-03-30"
        ],
        [
         "35",
         "https://cf.geekdo-images.com/fjE7V5LNq31yVEW_yuqI-Q__micro/img/TAgkPCJdNAIHZfn1BE1DXadBL9g=/fit-in/64x64/filters:strip_icc()/pic3918905.png",
         "Everdell",
         "2018",
         "7.852",
         "8.03",
         "52931",
         "2024-03-30"
        ],
        [
         "36",
         "https://cf.geekdo-images.com/VuBqZ1sMaDAVVHF_OEJP4g__micro/img/p3GKOrR04nV1qkim9zq-rmFfYh8=/fit-in/64x64/filters:strip_icc()/pic5988903.jpg",
         "The Crew: Mission Deep Sea",
         "2021",
         "7.851",
         "8.17",
         "16506",
         "2024-03-30"
        ],
        [
         "37",
         "https://cf.geekdo-images.com/jEPmWvvYpqkWrKOzqIHFsg__micro/img/Uwm0ZfmY4ZNWWxlackDXrsmS-Io=/fit-in/64x64/filters:strip_icc()/pic4336469.png",
         "Barrage",
         "2019",
         "7.849",
         "8.17",
         "17175",
         "2024-03-30"
        ],
        [
         "38",
         "https://cf.geekdo-images.com/l_PRU2lVlX9seScRFcvFlA__micro/img/3EqHlTkNSnZNFHVaAeFSpzfzuIQ=/fit-in/64x64/filters:strip_icc()/pic6500949.jpg",
         "Viticulture Essential Edition",
         "2015",
         "7.844",
         "7.99",
         "47848",
         "2024-03-30"
        ],
        [
         "39",
         "https://cf.geekdo-images.com/Wtxml94LAXsIWQCxGPS63Q__micro/img/4Oucoa190njfSaNHr8YRIl6UnTU=/fit-in/64x64/filters:strip_icc()/pic2649434.png",
         "Food Chain Magnate",
         "2015",
         "7.805",
         "8.07",
         "20093",
         "2024-03-30"
        ],
        [
         "4",
         "https://cf.geekdo-images.com/SoU8p28Sk1s8MSvoM4N8pQ__micro/img/LSAi1pmhbTbWwtBrziutDOXzfdY=/fit-in/64x64/filters:strip_icc()/pic6293412.jpg",
         "Ark Nova",
         "2021",
         "8.333",
         "8.54",
         "41305",
         "2024-03-30"
        ],
        [
         "40",
         "https://cf.geekdo-images.com/kRvUgYiaOq07kC67ZK5UoQ__micro/img/4DLQr45lpVBfCkiy-kVwhl4z4vQ=/fit-in/64x64/filters:strip_icc()/pic4900321.jpg",
         "Marvel Champions: The Card Game",
         "2019",
         "7.799",
         "8.13",
         "23052",
         "2024-03-30"
        ],
        [
         "41",
         "https://cf.geekdo-images.com/oSM_AuKYfGIwOtKbVEsoVg__micro/img/SKUliR88eoltB2ytmwz3BffW7aA=/fit-in/64x64/filters:strip_icc()/pic4503733.png",
         "Pax Pamir: Second Edition",
         "2019",
         "7.795",
         "8.20",
         "13546",
         "2024-03-30"
        ],
        [
         "42",
         "https://cf.geekdo-images.com/PwOwTVHovJAUQgghnGqCOg__micro/img/9ftDcGDumAWKm_3hmu6JUwjb1aU=/fit-in/64x64/filters:strip_icc()/pic4837710.png",
         "Underwater Cities",
         "2018",
         "7.788",
         "8.07",
         "19131",
         "2024-03-30"
        ],
        [
         "43",
         "https://cf.geekdo-images.com/-vOrd4bOspibyohYExLqWg__micro/img/bcHg_0mMkgMaBp9Sz1gxJtHtaHw=/fit-in/64x64/filters:strip_icc()/pic6940449.png",
         "Heat: Pedal to the Metal",
         "2022",
         "7.784",
         "8.09",
         "19978",
         "2024-03-30"
        ],
        [
         "44",
         "https://cf.geekdo-images.com/QFiIRd2kimaMqTyWsX0aUg__micro/img/ggNIAA1GEadqvcY7Mvwb9_VEybU=/fit-in/64x64/filters:strip_icc()/pic158548.jpg",
         "Puerto Rico",
         "2002",
         "7.781",
         "7.92",
         "70579",
         "2024-03-30"
        ],
        [
         "45",
         "https://cf.geekdo-images.com/MjeJZfulbsM1DSV3DrGJYA__micro/img/x2BDobiHVhQHl7LhBimeU8L1ko4=/fit-in/64x64/filters:strip_icc()/pic5100691.jpg",
         "Cascadia",
         "2021",
         "7.773",
         "7.96",
         "36354",
         "2024-03-30"
        ],
        [
         "46",
         "https://cf.geekdo-images.com/rz22tqa5PCYvK9oDjIbvxg__micro/img/sog7ni3vUAAfvd66e6XW4iOca4I=/fit-in/64x64/filters:strip_icc()/pic1790789.jpg",
         "Caverna: The Cave Farmers",
         "2013",
         "7.768",
         "7.95",
         "34498",
         "2024-03-30"
        ],
        [
         "47",
         "https://cf.geekdo-images.com/7ejbxsn-UtLl3ehamuAEdw__micro/img/5UygdMxz3N_dTCkGlwVlgJXK_vg=/fit-in/64x64/filters:strip_icc()/pic79413.jpg",
         "Crokinole",
         "1876",
         "7.762",
         "8.03",
         "17646",
         "2024-03-30"
        ],
        [
         "48",
         "https://cf.geekdo-images.com/HkZSJfQnZ3EpS214xtuplg__micro/img/7xdR1_OUo1ReAvYzhi7jBhFMHu0=/fit-in/64x64/filters:strip_icc()/pic2439223.jpg",
         "Blood Rage",
         "2015",
         "7.762",
         "7.93",
         "46468",
         "2024-03-30"
        ],
        [
         "49",
         "https://cf.geekdo-images.com/31quLNzteInnevVRAABoow__micro/img/CMEokoPk9cBV5A82_eBwjDJPMfE=/fit-in/64x64/filters:strip_icc()/pic3499707.jpg",
         "Anachrony",
         "2017",
         "7.759",
         "8.08",
         "18248",
         "2024-03-30"
        ],
        [
         "5",
         "https://cf.geekdo-images.com/_Ppn5lssO5OaildSE-FgFA__micro/img/2gymaKs35_2yj7eyyA6cYyVmd9c=/fit-in/64x64/filters:strip_icc()/pic3727516.jpg",
         "Twilight Imperium: Fourth Edition",
         "2017",
         "8.243",
         "8.60",
         "23240",
         "2024-03-30"
        ],
        [
         "50",
         "https://cf.geekdo-images.com/Nm0Iw8NoiM9V8IsifimGBw__micro/img/HQNReYu8QkZqD4dbZeWg3cQrkv0=/fit-in/64x64/filters:strip_icc()/pic4357658.jpg",
         "On Mars",
         "2020",
         "7.756",
         "8.20",
         "12294",
         "2024-03-30"
        ],
        [
         "51",
         "https://cf.geekdo-images.com/dDDo2Hexl80ucK1IlqTk-g__micro/img/SZgGqufNqaW8BCFT29wkYPaRXOE=/fit-in/64x64/filters:strip_icc()/pic831744.jpg",
         "Agricola",
         "2007",
         "7.753",
         "7.88",
         "72285",
         "2024-03-30"
        ],
        [
         "52",
         "https://cf.geekdo-images.com/L2Wn-zUqkcHgqvwvY212Ig__micro/img/2pY9Wo185ehuYO7Mb0gTDpdww74=/fit-in/64x64/filters:strip_icc()/pic4924232.jpg",
         "Kanban EV",
         "2020",
         "7.752",
         "8.43",
         "7305",
         "2024-03-30"
        ],
        [
         "53",
         "https://cf.geekdo-images.com/y0x1zbkpUXjddzWWnhekYw__micro/img/oUW7QBHTiMOcpt5FgNXd_Uy2LfM=/fit-in/64x64/filters:strip_icc()/pic5581457.jpg",
         "Pandemic Legacy: Season 0",
         "2020",
         "7.750",
         "8.41",
         "7410",
         "2024-03-30"
        ],
        [
         "54",
         "https://cf.geekdo-images.com/Zdt8l4oTBpFICsMyNof7Jg__micro/img/xnXopdLVlL31M169AjW8ofHRe5Q=/fit-in/64x64/filters:strip_icc()/pic5975244.png",
         "Sleeping Gods",
         "2021",
         "7.748",
         "8.24",
         "11415",
         "2024-03-30"
        ],
        [
         "55",
         "https://cf.geekdo-images.com/Qtkb-UTvHa0-kxt_MK1nKw__micro/img/eYV_Y45Hk66WceHroLlRqnHEHmg=/fit-in/64x64/filters:strip_icc()/pic3763549.jpg",
         "Pandemic Legacy: Season 2",
         "2017",
         "7.727",
         "8.04",
         "16703",
         "2024-03-30"
        ],
        [
         "56",
         "https://cf.geekdo-images.com/LIooA9bTdjnE9qmhjL-UFw__micro/img/rsUu4YzIErI1oi6TRRA-cKiS-I0=/fit-in/64x64/filters:strip_icc()/pic3118622.jpg",
         "Mansions of Madness: Second Edition",
         "2016",
         "7.718",
         "7.95",
         "35855",
         "2024-03-30"
        ],
        [
         "57",
         "https://cf.geekdo-images.com/OrHS8_a1CqSGiXeTfCk0Wg__micro/img/rpfZR0COMOP41SI2EZPrSrX_LL8=/fit-in/64x64/filters:strip_icc()/pic3209553.jpg",
         "Lisboa",
         "2017",
         "7.718",
         "8.19",
         "10853",
         "2024-03-30"
        ],
        [
         "58",
         "https://cf.geekdo-images.com/rMNa0k05zMdKgSEp26Q3Tw__micro/img/rDI-yCgwVbB_szRjUWOY8IKIdUk=/fit-in/64x64/filters:strip_icc()/pic4917407.jpg",
         "Maracaibo",
         "2019",
         "7.711",
         "8.04",
         "15842",
         "2024-03-30"
        ],
        [
         "59",
         "https://cf.geekdo-images.com/kXf7mDyDYuHg6oe8yTUIEA__micro/img/3EqJtoxAlTb2pJWxmA7TUu4HWNI=/fit-in/64x64/filters:strip_icc()/pic4604439.jpg",
         "Tzolk'in: The Mayan Calendar",
         "2012",
         "7.706",
         "7.86",
         "38896",
         "2024-03-30"
        ],
        [
         "6",
         "https://cf.geekdo-images.com/PhjygpWSo-0labGrPBMyyg__micro/img/mfU7-dEFnVyXJrF-BWAO0buexao=/fit-in/64x64/filters:strip_icc()/pic5666597.jpg",
         "Dune: Imperium",
         "2020",
         "8.225",
         "8.43",
         "43405",
         "2024-03-30"
        ],
        [
         "60",
         "https://cf.geekdo-images.com/yd6LuatytHRhcFCxCf-EEg__micro/img/ZUrGKfXAZS4AztFRXq2W9oD6TG4=/fit-in/64x64/filters:strip_icc()/pic4459753.jpg",
         "Power Grid",
         "2004",
         "7.704",
         "7.81",
         "64917",
         "2024-03-30"
        ],
        [
         "61",
         "https://cf.geekdo-images.com/e8D09pfFsUsoX1D81EeoZg__micro/img/g4fUW30OaTTN48VW7tdVOIAEvWQ=/fit-in/64x64/filters:strip_icc()/pic4705171.jpg",
         "Cthulhu: Death May Die",
         "2019",
         "7.700",
         "8.19",
         "11881",
         "2024-03-30"
        ],
        [
         "62",
         "https://cf.geekdo-images.com/sy89BiuZXfbSnG7Cag9tBQ__micro/img/0VYxwvacU7ADCGyJt5iLMa5WQoA=/fit-in/64x64/filters:strip_icc()/pic5902073.png",
         "Obsession",
         "2018",
         "7.689",
         "8.16",
         "11512",
         "2024-03-30"
        ],
        [
         "63",
         "https://cf.geekdo-images.com/pH5LgRL4mNRon-2NsSDb1Q__micro/img/pAWwGfiqFpn-kkzUKexMTZOvoA4=/fit-in/64x64/filters:strip_icc()/pic6137509.png",
         "The Quacks of Quedlinburg",
         "2018",
         "7.687",
         "7.83",
         "48403",
         "2024-03-30"
        ],
        [
         "64",
         "https://cf.geekdo-images.com/SPuwc6RJ6y4PnTH36Pegsg__micro/img/wWI0kOjt4L4TOOV_Dn2BLthq5QQ=/fit-in/64x64/filters:strip_icc()/pic3511783.png",
         "Clans of Caledonia",
         "2017",
         "7.685",
         "7.95",
         "20164",
         "2024-03-30"
        ],
        [
         "65",
         "https://cf.geekdo-images.com/GlCmHjdLwv3SqSjv52ToGw__micro/img/egqhEcYTqBsaT7AeNBe2LdUcGZs=/fit-in/64x64/filters:strip_icc()/pic6966955.jpg",
         "Grand Austria Hotel",
         "2015",
         "7.684",
         "7.94",
         "20416",
         "2024-03-30"
        ],
        [
         "66",
         "https://cf.geekdo-images.com/y7Rqd3S6J7vyVhicR1bqTQ__micro/img/c1qPt4uwG4qhjxmrgtIuKulwQkI=/fit-in/64x64/filters:strip_icc()/pic6091101.jpg",
         "Le Havre",
         "2008",
         "7.683",
         "7.85",
         "31366",
         "2024-03-30"
        ],
        [
         "67",
         "https://cf.geekdo-images.com/4nhokcLdYoo6ulbZ1rmGgA__micro/img/WMzScSxJICvIyErl47KBVoskhnQ=/fit-in/64x64/filters:strip_icc()/pic4462987.png",
         "Paladins of the West Kingdom",
         "2019",
         "7.680",
         "7.99",
         "17439",
         "2024-03-30"
        ],
        [
         "68",
         "https://cf.geekdo-images.com/pIQ_MXvaoARRp1loCHJuHg__micro/img/i2soAnlvaDCzWksrpO2By4-GgGA=/fit-in/64x64/filters:strip_icc()/pic2247647.jpg",
         "Star Wars: Imperial Assault",
         "2014",
         "7.676",
         "7.97",
         "24468",
         "2024-03-30"
        ],
        [
         "69",
         "https://cf.geekdo-images.com/ie1GSt1XV04sXQXt-3O1UQ__micro/img/Zxap2me5W8VgLK_VNU_lY5vLnbA=/fit-in/64x64/filters:strip_icc()/pic2503200.png",
         "The Gallerist",
         "2015",
         "7.676",
         "8.02",
         "14326",
         "2024-03-30"
        ],
        [
         "7",
         "https://cf.geekdo-images.com/wg9oOLcsKvDesSUdZQ4rxw__micro/img/LUkXZhd1TO80eCiXMD3-KfnzA6k=/fit-in/64x64/filters:strip_icc()/pic3536616.jpg",
         "Terraforming Mars",
         "2016",
         "8.216",
         "8.36",
         "97186",
         "2024-03-30"
        ],
        [
         "70",
         "https://cf.geekdo-images.com/98LnQShydr11OBKS46xY-Q__micro/img/bIVTqYzQ5wDuCSmcQvpNokXZOUo=/fit-in/64x64/filters:strip_icc()/pic5687013.jpg",
         "The Crew: The Quest for Planet Nine",
         "2019",
         "7.668",
         "7.81",
         "40759",
         "2024-03-30"
        ],
        [
         "71",
         "https://cf.geekdo-images.com/n4J5LebMj0DQD016qW7ABw__micro/img/n4vvAq2JZvjf0yS_Mugr79dqM90=/fit-in/64x64/filters:strip_icc()/pic3184103.jpg",
         "Mechs vs. Minions",
         "2016",
         "7.665",
         "7.97",
         "17310",
         "2024-03-30"
        ],
        [
         "72",
         "https://cf.geekdo-images.com/2ewHIIG_TRq8bYlqk0jIMw__micro/img/U5irACQ5P-7X9XyeDWj71ai-Ruw=/fit-in/64x64/filters:strip_icc()/pic3738560.jpg",
         "Android: Netrunner",
         "2012",
         "7.659",
         "7.88",
         "29952",
         "2024-03-30"
        ],
        [
         "73",
         "https://cf.geekdo-images.com/LenzJBOHboAGU0cUIqAZPQ__micro/img/6YI32BDhyuO9JZrofc1CPbuFlVY=/fit-in/64x64/filters:strip_icc()/pic2931007.jpg",
         "Kingdom Death: Monster",
         "2015",
         "7.656",
         "8.50",
         "9542",
         "2024-03-30"
        ],
        [
         "74",
         "https://cf.geekdo-images.com/aPSHJO0d0XOpQR5X-wJonw__micro/img/3M2bj5ZXqAskTOvLTXRuHOH-Y44=/fit-in/64x64/filters:strip_icc()/pic6973671.png",
         "Azul",
         "2017",
         "7.643",
         "7.75",
         "88368",
         "2024-03-30"
        ],
        [
         "75",
         "https://cf.geekdo-images.com/YCGWJMFwOI5efji2RJ2mSw__micro/img/GQNkMukGtKD2cVOgpUk4ZSmpUfA=/fit-in/64x64/filters:strip_icc()/pic8093340.jpg",
         "Agricola ",
         "2016",
         "7.640",
         "7.96",
         "17401",
         "2024-03-30"
        ],
        [
         "76",
         "https://cf.geekdo-images.com/-DOqixs8uwKUvvWPKI4f9w__micro/img/Fz_qRw_ZHI9TfZXY0b4YZ6zfT7o=/fit-in/64x64/filters:strip_icc()/pic5261714.jpg",
         "Race for the Galaxy",
         "2007",
         "7.631",
         "7.74",
         "55077",
         "2024-03-30"
        ],
        [
         "77",
         "https://cf.geekdo-images.com/dmo-WD6HZHVUPrbVHunaTw__micro/img/fxKL3MvU00YeEkfeLNdQGUl5rxA=/fit-in/64x64/filters:strip_icc()/pic2055255.jpg",
         "Five Tribes: The Djinns of Naqala",
         "2014",
         "7.625",
         "7.78",
         "41047",
         "2024-03-30"
        ],
        [
         "78",
         "https://cf.geekdo-images.com/cnFppsVNOSTJ-W3APQFuTg__micro/img/dfQTNAju5CUxn6JQl-Pxubac99o=/fit-in/64x64/filters:strip_icc()/pic1974056.jpg",
         "Eclipse: New Dawn for the Galaxy",
         "2011",
         "7.622",
         "7.83",
         "28282",
         "2024-03-30"
        ],
        [
         "79",
         "https://cf.geekdo-images.com/dezQ4YjF03lZVxTdI-UJYw__micro/img/7bEpYVStLA2qmeKUIweHTGziwSU=/fit-in/64x64/filters:strip_icc()/pic6863204.jpg",
         "Oathsworn: Into the Deepwood",
         "2022",
         "7.622",
         "9.02",
         "4351",
         "2024-03-30"
        ],
        [
         "8",
         "https://cf.geekdo-images.com/ImPgGag98W6gpV1KV812aA__micro/img/NT-Av_3kdYUcwuti5ocmIQXow3g=/fit-in/64x64/filters:strip_icc()/pic1215633.jpg",
         "War of the Ring: Second Edition",
         "2011",
         "8.180",
         "8.54",
         "20909",
         "2024-03-30"
        ],
        [
         "80",
         "https://cf.geekdo-images.com/DPjV1iI0ygo5Bl3XLNRiIg__micro/img/5hO7ln_bquTyy4Q__ksB4NT1gMs=/fit-in/64x64/filters:strip_icc()/pic4449526.jpg",
         "Clank!: A Deck-Building Adventure",
         "2016",
         "7.620",
         "7.78",
         "41679",
         "2024-03-30"
        ],
        [
         "81",
         "https://cf.geekdo-images.com/d50LceHj6LIafa4S_qIsCg__micro/img/0El7f9TAr9UfvKlcsXYrBe8jEOc=/fit-in/64x64/filters:strip_icc()/pic3189350.jpg",
         "Aeon's End",
         "2016",
         "7.618",
         "7.91",
         "20187",
         "2024-03-30"
        ],
        [
         "82",
         "https://cf.geekdo-images.com/0w8go6cfvlpgJKydHUkDtA__micro/img/9JEU9pIfwl2wUIE3fmCmjjH_iiM=/fit-in/64x64/filters:strip_icc()/pic2225968.png",
         "Fields of Arle",
         "2014",
         "7.606",
         "8.03",
         "10834",
         "2024-03-30"
        ],
        [
         "83",
         "https://cf.geekdo-images.com/BfEHqHQAvZLbRX7y7e9TWg__micro/img/RgHc2PFvpz3xxRPRg5v7d46JQNc=/fit-in/64x64/filters:strip_icc()/pic5617866.jpg",
         "Beyond the Sun",
         "2020",
         "7.602",
         "7.94",
         "13998",
         "2024-03-30"
        ],
        [
         "84",
         "https://cf.geekdo-images.com/wW5xjgBJcFyLaEWZwrYuKA__micro/img/kXVTBtcGC-5L706WFNJLAuZTovQ=/fit-in/64x64/filters:strip_icc()/pic4583626.jpg",
         "Teotihuacan: City of Gods",
         "2018",
         "7.600",
         "7.87",
         "19623",
         "2024-03-30"
        ],
        [
         "85",
         "https://cf.geekdo-images.com/3piN3YX4WmBRuIvbEG2Ygg__micro/img/xy_566fY112BYtYJjT29cfAcHsk=/fit-in/64x64/filters:strip_icc()/pic236169.jpg",
         "Through the Ages: A Story of Civilization",
         "2006",
         "7.599",
         "7.85",
         "19300",
         "2024-03-30"
        ],
        [
         "86",
         "https://cf.geekdo-images.com/-hk8f8iGk_DyWyMrfiPBkg__micro/img/tWSg9ErrwvVcwaE1Kze1IsxwpGg=/fit-in/64x64/filters:strip_icc()/pic1116080.jpg",
         "Lords of Waterdeep",
         "2012",
         "7.594",
         "7.74",
         "55100",
         "2024-03-30"
        ],
        [
         "87",
         "https://cf.geekdo-images.com/DCLgJlrvB-EqL6A3WgQLMQ__micro/img/j_LPta_lgRrN8Rrs9Rxt_d3Hysc=/fit-in/64x64/filters:strip_icc()/pic5715770.jpg",
         "Hegemony: Lead Your Class to Victory",
         "2023",
         "7.586",
         "8.53",
         "5349",
         "2024-03-30"
        ],
        [
         "88",
         "https://cf.geekdo-images.com/oeygRZntjNUJWvc8SxDfww__micro/img/gXi23Nbfem6XTfRlV2eHEHB_cHY=/fit-in/64x64/filters:strip_icc()/pic784193.jpg",
         "Dominant Species",
         "2010",
         "7.583",
         "7.82",
         "21049",
         "2024-03-30"
        ],
        [
         "89",
         "https://cf.geekdo-images.com/n1G7_aWToLAAB7Mqt8iwyA__micro/img/c8Ld-3E8S0devFlugLvyiAEESbY=/fit-in/64x64/filters:strip_icc()/pic2461346.png",
         "The Voyages of Marco Polo",
         "2015",
         "7.581",
         "7.79",
         "24679",
         "2024-03-30"
        ],
        [
         "9",
         "https://cf.geekdo-images.com/_HhIdavYW-hid20Iq3hhmg__micro/img/OdKjWiFsNvQAfJfXXSITttiozWE=/fit-in/64x64/filters:strip_icc()/pic5055631.jpg",
         "Gloomhaven: Jaws of the Lion",
         "2020",
         "8.174",
         "8.45",
         "33323",
         "2024-03-30"
        ],
        [
         "90",
         "https://cf.geekdo-images.com/FbFnaTx3aT5dM18K_bR_Pg__micro/img/brcsM5-72GgeBDQg3CSI6VB1Dqo=/fit-in/64x64/filters:strip_icc()/pic3165731.jpg",
         "Robinson Crusoe: Adventures on the Cursed Island",
         "2012",
         "7.579",
         "7.75",
         "42997",
         "2024-03-30"
        ],
        [
         "91",
         "https://cf.geekdo-images.com/35h9Za_JvMMMtx_92kT0Jg__micro/img/4BRnGQ-EoU-2LNirfZpUC3HRReU=/fit-in/64x64/filters:strip_icc()/pic7149798.jpg",
         "7 Wonders",
         "2010",
         "7.578",
         "7.69",
         "103590",
         "2024-03-30"
        ],
        [
         "92",
         "https://cf.geekdo-images.com/RRKDHaYtFPHhczkUDcHOmg__micro/img/_hnYEtmQrfIco_6UTFRLZdhWMnQ=/fit-in/64x64/filters:strip_icc()/pic7906240.jpg",
         "El Grande",
         "1995",
         "7.570",
         "7.75",
         "28305",
         "2024-03-30"
        ],
        [
         "93",
         "https://cf.geekdo-images.com/NItjtztEUAKOpaTWZddu9A__micro/img/m4I9uS6LBjNz02oNquEkBM-L464=/fit-in/64x64/filters:strip_icc()/pic5744928.jpg",
         "The Search for Planet X",
         "2020",
         "7.568",
         "7.97",
         "11688",
         "2024-03-30"
        ],
        [
         "94",
         "https://cf.geekdo-images.com/aAwBzPzta4joKfFZt05hCw__micro/img/28sp86TqPbMqn9M_qHWfS9j44-w=/fit-in/64x64/filters:strip_icc()/pic4385726.jpg",
         "Tainted Grail: The Fall of Avalon",
         "2019",
         "7.549",
         "8.09",
         "12149",
         "2024-03-30"
        ],
        [
         "95",
         "https://cf.geekdo-images.com/5Q2w2rFJiFI_uV89KP6ECg__micro/img/KGgAsbHUPaEjsl-r05JCH2ixP1o=/fit-in/64x64/filters:strip_icc()/pic354500.jpg",
         "Battlestar Galactica: The Board Game",
         "2008",
         "7.542",
         "7.73",
         "36353",
         "2024-03-30"
        ],
        [
         "96",
         "https://cf.geekdo-images.com/OAX7HfOz-9N60StgADzd0g__micro/img/5OEOXKjvrEMh2aT5I-FrAn5-9jo=/fit-in/64x64/filters:strip_icc()/pic3781944.png",
         "Architects of the West Kingdom",
         "2018",
         "7.542",
         "7.74",
         "28573",
         "2024-03-30"
        ],
        [
         "97",
         "https://cf.geekdo-images.com/hHZWXnUTMYDd_KTAM6Jwlw__micro/img/g7DQGNNf6ZFwYDGpe9kT3e4KELY=/fit-in/64x64/filters:strip_icc()/pic3759421.jpg",
         "Decrypto",
         "2018",
         "7.541",
         "7.77",
         "21956",
         "2024-03-30"
        ],
        [
         "98",
         "https://cf.geekdo-images.com/6QE8mnPFmauoj2THsyUYPA__micro/img/KzK9JEEodDn0EyHA8rJy2X0cyYA=/fit-in/64x64/filters:strip_icc()/pic4739757.jpg",
         "Inis",
         "2016",
         "7.539",
         "7.83",
         "19814",
         "2024-03-30"
        ],
        [
         "99",
         "https://cf.geekdo-images.com/9gob752VqEklQFV_gz16hw__micro/img/kYOLnVbUwnKjA37DqEe9HECvqI0=/fit-in/64x64/filters:strip_icc()/pic2585510.png",
         "Trickerion: Legends of Illusion",
         "2015",
         "7.533",
         "7.97",
         "10684",
         "2024-03-30"
        ]
       ],
       "datasetInfos": [],
       "dbfsResultPath": null,
       "isJsonSchema": true,
       "metadata": {},
       "overflow": false,
       "plotOptions": {
        "customPlotOptions": {},
        "displayType": "table",
        "pivotAggregation": null,
        "pivotColumns": null,
        "xColumns": null,
        "yColumns": null
       },
       "removedWidgets": [],
       "schema": [
        {
         "metadata": "{}",
         "name": "Rank",
         "type": "\"string\""
        },
        {
         "metadata": "{}",
         "name": "ImageURL",
         "type": "\"string\""
        },
        {
         "metadata": "{}",
         "name": "Title",
         "type": "\"string\""
        },
        {
         "metadata": "{}",
         "name": "YearPublished",
         "type": "\"string\""
        },
        {
         "metadata": "{}",
         "name": "GeekRating",
         "type": "\"string\""
        },
        {
         "metadata": "{}",
         "name": "AvgRating",
         "type": "\"string\""
        },
        {
         "metadata": "{}",
         "name": "NumVoters",
         "type": "\"string\""
        },
        {
         "metadata": "{}",
         "name": "currentdate",
         "type": "\"string\""
        }
       ],
       "type": "table"
      }
     },
     "output_type": "display_data"
    }
   ],
   "source": [
    "%sql -- verify values\n",
    "\n",
    "SELECT * FROM games.board_games ORDER BY rank ASC;"
   ]
  },
  {
   "cell_type": "code",
   "execution_count": 0,
   "metadata": {
    "application/vnd.databricks.v1+cell": {
     "cellMetadata": {
      "byteLimit": 2048000,
      "implicitDf": true,
      "rowLimit": 10000
     },
     "inputWidgets": {},
     "nuid": "2d856c69-4ca2-471d-a73b-2f79837efdad",
     "showTitle": false,
     "tableResultSettingsMap": {},
     "title": ""
    }
   },
   "outputs": [
    {
     "output_type": "display_data",
     "data": {
      "text/html": [
       "<style scoped>\n",
       "  .table-result-container {\n",
       "    max-height: 300px;\n",
       "    overflow: auto;\n",
       "  }\n",
       "  table, th, td {\n",
       "    border: 1px solid black;\n",
       "    border-collapse: collapse;\n",
       "  }\n",
       "  th, td {\n",
       "    padding: 5px;\n",
       "  }\n",
       "  th {\n",
       "    text-align: left;\n",
       "  }\n",
       "</style><div class='table-result-container'><table class='table-result'><thead style='background-color: white'><tr><th>col_name</th><th>data_type</th><th>comment</th></tr></thead><tbody><tr><td>Rank</td><td>string</td><td>null</td></tr><tr><td>ImageURL</td><td>string</td><td>null</td></tr><tr><td>Title</td><td>string</td><td>null</td></tr><tr><td>YearPublished</td><td>string</td><td>null</td></tr><tr><td>GeekRating</td><td>string</td><td>null</td></tr><tr><td>AvgRating</td><td>string</td><td>null</td></tr><tr><td>NumVoters</td><td>string</td><td>null</td></tr><tr><td>currentdate</td><td>string</td><td>null</td></tr><tr><td># Partition Information</td><td></td><td></td></tr><tr><td># col_name</td><td>data_type</td><td>comment</td></tr><tr><td>currentdate</td><td>string</td><td>null</td></tr><tr><td></td><td></td><td></td></tr><tr><td># Detailed Table Information</td><td></td><td></td></tr><tr><td>Catalog</td><td>spark_catalog</td><td></td></tr><tr><td>Database</td><td>games</td><td></td></tr><tr><td>Table</td><td>board_games</td><td></td></tr><tr><td>Owner</td><td>root</td><td></td></tr><tr><td>Created Time</td><td>Sat Mar 30 22:43:31 UTC 2024</td><td></td></tr><tr><td>Last Access</td><td>UNKNOWN</td><td></td></tr><tr><td>Created By</td><td>Spark 3.3.2</td><td></td></tr><tr><td>Type</td><td>EXTERNAL</td><td></td></tr><tr><td>Provider</td><td>parquet</td><td></td></tr><tr><td>Location</td><td>dbfs:/tmp/games</td><td></td></tr><tr><td>Serde Library</td><td>org.apache.hadoop.hive.ql.io.parquet.serde.ParquetHiveSerDe</td><td></td></tr><tr><td>InputFormat</td><td>org.apache.hadoop.hive.ql.io.parquet.MapredParquetInputFormat</td><td></td></tr><tr><td>OutputFormat</td><td>org.apache.hadoop.hive.ql.io.parquet.MapredParquetOutputFormat</td><td></td></tr><tr><td>Storage Properties</td><td>[overwriteSchema=true]</td><td></td></tr><tr><td>Partition Provider</td><td>Catalog</td><td></td></tr></tbody></table></div>"
      ]
     },
     "metadata": {
      "application/vnd.databricks.v1+output": {
       "addedWidgets": {},
       "aggData": [],
       "aggError": "",
       "aggOverflow": false,
       "aggSchema": [],
       "aggSeriesLimitReached": false,
       "aggType": "",
       "arguments": {},
       "columnCustomDisplayInfos": {},
       "data": [
        [
         "Rank",
         "string",
         null
        ],
        [
         "ImageURL",
         "string",
         null
        ],
        [
         "Title",
         "string",
         null
        ],
        [
         "YearPublished",
         "string",
         null
        ],
        [
         "GeekRating",
         "string",
         null
        ],
        [
         "AvgRating",
         "string",
         null
        ],
        [
         "NumVoters",
         "string",
         null
        ],
        [
         "currentdate",
         "string",
         null
        ],
        [
         "# Partition Information",
         "",
         ""
        ],
        [
         "# col_name",
         "data_type",
         "comment"
        ],
        [
         "currentdate",
         "string",
         null
        ],
        [
         "",
         "",
         ""
        ],
        [
         "# Detailed Table Information",
         "",
         ""
        ],
        [
         "Catalog",
         "spark_catalog",
         ""
        ],
        [
         "Database",
         "games",
         ""
        ],
        [
         "Table",
         "board_games",
         ""
        ],
        [
         "Owner",
         "root",
         ""
        ],
        [
         "Created Time",
         "Sat Mar 30 22:43:31 UTC 2024",
         ""
        ],
        [
         "Last Access",
         "UNKNOWN",
         ""
        ],
        [
         "Created By",
         "Spark 3.3.2",
         ""
        ],
        [
         "Type",
         "EXTERNAL",
         ""
        ],
        [
         "Provider",
         "parquet",
         ""
        ],
        [
         "Location",
         "dbfs:/tmp/games",
         ""
        ],
        [
         "Serde Library",
         "org.apache.hadoop.hive.ql.io.parquet.serde.ParquetHiveSerDe",
         ""
        ],
        [
         "InputFormat",
         "org.apache.hadoop.hive.ql.io.parquet.MapredParquetInputFormat",
         ""
        ],
        [
         "OutputFormat",
         "org.apache.hadoop.hive.ql.io.parquet.MapredParquetOutputFormat",
         ""
        ],
        [
         "Storage Properties",
         "[overwriteSchema=true]",
         ""
        ],
        [
         "Partition Provider",
         "Catalog",
         ""
        ]
       ],
       "datasetInfos": [],
       "dbfsResultPath": null,
       "isJsonSchema": true,
       "metadata": {},
       "overflow": false,
       "plotOptions": {
        "customPlotOptions": {},
        "displayType": "table",
        "pivotAggregation": null,
        "pivotColumns": null,
        "xColumns": null,
        "yColumns": null
       },
       "removedWidgets": [],
       "schema": [
        {
         "metadata": "{\"comment\":\"name of the column\"}",
         "name": "col_name",
         "type": "\"string\""
        },
        {
         "metadata": "{\"comment\":\"data type of the column\"}",
         "name": "data_type",
         "type": "\"string\""
        },
        {
         "metadata": "{\"comment\":\"comment of the column\"}",
         "name": "comment",
         "type": "\"string\""
        }
       ],
       "type": "table"
      }
     },
     "output_type": "display_data"
    }
   ],
   "source": [
    "%sql -- verify partitioning\n",
    "DESCRIBE EXTENDED games.board_games;"
   ]
  }
 ],
 "metadata": {
  "application/vnd.databricks.v1+notebook": {
   "computePreferences": null,
   "dashboards": [],
   "environmentMetadata": null,
   "inputWidgetPreferences": null,
   "language": "python",
   "notebookMetadata": {
    "mostRecentlyExecutedCommandWithImplicitDF": {
     "commandId": 1943706202951669,
     "dataframes": [
      "_sqldf"
     ]
    },
    "pythonIndentUnit": 2
   },
   "notebookName": "Spark ETL Project - HTML",
   "widgets": {}
  },
  "kernelspec": {
   "display_name": "Python 2",
   "language": "python",
   "name": "python2"
  },
  "language_info": {
   "codemirror_mode": {
    "name": "ipython",
    "version": 2
   },
   "file_extension": ".py",
   "mimetype": "text/x-python",
   "name": "python",
   "nbconvert_exporter": "python",
   "pygments_lexer": "ipython2",
   "version": "2.7.15rc1"
  }
 },
 "nbformat": 4,
 "nbformat_minor": 0
}